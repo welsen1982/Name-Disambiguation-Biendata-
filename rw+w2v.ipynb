{
 "cells": [
  {
   "cell_type": "markdown",
   "metadata": {},
   "source": [
    "# utils"
   ]
  },
  {
   "cell_type": "code",
   "execution_count": 1,
   "metadata": {},
   "outputs": [],
   "source": [
    "import codecs\n",
    "import json\n",
    "from os.path import join\n",
    "import pickle\n",
    "import os\n",
    "import re\n",
    "\n",
    "################# Load and Save Data ################\n",
    "\n",
    "def load_json(rfdir, rfname):\n",
    "    with codecs.open(join(rfdir, rfname), 'r', encoding='utf-8') as rf:\n",
    "        return json.load(rf)\n",
    "\n",
    "\n",
    "def dump_json(obj, wfpath, wfname, indent=None):\n",
    "    with codecs.open(join(wfpath, wfname), 'w', encoding='utf-8') as wf:\n",
    "        json.dump(obj, wf, ensure_ascii=False, indent=indent)\n",
    "\n",
    "\n",
    "\n",
    "def dump_data(obj, wfpath, wfname):\n",
    "    with open(os.path.join(wfpath, wfname), 'wb') as wf:\n",
    "        pickle.dump(obj, wf)\n",
    "\n",
    "\n",
    "def load_data(rfpath, rfname):\n",
    "    with open(os.path.join(rfpath, rfname), 'rb') as rf:\n",
    "        return pickle.load(rf)\n",
    "\n",
    "    \n",
    "################# Random Walk ################\n",
    "\n",
    "import random\n",
    "class MetaPathGenerator:\n",
    "    def __init__(self):\n",
    "        self.paper_author = dict()\n",
    "        self.author_paper = dict()\n",
    "        self.paper_org = dict()\n",
    "        self.org_paper = dict()\n",
    "        self.paper_conf = dict()\n",
    "        self.conf_paper = dict()\n",
    "\n",
    "    def read_data(self, dirpath):\n",
    "        temp=set()\n",
    "\n",
    "        with open(dirpath + \"/paper_org.txt\", encoding='utf-8') as pafile:\n",
    "            for line in pafile:\n",
    "                temp.add(line)                       \n",
    "        for line in temp: \n",
    "                toks = line.strip().split(\"\\t\")\n",
    "                if len(toks) == 2:\n",
    "                    p, a = toks[0], toks[1]\n",
    "                    if p not in self.paper_org:\n",
    "                        self.paper_org[p] = []\n",
    "                    self.paper_org[p].append(a)\n",
    "                    if a not in self.org_paper:\n",
    "                        self.org_paper[a] = []\n",
    "                    self.org_paper[a].append(p)\n",
    "        temp.clear()\n",
    "\n",
    "              \n",
    "        with open(dirpath + \"/paper_author.txt\", encoding='utf-8') as pafile:\n",
    "            for line in pafile:\n",
    "                temp.add(line)                       \n",
    "        for line in temp: \n",
    "                toks = line.strip().split(\"\\t\")\n",
    "                if len(toks) == 2:\n",
    "                    p, a = toks[0], toks[1]\n",
    "                    if p not in self.paper_author:\n",
    "                        self.paper_author[p] = []\n",
    "                    self.paper_author[p].append(a)\n",
    "                    if a not in self.author_paper:\n",
    "                        self.author_paper[a] = []\n",
    "                    self.author_paper[a].append(p)\n",
    "        temp.clear()\n",
    "        \n",
    "                \n",
    "        with open(dirpath + \"/paper_conf.txt\", encoding='utf-8') as pcfile:\n",
    "            for line in pcfile:\n",
    "                temp.add(line)                       \n",
    "        for line in temp: \n",
    "                toks = line.strip().split(\"\\t\")\n",
    "                if len(toks) == 2:\n",
    "                    p, a = toks[0], toks[1]\n",
    "                    if p not in self.paper_conf:\n",
    "                        self.paper_conf[p] = []\n",
    "                    self.paper_conf[p].append(a)\n",
    "                    if a not in self.conf_paper:\n",
    "                        self.conf_paper[a] = []\n",
    "                    self.conf_paper[a].append(p)\n",
    "        temp.clear()\n",
    "                    \n",
    "        print (\"#papers \", len(self.paper_conf))      \n",
    "        print (\"#authors\", len(self.author_paper))\n",
    "        print (\"#org_words\", len(self.org_paper))\n",
    "        print (\"#confs  \", len(self.conf_paper)) \n",
    "    \n",
    "    def generate_WMRW(self, outfilename, numwalks, walklength):\n",
    "        outfile = open(outfilename, 'w')\n",
    "        for paper0 in self.paper_conf: \n",
    "            for j in range(0, numwalks): #wnum walks\n",
    "                paper=paper0\n",
    "                outline = \"\"\n",
    "                i=0\n",
    "                while(i<walklength):\n",
    "                    i=i+1    \n",
    "                    if paper in self.paper_author:\n",
    "                        authors = self.paper_author[paper]\n",
    "                        numa = len(authors)\n",
    "                        authorid = random.randrange(numa)\n",
    "                        author = authors[authorid]\n",
    "                        \n",
    "                        papers = self.author_paper[author]\n",
    "                        nump = len(papers)\n",
    "                        if nump >1:\n",
    "                            paperid = random.randrange(nump)\n",
    "                            paper1 = papers[paperid]\n",
    "                            while paper1 == paper:\n",
    "                                paperid = random.randrange(nump)\n",
    "                                paper1 = papers[paperid]\n",
    "                            paper = paper1\n",
    "                            outline += \" \" + paper           \n",
    "                        \n",
    "                    if paper in self.paper_org:\n",
    "                        words = self.paper_org[paper]\n",
    "                        numw = len(words)\n",
    "                        wordid = random.randrange(numw) \n",
    "                        word = words[wordid]\n",
    "                    \n",
    "                        papers = self.org_paper[word]\n",
    "                        nump = len(papers)\n",
    "                        if nump >1:\n",
    "                            paperid = random.randrange(nump)\n",
    "                            paper1 = papers[paperid]\n",
    "                            while paper1 == paper:\n",
    "                                paperid = random.randrange(nump)\n",
    "                                paper1 = papers[paperid]\n",
    "                            paper = paper1\n",
    "                            outline += \" \" + paper  \n",
    "                            \n",
    "                outfile.write(outline + \"\\n\")\n",
    "        outfile.close()\n",
    "        \n",
    "        print (\"walks done\")\n",
    "        \n",
    "################# Compare Lists ################\n",
    "\n",
    "def tanimoto(p,q):\n",
    "    c = [v for v in p if v in q]\n",
    "    return float(len(c) / (len(p) + len(q) - len(c)))\n",
    "\n",
    "\n",
    "\n",
    "################# Paper similarity ################\n",
    "\n",
    "def generate_pair(pubs,outlier): ##求匹配相似度\n",
    "    dirpath = 'gene'\n",
    "    \n",
    "    paper_org = {}\n",
    "    paper_conf = {}\n",
    "    paper_author = {}\n",
    "    paper_word = {}\n",
    "    \n",
    "    temp=set()\n",
    "    with open(dirpath + \"/paper_org.txt\", encoding='utf-8') as pafile:\n",
    "        for line in pafile:\n",
    "            temp.add(line)                       \n",
    "    for line in temp: \n",
    "        toks = line.strip().split(\"\\t\")\n",
    "        if len(toks) == 2:\n",
    "            p, a = toks[0], toks[1]\n",
    "            if p not in paper_org:\n",
    "                paper_org[p] = []\n",
    "            paper_org[p].append(a)\n",
    "    temp.clear()\n",
    "    \n",
    "    with open(dirpath + \"/paper_conf.txt\", encoding='utf-8') as pafile:\n",
    "        for line in pafile:\n",
    "            temp.add(line)                       \n",
    "    for line in temp: \n",
    "        toks = line.strip().split(\"\\t\")\n",
    "        if len(toks) == 2:\n",
    "            p, a = toks[0], toks[1]\n",
    "            if p not in paper_conf:\n",
    "                paper_conf[p]=[]\n",
    "            paper_conf[p]=a\n",
    "    temp.clear()\n",
    "    \n",
    "    with open(dirpath + \"/paper_author.txt\", encoding='utf-8') as pafile:\n",
    "        for line in pafile:\n",
    "            temp.add(line)                       \n",
    "    for line in temp: \n",
    "        toks = line.strip().split(\"\\t\")\n",
    "        if len(toks) == 2:\n",
    "            p, a = toks[0], toks[1]\n",
    "            if p not in paper_author:\n",
    "                paper_author[p] = []\n",
    "            paper_author[p].append(a)\n",
    "    temp.clear()\n",
    "       \n",
    "    with open(dirpath + \"/paper_word.txt\", encoding='utf-8') as pafile:\n",
    "        for line in pafile:\n",
    "            temp.add(line)                       \n",
    "    for line in temp: \n",
    "        toks = line.strip().split(\"\\t\")\n",
    "        if len(toks) == 2:\n",
    "            p, a = toks[0], toks[1]\n",
    "            if p not in paper_word:\n",
    "                paper_word[p] = []\n",
    "            paper_word[p].append(a)\n",
    "    temp.clear()\n",
    "    \n",
    "    \n",
    "    paper_paper = np.zeros((len(pubs),len(pubs)))\n",
    "    for i,pid in enumerate(pubs):\n",
    "        if i not in outlier:\n",
    "            continue\n",
    "        for j,pjd in enumerate(pubs):\n",
    "            if j==i:\n",
    "                continue\n",
    "            ca=0\n",
    "            cv=0\n",
    "            co=0\n",
    "            ct=0\n",
    "          \n",
    "            if pid in paper_author and pjd in paper_author:\n",
    "                ca = len(set(paper_author[pid])&set(paper_author[pjd]))*1.5\n",
    "            if pid in paper_conf and pjd in paper_conf and 'null' not in paper_conf[pid]:\n",
    "                cv = tanimoto(set(paper_conf[pid]),set(paper_conf[pjd]))\n",
    "            if pid in paper_org and pjd in paper_org:\n",
    "                co = tanimoto(set(paper_org[pid]),set(paper_org[pjd]))\n",
    "            if pid in paper_word and pjd in paper_word:\n",
    "                ct = len(set(paper_word[pid])&set(paper_word[pjd]))/3\n",
    "                    \n",
    "            paper_paper[i][j] =ca+cv+co+ct\n",
    "            \n",
    "    return paper_paper\n",
    "\n",
    "    \n",
    "        \n",
    "################# Evaluate ################\n",
    "        \n",
    "def pairwise_evaluate(correct_labels,pred_labels):\n",
    "    TP = 0.0  # Pairs Correctly Predicted To SameAuthor\n",
    "    TP_FP = 0.0  # Total Pairs Predicted To SameAuthor\n",
    "    TP_FN = 0.0  # Total Pairs To SameAuthor\n",
    "\n",
    "    for i in range(len(correct_labels)):\n",
    "        for j in range(i + 1, len(correct_labels)):\n",
    "            if correct_labels[i] == correct_labels[j]:\n",
    "                TP_FN += 1\n",
    "            if pred_labels[i] == pred_labels[j]:\n",
    "                TP_FP += 1\n",
    "            if (correct_labels[i] == correct_labels[j]) and (pred_labels[i] == pred_labels[j]):\n",
    "                TP += 1\n",
    "\n",
    "    if TP == 0:\n",
    "        pairwise_precision = 0\n",
    "        pairwise_recall = 0\n",
    "        pairwise_f1 = 0\n",
    "    else:\n",
    "        pairwise_precision = TP / TP_FP\n",
    "        pairwise_recall = TP / TP_FN\n",
    "        pairwise_f1 = (2 * pairwise_precision * pairwise_recall) / (pairwise_precision + pairwise_recall)\n",
    "    return pairwise_precision, pairwise_recall, pairwise_f1\n",
    "\n",
    "\n",
    "################# Save Paper Features ################\n",
    "\n",
    "def save_relation(name_pubs_raw, name): # 保存论文的各种feature\n",
    "    name_pubs_raw = load_json('genename', name_pubs_raw)\n",
    "    ## trained by all text in the datasets. Training code is in the cells of \"train word2vec\"\n",
    "    save_model_name = \"word2vec/Aword2vec.model\"\n",
    "    model_w = word2vec.Word2Vec.load(save_model_name)\n",
    "    \n",
    "    r = '[!“”\"#$%&\\'()*+,-./:;<=>?@[\\\\]^_`{|}~—～’]+'\n",
    "    stopword = ['at','based','in','of','for','on','and','to','an','using','with','the','by','we','be','is','are','can']\n",
    "    stopword1 = ['university','univ','china','department','dept','laboratory','lab','school','al','et',\n",
    "                 'institute','inst','college','chinese','beijing','journal','science','international']\n",
    "    \n",
    "    f1 = open ('gene/paper_author.txt','w',encoding = 'utf-8')\n",
    "    f2 = open ('gene/paper_conf.txt','w',encoding = 'utf-8')\n",
    "    f3 = open ('gene/paper_word.txt','w',encoding = 'utf-8')\n",
    "    f4 = open ('gene/paper_org.txt','w',encoding = 'utf-8')\n",
    "\n",
    "    \n",
    "    taken = name.split(\"_\")\n",
    "    name = taken[0] + taken[1]\n",
    "    name_reverse = taken[1]  + taken[0]\n",
    "    if len(taken)>2:\n",
    "        name = taken[0] + taken[1] + taken[2]\n",
    "        name_reverse = taken[2]  + taken[0] + taken[1]\n",
    "    \n",
    "    authorname_dict={}\n",
    "    ptext_emb = {}  \n",
    "    \n",
    "    tcp=set()  \n",
    "    for i,pid in enumerate(name_pubs_raw):\n",
    "        \n",
    "        pub = name_pubs_raw[pid]\n",
    "        \n",
    "        #save authors\n",
    "        org=\"\"\n",
    "        for author in pub[\"authors\"]:\n",
    "            authorname = re.sub(r,'', author[\"name\"]).lower()\n",
    "            taken = authorname.split(\" \")\n",
    "            if len(taken)==2: ##检测目前作者名是否在作者词典中\n",
    "                authorname = taken[0] + taken[1]\n",
    "                authorname_reverse = taken[1]  + taken[0] \n",
    "            \n",
    "                if authorname not in authorname_dict:\n",
    "                    if authorname_reverse not in authorname_dict:\n",
    "                        authorname_dict[authorname]=1\n",
    "                    else:\n",
    "                        authorname = authorname_reverse \n",
    "            else:\n",
    "                authorname = authorname.replace(\" \",\"\")\n",
    "            \n",
    "            if authorname!=name and authorname!=name_reverse:\n",
    "                f1.write(pid + '\\t' + authorname + '\\n')\n",
    "        \n",
    "            else:\n",
    "                if \"org\" in author:\n",
    "                    org = author[\"org\"]\n",
    "                    \n",
    "                    \n",
    "        #save org 待消歧作者的机构名\n",
    "        pstr = org.strip()\n",
    "        pstr = pstr.lower() #小写\n",
    "        pstr = re.sub(r,' ', pstr) #去除符号\n",
    "        pstr = re.sub(r'\\s{2,}', ' ', pstr).strip() #去除多余空格\n",
    "        pstr = pstr.split(' ')\n",
    "        pstr = [word for word in pstr if len(word)>1]\n",
    "        pstr = [word for word in pstr if word not in stopword1]\n",
    "        pstr = [word for word in pstr if word not in stopword]\n",
    "        pstr=set(pstr)\n",
    "        for word in pstr:\n",
    "            f4.write(pid + '\\t' + word + '\\n')\n",
    "\n",
    "        \n",
    "        #save venue\n",
    "        pstr = pub[\"venue\"].strip()\n",
    "        pstr = pstr.lower()\n",
    "        pstr = re.sub(r,' ', pstr)\n",
    "        pstr = re.sub(r'\\s{2,}', ' ', pstr).strip()\n",
    "        pstr = pstr.split(' ')\n",
    "        pstr = [word for word in pstr if len(word)>1]\n",
    "        pstr = [word for word in pstr if word not in stopword1]\n",
    "        pstr = [word for word in pstr if word not in stopword]\n",
    "        for word in pstr:\n",
    "            f2.write(pid + '\\t' + word + '\\n')\n",
    "        if len(pstr)==0:\n",
    "            f2.write(pid + '\\t' + 'null' + '\\n')\n",
    "\n",
    "            \n",
    "        #save text\n",
    "        pstr = \"\"    \n",
    "        keyword=\"\"\n",
    "        if \"keywords\" in pub:\n",
    "            for word in pub[\"keywords\"]:\n",
    "                keyword=keyword+word+\" \"\n",
    "        pstr = pstr + pub[\"title\"]\n",
    "        pstr=pstr.strip()\n",
    "        pstr = pstr.lower()\n",
    "        pstr = re.sub(r,' ', pstr)\n",
    "        pstr = re.sub(r'\\s{2,}', ' ', pstr).strip()\n",
    "        pstr = pstr.split(' ')\n",
    "        pstr = [word for word in pstr if len(word)>1]\n",
    "        pstr = [word for word in pstr if word not in stopword]\n",
    "        for word in pstr:\n",
    "            f3.write(pid + '\\t' + word + '\\n')\n",
    "        \n",
    "        #save all words' embedding\n",
    "        pstr = keyword + \" \" + pub[\"title\"] + \" \" + pub[\"venue\"] + \" \" + org\n",
    "        if \"year\" in pub:\n",
    "              pstr = pstr +  \" \" + str(pub[\"year\"])\n",
    "        pstr=pstr.strip()\n",
    "        pstr = pstr.lower()\n",
    "        pstr = re.sub(r,' ', pstr)\n",
    "        pstr = re.sub(r'\\s{2,}', ' ', pstr).strip()\n",
    "        pstr = pstr.split(' ')\n",
    "        pstr = [word for word in pstr if len(word)>2]\n",
    "        pstr = [word for word in pstr if word not in stopword]\n",
    "        pstr = [word for word in pstr if word not in stopword1]\n",
    "\n",
    "        words_vec=[]\n",
    "        for word in pstr:\n",
    "            if (word in model_w):\n",
    "                words_vec.append(model_w[word])\n",
    "        if len(words_vec)<1:\n",
    "            words_vec.append(np.zeros(100))\n",
    "            tcp.add(i)\n",
    "            #print ('outlier:',pid,pstr)\n",
    "        ptext_emb[pid] = np.mean(words_vec,0)\n",
    "        \n",
    "    #  ptext_emb: key is paper id, and the value is the paper's text embedding\n",
    "    dump_data(ptext_emb,'gene','ptext_emb.pkl')\n",
    "    # the paper index that lack text information\n",
    "    dump_data(tcp,'gene','tcp.pkl')\n",
    "            \n",
    " \n",
    "    f1.close()\n",
    "    f2.close()\n",
    "    f3.close()\n",
    "    f4.close()"
   ]
  },
  {
   "cell_type": "markdown",
   "metadata": {},
   "source": [
    "# train word2vec"
   ]
  },
  {
   "cell_type": "code",
   "execution_count": 3,
   "metadata": {},
   "outputs": [
    {
     "ename": "FileNotFoundError",
     "evalue": "[Errno 2] No such file or directory: 'data/sna_test_data\\\\test_pub_sna.json'",
     "output_type": "error",
     "traceback": [
      "\u001b[1;31m---------------------------------------------------------------------------\u001b[0m",
      "\u001b[1;31mFileNotFoundError\u001b[0m                         Traceback (most recent call last)",
      "\u001b[1;32m~\\AppData\\Local\\Temp\\ipykernel_43872\\1238661041.py\u001b[0m in \u001b[0;36m<module>\u001b[1;34m\u001b[0m\n\u001b[0;32m     11\u001b[0m \u001b[0mpubs_raw\u001b[0m \u001b[1;33m=\u001b[0m \u001b[0mload_json\u001b[0m\u001b[1;33m(\u001b[0m\u001b[1;34m\"data/train\"\u001b[0m\u001b[1;33m,\u001b[0m\u001b[1;34m\"train_pub.json\"\u001b[0m\u001b[1;33m)\u001b[0m\u001b[1;33m\u001b[0m\u001b[1;33m\u001b[0m\u001b[0m\n\u001b[0;32m     12\u001b[0m \u001b[0mpubs_raw1\u001b[0m \u001b[1;33m=\u001b[0m \u001b[0mload_json\u001b[0m\u001b[1;33m(\u001b[0m\u001b[1;34m\"data/sna_data\"\u001b[0m\u001b[1;33m,\u001b[0m\u001b[1;34m\"sna_valid_pub.json\"\u001b[0m\u001b[1;33m)\u001b[0m\u001b[1;33m\u001b[0m\u001b[1;33m\u001b[0m\u001b[0m\n\u001b[1;32m---> 13\u001b[1;33m \u001b[0mpubs_raw2\u001b[0m \u001b[1;33m=\u001b[0m \u001b[0mload_json\u001b[0m\u001b[1;33m(\u001b[0m\u001b[1;34m\"data/sna_test_data\"\u001b[0m\u001b[1;33m,\u001b[0m\u001b[1;34m\"test_pub_sna.json\"\u001b[0m\u001b[1;33m)\u001b[0m\u001b[1;33m\u001b[0m\u001b[1;33m\u001b[0m\u001b[0m\n\u001b[0m\u001b[0;32m     14\u001b[0m \u001b[0mr\u001b[0m \u001b[1;33m=\u001b[0m \u001b[1;34m'[!“”\"#$%&\\'()*+,-./:;<=>?@[\\\\]^_`{|}~—～’]+'\u001b[0m\u001b[1;33m\u001b[0m\u001b[1;33m\u001b[0m\u001b[0m\n\u001b[0;32m     15\u001b[0m \u001b[0mf1\u001b[0m \u001b[1;33m=\u001b[0m \u001b[0mopen\u001b[0m \u001b[1;33m(\u001b[0m\u001b[1;34m'gene/all_text.txt'\u001b[0m\u001b[1;33m,\u001b[0m\u001b[1;34m'w'\u001b[0m\u001b[1;33m,\u001b[0m\u001b[0mencoding\u001b[0m \u001b[1;33m=\u001b[0m \u001b[1;34m'utf-8'\u001b[0m\u001b[1;33m)\u001b[0m\u001b[1;33m\u001b[0m\u001b[1;33m\u001b[0m\u001b[0m\n",
      "\u001b[1;32m~\\AppData\\Local\\Temp\\ipykernel_43872\\2553674947.py\u001b[0m in \u001b[0;36mload_json\u001b[1;34m(rfdir, rfname)\u001b[0m\n\u001b[0;32m      9\u001b[0m \u001b[1;33m\u001b[0m\u001b[0m\n\u001b[0;32m     10\u001b[0m \u001b[1;32mdef\u001b[0m \u001b[0mload_json\u001b[0m\u001b[1;33m(\u001b[0m\u001b[0mrfdir\u001b[0m\u001b[1;33m,\u001b[0m \u001b[0mrfname\u001b[0m\u001b[1;33m)\u001b[0m\u001b[1;33m:\u001b[0m\u001b[1;33m\u001b[0m\u001b[1;33m\u001b[0m\u001b[0m\n\u001b[1;32m---> 11\u001b[1;33m     \u001b[1;32mwith\u001b[0m \u001b[0mcodecs\u001b[0m\u001b[1;33m.\u001b[0m\u001b[0mopen\u001b[0m\u001b[1;33m(\u001b[0m\u001b[0mjoin\u001b[0m\u001b[1;33m(\u001b[0m\u001b[0mrfdir\u001b[0m\u001b[1;33m,\u001b[0m \u001b[0mrfname\u001b[0m\u001b[1;33m)\u001b[0m\u001b[1;33m,\u001b[0m \u001b[1;34m'r'\u001b[0m\u001b[1;33m,\u001b[0m \u001b[0mencoding\u001b[0m\u001b[1;33m=\u001b[0m\u001b[1;34m'utf-8'\u001b[0m\u001b[1;33m)\u001b[0m \u001b[1;32mas\u001b[0m \u001b[0mrf\u001b[0m\u001b[1;33m:\u001b[0m\u001b[1;33m\u001b[0m\u001b[1;33m\u001b[0m\u001b[0m\n\u001b[0m\u001b[0;32m     12\u001b[0m         \u001b[1;32mreturn\u001b[0m \u001b[0mjson\u001b[0m\u001b[1;33m.\u001b[0m\u001b[0mload\u001b[0m\u001b[1;33m(\u001b[0m\u001b[0mrf\u001b[0m\u001b[1;33m)\u001b[0m\u001b[1;33m\u001b[0m\u001b[1;33m\u001b[0m\u001b[0m\n\u001b[0;32m     13\u001b[0m \u001b[1;33m\u001b[0m\u001b[0m\n",
      "\u001b[1;32mD:\\anaconda3\\envs\\py37\\lib\\codecs.py\u001b[0m in \u001b[0;36mopen\u001b[1;34m(filename, mode, encoding, errors, buffering)\u001b[0m\n\u001b[0;32m    902\u001b[0m         \u001b[1;31m# Force opening of the file in binary mode\u001b[0m\u001b[1;33m\u001b[0m\u001b[1;33m\u001b[0m\u001b[1;33m\u001b[0m\u001b[0m\n\u001b[0;32m    903\u001b[0m         \u001b[0mmode\u001b[0m \u001b[1;33m=\u001b[0m \u001b[0mmode\u001b[0m \u001b[1;33m+\u001b[0m \u001b[1;34m'b'\u001b[0m\u001b[1;33m\u001b[0m\u001b[1;33m\u001b[0m\u001b[0m\n\u001b[1;32m--> 904\u001b[1;33m     \u001b[0mfile\u001b[0m \u001b[1;33m=\u001b[0m \u001b[0mbuiltins\u001b[0m\u001b[1;33m.\u001b[0m\u001b[0mopen\u001b[0m\u001b[1;33m(\u001b[0m\u001b[0mfilename\u001b[0m\u001b[1;33m,\u001b[0m \u001b[0mmode\u001b[0m\u001b[1;33m,\u001b[0m \u001b[0mbuffering\u001b[0m\u001b[1;33m)\u001b[0m\u001b[1;33m\u001b[0m\u001b[1;33m\u001b[0m\u001b[0m\n\u001b[0m\u001b[0;32m    905\u001b[0m     \u001b[1;32mif\u001b[0m \u001b[0mencoding\u001b[0m \u001b[1;32mis\u001b[0m \u001b[1;32mNone\u001b[0m\u001b[1;33m:\u001b[0m\u001b[1;33m\u001b[0m\u001b[1;33m\u001b[0m\u001b[0m\n\u001b[0;32m    906\u001b[0m         \u001b[1;32mreturn\u001b[0m \u001b[0mfile\u001b[0m\u001b[1;33m\u001b[0m\u001b[1;33m\u001b[0m\u001b[0m\n",
      "\u001b[1;31mFileNotFoundError\u001b[0m: [Errno 2] No such file or directory: 'data/sna_test_data\\\\test_pub_sna.json'"
     ]
    }
   ],
   "source": [
    "## SAVE all text in the datasets\n",
    "\n",
    "import codecs\n",
    "import json\n",
    "from os.path import join\n",
    "import pickle\n",
    "import os\n",
    "import re\n",
    "\n",
    "\n",
    "pubs_raw = load_json(\"data/train\",\"train_pub.json\")\n",
    "pubs_raw1 = load_json(\"data/sna_data\",\"sna_valid_pub.json\")\n",
    "pubs_raw2 = load_json(\"data/sna_test_data\",\"sna_test_pub.json\")\n",
    "r = '[!“”\"#$%&\\'()*+,-./:;<=>?@[\\\\]^_`{|}~—～’]+'\n",
    "f1 = open ('gene/all_text.txt','w',encoding = 'utf-8')\n",
    "\n",
    "for i,pid in enumerate(pubs_raw):\n",
    "    pub = pubs_raw[pid]\n",
    "    \n",
    "    for author in pub[\"authors\"]:\n",
    "        if \"org\" in author:\n",
    "                org = author[\"org\"]\n",
    "                pstr = org.strip()\n",
    "                pstr = pstr.lower()\n",
    "                pstr = re.sub(r,' ', pstr)\n",
    "                pstr = re.sub(r'\\s{2,}', ' ', pstr).strip()\n",
    "                f1.write(pstr+'\\n')\n",
    "            \n",
    "    title = pub[\"title\"]\n",
    "    pstr=title.strip()\n",
    "    pstr = pstr.lower()\n",
    "    pstr = re.sub(r,' ', pstr)\n",
    "    pstr = re.sub(r'\\s{2,}', ' ', pstr).strip()\n",
    "    f1.write(pstr+'\\n')\n",
    "    \n",
    "    if \"abstract\" in pub and type(pub[\"abstract\"]) is str:\n",
    "        abstract = pub[\"abstract\"]\n",
    "        pstr=abstract.strip()\n",
    "        pstr = pstr.lower()\n",
    "        pstr = re.sub(r,' ', pstr)\n",
    "        pstr = re.sub(r'\\s{2,}', ' ', pstr).strip()\n",
    "        f1.write(pstr+'\\n')\n",
    "        \n",
    "    venue = pub[\"venue\"]\n",
    "    pstr=venue.strip()\n",
    "    pstr = pstr.lower()\n",
    "    pstr = re.sub(r,' ', pstr)\n",
    "    pstr = re.sub(r'\\s{2,}', ' ', pstr).strip()\n",
    "    f1.write(pstr+'\\n')\n",
    "    \n",
    "for i,pid in enumerate(pubs_raw1):\n",
    "    pub = pubs_raw1[pid]\n",
    "    \n",
    "    for author in pub[\"authors\"]:\n",
    "        if \"org\" in author:\n",
    "                org = author[\"org\"]\n",
    "                pstr = org.strip()\n",
    "                pstr = pstr.lower()\n",
    "                pstr = re.sub(r,' ', pstr)\n",
    "                pstr = re.sub(r'\\s{2,}', ' ', pstr).strip()\n",
    "                f1.write(pstr+'\\n')\n",
    "            \n",
    "    title = pub[\"title\"]\n",
    "    pstr=title.strip()\n",
    "    pstr = pstr.lower()\n",
    "    pstr = re.sub(r,' ', pstr)\n",
    "    pstr = re.sub(r'\\s{2,}', ' ', pstr).strip()\n",
    "    f1.write(pstr+'\\n')\n",
    "    \n",
    "    if \"abstract\" in pub and type(pub[\"abstract\"]) is str:\n",
    "        abstract = pub[\"abstract\"]\n",
    "        pstr=abstract.strip()\n",
    "        pstr = pstr.lower()\n",
    "        pstr = re.sub(r,' ', pstr)\n",
    "        pstr = re.sub(r'\\s{2,}', ' ', pstr).strip()\n",
    "        f1.write(pstr+'\\n')\n",
    "        \n",
    "    venue = pub[\"venue\"]\n",
    "    pstr=venue.strip()\n",
    "    pstr = pstr.lower()\n",
    "    pstr = re.sub(r,' ', pstr)\n",
    "    pstr = re.sub(r'\\s{2,}', ' ', pstr).strip()\n",
    "    f1.write(pstr+'\\n')\n",
    "\n",
    "\n",
    "for i,pid in enumerate(pubs_raw2):\n",
    "    pub = pubs_raw2[pid]\n",
    "    \n",
    "    for author in pub[\"authors\"]:\n",
    "        if \"org\" in author:\n",
    "                org = author[\"org\"]\n",
    "                pstr = org.strip()\n",
    "                pstr = pstr.lower()\n",
    "                pstr = re.sub(r,' ', pstr)\n",
    "                pstr = re.sub(r'\\s{2,}', ' ', pstr).strip()\n",
    "                f1.write(pstr+'\\n')\n",
    "            \n",
    "    title = pub[\"title\"]\n",
    "    pstr=title.strip()\n",
    "    pstr = pstr.lower()\n",
    "    pstr = re.sub(r,' ', pstr)\n",
    "    pstr = re.sub(r'\\s{2,}', ' ', pstr).strip()\n",
    "    f1.write(pstr+'\\n')\n",
    "    \n",
    "    if \"abstract\" in pub and type(pub[\"abstract\"]) is str:\n",
    "        abstract = pub[\"abstract\"]\n",
    "        pstr=abstract.strip()\n",
    "        pstr = pstr.lower()\n",
    "        pstr = re.sub(r,' ', pstr)\n",
    "        pstr = re.sub(r'\\s{2,}', ' ', pstr).strip()\n",
    "        f1.write(pstr+'\\n')\n",
    "        \n",
    "    venue = pub[\"venue\"]\n",
    "    pstr=venue.strip()\n",
    "    pstr = pstr.lower()\n",
    "    pstr = re.sub(r,' ', pstr)\n",
    "    pstr = re.sub(r'\\s{2,}', ' ', pstr).strip()\n",
    "    f1.write(pstr+'\\n')\n",
    "        \n",
    "        \n",
    "f1.close()"
   ]
  },
  {
   "cell_type": "code",
   "execution_count": 3,
   "metadata": {},
   "outputs": [
    {
     "name": "stderr",
     "output_type": "stream",
     "text": [
      "D:\\anaconda\\lib\\site-packages\\gensim\\utils.py:1197: UserWarning: detected Windows; aliasing chunkize to chunkize_serial\n",
      "  warnings.warn(\"detected Windows; aliasing chunkize to chunkize_serial\")\n",
      "D:\\anaconda\\lib\\site-packages\\smart_open\\smart_open_lib.py:398: UserWarning: This function is deprecated, use smart_open.open instead. See the migration notes for details: https://github.com/RaRe-Technologies/smart_open/blob/master/README.rst#migrating-to-the-new-open-function\n",
      "  'See the migration notes for details: %s' % _MIGRATION_NOTES_URL\n"
     ]
    }
   ],
   "source": [
    "from gensim.models import word2vec\n",
    "\n",
    "sentences = word2vec.Text8Corpus(r'gene/all_text.txt')\n",
    "model = word2vec.Word2Vec(sentences, size=100,negative =5, min_count=2, window=5)\n",
    "model.save('word2vec/Aword2vec.model')\n"
   ]
  },
  {
   "cell_type": "markdown",
   "metadata": {},
   "source": [
    "# name disambiguation (test)"
   ]
  },
  {
   "cell_type": "code",
   "execution_count": 10,
   "metadata": {
    "scrolled": true
   },
   "outputs": [
    {
     "name": "stdout",
     "output_type": "stream",
     "text": [
      "0 jing_yin 204\n"
     ]
    },
    {
     "name": "stderr",
     "output_type": "stream",
     "text": [
      "D:\\anaconda\\lib\\site-packages\\smart_open\\smart_open_lib.py:398: UserWarning: This function is deprecated, use smart_open.open instead. See the migration notes for details: https://github.com/RaRe-Technologies/smart_open/blob/master/README.rst#migrating-to-the-new-open-function\n",
      "  'See the migration notes for details: %s' % _MIGRATION_NOTES_URL\n",
      "D:\\anaconda\\lib\\site-packages\\ipykernel_launcher.py:388: DeprecationWarning: Call to deprecated `__contains__` (Method will be removed in 4.0.0, use self.wv.__contains__() instead).\n",
      "D:\\anaconda\\lib\\site-packages\\ipykernel_launcher.py:389: DeprecationWarning: Call to deprecated `__getitem__` (Method will be removed in 4.0.0, use self.wv.__getitem__() instead).\n"
     ]
    },
    {
     "name": "stdout",
     "output_type": "stream",
     "text": [
      "#papers  204\n",
      "#authors 520\n",
      "#org_words 148\n",
      "#confs   155\n",
      "walks done\n"
     ]
    },
    {
     "name": "stderr",
     "output_type": "stream",
     "text": [
      "D:\\anaconda\\lib\\site-packages\\ipykernel_launcher.py:54: DeprecationWarning: Call to deprecated `__contains__` (Method will be removed in 4.0.0, use self.wv.__contains__() instead).\n",
      "D:\\anaconda\\lib\\site-packages\\ipykernel_launcher.py:55: DeprecationWarning: Call to deprecated `__getitem__` (Method will be removed in 4.0.0, use self.wv.__getitem__() instead).\n"
     ]
    },
    {
     "name": "stdout",
     "output_type": "stream",
     "text": [
      "walks done\n",
      "walks done\n",
      "walks done\n",
      "walks done\n",
      "walks done\n",
      "walks done\n",
      "walks done\n",
      "walks done\n",
      "walks done\n",
      "relational outlier: {187}\n",
      "semantic outlier: set()\n"
     ]
    },
    {
     "name": "stderr",
     "output_type": "stream",
     "text": [
      "D:\\anaconda\\lib\\site-packages\\smart_open\\smart_open_lib.py:398: UserWarning: This function is deprecated, use smart_open.open instead. See the migration notes for details: https://github.com/RaRe-Technologies/smart_open/blob/master/README.rst#migrating-to-the-new-open-function\n",
      "  'See the migration notes for details: %s' % _MIGRATION_NOTES_URL\n",
      "D:\\anaconda\\lib\\site-packages\\ipykernel_launcher.py:388: DeprecationWarning: Call to deprecated `__contains__` (Method will be removed in 4.0.0, use self.wv.__contains__() instead).\n",
      "D:\\anaconda\\lib\\site-packages\\ipykernel_launcher.py:389: DeprecationWarning: Call to deprecated `__getitem__` (Method will be removed in 4.0.0, use self.wv.__getitem__() instead).\n"
     ]
    },
    {
     "name": "stdout",
     "output_type": "stream",
     "text": [
      "[ 0  0  0  3  3  1  1  1  1  2  2  0  0  3  3  1  1  1  1  1  1  1  1  1\n",
      "  1  2  2  4  5  0  0  3  1  1  1  1  1  1  1  1  1  2  2  2  2  6  4  9\n",
      "  7  7  0  3  1  1  1  1  8  2  2  2  9  6  4  5  0  0  3  3  1  1  1  1\n",
      "  1  1  1  1  1  1  1  1  2  2  2  2  4  7  0  0  0  3  3  1  1  1  1  1\n",
      "  1  1  8  8  2  2  9  0  3  3  1  1  1  1  1  1  2  2  5  0  0  3  3  3\n",
      "  1  1  1  2  2  2  9  7  0  0  3  3  1  1  1  1  1  1  1  2  2  2  2  9\n",
      "  0  0  0  3  1  1  1  1  1  1  1  1  8  2  2  9  6  6  4  9  7 10  3  3\n",
      "  3  1  1  1  1  1  1  1  8  8  8  8  2  2  2  2  9  6 10 12  3  3  3  1\n",
      "  1  1  1  1  8  2  6  4  4  5 10 10] 12\n",
      "1 hongyuan_chen 458\n",
      "#papers  458\n",
      "#authors 479\n",
      "#org_words 77\n",
      "#confs   195\n",
      "walks done\n"
     ]
    },
    {
     "name": "stderr",
     "output_type": "stream",
     "text": [
      "D:\\anaconda\\lib\\site-packages\\ipykernel_launcher.py:54: DeprecationWarning: Call to deprecated `__contains__` (Method will be removed in 4.0.0, use self.wv.__contains__() instead).\n",
      "D:\\anaconda\\lib\\site-packages\\ipykernel_launcher.py:55: DeprecationWarning: Call to deprecated `__getitem__` (Method will be removed in 4.0.0, use self.wv.__getitem__() instead).\n"
     ]
    },
    {
     "name": "stdout",
     "output_type": "stream",
     "text": [
      "walks done\n",
      "walks done\n",
      "walks done\n",
      "walks done\n",
      "walks done\n",
      "walks done\n",
      "walks done\n",
      "walks done\n",
      "walks done\n",
      "relational outlier: {164, 110, 245, 286, 95}\n",
      "semantic outlier: set()\n",
      "[0 0 0 0 0 0 0 0 0 0 0 0 0 0 0 0 0 0 0 0 0 0 0 0 0 0 0 0 0 0 0 0 0 0 0 0 0\n",
      " 0 0 0 0 0 0 0 0 0 0 0 0 0 0 0 0 0 0 0 0 0 0 0 0 0 0 0 0 0 0 0 0 0 0 0 0 0\n",
      " 0 0 0 0 0 0 0 0 0 0 0 0 0 0 0 0 0 0 0 0 0 0 0 0 0 0 0 0 0 0 0 0 0 0 0 0 0\n",
      " 0 0 0 0 0 0 0 0 0 0 0 0 0 0 0 0 0 0 0 0 0 0 0 0 0 0 0 0 0 0 0 0 0 1 1 1 1\n",
      " 1 1 1 2 2 2 2 2 2 2 2 0 0 0 0 0 5 0 0 0 0 0 0 0 0 0 0 0 0 0 0 0 0 0 0 0 0\n",
      " 0 0 0 0 0 0 0 0 0 0 0 0 0 0 0 0 0 0 0 0 0 0 0 0 0 0 0 0 0 0 0 0 0 0 0 0 0\n",
      " 0 0 0 0 0 0 0 0 0 0 0 0 0 0 0 0 0 0 0 0 0 0 0 6 0 0 0 0 0 0 0 0 0 0 0 0 0\n",
      " 0 0 0 0 0 0 0 0 0 0 0 0 0 0 0 0 0 0 0 0 0 0 0 0 0 1 1 7 1 2 2 2 2 2 0 0 0\n",
      " 0 0 0 0 0 0 0 0 0 0 0 0 0 0 0 0 0 0 0 0 0 0 0 0 0 0 0 0 0 0 0 0 0 0 0 0 0\n",
      " 0 0 0 0 0 0 0 0 0 0 0 8 0 0 0 0 0 0 0 0 0 0 0 0 0 0 0 0 0 0 0 0 0 0 0 0 0\n",
      " 0 0 0 0 0 0 0 0 0 0 0 0 0 0 0 0 0 0 0 0 0 0 0 0 0 0 0 0 0 0 0 0 0 0 0 0 0\n",
      " 0 0 0 0 0 0 0 0 0 0 0 0 0 0 0 0 0 0 0 0 0 0 0 0 0 0 0 0 0 0 0 0 0 0 0 0 0\n",
      " 0 0 0 0 1 1 1 1 2 2 2 2 2 2] 7\n",
      "2 jie_tang 1198\n"
     ]
    },
    {
     "name": "stderr",
     "output_type": "stream",
     "text": [
      "D:\\anaconda\\lib\\site-packages\\smart_open\\smart_open_lib.py:398: UserWarning: This function is deprecated, use smart_open.open instead. See the migration notes for details: https://github.com/RaRe-Technologies/smart_open/blob/master/README.rst#migrating-to-the-new-open-function\n",
      "  'See the migration notes for details: %s' % _MIGRATION_NOTES_URL\n",
      "D:\\anaconda\\lib\\site-packages\\ipykernel_launcher.py:388: DeprecationWarning: Call to deprecated `__contains__` (Method will be removed in 4.0.0, use self.wv.__contains__() instead).\n",
      "D:\\anaconda\\lib\\site-packages\\ipykernel_launcher.py:389: DeprecationWarning: Call to deprecated `__getitem__` (Method will be removed in 4.0.0, use self.wv.__getitem__() instead).\n"
     ]
    },
    {
     "name": "stdout",
     "output_type": "stream",
     "text": [
      "#papers  1198\n",
      "#authors 2017\n",
      "#org_words 448\n",
      "#confs   694\n",
      "walks done\n"
     ]
    },
    {
     "name": "stderr",
     "output_type": "stream",
     "text": [
      "D:\\anaconda\\lib\\site-packages\\ipykernel_launcher.py:54: DeprecationWarning: Call to deprecated `__contains__` (Method will be removed in 4.0.0, use self.wv.__contains__() instead).\n",
      "D:\\anaconda\\lib\\site-packages\\ipykernel_launcher.py:55: DeprecationWarning: Call to deprecated `__getitem__` (Method will be removed in 4.0.0, use self.wv.__getitem__() instead).\n"
     ]
    },
    {
     "name": "stdout",
     "output_type": "stream",
     "text": [
      "walks done\n",
      "walks done\n",
      "walks done\n",
      "walks done\n",
      "walks done\n",
      "walks done\n",
      "walks done\n",
      "walks done\n",
      "walks done\n",
      "relational outlier: {326, 71, 646, 810, 107, 45, 557, 623, 241, 85, 185, 1114}\n",
      "semantic outlier: set()\n",
      "[ 0  1  1 ... 12  1 28] 61\n",
      "3 min_hu 526\n"
     ]
    },
    {
     "name": "stderr",
     "output_type": "stream",
     "text": [
      "D:\\anaconda\\lib\\site-packages\\smart_open\\smart_open_lib.py:398: UserWarning: This function is deprecated, use smart_open.open instead. See the migration notes for details: https://github.com/RaRe-Technologies/smart_open/blob/master/README.rst#migrating-to-the-new-open-function\n",
      "  'See the migration notes for details: %s' % _MIGRATION_NOTES_URL\n",
      "D:\\anaconda\\lib\\site-packages\\ipykernel_launcher.py:388: DeprecationWarning: Call to deprecated `__contains__` (Method will be removed in 4.0.0, use self.wv.__contains__() instead).\n",
      "D:\\anaconda\\lib\\site-packages\\ipykernel_launcher.py:389: DeprecationWarning: Call to deprecated `__getitem__` (Method will be removed in 4.0.0, use self.wv.__getitem__() instead).\n"
     ]
    },
    {
     "name": "stdout",
     "output_type": "stream",
     "text": [
      "#papers  526\n",
      "#authors 1121\n",
      "#org_words 254\n",
      "#confs   323\n",
      "walks done\n"
     ]
    },
    {
     "name": "stderr",
     "output_type": "stream",
     "text": [
      "D:\\anaconda\\lib\\site-packages\\ipykernel_launcher.py:54: DeprecationWarning: Call to deprecated `__contains__` (Method will be removed in 4.0.0, use self.wv.__contains__() instead).\n",
      "D:\\anaconda\\lib\\site-packages\\ipykernel_launcher.py:55: DeprecationWarning: Call to deprecated `__getitem__` (Method will be removed in 4.0.0, use self.wv.__getitem__() instead).\n"
     ]
    },
    {
     "name": "stdout",
     "output_type": "stream",
     "text": [
      "walks done\n",
      "walks done\n",
      "walks done\n",
      "walks done\n",
      "walks done\n",
      "walks done\n",
      "walks done\n",
      "walks done\n",
      "walks done\n",
      "relational outlier: set()\n",
      "semantic outlier: set()\n",
      "[ 0  0  0  1  1  2  3  3  3  3  4  5  5  5  6  7 22  8  9 10 23 11 11 12\n",
      " 12 13 14 15  0  0  0  0  0  0  1  5  6  2  8 10 12 16  0  0  0  0  0  0\n",
      "  0  1  3  4  5  5  6  7 12 16 13 17 17 14 14 14 14  0  0  0  0  0  3  3\n",
      "  3  3  5  7  2 18 18 18  9 10 10 10 23 11 12  6 16 19  0  0  0  0  0  0\n",
      "  0  0  1  3  5  6  6  6  7  7  2 11 12  6 13 17 14 19  0  0  0  0  0  3\n",
      "  3  3  5  5  6  7 10 10 12  6 16 16 14 14  0  0  0  0  0  0  0  0  0  1\n",
      "  3  4  5  5  5  6  6  7  7  2 18  8 12  6  6  6 20 15 19  0  0  0  0  0\n",
      "  1  1  3  4  5  5  5  5  6  6  6  6  6 18  9  9 10 10  6  6 20 15 15 15\n",
      "  0  0  0  0  0  1  1  3  3  3  5  5  6  6  6  7  7 18  9 11 25 15 19  0\n",
      "  0  0  0  0  0  0  0  1  1  3  5  6  7  8  9  9 10 11 13 17 17 19 17  0\n",
      "  0  0  0  0  0  0  0  3  3  3  3  4  5  6  7  7 18  8  9 10 10 10 11  6\n",
      "  6 14 14 14 19  0  0  0  0  0  1  1  1  2  5  6  6  2 11 12 15 19 19  0\n",
      "  0  0  0  0  0  0  0  1  3  5  5  7  2 26  9  9 11 12  6  6 17 20 15 15\n",
      "  0  0  0  1  3  5  6  6  6  6  7  7 10 11 12  6  6 16 13 17  0  0  0  0\n",
      "  0  1  1  1  3  4  6  6  7  9 12 12 16 16 13 27 15  0  0  1  1  3  3  5\n",
      "  5  6  6  6  6  6  6  6  6  7 18 18  9  9 10 11 12 17 17 14 14 14  0  0\n",
      "  0  0  1  3 28  5  6  7  2  9  6 13 29 14 19 19 17  0  0  0  0  0  0  1\n",
      "  3  3  3  3  4  5  5  6  6  6  2  2 18  9  9 10 11 16 13 17 30 17 17  0\n",
      "  0  0  0  0  0  1  3  3  3  2  3  5  5  5 18 26 12 12  6 16 17 20 14  0\n",
      "  0 32  5  5  5  5  5  6  6  2 18 10 12 16 20 19 32  0  0  0  0  1  1  6\n",
      "  6  6  6  7  9 11 12 16 13 13 15  0  0  1  5  5  6  6  6  6  7 18 11  6\n",
      "  6 16 17 17 14  0  3  3  3  3  4  4  4  6  6  6  6  7  7  2 12  6] 30\n",
      "4 fei_chen 1412\n"
     ]
    },
    {
     "name": "stderr",
     "output_type": "stream",
     "text": [
      "D:\\anaconda\\lib\\site-packages\\smart_open\\smart_open_lib.py:398: UserWarning: This function is deprecated, use smart_open.open instead. See the migration notes for details: https://github.com/RaRe-Technologies/smart_open/blob/master/README.rst#migrating-to-the-new-open-function\n",
      "  'See the migration notes for details: %s' % _MIGRATION_NOTES_URL\n",
      "D:\\anaconda\\lib\\site-packages\\ipykernel_launcher.py:388: DeprecationWarning: Call to deprecated `__contains__` (Method will be removed in 4.0.0, use self.wv.__contains__() instead).\n",
      "D:\\anaconda\\lib\\site-packages\\ipykernel_launcher.py:389: DeprecationWarning: Call to deprecated `__getitem__` (Method will be removed in 4.0.0, use self.wv.__getitem__() instead).\n"
     ]
    },
    {
     "name": "stdout",
     "output_type": "stream",
     "text": [
      "#papers  1412\n",
      "#authors 2604\n",
      "#org_words 675\n",
      "#confs   782\n",
      "walks done\n"
     ]
    },
    {
     "name": "stderr",
     "output_type": "stream",
     "text": [
      "D:\\anaconda\\lib\\site-packages\\ipykernel_launcher.py:54: DeprecationWarning: Call to deprecated `__contains__` (Method will be removed in 4.0.0, use self.wv.__contains__() instead).\n",
      "D:\\anaconda\\lib\\site-packages\\ipykernel_launcher.py:55: DeprecationWarning: Call to deprecated `__getitem__` (Method will be removed in 4.0.0, use self.wv.__getitem__() instead).\n"
     ]
    },
    {
     "name": "stdout",
     "output_type": "stream",
     "text": [
      "walks done\n",
      "walks done\n",
      "walks done\n",
      "walks done\n",
      "walks done\n",
      "walks done\n",
      "walks done\n",
      "walks done\n",
      "walks done\n",
      "relational outlier: {426, 134, 102, 103}\n",
      "semantic outlier: set()\n",
      "[ 6  0  1 ... 35 55 44] 73\n",
      "5 hongjun_song 268\n"
     ]
    },
    {
     "name": "stderr",
     "output_type": "stream",
     "text": [
      "D:\\anaconda\\lib\\site-packages\\smart_open\\smart_open_lib.py:398: UserWarning: This function is deprecated, use smart_open.open instead. See the migration notes for details: https://github.com/RaRe-Technologies/smart_open/blob/master/README.rst#migrating-to-the-new-open-function\n",
      "  'See the migration notes for details: %s' % _MIGRATION_NOTES_URL\n",
      "D:\\anaconda\\lib\\site-packages\\ipykernel_launcher.py:388: DeprecationWarning: Call to deprecated `__contains__` (Method will be removed in 4.0.0, use self.wv.__contains__() instead).\n",
      "D:\\anaconda\\lib\\site-packages\\ipykernel_launcher.py:389: DeprecationWarning: Call to deprecated `__getitem__` (Method will be removed in 4.0.0, use self.wv.__getitem__() instead).\n"
     ]
    },
    {
     "name": "stdout",
     "output_type": "stream",
     "text": [
      "#papers  268\n",
      "#authors 1832\n",
      "#org_words 128\n",
      "#confs   154\n",
      "walks done\n"
     ]
    },
    {
     "name": "stderr",
     "output_type": "stream",
     "text": [
      "D:\\anaconda\\lib\\site-packages\\ipykernel_launcher.py:54: DeprecationWarning: Call to deprecated `__contains__` (Method will be removed in 4.0.0, use self.wv.__contains__() instead).\n",
      "D:\\anaconda\\lib\\site-packages\\ipykernel_launcher.py:55: DeprecationWarning: Call to deprecated `__getitem__` (Method will be removed in 4.0.0, use self.wv.__getitem__() instead).\n"
     ]
    },
    {
     "name": "stdout",
     "output_type": "stream",
     "text": [
      "walks done\n",
      "walks done\n",
      "walks done\n",
      "walks done\n",
      "walks done\n",
      "walks done\n",
      "walks done\n",
      "walks done\n",
      "walks done\n",
      "relational outlier: {3, 101, 105, 11, 172, 111, 184}\n",
      "semantic outlier: set()\n",
      "[ 0  0  0  6  0  0  0  0  0  0  0  7  0  0  0  0  0  0  0  0  0  0  0  0\n",
      "  0  0  0  0  0  0  0  0  0  0  0  0  0  0  0  0  0  0  0  0  0  0  0  0\n",
      "  0  0  0  0  0  0  1  1  1  1  1  1  2  2  2  2  2  2  3  3  3  3  0  0\n",
      "  0  0  0  4  0  0  0  0  0  0  0  0  0  0  0  0  0  4  0  0  0  0  0  4\n",
      "  0  0  0  0  0  0  0  0  0  8  0  0  0  0  0  9  0  4  0  0  0  0  0  0\n",
      "  0  0  0  0  4  0  0  0  0  0  1  1  1  1  1  1  1  1  1  1  1  2  2  2\n",
      "  3  3  3  3  0  0  0  0  0  0  0  0  0  0  0  0  0  0  0  0  0  0  0  0\n",
      "  0  0  0  0 10  0  0  0  0  0  0  0  0  0  0  0  0  4  0  0  0  0  0  0\n",
      "  0  0  0  0  0  0  0  0  0  1  1  1  1  1  1  2  2  2  2  2  0  0  0  0\n",
      "  0  0  0  0  0  0  0  0  0  0  0  0  4  0  0  0  0  0  0  0  0  0  0  0\n",
      "  0  0  0  0  0  0  0  0  0  4  4  0  4  1  1  1  1  1  1  1  1  1  2  2\n",
      "  3  3  3  3] 10\n",
      "6 bin_zhou 1529\n"
     ]
    },
    {
     "name": "stderr",
     "output_type": "stream",
     "text": [
      "D:\\anaconda\\lib\\site-packages\\smart_open\\smart_open_lib.py:398: UserWarning: This function is deprecated, use smart_open.open instead. See the migration notes for details: https://github.com/RaRe-Technologies/smart_open/blob/master/README.rst#migrating-to-the-new-open-function\n",
      "  'See the migration notes for details: %s' % _MIGRATION_NOTES_URL\n",
      "D:\\anaconda\\lib\\site-packages\\ipykernel_launcher.py:388: DeprecationWarning: Call to deprecated `__contains__` (Method will be removed in 4.0.0, use self.wv.__contains__() instead).\n",
      "D:\\anaconda\\lib\\site-packages\\ipykernel_launcher.py:389: DeprecationWarning: Call to deprecated `__getitem__` (Method will be removed in 4.0.0, use self.wv.__getitem__() instead).\n"
     ]
    },
    {
     "name": "stdout",
     "output_type": "stream",
     "text": [
      "#papers  1529\n",
      "#authors 2391\n",
      "#org_words 684\n",
      "#confs   820\n",
      "walks done\n"
     ]
    },
    {
     "name": "stderr",
     "output_type": "stream",
     "text": [
      "D:\\anaconda\\lib\\site-packages\\ipykernel_launcher.py:54: DeprecationWarning: Call to deprecated `__contains__` (Method will be removed in 4.0.0, use self.wv.__contains__() instead).\n",
      "D:\\anaconda\\lib\\site-packages\\ipykernel_launcher.py:55: DeprecationWarning: Call to deprecated `__getitem__` (Method will be removed in 4.0.0, use self.wv.__getitem__() instead).\n"
     ]
    },
    {
     "name": "stdout",
     "output_type": "stream",
     "text": [
      "walks done\n",
      "walks done\n",
      "walks done\n",
      "walks done\n",
      "walks done\n",
      "walks done\n",
      "walks done\n",
      "walks done\n",
      "walks done\n",
      "relational outlier: {387, 1285, 653, 1168, 1041, 22, 1447, 681, 1074, 58, 187, 828, 326, 582, 1351, 81, 1243, 736, 227, 487, 1005, 368, 884}\n",
      "semantic outlier: set()\n",
      "[ 0  0  1 ... 31  9 58] 92\n",
      "7 xiang_zhang 2365\n"
     ]
    },
    {
     "name": "stderr",
     "output_type": "stream",
     "text": [
      "D:\\anaconda\\lib\\site-packages\\smart_open\\smart_open_lib.py:398: UserWarning: This function is deprecated, use smart_open.open instead. See the migration notes for details: https://github.com/RaRe-Technologies/smart_open/blob/master/README.rst#migrating-to-the-new-open-function\n",
      "  'See the migration notes for details: %s' % _MIGRATION_NOTES_URL\n",
      "D:\\anaconda\\lib\\site-packages\\ipykernel_launcher.py:388: DeprecationWarning: Call to deprecated `__contains__` (Method will be removed in 4.0.0, use self.wv.__contains__() instead).\n",
      "D:\\anaconda\\lib\\site-packages\\ipykernel_launcher.py:389: DeprecationWarning: Call to deprecated `__getitem__` (Method will be removed in 4.0.0, use self.wv.__getitem__() instead).\n"
     ]
    },
    {
     "name": "stdout",
     "output_type": "stream",
     "text": [
      "#papers  2364\n",
      "#authors 3419\n",
      "#org_words 867\n",
      "#confs   1077\n",
      "walks done\n"
     ]
    },
    {
     "name": "stderr",
     "output_type": "stream",
     "text": [
      "D:\\anaconda\\lib\\site-packages\\ipykernel_launcher.py:54: DeprecationWarning: Call to deprecated `__contains__` (Method will be removed in 4.0.0, use self.wv.__contains__() instead).\n",
      "D:\\anaconda\\lib\\site-packages\\ipykernel_launcher.py:55: DeprecationWarning: Call to deprecated `__getitem__` (Method will be removed in 4.0.0, use self.wv.__getitem__() instead).\n"
     ]
    },
    {
     "name": "stdout",
     "output_type": "stream",
     "text": [
      "walks done\n",
      "walks done\n",
      "walks done\n",
      "walks done\n",
      "walks done\n",
      "walks done\n",
      "walks done\n",
      "walks done\n",
      "walks done\n",
      "relational outlier: {657, 722, 2362, 2057}\n",
      "semantic outlier: set()\n",
      "[  0   1   2 ... 108  13  29] 101\n",
      "8 hongfu_zhang 274\n"
     ]
    },
    {
     "name": "stderr",
     "output_type": "stream",
     "text": [
      "D:\\anaconda\\lib\\site-packages\\smart_open\\smart_open_lib.py:398: UserWarning: This function is deprecated, use smart_open.open instead. See the migration notes for details: https://github.com/RaRe-Technologies/smart_open/blob/master/README.rst#migrating-to-the-new-open-function\n",
      "  'See the migration notes for details: %s' % _MIGRATION_NOTES_URL\n",
      "D:\\anaconda\\lib\\site-packages\\ipykernel_launcher.py:388: DeprecationWarning: Call to deprecated `__contains__` (Method will be removed in 4.0.0, use self.wv.__contains__() instead).\n",
      "D:\\anaconda\\lib\\site-packages\\ipykernel_launcher.py:389: DeprecationWarning: Call to deprecated `__getitem__` (Method will be removed in 4.0.0, use self.wv.__getitem__() instead).\n"
     ]
    },
    {
     "name": "stdout",
     "output_type": "stream",
     "text": [
      "#papers  274\n",
      "#authors 301\n",
      "#org_words 94\n",
      "#confs   144\n",
      "walks done\n"
     ]
    },
    {
     "name": "stderr",
     "output_type": "stream",
     "text": [
      "D:\\anaconda\\lib\\site-packages\\ipykernel_launcher.py:54: DeprecationWarning: Call to deprecated `__contains__` (Method will be removed in 4.0.0, use self.wv.__contains__() instead).\n",
      "D:\\anaconda\\lib\\site-packages\\ipykernel_launcher.py:55: DeprecationWarning: Call to deprecated `__getitem__` (Method will be removed in 4.0.0, use self.wv.__getitem__() instead).\n"
     ]
    },
    {
     "name": "stdout",
     "output_type": "stream",
     "text": [
      "walks done\n",
      "walks done\n",
      "walks done\n",
      "walks done\n",
      "walks done\n",
      "walks done\n",
      "walks done\n",
      "walks done\n",
      "walks done\n",
      "relational outlier: {128, 224, 11, 127}\n",
      "semantic outlier: set()\n",
      "[0 0 0 0 0 0 0 0 0 0 0 0 0 0 0 0 0 0 0 0 0 0 0 0 0 0 0 0 0 0 0 0 0 0 0 0 0\n",
      " 0 1 1 1 1 1 1 1 1 1 1 1 1 1 1 1 1 1 1 1 1 1 1 1 1 1 2 2 2 3 3 3 3 3 3 3 3\n",
      " 0 0 0 0 0 0 0 0 0 0 0 0 0 0 0 0 0 0 0 0 0 0 0 0 0 0 0 0 0 0 0 0 0 0 1 1 1\n",
      " 1 1 1 1 1 1 1 1 1 2 2 2 3 3 3 3 3 5 0 0 0 0 0 0 0 0 0 0 0 0 0 0 0 0 0 0 0\n",
      " 0 0 0 0 0 0 0 0 0 0 0 0 0 0 0 0 0 0 0 0 0 0 0 0 0 1 1 1 1 1 1 1 1 1 1 1 1\n",
      " 1 1 1 1 1 1 1 1 1 1 2 2 2 2 2 2 2 2 3 3 3 0 0 0 0 0 0 0 0 0 0 0 0 0 0 0 0\n",
      " 0 0 0 0 0 0 0 0 0 0 0 0 0 0 0 0 0 0 1 1 1 1 1 1 1 1 1 1 1 1 1 1 1 1 1 1 1\n",
      " 1 2 2 2 3 3 3 3 3 3 3 3 3 3 3] 5\n",
      "9 weimin_liu 1434\n"
     ]
    },
    {
     "name": "stderr",
     "output_type": "stream",
     "text": [
      "D:\\anaconda\\lib\\site-packages\\smart_open\\smart_open_lib.py:398: UserWarning: This function is deprecated, use smart_open.open instead. See the migration notes for details: https://github.com/RaRe-Technologies/smart_open/blob/master/README.rst#migrating-to-the-new-open-function\n",
      "  'See the migration notes for details: %s' % _MIGRATION_NOTES_URL\n",
      "D:\\anaconda\\lib\\site-packages\\ipykernel_launcher.py:388: DeprecationWarning: Call to deprecated `__contains__` (Method will be removed in 4.0.0, use self.wv.__contains__() instead).\n",
      "D:\\anaconda\\lib\\site-packages\\ipykernel_launcher.py:389: DeprecationWarning: Call to deprecated `__getitem__` (Method will be removed in 4.0.0, use self.wv.__getitem__() instead).\n"
     ]
    },
    {
     "name": "stdout",
     "output_type": "stream",
     "text": [
      "#papers  1434\n",
      "#authors 1568\n",
      "#org_words 289\n",
      "#confs   493\n",
      "walks done\n"
     ]
    },
    {
     "name": "stderr",
     "output_type": "stream",
     "text": [
      "D:\\anaconda\\lib\\site-packages\\ipykernel_launcher.py:54: DeprecationWarning: Call to deprecated `__contains__` (Method will be removed in 4.0.0, use self.wv.__contains__() instead).\n",
      "D:\\anaconda\\lib\\site-packages\\ipykernel_launcher.py:55: DeprecationWarning: Call to deprecated `__getitem__` (Method will be removed in 4.0.0, use self.wv.__getitem__() instead).\n"
     ]
    },
    {
     "name": "stdout",
     "output_type": "stream",
     "text": [
      "walks done\n",
      "walks done\n",
      "walks done\n",
      "walks done\n",
      "walks done\n",
      "walks done\n",
      "walks done\n",
      "walks done\n",
      "walks done\n",
      "relational outlier: {845}\n",
      "semantic outlier: set()\n",
      "[ 0  0  1 ...  5  6 13] 32\n",
      "10 aiqin_wang 346\n"
     ]
    },
    {
     "name": "stderr",
     "output_type": "stream",
     "text": [
      "D:\\anaconda\\lib\\site-packages\\smart_open\\smart_open_lib.py:398: UserWarning: This function is deprecated, use smart_open.open instead. See the migration notes for details: https://github.com/RaRe-Technologies/smart_open/blob/master/README.rst#migrating-to-the-new-open-function\n",
      "  'See the migration notes for details: %s' % _MIGRATION_NOTES_URL\n",
      "D:\\anaconda\\lib\\site-packages\\ipykernel_launcher.py:388: DeprecationWarning: Call to deprecated `__contains__` (Method will be removed in 4.0.0, use self.wv.__contains__() instead).\n",
      "D:\\anaconda\\lib\\site-packages\\ipykernel_launcher.py:389: DeprecationWarning: Call to deprecated `__getitem__` (Method will be removed in 4.0.0, use self.wv.__getitem__() instead).\n"
     ]
    },
    {
     "name": "stdout",
     "output_type": "stream",
     "text": [
      "#papers  346\n",
      "#authors 332\n",
      "#org_words 101\n",
      "#confs   195\n",
      "walks done\n"
     ]
    },
    {
     "name": "stderr",
     "output_type": "stream",
     "text": [
      "D:\\anaconda\\lib\\site-packages\\ipykernel_launcher.py:54: DeprecationWarning: Call to deprecated `__contains__` (Method will be removed in 4.0.0, use self.wv.__contains__() instead).\n",
      "D:\\anaconda\\lib\\site-packages\\ipykernel_launcher.py:55: DeprecationWarning: Call to deprecated `__getitem__` (Method will be removed in 4.0.0, use self.wv.__getitem__() instead).\n"
     ]
    },
    {
     "name": "stdout",
     "output_type": "stream",
     "text": [
      "walks done\n",
      "walks done\n",
      "walks done\n",
      "walks done\n",
      "walks done\n",
      "walks done\n",
      "walks done\n",
      "walks done\n",
      "walks done\n",
      "relational outlier: set()\n",
      "semantic outlier: set()\n",
      "[0 0 0 0 0 0 0 0 0 0 0 0 0 0 0 0 0 0 0 0 0 0 0 0 0 0 0 0 0 0 0 0 0 0 0 0 0\n",
      " 0 0 0 0 0 0 0 0 0 0 0 0 0 1 1 1 1 1 1 1 1 1 1 1 1 1 1 1 1 1 1 1 1 1 1 1 1\n",
      " 2 2 2 2 2 2 2 2 2 3 3 3 3 3 0 0 0 0 0 0 0 0 0 0 0 0 0 0 0 0 0 0 0 0 0 0 0\n",
      " 0 0 0 0 0 0 0 0 0 0 0 0 0 0 0 0 0 0 0 0 0 0 0 0 0 0 0 0 0 0 0 0 0 0 0 0 0\n",
      " 0 0 0 0 0 0 0 1 1 1 1 1 1 1 1 1 1 1 1 1 1 1 1 1 1 1 1 1 1 2 2 2 2 2 2 2 2\n",
      " 2 3 3 3 3 3 0 0 0 0 0 0 0 0 0 0 0 0 0 0 0 0 0 0 0 0 0 0 0 0 0 0 0 0 0 0 0\n",
      " 0 0 0 0 0 0 0 0 0 0 0 0 0 0 0 0 0 0 0 0 0 0 0 0 1 1 1 1 1 1 1 1 1 1 1 1 1\n",
      " 1 1 1 1 2 2 2 2 2 2 2 2 0 0 0 0 0 0 0 0 0 0 0 0 0 0 0 0 0 0 0 0 0 0 0 0 0\n",
      " 0 0 0 0 0 0 0 0 0 0 0 0 0 0 0 0 0 0 0 0 0 0 0 0 0 1 1 1 1 1 1 1 1 1 1 1 1\n",
      " 1 1 1 1 1 2 2 2 2 2 3 3 3] 4\n",
      "11 hermann_wagner 408\n"
     ]
    },
    {
     "name": "stderr",
     "output_type": "stream",
     "text": [
      "D:\\anaconda\\lib\\site-packages\\smart_open\\smart_open_lib.py:398: UserWarning: This function is deprecated, use smart_open.open instead. See the migration notes for details: https://github.com/RaRe-Technologies/smart_open/blob/master/README.rst#migrating-to-the-new-open-function\n",
      "  'See the migration notes for details: %s' % _MIGRATION_NOTES_URL\n",
      "D:\\anaconda\\lib\\site-packages\\ipykernel_launcher.py:388: DeprecationWarning: Call to deprecated `__contains__` (Method will be removed in 4.0.0, use self.wv.__contains__() instead).\n",
      "D:\\anaconda\\lib\\site-packages\\ipykernel_launcher.py:389: DeprecationWarning: Call to deprecated `__getitem__` (Method will be removed in 4.0.0, use self.wv.__getitem__() instead).\n"
     ]
    },
    {
     "name": "stdout",
     "output_type": "stream",
     "text": [
      "#papers  408\n",
      "#authors 796\n",
      "#org_words 119\n",
      "#confs   164\n",
      "walks done\n"
     ]
    },
    {
     "name": "stderr",
     "output_type": "stream",
     "text": [
      "D:\\anaconda\\lib\\site-packages\\ipykernel_launcher.py:54: DeprecationWarning: Call to deprecated `__contains__` (Method will be removed in 4.0.0, use self.wv.__contains__() instead).\n",
      "D:\\anaconda\\lib\\site-packages\\ipykernel_launcher.py:55: DeprecationWarning: Call to deprecated `__getitem__` (Method will be removed in 4.0.0, use self.wv.__getitem__() instead).\n"
     ]
    },
    {
     "name": "stdout",
     "output_type": "stream",
     "text": [
      "walks done\n",
      "walks done\n",
      "walks done\n",
      "walks done\n",
      "walks done\n",
      "walks done\n",
      "walks done\n",
      "walks done\n",
      "walks done\n",
      "relational outlier: {297, 106, 394, 77, 79, 275, 94}\n",
      "semantic outlier: set()\n",
      "[ 0  0  0  0  0  0  0  0  0  0  0  0  0  0  0  0  0  0  0  0  0  0  0  0\n",
      "  0  0  0  0  0  0  0  0  0  0  0  0  0  0  0  0  0  0  0  0  0  0  0  0\n",
      "  0  0  0  0  0  0  0  0  0  0  0  0  0  0  0  0  0 13  0  0  0  0  0  0\n",
      "  0  0  0  0  0  6  0  0  0  0 13  1  1  1  1  1  2  2  2  2  2  2  2  2\n",
      "  2  2  2  2  2  2  2  2  2  2  2  2  2  2  2 13  2  2  2  2  3  3  3  3\n",
      "  0  0  0  0  0  0  0  0  0  0  0  0  0  0  0  0  0  0  0  0  0  0  0  0\n",
      "  0  0  0  0  0  0  0  0  0  0  0  0  0  0  0  0  0  0  0  0  0  0  0  0\n",
      "  0  0  0  0  0  0  0  0  0 11  0  0  0  0  0  1  1  1  2  2  2  2  2  2\n",
      "  2  2  2  2  2  2  2  2  2  2  2  2  2  2  2  2  2  2  3  0  0  0  0  0\n",
      "  0  0  0  0  0  0  0  0  0  0  0  0  0  0  0  0  0  0  0  0  0  0  0  0\n",
      "  0  0  0  0  0  0  0  0  0  0  0  0  0  0  0  0  0  0  0  0  0  0  0  0\n",
      "  0  0  4  0  0  0  0  0  0  0  0  0  0  0 13  1  1  1  2  2  2  2  2 13\n",
      "  2  2  2  2  2  2  2  2  2  2  2  2  2  2  2  2  2  3  3  0  0  0  0  0\n",
      "  0  0  0  0  0  0  0  0  0  0  0  0  0  0  0  0  0  0  0  0  0  0  0  0\n",
      "  0  0  0  0  0  0  0  0  0  0  0  0  0  0  0  0  0  0  0  0  0  0  0  0\n",
      "  0  0  0  4  4  4  0  0  0  0  0  0 11  0  0  0  1  2  2  2  2  2 13  2\n",
      "  2  2  2  2  2  2  2  2  2  2 14  2  2  2  2  2  2  2  2  2  2  2  3  3] 9\n",
      "12 yao_wang 1406\n"
     ]
    },
    {
     "name": "stderr",
     "output_type": "stream",
     "text": [
      "D:\\anaconda\\lib\\site-packages\\smart_open\\smart_open_lib.py:398: UserWarning: This function is deprecated, use smart_open.open instead. See the migration notes for details: https://github.com/RaRe-Technologies/smart_open/blob/master/README.rst#migrating-to-the-new-open-function\n",
      "  'See the migration notes for details: %s' % _MIGRATION_NOTES_URL\n",
      "D:\\anaconda\\lib\\site-packages\\ipykernel_launcher.py:388: DeprecationWarning: Call to deprecated `__contains__` (Method will be removed in 4.0.0, use self.wv.__contains__() instead).\n",
      "D:\\anaconda\\lib\\site-packages\\ipykernel_launcher.py:389: DeprecationWarning: Call to deprecated `__getitem__` (Method will be removed in 4.0.0, use self.wv.__getitem__() instead).\n"
     ]
    },
    {
     "name": "stdout",
     "output_type": "stream",
     "text": [
      "#papers  1406\n",
      "#authors 2951\n",
      "#org_words 821\n",
      "#confs   842\n",
      "walks done\n"
     ]
    },
    {
     "name": "stderr",
     "output_type": "stream",
     "text": [
      "D:\\anaconda\\lib\\site-packages\\ipykernel_launcher.py:54: DeprecationWarning: Call to deprecated `__contains__` (Method will be removed in 4.0.0, use self.wv.__contains__() instead).\n",
      "D:\\anaconda\\lib\\site-packages\\ipykernel_launcher.py:55: DeprecationWarning: Call to deprecated `__getitem__` (Method will be removed in 4.0.0, use self.wv.__getitem__() instead).\n"
     ]
    },
    {
     "name": "stdout",
     "output_type": "stream",
     "text": [
      "walks done\n",
      "walks done\n",
      "walks done\n",
      "walks done\n",
      "walks done\n",
      "walks done\n",
      "walks done\n",
      "walks done\n",
      "walks done\n",
      "relational outlier: {866, 72, 618, 1196, 175, 563, 179, 1050}\n",
      "semantic outlier: set()\n",
      "[ 0  1  1 ... 12  9 26] 101\n",
      "13 jian_pei 591\n"
     ]
    },
    {
     "name": "stderr",
     "output_type": "stream",
     "text": [
      "D:\\anaconda\\lib\\site-packages\\smart_open\\smart_open_lib.py:398: UserWarning: This function is deprecated, use smart_open.open instead. See the migration notes for details: https://github.com/RaRe-Technologies/smart_open/blob/master/README.rst#migrating-to-the-new-open-function\n",
      "  'See the migration notes for details: %s' % _MIGRATION_NOTES_URL\n",
      "D:\\anaconda\\lib\\site-packages\\ipykernel_launcher.py:388: DeprecationWarning: Call to deprecated `__contains__` (Method will be removed in 4.0.0, use self.wv.__contains__() instead).\n",
      "D:\\anaconda\\lib\\site-packages\\ipykernel_launcher.py:389: DeprecationWarning: Call to deprecated `__getitem__` (Method will be removed in 4.0.0, use self.wv.__getitem__() instead).\n"
     ]
    },
    {
     "name": "stdout",
     "output_type": "stream",
     "text": [
      "#papers  591\n",
      "#authors 818\n",
      "#org_words 143\n",
      "#confs   345\n",
      "walks done\n"
     ]
    },
    {
     "name": "stderr",
     "output_type": "stream",
     "text": [
      "D:\\anaconda\\lib\\site-packages\\ipykernel_launcher.py:54: DeprecationWarning: Call to deprecated `__contains__` (Method will be removed in 4.0.0, use self.wv.__contains__() instead).\n",
      "D:\\anaconda\\lib\\site-packages\\ipykernel_launcher.py:55: DeprecationWarning: Call to deprecated `__getitem__` (Method will be removed in 4.0.0, use self.wv.__getitem__() instead).\n"
     ]
    },
    {
     "name": "stdout",
     "output_type": "stream",
     "text": [
      "walks done\n",
      "walks done\n",
      "walks done\n",
      "walks done\n",
      "walks done\n",
      "walks done\n",
      "walks done\n",
      "walks done\n",
      "walks done\n",
      "relational outlier: {1}\n",
      "semantic outlier: set()\n",
      "[0 6 0 0 0 0 0 0 0 0 0 0 0 0 0 0 0 0 0 0 0 0 0 0 0 0 0 0 0 0 0 0 0 0 0 0 0\n",
      " 0 0 0 0 0 0 0 0 0 0 0 0 0 0 0 0 0 0 0 0 1 1 1 1 1 1 1 1 1 1 1 1 1 1 1 1 1\n",
      " 1 1 1 1 1 1 1 1 1 1 1 1 1 1 1 1 1 1 1 1 1 1 2 2 2 3 0 0 0 0 0 0 0 0 0 0 0\n",
      " 0 0 0 0 0 0 0 0 0 0 0 0 0 0 0 0 0 0 0 0 0 0 0 0 0 0 0 0 0 0 0 0 0 0 0 0 0\n",
      " 0 0 0 0 0 0 0 1 1 1 1 1 1 1 1 1 1 1 1 1 1 1 1 1 1 1 1 1 1 1 1 1 1 1 1 1 1\n",
      " 1 1 1 1 1 1 1 2 3 3 0 0 0 0 0 1 0 0 0 0 0 0 0 0 0 0 0 0 0 0 0 0 0 0 0 0 0\n",
      " 0 0 0 0 0 0 0 0 0 0 0 0 0 0 0 0 0 0 0 0 0 0 0 0 0 0 0 0 0 0 0 0 0 0 1 1 1\n",
      " 1 1 1 1 1 1 4 1 1 1 1 1 1 1 1 1 1 1 1 1 1 1 1 1 1 1 1 1 1 1 1 1 1 4 3 3 0\n",
      " 0 0 0 0 0 0 0 0 0 0 0 0 0 0 0 0 0 0 0 0 0 0 0 0 0 0 0 0 0 0 0 0 0 0 0 0 0\n",
      " 0 0 0 0 0 0 0 0 0 0 0 0 0 1 1 1 1 1 1 1 1 1 1 1 1 1 1 1 1 1 1 1 1 1 1 1 1\n",
      " 1 1 1 1 1 1 1 1 1 1 1 1 1 1 1 1 1 1 1 1 1 1 1 1 2 3 3 3 0 0 0 0 0 0 0 0 0\n",
      " 0 0 0 0 0 0 0 0 0 0 0 0 0 0 0 0 0 0 0 0 0 0 0 0 0 0 0 0 0 0 0 0 0 0 0 0 1\n",
      " 1 1 1 1 1 1 1 1 1 1 1 1 1 1 1 1 1 1 1 1 1 1 1 1 1 1 1 1 1 1 1 1 1 1 1 1 3\n",
      " 3 3 3 3 3 3 3 3 0 0 0 0 0 0 0 0 0 0 0 0 0 0 0 0 0 0 0 0 0 0 0 0 0 0 0 0 0\n",
      " 0 0 0 0 0 0 0 0 0 0 0 0 0 0 0 0 0 0 0 0 0 0 0 1 1 1 1 1 1 1 1 1 1 1 1 1 1\n",
      " 1 1 1 4 1 1 1 1 1 1 4 1 1 1 1 1 1 1 1 1 1 1 1 1 1 1 1 1 2 2 2 3 3 3 0 0] 6\n",
      "14 jihua_wang 660\n"
     ]
    },
    {
     "name": "stderr",
     "output_type": "stream",
     "text": [
      "D:\\anaconda\\lib\\site-packages\\smart_open\\smart_open_lib.py:398: UserWarning: This function is deprecated, use smart_open.open instead. See the migration notes for details: https://github.com/RaRe-Technologies/smart_open/blob/master/README.rst#migrating-to-the-new-open-function\n",
      "  'See the migration notes for details: %s' % _MIGRATION_NOTES_URL\n",
      "D:\\anaconda\\lib\\site-packages\\ipykernel_launcher.py:388: DeprecationWarning: Call to deprecated `__contains__` (Method will be removed in 4.0.0, use self.wv.__contains__() instead).\n",
      "D:\\anaconda\\lib\\site-packages\\ipykernel_launcher.py:389: DeprecationWarning: Call to deprecated `__getitem__` (Method will be removed in 4.0.0, use self.wv.__getitem__() instead).\n"
     ]
    },
    {
     "name": "stdout",
     "output_type": "stream",
     "text": [
      "#papers  660\n",
      "#authors 742\n",
      "#org_words 188\n",
      "#confs   374\n",
      "walks done\n"
     ]
    },
    {
     "name": "stderr",
     "output_type": "stream",
     "text": [
      "D:\\anaconda\\lib\\site-packages\\ipykernel_launcher.py:54: DeprecationWarning: Call to deprecated `__contains__` (Method will be removed in 4.0.0, use self.wv.__contains__() instead).\n",
      "D:\\anaconda\\lib\\site-packages\\ipykernel_launcher.py:55: DeprecationWarning: Call to deprecated `__getitem__` (Method will be removed in 4.0.0, use self.wv.__getitem__() instead).\n"
     ]
    },
    {
     "name": "stdout",
     "output_type": "stream",
     "text": [
      "walks done\n",
      "walks done\n",
      "walks done\n",
      "walks done\n",
      "walks done\n",
      "walks done\n",
      "walks done\n",
      "walks done\n",
      "walks done\n",
      "relational outlier: set()\n",
      "semantic outlier: set()\n",
      "[ 0  0  0  0  0  0  0  0  0  0  0  0  0  0  0  0  0  0  0  0  0  0  0  0\n",
      "  0  0  0  0  0  0  0  0  0  0  0  0  0  0  0  0  0  0  0  6  0  0  0  0\n",
      "  1  2  2  2  2  2  2  3  3  4  4  0  0  0  0  0  0  0  0  0  0  0  0  0\n",
      "  0  0  0  0  0  0  0  0  0  0  0  0  0  0  0  0  0  0  0  0  0  0  0  0\n",
      "  0  0  0  0  5  6  2  2  2  2  2  2  2  2  7  3  8  4  0  0  0  0  0  0\n",
      "  0  0  0  0  0  0  0  0  0  0  0  0  0  0  0  0  0  0  0  0  0  0  0  0\n",
      "  0  0  0  0  0  0  0  0  0  0  0  0  0  0  0  0  1  5  5  6  2  2  2  2\n",
      "  2  2  8  4  4  0  0  7  0  0  0  0  0  0  0  0  0  0  0  0  0  0  0  0\n",
      "  0  0  0  0  0  0  0  0  0  0  0  0  0  0  0  0  0  0  0  0  0  0  0  0\n",
      "  0  0  0  0  0  0  0  6  2 10  2  2  2  2  2  2  2  2  2  2  2  3  4  0\n",
      "  0  0  0  0  0  0  0  0  0  0  0  0  0  0  0  0  0  0  0  0  0  0  0  0\n",
      "  0  0  0  0  0  0  0  0  0  0  0  1  5  5  6  6  2  2  2  2  2  2  2  0\n",
      "  0  0  0  0  0  0  0  0  0  0  0  0  0  0  0  0  0  0  0  0  0  0  0  0\n",
      "  0  0  0  0  0  0  0  0  0  0  0  0  0  0  0  0  0  0  0  0  0  0  0  0\n",
      "  6  6  2  2  2  2  2  2  2  3  4  4  0  0  0  0  0  0  0  0  0  0  0  0\n",
      "  0  0  0  0  0  0  0  0  0  0  0  0  0  0  0  0  0  0  0  0  0  0  0  0\n",
      "  0  0  0  0  0  0  0  0  0  0  0  0  0  0  1  1  5  6  2  2  2  2  2  7\n",
      "  3  8  0  0  0  0  0  0  0  0  0  0  0  0  0  0  0  0  0  0  0  0  0  0\n",
      "  0  0  0  0  0  0  0  0  0  0  0  0  0  0  0  0  0  0  0  0  0  0  0  0\n",
      "  0  0  0  0  0  0  0  1  1  5  6  6  2  2  2  2  2  2  2  2  3  3  8  8\n",
      "  4  4  0  0  0  0  0  0  0  0  0  0  0  0  0  0  0  0  0  0  0  0  0  0\n",
      "  0  0  0  0  0  0  0  0  0  0  0  0  0  0  0  0  0  0  0  0  1  5  6  6\n",
      "  2  2  2  2  2  2  2  2  3  8  4  4  0  0  0  0  0  0  0  0  0  0  0  0\n",
      "  0  0  0  0  0  0  0  0  0  0  0  0  0  0  0  0  0  0  0  0  0  0  0  0\n",
      "  0  0  0  0  0  5  5  6  2  2  3  3  8  4  4  0  0  0  0  0  0  0  0  0\n",
      "  0  0  0  0  0  0  0  0  0  0  0  0  0  0  0  0  0  0  0  0  0  0  0  0\n",
      "  0  0  0  0  0  0  0  0  0  0  0  0  0  0  0  1  5  6  2  2  2  2  2  2\n",
      "  2  2  2  2  7  7  7  3  3  8  4  0] 10\n",
      "15 wei_ren 589\n"
     ]
    },
    {
     "name": "stderr",
     "output_type": "stream",
     "text": [
      "D:\\anaconda\\lib\\site-packages\\smart_open\\smart_open_lib.py:398: UserWarning: This function is deprecated, use smart_open.open instead. See the migration notes for details: https://github.com/RaRe-Technologies/smart_open/blob/master/README.rst#migrating-to-the-new-open-function\n",
      "  'See the migration notes for details: %s' % _MIGRATION_NOTES_URL\n",
      "D:\\anaconda\\lib\\site-packages\\ipykernel_launcher.py:388: DeprecationWarning: Call to deprecated `__contains__` (Method will be removed in 4.0.0, use self.wv.__contains__() instead).\n",
      "D:\\anaconda\\lib\\site-packages\\ipykernel_launcher.py:389: DeprecationWarning: Call to deprecated `__getitem__` (Method will be removed in 4.0.0, use self.wv.__getitem__() instead).\n"
     ]
    },
    {
     "name": "stdout",
     "output_type": "stream",
     "text": [
      "#papers  589\n",
      "#authors 601\n",
      "#org_words 225\n",
      "#confs   398\n",
      "walks done\n"
     ]
    },
    {
     "name": "stderr",
     "output_type": "stream",
     "text": [
      "D:\\anaconda\\lib\\site-packages\\ipykernel_launcher.py:54: DeprecationWarning: Call to deprecated `__contains__` (Method will be removed in 4.0.0, use self.wv.__contains__() instead).\n",
      "D:\\anaconda\\lib\\site-packages\\ipykernel_launcher.py:55: DeprecationWarning: Call to deprecated `__getitem__` (Method will be removed in 4.0.0, use self.wv.__getitem__() instead).\n"
     ]
    },
    {
     "name": "stdout",
     "output_type": "stream",
     "text": [
      "walks done\n",
      "walks done\n",
      "walks done\n",
      "walks done\n",
      "walks done\n",
      "walks done\n",
      "walks done\n",
      "walks done\n",
      "walks done\n",
      "relational outlier: {26, 487, 236, 153, 282, 187, 316}\n",
      "semantic outlier: set()\n",
      "[ 0  1  0  2  2  0  0  0  1  3  3  3  3  3  3  3  4  5  3  3  3  3  6  5\n",
      "  7  7  7  5  5  8  9 10 10 11 11 12  0 13 13 13  0  1 14 17  4  4  5  5\n",
      "  5  3  5  5  5  7  7  8 15  9 16 17  0  0  2  1  0  3  3  3  3  3  3  3\n",
      "  3  4  4  4  4  5  5  5  5  6  5  5  7  7  5  5  9 10 16 16  2  0  0  0\n",
      "  0  1  3  0  4  4  4  5  5  5  5  3  3  3  3  5  5  7  7  5  5  5  8  9\n",
      " 10 10 10 16 11 20  1  1  0  0  2  1  2  0  0 13  3  3  3  3  4  4  5  5\n",
      "  5  3  3  5  5  5  8  8  9 22 11 11 11 18  0 13  1  3  3  3  3  3  3  4\n",
      "  4  4  5  5  5  5  6  6  5  5  5 19  5  5  9 18 18 12 20 23 20  2  0  0\n",
      "  0  0  0  0  3  3  3  5  5  5  5  5  5  3  6  5  5  5  5 15 16 11 12 12\n",
      " 17 20  1  1  2  1  1  0  2 14  3  4  4  4  4 31  4  4  4  5 25  3  6 19\n",
      "  5 10 10 16 16 16 11 11 11 18 12 17  2  0  0  0  0  2 13  3  3  3  4  4\n",
      "  4  4  4  5  5  5  5  6  6  6  5  5 15  9  9 16 18 12 20  1  2  3  3  3\n",
      "  3  0  3  4  4  4  5  5  5  5  3  3  6  5  5  5  7  5  5  5  5  9 10 16\n",
      " 16 18 17 17 26  0 13 13  2  0  0  2  3  3  3  3  3  3  3  4  4  4  4  4\n",
      "  5  5  5  6  7  5  5  8 16 11 11 30 12 17  0  1 13  0  0  1  0  3  3  3\n",
      "  3  3  3  3  3  3 31  4  5  5  5  3  3  6  7 19  7  5  5  9 10 16 16 30\n",
      " 17 17  2  0  0  0  0  2  0  3  3  3  3  3  3  0  3  3  3  3  4  4  4  4\n",
      "  4  5  5  5  3  6  7  5 16 12 17  0  0  0  3  3  0  3  3  4  4  3  3  6\n",
      "  6  5  5  7  5  5  5  8 10 18 12 17 17 17  1  0  0 13  1  0  2  0  0  3\n",
      "  3  3  3  3  3 17  3  0  3  4  4  5  5  3  3  3  3  6  6  5  5  5  5  7\n",
      "  7  7  5 15  9 11 18 29  1  0  0  0  3  3  3  3  0  3  3  3  3  3  4  4\n",
      "  5  3  3  3  7  5 15 16 30 18 18  0  3  3  3  4  4  4  4  5  3  3  5 19\n",
      "  9  9 11 17  0  2  0  2  2 14  3  3  3 14  3  4  4  4  4  5  5  5  3  3\n",
      "  6  5  8  8  8 15  9 10 16 12 17  1  0  1  3  3  3  3  3  3  4 31  4  4\n",
      "  5  5  5  5  6  7  7  5  8  8 17 17 20] 28\n",
      "16 shinji_tanaka 386\n"
     ]
    },
    {
     "name": "stderr",
     "output_type": "stream",
     "text": [
      "D:\\anaconda\\lib\\site-packages\\smart_open\\smart_open_lib.py:398: UserWarning: This function is deprecated, use smart_open.open instead. See the migration notes for details: https://github.com/RaRe-Technologies/smart_open/blob/master/README.rst#migrating-to-the-new-open-function\n",
      "  'See the migration notes for details: %s' % _MIGRATION_NOTES_URL\n",
      "D:\\anaconda\\lib\\site-packages\\ipykernel_launcher.py:388: DeprecationWarning: Call to deprecated `__contains__` (Method will be removed in 4.0.0, use self.wv.__contains__() instead).\n",
      "D:\\anaconda\\lib\\site-packages\\ipykernel_launcher.py:389: DeprecationWarning: Call to deprecated `__getitem__` (Method will be removed in 4.0.0, use self.wv.__getitem__() instead).\n"
     ]
    },
    {
     "name": "stdout",
     "output_type": "stream",
     "text": [
      "#papers  386\n",
      "#authors 1203\n",
      "#org_words 178\n",
      "#confs   226\n",
      "walks done\n"
     ]
    },
    {
     "name": "stderr",
     "output_type": "stream",
     "text": [
      "D:\\anaconda\\lib\\site-packages\\ipykernel_launcher.py:54: DeprecationWarning: Call to deprecated `__contains__` (Method will be removed in 4.0.0, use self.wv.__contains__() instead).\n",
      "D:\\anaconda\\lib\\site-packages\\ipykernel_launcher.py:55: DeprecationWarning: Call to deprecated `__getitem__` (Method will be removed in 4.0.0, use self.wv.__getitem__() instead).\n"
     ]
    },
    {
     "name": "stdout",
     "output_type": "stream",
     "text": [
      "walks done\n",
      "walks done\n",
      "walks done\n",
      "walks done\n",
      "walks done\n",
      "walks done\n",
      "walks done\n",
      "walks done\n",
      "walks done\n",
      "relational outlier: {90, 31, 294, 295}\n",
      "semantic outlier: set()\n",
      "[ 0  0  1  1  1  1  1  2  2  2  2  2  3  3  3  3  3  3  3  3  3  3  3  3\n",
      "  3  3  3  4  4  5  5  9  6 12 12  0  0  0  1  1  1  1  1  1  1  1  1  2\n",
      "  2  2  2  2  7  3  3  3  3  3  3  3  3  3  3  3  3  4  4 14  5  6  6  8\n",
      "  0  0  1  1  1  1  1  1  1  1  2  2  2  7  7  3  3  3 16  3  3  3  4  4\n",
      "  4  5  6 12  0  1  1  1  1  1  1  1  1  1  1  1  1  1  2  2  2  2  2  2\n",
      "  2  7  3  3  3  3  3  3  3  3  3  3  3  4  4  4  4  5  9  9  9  6 10 10\n",
      "  0  0  1  1  1  1  1  1  1  1  2  2  7  7  3  3  3  3  3  3  3  3  3  3\n",
      "  3  3  3  4  4  5  5  6 10  8  0  0  0  1  1  1  1  1  1  2  2  2  7  3\n",
      "  3  2  3  3  3  3 10 12  0  0  0  0  0  0  1  1  1  1  1  1  1  1  1  2\n",
      "  2  3  3  3  3  3  3  3  3  4  4  4  6 12  0  0  0  0  0  1  1  1  1  1\n",
      "  1  2  7  7  7  3  3  3  3  3  3  3  3  3  4  5  0  0  0  1  1  1  2  2\n",
      "  2  3  3  3  3  3  3  3  3  4  4  5  6  6 10 10 10 10  8  0  1  1  1  1\n",
      "  1  1  1  2  2  2  2  2  7  3  3  3  3  3  3  3  3  3  3  4  4  4  1  9\n",
      "  6 10  8  0  1  1  1  1  1  1  1  1  1  1  2  2  2  2 20  2  3  3  3  3\n",
      "  3  3  3  3  3  3  3  3  3  3  3  3 21  3  3  3  9  5  9  9  9  9  9  6\n",
      "  8 12  0  0  1  1  1  1  1  1  1  1  1  1  2  2  2  2  3  3  3  3  3  3\n",
      "  3  4] 16\n",
      "17 qun_li 742\n"
     ]
    },
    {
     "name": "stderr",
     "output_type": "stream",
     "text": [
      "D:\\anaconda\\lib\\site-packages\\smart_open\\smart_open_lib.py:398: UserWarning: This function is deprecated, use smart_open.open instead. See the migration notes for details: https://github.com/RaRe-Technologies/smart_open/blob/master/README.rst#migrating-to-the-new-open-function\n",
      "  'See the migration notes for details: %s' % _MIGRATION_NOTES_URL\n",
      "D:\\anaconda\\lib\\site-packages\\ipykernel_launcher.py:388: DeprecationWarning: Call to deprecated `__contains__` (Method will be removed in 4.0.0, use self.wv.__contains__() instead).\n",
      "D:\\anaconda\\lib\\site-packages\\ipykernel_launcher.py:389: DeprecationWarning: Call to deprecated `__getitem__` (Method will be removed in 4.0.0, use self.wv.__getitem__() instead).\n"
     ]
    },
    {
     "name": "stdout",
     "output_type": "stream",
     "text": [
      "#papers  742\n",
      "#authors 1486\n",
      "#org_words 338\n",
      "#confs   494\n",
      "walks done\n"
     ]
    },
    {
     "name": "stderr",
     "output_type": "stream",
     "text": [
      "D:\\anaconda\\lib\\site-packages\\ipykernel_launcher.py:54: DeprecationWarning: Call to deprecated `__contains__` (Method will be removed in 4.0.0, use self.wv.__contains__() instead).\n",
      "D:\\anaconda\\lib\\site-packages\\ipykernel_launcher.py:55: DeprecationWarning: Call to deprecated `__getitem__` (Method will be removed in 4.0.0, use self.wv.__getitem__() instead).\n"
     ]
    },
    {
     "name": "stdout",
     "output_type": "stream",
     "text": [
      "walks done\n",
      "walks done\n",
      "walks done\n",
      "walks done\n",
      "walks done\n",
      "walks done\n",
      "walks done\n",
      "walks done\n",
      "walks done\n",
      "relational outlier: {67, 102, 497, 658, 243, 214, 380}\n",
      "semantic outlier: set()\n",
      "[ 0  0  1  0  1  0  0  1  0  0  2  2  3  3  3  3  4  4  3  5  6  6  4  7\n",
      "  8  8  8  8  9 10  3 11  3 12  0  0  0  0  0  0  0  0  0  1  1  0  0  2\n",
      "  6  6  7  8 10 13  0  0  1  1  0  1  1  0  2  2  3  5 14 22  8  8 10  8\n",
      " 12 15 15 13 13 16 17  0  0  0  0  0  1  1  0  0  0  0  0  0  1  1  2  2\n",
      "  3  3  4  4 19  5 23 18 10 10 10 15 15 15 13 13 16  1  1  1  0  1  0  1\n",
      "  0  0  0  1  0  0  0  0  1  0  3  3  3  3  3  3  6  6 14  8 10  9  8  8\n",
      " 12 15 15  1  1  1  1  1  0  1  0  0  0  1  1  1  0  2  2  3  3  3  4 18\n",
      "  5 18  6  6 14 25 10  3  3  8  8 12 12 15  1  1  0  0  0  0  0  0  0  0\n",
      "  2  3  4  4  4  3  3  3  5 18 14 14  7  2  8  8  8 11 11 12 15 15 26 19\n",
      " 16  0  0  1  0  1  1  0  1  0  0  1  2  3 19 13 18 18 18  6  7  8  8  8\n",
      " 11 12 15 27 16 17  1  0  0  1  0  1  1  1  0  0  0  2  3  3  3 14 18  5\n",
      "  6  6  8  8 10 15 15 19 16 17  1  1  0  1  1  1  0  1  1  1  0  1  0  1\n",
      "  0  1  1  2  2  2  3  3  3  3  3  3 20 19  5 18  6 14 14  2  9 10  8 11\n",
      " 15 13  1  0  0  1  1  0  1  0  0  1  1  0  1  0  2  2  3  3  3  3  3  3\n",
      "  4  4  4 15  7  8 10  8  3 15 15 15 19 16 17 17  1  1  1  0  1  0  1  1\n",
      "  1  1  0  1  0  1  0  1  0  3 18 14  8  8 10 10  9 10  3  3 27  1  0  0\n",
      "  0  1  0  0  0  1  0  0  0  1  2  2  3  4 20 20  5  6  6 14  2  8  8  8\n",
      "  8 16  0  1  1  0  1  1  1  0  1  1  0  2  2  2  3  3  3 15  6  6 14  7\n",
      "  2  8  8 10 29  3  3 12 15 15 15 15 15  0  1 30  1  0  1  1  1  1  0  2\n",
      "  2  3  4  3 20 18  7 10  3  8 12 19  1  1  0  0  0  1  0  0  0  1  2  2\n",
      "  3  3  5  5  7  2  8  8  0  3  3 11  3 12 15 15 13 31  0  0  1  0  0  1\n",
      "  1  2  3  3  3 19  5 18 18  6  7  8 11 12 15 16 17 17  3 32  1  0  0  0\n",
      "  0  1  1  1  1  0  0  1  0  3  3  3  3  3 19  5  5  5 33  6  6 34 34  7\n",
      "  7  8  8  8  8 11 13  3  1  0  1  0  0  1  1  0  1  1  0  1  1  2  3  3\n",
      "  3 36  5 14 14 14  7  8  8  8 12 12 15 13  0  0  1  1  1  1  1  0  1  1\n",
      "  0  3  3  4  7  7  2  8  8 10 10 10  3  8 11  3 12 15 15 15 15 16 16  0\n",
      "  0  1  0  0  0  1  0  0  0  1  1  2  3  3  4  3 18 18  5 18  6  6  6  6\n",
      "  6 14 14  2  2  8  3 15 15 13 37  0  1  0  1  0  1  0  0  2  2  3  3  3\n",
      " 20 20 20 18  6  8 10 10 10  3  8 12 12 15 15 13 19  0  1  1  1  1  0  1\n",
      "  0  2  3  3 20 19  5 18 13  8  8  8  8 12 12 15  0  0  1  1  0  0  1  0\n",
      "  0  0  0  2  3  3 20  4 19 18  5 18 18  2  8  8  8 10  3 11 15  3] 34\n",
      "18 hai_jiang 507\n"
     ]
    },
    {
     "name": "stderr",
     "output_type": "stream",
     "text": [
      "D:\\anaconda\\lib\\site-packages\\smart_open\\smart_open_lib.py:398: UserWarning: This function is deprecated, use smart_open.open instead. See the migration notes for details: https://github.com/RaRe-Technologies/smart_open/blob/master/README.rst#migrating-to-the-new-open-function\n",
      "  'See the migration notes for details: %s' % _MIGRATION_NOTES_URL\n",
      "D:\\anaconda\\lib\\site-packages\\ipykernel_launcher.py:388: DeprecationWarning: Call to deprecated `__contains__` (Method will be removed in 4.0.0, use self.wv.__contains__() instead).\n",
      "D:\\anaconda\\lib\\site-packages\\ipykernel_launcher.py:389: DeprecationWarning: Call to deprecated `__getitem__` (Method will be removed in 4.0.0, use self.wv.__getitem__() instead).\n"
     ]
    },
    {
     "name": "stdout",
     "output_type": "stream",
     "text": [
      "#papers  507\n",
      "#authors 706\n",
      "#org_words 256\n",
      "#confs   370\n",
      "walks done\n"
     ]
    },
    {
     "name": "stderr",
     "output_type": "stream",
     "text": [
      "D:\\anaconda\\lib\\site-packages\\ipykernel_launcher.py:54: DeprecationWarning: Call to deprecated `__contains__` (Method will be removed in 4.0.0, use self.wv.__contains__() instead).\n",
      "D:\\anaconda\\lib\\site-packages\\ipykernel_launcher.py:55: DeprecationWarning: Call to deprecated `__getitem__` (Method will be removed in 4.0.0, use self.wv.__getitem__() instead).\n"
     ]
    },
    {
     "name": "stdout",
     "output_type": "stream",
     "text": [
      "walks done\n",
      "walks done\n",
      "walks done\n",
      "walks done\n",
      "walks done\n",
      "walks done\n",
      "walks done\n",
      "walks done\n",
      "walks done\n",
      "relational outlier: set()\n",
      "semantic outlier: set()\n",
      "[ 0  1  1  2 24  2  2  2  3  0  0  4  4  5  5  6  6  6  7 24  0  8  2  2\n",
      "  2  2  6  6  6  9 10  5  5  6 11  0  0  8  3  6  6  6  6  0 10  1 11 12\n",
      "  0 13 14 15 15 15  2  2  2  2  2  3  3  6 22  4 19 16  1  7  0  0  1  2\n",
      "  2  2  2  3  3  6  6  6  6  6  0 22 17 19  5  5  6  6  7  8  0  1  8 15\n",
      "  2  2  2  3  6  6  6  6  6  0  4 17 18 19  1  1  6 11  0  1 15  2  2  2\n",
      "  6  9  9 18  1  5 11 20  0  1 14 14 15 15 15  2  2  2 24  6  6 16 16 16\n",
      "  6  6  7  0  0  8  2 24  6  6  6  4 19 16  5  5  6 12  0 21 21 14 15  2\n",
      "  2  3  6  6 18 10 16 16  5  6  0 15  2  6  6  0  0  0  6  6  0  2  3  3\n",
      "  6  0  6  8  0  0 21 13 15 15  2  2  2  2  3  3  6  6  6  6 18 18 10  5\n",
      " 23 20  8  0 13  8  8 15  2 24  2  3  6  6  6 16  5  5  5  5  6  7 24  0\n",
      " 14 14 14  2  2  2  3  3  3  6  6  6  6  4 17 18 23  6 24 12 21 14 15  2\n",
      "  2  2  2  6  6  6  6  6  9  0 22  4 17  6  6  6 20 12 21  1 13 14 14  2\n",
      "  3  6  6  9  9  0  0 22  4  6  6  6  6 20 20 21  8  8 15 15  2  2  2  6\n",
      "  6  0 22  4  6  6 21  1 13 15  2  6  6  6  6  6  9  0 17 19 10  6  6 19\n",
      " 24 12  1 15 15 15  2  2  6  6  6  6  9  9  0 17 19  6  6  7  7  1 14 14\n",
      " 15 15  2  2  2  2  2  6  6  6  9  0  0  0  4  5  5  6  6 20 13  2  2  2\n",
      "  2  3  3  3  3  6  6  6  6  9  0  6  6  6  7 11 20  8 13 15  2  6  6  9\n",
      "  0 22  5  5 11 11 14 15  2  3  6  6  6  6  6  6  6  9  0  4 17  5 23  6\n",
      "  6  6  8 14  8 15  2  2  2  6  6  6  6  6  9  0  0  4 10 10 16  1  6  6\n",
      "  7 14 15  2  2  3  6  6  6  6  6 19  7  7 11  8 15  2  2  2  2  6  6  9\n",
      "  0 10 23  5  6  6 24  2  2  3  6  6  6  6  6  6  6  6  6  0  4 18 19  5\n",
      "  5  6  6] 25\n",
      "19 barry_smith 253\n"
     ]
    },
    {
     "name": "stderr",
     "output_type": "stream",
     "text": [
      "D:\\anaconda\\lib\\site-packages\\smart_open\\smart_open_lib.py:398: UserWarning: This function is deprecated, use smart_open.open instead. See the migration notes for details: https://github.com/RaRe-Technologies/smart_open/blob/master/README.rst#migrating-to-the-new-open-function\n",
      "  'See the migration notes for details: %s' % _MIGRATION_NOTES_URL\n",
      "D:\\anaconda\\lib\\site-packages\\ipykernel_launcher.py:388: DeprecationWarning: Call to deprecated `__contains__` (Method will be removed in 4.0.0, use self.wv.__contains__() instead).\n",
      "D:\\anaconda\\lib\\site-packages\\ipykernel_launcher.py:389: DeprecationWarning: Call to deprecated `__getitem__` (Method will be removed in 4.0.0, use self.wv.__getitem__() instead).\n"
     ]
    },
    {
     "name": "stdout",
     "output_type": "stream",
     "text": [
      "#papers  253\n",
      "#authors 476\n",
      "#org_words 96\n",
      "#confs   133\n",
      "walks done\n"
     ]
    },
    {
     "name": "stderr",
     "output_type": "stream",
     "text": [
      "D:\\anaconda\\lib\\site-packages\\ipykernel_launcher.py:54: DeprecationWarning: Call to deprecated `__contains__` (Method will be removed in 4.0.0, use self.wv.__contains__() instead).\n",
      "D:\\anaconda\\lib\\site-packages\\ipykernel_launcher.py:55: DeprecationWarning: Call to deprecated `__getitem__` (Method will be removed in 4.0.0, use self.wv.__getitem__() instead).\n"
     ]
    },
    {
     "name": "stdout",
     "output_type": "stream",
     "text": [
      "walks done\n",
      "walks done\n",
      "walks done\n",
      "walks done\n",
      "walks done\n",
      "walks done\n",
      "walks done\n",
      "walks done\n",
      "walks done\n",
      "relational outlier: {40, 204, 124, 205}\n",
      "semantic outlier: set()\n",
      "[0 0 0 0 1 1 1 1 1 1 1 1 1 1 1 1 1 1 1 1 2 2 2 1 1 1 0 0 0 0 1 1 1 1 1 1 1\n",
      " 1 1 1 6 1 2 1 1 1 1 3 4 4 0 0 0 0 0 1 1 1 1 1 1 1 1 1 1 1 1 1 1 1 1 1 2 2\n",
      " 1 1 1 4 0 0 0 1 1 1 1 1 1 1 1 1 1 1 2 2 1 1 4 4 0 0 0 0 0 0 0 1 1 1 1 1 1\n",
      " 1 1 1 1 1 1 1 1 1 1 1 2 2 7 1 1 3 4 0 0 0 1 1 1 1 1 1 1 1 1 1 1 1 1 1 1 1\n",
      " 1 1 1 1 1 1 2 1 3 0 1 1 1 1 1 1 1 1 1 1 1 1 1 1 1 1 1 1 1 1 1 1 2 2 2 1 1\n",
      " 0 1 1 1 1 1 1 1 1 1 1 1 1 1 1 1 1 1 1 8 9 3 4 0 0 1 1 1 1 1 1 2 1 1 4 4 0\n",
      " 0 0 1 1 1 1 1 1 1 1 1 1 1 1 1 1 1 3 0 1 1 1 1 1 1 1 1 1 1 2 3] 9\n",
      "20 ling_wang 716\n"
     ]
    },
    {
     "name": "stderr",
     "output_type": "stream",
     "text": [
      "D:\\anaconda\\lib\\site-packages\\smart_open\\smart_open_lib.py:398: UserWarning: This function is deprecated, use smart_open.open instead. See the migration notes for details: https://github.com/RaRe-Technologies/smart_open/blob/master/README.rst#migrating-to-the-new-open-function\n",
      "  'See the migration notes for details: %s' % _MIGRATION_NOTES_URL\n",
      "D:\\anaconda\\lib\\site-packages\\ipykernel_launcher.py:388: DeprecationWarning: Call to deprecated `__contains__` (Method will be removed in 4.0.0, use self.wv.__contains__() instead).\n",
      "D:\\anaconda\\lib\\site-packages\\ipykernel_launcher.py:389: DeprecationWarning: Call to deprecated `__getitem__` (Method will be removed in 4.0.0, use self.wv.__getitem__() instead).\n"
     ]
    },
    {
     "name": "stdout",
     "output_type": "stream",
     "text": [
      "#papers  716\n",
      "#authors 952\n",
      "#org_words 313\n",
      "#confs   505\n",
      "walks done\n"
     ]
    },
    {
     "name": "stderr",
     "output_type": "stream",
     "text": [
      "D:\\anaconda\\lib\\site-packages\\ipykernel_launcher.py:54: DeprecationWarning: Call to deprecated `__contains__` (Method will be removed in 4.0.0, use self.wv.__contains__() instead).\n",
      "D:\\anaconda\\lib\\site-packages\\ipykernel_launcher.py:55: DeprecationWarning: Call to deprecated `__getitem__` (Method will be removed in 4.0.0, use self.wv.__getitem__() instead).\n"
     ]
    },
    {
     "name": "stdout",
     "output_type": "stream",
     "text": [
      "walks done\n",
      "walks done\n",
      "walks done\n",
      "walks done\n",
      "walks done\n",
      "walks done\n",
      "walks done\n",
      "walks done\n",
      "walks done\n",
      "relational outlier: {161, 421, 496, 177, 22, 376}\n",
      "semantic outlier: set()\n",
      "[ 0  0  0  0  0  1  2  2  3  3  3  3  3  3  4  5  4  0  0  0  6  6 23  7\n",
      "  8  8  9  0  0  0  0  0  0  0  0 10 10 11 11 11  3  3  3  3  3  3  4  4\n",
      " 12 12 12  0  0  6 13 13 13 14 14 15 15 15  8  8  9 16 21  0  0  0  0  0\n",
      "  0  0  0 10 10  1  1 11 11  2 19  1  3  3  3  3  3  3  4  2  4 12 26  3\n",
      " 17 17  0 13 13 14 15 15  7  8  8  0  0  0  0  0  0  0  0  0 10  1  1 11\n",
      " 11 11 11 11  2  2 18 19 19 19  1 20 20  3  3  3  5  4  4  4  4  4 13 13\n",
      " 13 14 14  8  9  9 16  0  0  0  0  0  0  0 10 10  1 25  1 11 11 11 26  3\n",
      "  3  3  4  4  4  4  4 12 12 12  6  6 13 13 15  7  8  8  0  0  0  0  0  0\n",
      "  0 26  0  0  0  0 10  1  1 11 11 11 11  2 18  2  3  3  3  5  4  4  4  4\n",
      "  4 17 13 13 15  8  9 16  0  0  0 10  1 11  2 19  1  3  3  3  3  3  3  4\n",
      "  4  4  4 12 12 17 17 17  0 13 13 13 36 14 15  7  8  9 16  0  0  0  0  0\n",
      "  0 10 10 10 10 16  1 11  7 18  2  3  3  3  3  3  3  3  4  4  4  5  4 12\n",
      " 12  0 13 13 13 13 14 15  7  9  0  0  0  0  0  0  0  0  0  0 10 10 11  3\n",
      "  3  3  4  0  6 14  9 21  0  0  0 10 19 19  3  3  3  3  3  4 17 17 17  0\n",
      " 13 13 28 14 15 16 19  0  0  0  0  0  0  0  0  0  0  0 11 11  2 19 20  1\n",
      "  3  3  3  3  4 12 12 12  0  0 13 15  8  8  9 19 30  0  0  0  0 10 10 11\n",
      " 11 11 11  2  2  3  3  3  3  3  4  4  4  4  4  4 12  0  6  6 13 13 13  8\n",
      "  8  9 16  0  0  0  0  0  0  0 10 10 10 11 11 11 18  2 19 19 19 20  3  3\n",
      "  3  3  4  4  3 12 17  0  0  6 13 15  7  8  9  0  0  0  0  0 10  1  1 11\n",
      " 11 11  2  2  2 19 19 19  3  3  4  4  4  0  0  6  6 13 13 14 15  7  7  7\n",
      "  8 21  0  0  0  0  0  0  0  0  0 10 10 10  1 11 32  2  2 19 19 19 19  3\n",
      "  3  3  3  3  4  4  4  4  4 12 12 17  0  0  0 15 15  7  7  8  8  0  0  0\n",
      "  0  0  0  0  1  1 11 11  2  7  2 19 19  3  3  3  3  4  4 12 17 15  8  9\n",
      " 16  0  0  0  0  1 11 11 11 11  3 19 19  3  3  3  3  3  4 12 12 17  6 13\n",
      " 13 14 15 15  7  8 16 21  0  0  0  0  0 10 11  2 18  2 19  3  3  3  3  3\n",
      "  4  5  4  5  4  4 12 12 17  0  0  6 13 36 14 15 15  7  7  0  0  0  0  0\n",
      "  0  0  0  0  0 10 10 10 10 10  1  1  1 11 11 11  2  3  3  4  4  4  0  6\n",
      " 15 15 15  7  7  8  0  0  0  0  0  0  0  0  0 10 11 11 11  2  2 19 19 19\n",
      "  3  3  4  4  4  4 12  0  6 14  7  8  0  0  0  0  0  0  0 10 10 10 10 10\n",
      "  1  1  1  1 11 11 11 11 35  3  3  3  4  4 17  6 13 36  7  9] 30\n",
      "21 xiaohong_guan 594\n"
     ]
    },
    {
     "name": "stderr",
     "output_type": "stream",
     "text": [
      "D:\\anaconda\\lib\\site-packages\\smart_open\\smart_open_lib.py:398: UserWarning: This function is deprecated, use smart_open.open instead. See the migration notes for details: https://github.com/RaRe-Technologies/smart_open/blob/master/README.rst#migrating-to-the-new-open-function\n",
      "  'See the migration notes for details: %s' % _MIGRATION_NOTES_URL\n",
      "D:\\anaconda\\lib\\site-packages\\ipykernel_launcher.py:388: DeprecationWarning: Call to deprecated `__contains__` (Method will be removed in 4.0.0, use self.wv.__contains__() instead).\n",
      "D:\\anaconda\\lib\\site-packages\\ipykernel_launcher.py:389: DeprecationWarning: Call to deprecated `__getitem__` (Method will be removed in 4.0.0, use self.wv.__getitem__() instead).\n"
     ]
    },
    {
     "name": "stdout",
     "output_type": "stream",
     "text": [
      "#papers  594\n",
      "#authors 634\n",
      "#org_words 207\n",
      "#confs   362\n",
      "walks done\n"
     ]
    },
    {
     "name": "stderr",
     "output_type": "stream",
     "text": [
      "D:\\anaconda\\lib\\site-packages\\ipykernel_launcher.py:54: DeprecationWarning: Call to deprecated `__contains__` (Method will be removed in 4.0.0, use self.wv.__contains__() instead).\n",
      "D:\\anaconda\\lib\\site-packages\\ipykernel_launcher.py:55: DeprecationWarning: Call to deprecated `__getitem__` (Method will be removed in 4.0.0, use self.wv.__getitem__() instead).\n"
     ]
    },
    {
     "name": "stdout",
     "output_type": "stream",
     "text": [
      "walks done\n",
      "walks done\n",
      "walks done\n",
      "walks done\n",
      "walks done\n",
      "walks done\n",
      "walks done\n",
      "walks done\n",
      "walks done\n",
      "relational outlier: {129, 292, 496, 243, 404, 570}\n",
      "semantic outlier: set()\n",
      "[ 0  0  0  0  0  0  0  0  0  0  0  0  0  0  0  0  0  0  0  0  0  0  0  0\n",
      "  0  0  0  0  0  0  0  0  0  0  0  0  0  0  0  0  0  0  0  0  0  0  0  0\n",
      "  0  0  0  0  0  0  0  0  0  0  0  0  0  0  0  0  0  0  0  0  0  0  0  0\n",
      "  0  0  0  1  0  0  3  2  2  2  2  2  2  2  3  3  3  3  3  3  3  3  3  3\n",
      "  3  3  3  3  3  3  3  3  3  3  3  3  3  0  0  0  0  0  0  0  0  0  0  0\n",
      "  0  0  0  0  0  0  0  0  0  0  0  0  0  0  0  0  0  0  0  0  0  0  0  0\n",
      "  0  0  0  0  0  0  0  0  0  0  0  0  0  0  0  0  0  0  0  0  0  0  0  0\n",
      "  0  0  0  0  0  0  0  0  0  0  0  1  0  0  3  2  2  3  3  3  3  3  3  3\n",
      "  3  3  3  3  3  3  3  3  0  0  0  0  0  0  0  0  0  0  0  0  0  0  0  0\n",
      "  0  0  0  0  0  0  0  0  0  0  0  0  0  0  0  0  0  0  0  0  0  0  0  0\n",
      "  0  0  0  5  0  0  0  0  0  0  0  0  0  0  0  0  0  0  0  0  0  0  0  0\n",
      "  0  0  0  0  0  0  0  0  0  0  0  0  0  0  0  0  0  0  0  0  0  1  0  0\n",
      "  0  1  0  0  6  3  2  2  2  2  2  2  2  7  3  3  3  3  3  3  3  3  3  3\n",
      "  3  0  0  0  0  0  8  0  0  0  0  0  0  0  0  0  0  0  0  0  0  0  0  0\n",
      "  0  0  0  0  0  0  0  0  0  0  0  0  0  0  0  0  0  0  0  0  0  0  0  0\n",
      "  0  0  0  0  0  0  0  0  0  0  0  0  0  0  0  0  1  3  3  3  3  3  3  2\n",
      "  2  2  2  2  3  3  3  3  3  3  3  3  3  3  3  3  3  3  0  0  9  0  0  0\n",
      "  0  0  0  0  0  0  0  0  0  0  0  0  0  0  0  0  0  0  0  0  0  0  0  0\n",
      "  0  0  0  0  0  0  0  0  0  0  0  0  0  0  0  0  0  0  0  0  0  0  0  0\n",
      "  0  0  0  0  0  0  0  0  1  1  3  3  3  3  3  2  2  2  2  2  2  2  3  3\n",
      "  3  3  3  3  3  3  3  3  3  3  3  3  3  3  3  0 10  0  0  0  0  0  0  0\n",
      "  0  0  0  0  0  1  0  0  0  0  0  0  0  0  0  0  0  0  0  0  0  0  0  0\n",
      "  0  0  0  0  0  0  0  0  0  0  0  0  0  0  0  0  0  0  0  0  0  0  0  0\n",
      "  0  0  0  0  0  0  0  0  0  0  0  0  0  0  0  0  0  0 11  0  0  1  3  3\n",
      "  3  2  3 12  3  3  3  3  3  3  3  3  3  3  3  3  3  3] 12\n",
      "22 jie_wu 2590\n"
     ]
    },
    {
     "name": "stderr",
     "output_type": "stream",
     "text": [
      "D:\\anaconda\\lib\\site-packages\\smart_open\\smart_open_lib.py:398: UserWarning: This function is deprecated, use smart_open.open instead. See the migration notes for details: https://github.com/RaRe-Technologies/smart_open/blob/master/README.rst#migrating-to-the-new-open-function\n",
      "  'See the migration notes for details: %s' % _MIGRATION_NOTES_URL\n",
      "D:\\anaconda\\lib\\site-packages\\ipykernel_launcher.py:388: DeprecationWarning: Call to deprecated `__contains__` (Method will be removed in 4.0.0, use self.wv.__contains__() instead).\n",
      "D:\\anaconda\\lib\\site-packages\\ipykernel_launcher.py:389: DeprecationWarning: Call to deprecated `__getitem__` (Method will be removed in 4.0.0, use self.wv.__getitem__() instead).\n"
     ]
    },
    {
     "name": "stdout",
     "output_type": "stream",
     "text": [
      "#papers  2590\n",
      "#authors 3068\n",
      "#org_words 776\n",
      "#confs   1123\n",
      "walks done\n"
     ]
    },
    {
     "name": "stderr",
     "output_type": "stream",
     "text": [
      "D:\\anaconda\\lib\\site-packages\\ipykernel_launcher.py:54: DeprecationWarning: Call to deprecated `__contains__` (Method will be removed in 4.0.0, use self.wv.__contains__() instead).\n",
      "D:\\anaconda\\lib\\site-packages\\ipykernel_launcher.py:55: DeprecationWarning: Call to deprecated `__getitem__` (Method will be removed in 4.0.0, use self.wv.__getitem__() instead).\n"
     ]
    },
    {
     "name": "stdout",
     "output_type": "stream",
     "text": [
      "walks done\n",
      "walks done\n",
      "walks done\n",
      "walks done\n",
      "walks done\n",
      "walks done\n",
      "walks done\n",
      "walks done\n",
      "walks done\n",
      "relational outlier: {732, 1801, 1419, 1465, 1724}\n",
      "semantic outlier: set()\n",
      "[ 0  1  1 ... 22 60 36] 78\n",
      "23 jijun_zhao 105\n"
     ]
    },
    {
     "name": "stderr",
     "output_type": "stream",
     "text": [
      "D:\\anaconda\\lib\\site-packages\\smart_open\\smart_open_lib.py:398: UserWarning: This function is deprecated, use smart_open.open instead. See the migration notes for details: https://github.com/RaRe-Technologies/smart_open/blob/master/README.rst#migrating-to-the-new-open-function\n",
      "  'See the migration notes for details: %s' % _MIGRATION_NOTES_URL\n",
      "D:\\anaconda\\lib\\site-packages\\ipykernel_launcher.py:388: DeprecationWarning: Call to deprecated `__contains__` (Method will be removed in 4.0.0, use self.wv.__contains__() instead).\n",
      "D:\\anaconda\\lib\\site-packages\\ipykernel_launcher.py:389: DeprecationWarning: Call to deprecated `__getitem__` (Method will be removed in 4.0.0, use self.wv.__getitem__() instead).\n"
     ]
    },
    {
     "name": "stdout",
     "output_type": "stream",
     "text": [
      "#papers  105\n",
      "#authors 163\n",
      "#org_words 66\n",
      "#confs   68\n",
      "walks done\n",
      "walks done\n"
     ]
    },
    {
     "name": "stderr",
     "output_type": "stream",
     "text": [
      "D:\\anaconda\\lib\\site-packages\\ipykernel_launcher.py:54: DeprecationWarning: Call to deprecated `__contains__` (Method will be removed in 4.0.0, use self.wv.__contains__() instead).\n",
      "D:\\anaconda\\lib\\site-packages\\ipykernel_launcher.py:55: DeprecationWarning: Call to deprecated `__getitem__` (Method will be removed in 4.0.0, use self.wv.__getitem__() instead).\n"
     ]
    },
    {
     "name": "stdout",
     "output_type": "stream",
     "text": [
      "walks done\n",
      "walks done\n",
      "walks done\n",
      "walks done\n",
      "walks done\n",
      "walks done\n",
      "walks done\n",
      "walks done\n",
      "relational outlier: {39}\n",
      "semantic outlier: set()\n",
      "[0 0 0 0 0 0 0 0 0 0 0 0 0 0 0 0 1 1 1 1 1 1 1 1 1 1 2 2 1 1 1 1 0 0 0 0 0\n",
      " 0 0 4 1 1 1 1 1 1 2 2 2 2 1 1 1 0 0 0 0 0 0 0 0 1 1 1 1 1 1 1 2 2 2 2 2 2\n",
      " 1 0 0 0 0 0 0 0 0 0 0 0 0 0 0 0 1 1 1 1 1 1 2 2 2 2 2 2 1 1 1] 4\n",
      "24 jian_yang 2863\n"
     ]
    },
    {
     "name": "stderr",
     "output_type": "stream",
     "text": [
      "D:\\anaconda\\lib\\site-packages\\smart_open\\smart_open_lib.py:398: UserWarning: This function is deprecated, use smart_open.open instead. See the migration notes for details: https://github.com/RaRe-Technologies/smart_open/blob/master/README.rst#migrating-to-the-new-open-function\n",
      "  'See the migration notes for details: %s' % _MIGRATION_NOTES_URL\n",
      "D:\\anaconda\\lib\\site-packages\\ipykernel_launcher.py:388: DeprecationWarning: Call to deprecated `__contains__` (Method will be removed in 4.0.0, use self.wv.__contains__() instead).\n",
      "D:\\anaconda\\lib\\site-packages\\ipykernel_launcher.py:389: DeprecationWarning: Call to deprecated `__getitem__` (Method will be removed in 4.0.0, use self.wv.__getitem__() instead).\n"
     ]
    },
    {
     "name": "stdout",
     "output_type": "stream",
     "text": [
      "#papers  2863\n",
      "#authors 4342\n",
      "#org_words 914\n",
      "#confs   1171\n",
      "walks done\n"
     ]
    },
    {
     "name": "stderr",
     "output_type": "stream",
     "text": [
      "D:\\anaconda\\lib\\site-packages\\ipykernel_launcher.py:54: DeprecationWarning: Call to deprecated `__contains__` (Method will be removed in 4.0.0, use self.wv.__contains__() instead).\n",
      "D:\\anaconda\\lib\\site-packages\\ipykernel_launcher.py:55: DeprecationWarning: Call to deprecated `__getitem__` (Method will be removed in 4.0.0, use self.wv.__getitem__() instead).\n"
     ]
    },
    {
     "name": "stdout",
     "output_type": "stream",
     "text": [
      "walks done\n",
      "walks done\n",
      "walks done\n",
      "walks done\n",
      "walks done\n",
      "walks done\n",
      "walks done\n",
      "walks done\n",
      "walks done\n",
      "relational outlier: {1543, 1544, 1545, 523, 2575, 2577, 2578, 1050, 2086, 2600, 2601, 2614, 2615, 571, 572, 1091, 2116, 589, 590, 1616, 2644, 2137, 93, 1117, 1118, 611, 101, 2661, 2662, 2663, 1140, 122, 1666, 1667, 1668, 652, 150, 2207, 174, 1198, 2734, 2225, 1720, 1721, 702, 2248, 1737, 205, 1239, 2778, 1762, 2278, 1263, 1264, 2299, 2300, 1788, 2301, 2816, 1286, 1295, 788, 2839, 1306, 2334, 2852, 2853, 809, 308, 833, 834, 327, 1361, 1362, 2391, 345, 1889, 1893, 371, 2432, 2433, 2434, 1413, 394, 395, 1434, 417, 2480, 1460, 1461, 439, 953, 954, 955, 1982, 1484, 1485, 2003, 2004, 1517, 1518, 1519, 500, 501, 2548}\n",
      "semantic outlier: set()\n",
      "[ 0  0  1 ... 15 70 55] 195\n",
      "25 rui_wang 2643\n"
     ]
    },
    {
     "name": "stderr",
     "output_type": "stream",
     "text": [
      "D:\\anaconda\\lib\\site-packages\\smart_open\\smart_open_lib.py:398: UserWarning: This function is deprecated, use smart_open.open instead. See the migration notes for details: https://github.com/RaRe-Technologies/smart_open/blob/master/README.rst#migrating-to-the-new-open-function\n",
      "  'See the migration notes for details: %s' % _MIGRATION_NOTES_URL\n",
      "D:\\anaconda\\lib\\site-packages\\ipykernel_launcher.py:388: DeprecationWarning: Call to deprecated `__contains__` (Method will be removed in 4.0.0, use self.wv.__contains__() instead).\n",
      "D:\\anaconda\\lib\\site-packages\\ipykernel_launcher.py:389: DeprecationWarning: Call to deprecated `__getitem__` (Method will be removed in 4.0.0, use self.wv.__getitem__() instead).\n"
     ]
    },
    {
     "name": "stdout",
     "output_type": "stream",
     "text": [
      "#papers  2643\n",
      "#authors 4582\n",
      "#org_words 1104\n",
      "#confs   1050\n",
      "walks done\n"
     ]
    },
    {
     "name": "stderr",
     "output_type": "stream",
     "text": [
      "D:\\anaconda\\lib\\site-packages\\ipykernel_launcher.py:54: DeprecationWarning: Call to deprecated `__contains__` (Method will be removed in 4.0.0, use self.wv.__contains__() instead).\n",
      "D:\\anaconda\\lib\\site-packages\\ipykernel_launcher.py:55: DeprecationWarning: Call to deprecated `__getitem__` (Method will be removed in 4.0.0, use self.wv.__getitem__() instead).\n"
     ]
    },
    {
     "name": "stdout",
     "output_type": "stream",
     "text": [
      "walks done\n",
      "walks done\n",
      "walks done\n",
      "walks done\n",
      "walks done\n",
      "walks done\n",
      "walks done\n",
      "walks done\n",
      "walks done\n",
      "relational outlier: {1921, 1733, 2399, 1127, 1160, 1550, 1103, 2514, 308, 1784, 1500, 2143, 991}\n",
      "semantic outlier: set()\n",
      "[  0   1   2 ... 109 121  53] 168\n",
      "26 haibo_he 384\n"
     ]
    },
    {
     "name": "stderr",
     "output_type": "stream",
     "text": [
      "D:\\anaconda\\lib\\site-packages\\smart_open\\smart_open_lib.py:398: UserWarning: This function is deprecated, use smart_open.open instead. See the migration notes for details: https://github.com/RaRe-Technologies/smart_open/blob/master/README.rst#migrating-to-the-new-open-function\n",
      "  'See the migration notes for details: %s' % _MIGRATION_NOTES_URL\n",
      "D:\\anaconda\\lib\\site-packages\\ipykernel_launcher.py:388: DeprecationWarning: Call to deprecated `__contains__` (Method will be removed in 4.0.0, use self.wv.__contains__() instead).\n",
      "D:\\anaconda\\lib\\site-packages\\ipykernel_launcher.py:389: DeprecationWarning: Call to deprecated `__getitem__` (Method will be removed in 4.0.0, use self.wv.__getitem__() instead).\n"
     ]
    },
    {
     "name": "stdout",
     "output_type": "stream",
     "text": [
      "#papers  384\n",
      "#authors 463\n",
      "#org_words 111\n",
      "#confs   271\n",
      "walks done\n"
     ]
    },
    {
     "name": "stderr",
     "output_type": "stream",
     "text": [
      "D:\\anaconda\\lib\\site-packages\\ipykernel_launcher.py:54: DeprecationWarning: Call to deprecated `__contains__` (Method will be removed in 4.0.0, use self.wv.__contains__() instead).\n",
      "D:\\anaconda\\lib\\site-packages\\ipykernel_launcher.py:55: DeprecationWarning: Call to deprecated `__getitem__` (Method will be removed in 4.0.0, use self.wv.__getitem__() instead).\n"
     ]
    },
    {
     "name": "stdout",
     "output_type": "stream",
     "text": [
      "walks done\n",
      "walks done\n",
      "walks done\n",
      "walks done\n",
      "walks done\n",
      "walks done\n",
      "walks done\n",
      "walks done\n",
      "walks done\n",
      "relational outlier: {228, 4, 166, 293, 235, 14, 246, 348, 120, 284}\n",
      "semantic outlier: set()\n",
      "[ 0  0  0  0  0  0  0  0  0  0  0  0  0  0  7  0  0  0  0  0  0  0  0  0\n",
      "  0  0  0  0  0  0  0  0  0  0  0  0  0  0  0  0  0  0  0  0  0  0  0  0\n",
      "  0  1  1  2  2  3  3  0  0  0  0  0  0  0  0  0  0  0  0  0  0  0  0  0\n",
      "  0  0  0  0  0  0  0  0  0  0  0  0  0  0  0  0  0  0  0  0  0  0  0  0\n",
      "  0  0  0  0  0  0  0  0  0  0  0  0  0  0  0  0  0  0  0  0  0  0  0  0\n",
      "  0  1  4  4  2  3  3  3  5  5  0  0  0  0  0  0  0  0  0  0  0  0  0  0\n",
      "  0  0  0  0  0  0  0  0  0  0  0  0  0  0  0  0  0  0  0  0  0  0  8  0\n",
      "  0  0  0  0  0  0  0  0  0  0  0  0  0  0  0  0  0  0  0  0  0  0  1  4\n",
      "  2  2  2  2  2  3  5  0  0  0  0  0  0  0  0  0  0  0  0  0  0  0  0  0\n",
      "  0  0  0  0  0  0  0  0  0  0  0  0  0  0  0  0  0  0  0  0  0  0  0  0\n",
      "  0  0  0  0  0  0  9  0  0  0  0  0  0  0  0  0  0  1  1  1  1  1  4  2\n",
      "  5  0  0  0  0  0  0  0  0  0  0  0  0  0  0  0  0  0  0  0 10  0  0  0\n",
      "  0  0  0  0  0 11  0  0  0  0  0  0  0  0  0  0  0  0  0  0  0  0  0  0\n",
      "  0  0  0  0  0  0  0  0  0  0  1  1  1  2  3  5  0  0  0  0  0  0  0  0\n",
      "  0  0  0  0  0  0  0  0  0  0  0  0  0  2  0  0  0  0  0  0  0  0  0  0\n",
      "  0  0  0  0  0  0  0  0  0  0  0  0  0  0  0  0  0  0  0  1  4  3  3  3] 11\n",
      "27 david_parker 253\n"
     ]
    },
    {
     "name": "stderr",
     "output_type": "stream",
     "text": [
      "D:\\anaconda\\lib\\site-packages\\smart_open\\smart_open_lib.py:398: UserWarning: This function is deprecated, use smart_open.open instead. See the migration notes for details: https://github.com/RaRe-Technologies/smart_open/blob/master/README.rst#migrating-to-the-new-open-function\n",
      "  'See the migration notes for details: %s' % _MIGRATION_NOTES_URL\n",
      "D:\\anaconda\\lib\\site-packages\\ipykernel_launcher.py:388: DeprecationWarning: Call to deprecated `__contains__` (Method will be removed in 4.0.0, use self.wv.__contains__() instead).\n",
      "D:\\anaconda\\lib\\site-packages\\ipykernel_launcher.py:389: DeprecationWarning: Call to deprecated `__getitem__` (Method will be removed in 4.0.0, use self.wv.__getitem__() instead).\n"
     ]
    },
    {
     "name": "stdout",
     "output_type": "stream",
     "text": [
      "#papers  253\n",
      "#authors 319\n",
      "#org_words 73\n",
      "#confs   157\n",
      "walks done\n"
     ]
    },
    {
     "name": "stderr",
     "output_type": "stream",
     "text": [
      "D:\\anaconda\\lib\\site-packages\\ipykernel_launcher.py:54: DeprecationWarning: Call to deprecated `__contains__` (Method will be removed in 4.0.0, use self.wv.__contains__() instead).\n",
      "D:\\anaconda\\lib\\site-packages\\ipykernel_launcher.py:55: DeprecationWarning: Call to deprecated `__getitem__` (Method will be removed in 4.0.0, use self.wv.__getitem__() instead).\n"
     ]
    },
    {
     "name": "stdout",
     "output_type": "stream",
     "text": [
      "walks done\n",
      "walks done\n",
      "walks done\n",
      "walks done\n",
      "walks done\n",
      "walks done\n",
      "walks done\n",
      "walks done\n",
      "walks done\n",
      "relational outlier: set()\n",
      "semantic outlier: set()\n",
      "[0 0 0 0 0 0 0 0 0 0 0 0 0 0 0 0 1 1 1 1 1 1 1 1 1 1 1 1 1 1 1 1 1 1 1 1 1\n",
      " 1 1 1 2 2 2 2 3 3 3 3 4 4 4 4 0 0 0 0 0 0 0 0 0 3 0 0 0 0 0 0 1 1 1 1 1 1\n",
      " 1 1 1 1 1 1 1 1 1 1 1 1 1 2 3 3 3 3 3 3 4 0 0 0 0 0 0 3 0 0 0 0 1 1 1 1 1\n",
      " 1 1 1 1 1 1 1 1 1 1 1 1 1 1 1 1 1 1 2 2 3 0 0 0 0 0 0 0 0 0 0 0 0 0 1 1 1\n",
      " 1 1 1 1 1 1 1 1 1 1 1 1 1 1 1 1 1 1 1 2 3 4 0 0 0 0 0 0 0 0 0 0 0 0 0 0 0\n",
      " 0 1 1 1 1 1 1 1 1 1 1 1 1 1 1 1 1 1 1 1 1 1 1 1 2 2 2 3 3 0 0 0 0 0 0 0 0\n",
      " 0 1 1 1 1 1 1 1 1 1 1 1 1 1 1 1 1 1 1 1 1 1 1 2 2 3 4 4 4 4 4] 5\n",
      "28 feng_wang 741\n"
     ]
    },
    {
     "name": "stderr",
     "output_type": "stream",
     "text": [
      "D:\\anaconda\\lib\\site-packages\\smart_open\\smart_open_lib.py:398: UserWarning: This function is deprecated, use smart_open.open instead. See the migration notes for details: https://github.com/RaRe-Technologies/smart_open/blob/master/README.rst#migrating-to-the-new-open-function\n",
      "  'See the migration notes for details: %s' % _MIGRATION_NOTES_URL\n",
      "D:\\anaconda\\lib\\site-packages\\ipykernel_launcher.py:388: DeprecationWarning: Call to deprecated `__contains__` (Method will be removed in 4.0.0, use self.wv.__contains__() instead).\n",
      "D:\\anaconda\\lib\\site-packages\\ipykernel_launcher.py:389: DeprecationWarning: Call to deprecated `__getitem__` (Method will be removed in 4.0.0, use self.wv.__getitem__() instead).\n"
     ]
    },
    {
     "name": "stdout",
     "output_type": "stream",
     "text": [
      "#papers  741\n",
      "#authors 1150\n",
      "#org_words 310\n",
      "#confs   465\n",
      "walks done\n"
     ]
    },
    {
     "name": "stderr",
     "output_type": "stream",
     "text": [
      "D:\\anaconda\\lib\\site-packages\\ipykernel_launcher.py:54: DeprecationWarning: Call to deprecated `__contains__` (Method will be removed in 4.0.0, use self.wv.__contains__() instead).\n",
      "D:\\anaconda\\lib\\site-packages\\ipykernel_launcher.py:55: DeprecationWarning: Call to deprecated `__getitem__` (Method will be removed in 4.0.0, use self.wv.__getitem__() instead).\n"
     ]
    },
    {
     "name": "stdout",
     "output_type": "stream",
     "text": [
      "walks done\n",
      "walks done\n",
      "walks done\n",
      "walks done\n",
      "walks done\n",
      "walks done\n",
      "walks done\n",
      "walks done\n",
      "walks done\n",
      "relational outlier: {628}\n",
      "semantic outlier: set()\n",
      "[ 0  0  1  2  2  2  2  3  4  5  4 21  6  6  6  6  7  7  7  8  9  9 10 11\n",
      "  5 12 12 12  1  1  2  2 13 14 14 14 21  4  5  4 15 15 15  6  6  6  6  6\n",
      "  6  7  7  7 16 16 15 15 15  8  8  8  9 10 10  5  5  5 25 17 17 17 12 12\n",
      " 12 12 12 18 19 19 19 19  0  0  0  2  2  2  5  4 15 15  6  6  6  7  7 16\n",
      "  8  9  9  9  9  9 20 17 17 18 19  0  0  0  2  2  2  2  2  2  2 13 13 13\n",
      " 13 13 13  3 14 14 14 14 14  5  4 15  6  6  6  7  7  7  8  9 19 10 25 17\n",
      " 12 12 19 19 19 19  1  0  0  0  2  2  2  2  2  2  2  2  2  3  3 13 13 14\n",
      " 14 14  4 15 15 15 15 15  6  6  7  7  7  7  7  7  7 16 15 15  8  9  9 10\n",
      " 10 11 20 25 17 17 17 12 12 18 19 19 19 19 19  0  2  2  2  3 13 14 14 14\n",
      "  4  4  4 15  6  6  6  7  7  7  8  8  8  9  9 10 20 20 20 17 17 17 17 17\n",
      " 12 18 18 19 19 19  0  0  0  2  2  2  2  2  2  2  2  3 13 13 14 14 21  5\n",
      "  4  4  6  6  6  6  6  6  6  7 16  8  9  9 11 20 27 17 17 17 17 17 12 12\n",
      " 12 12 12  0  2  2  2 22 13 13 13  3 13 14 14 21 21  6  7  7  7 16 15  9\n",
      " 10 10 10  5 17 17 17 17 12 12 12 19 19 19 19  0  0  2  2  2  2  2  2  2\n",
      " 13 13  3 14 14 14 21  6  6  6  6  6  6  6  6  6  6  7  7  7  7  9  9  9\n",
      " 11  5  5 17 17 18 19 19 19  1  0  2  2  2  2  2  2  2  2 22  2 13  3 13\n",
      " 13 14  4  4  5  4  4 15 15  6  6  7  7  7  7 15 15 15  8  8  8  9 10 10\n",
      " 20 20 28 17 17 12 12 12 19 19 19 19  0  2  2  2  2 13  3 13 13 14  4 21\n",
      "  4  4 21 15 15  6  7  7  7  7 16 15  9 10 10  5  5 17 17 12 18 19 19 19\n",
      " 19  0  2  2  2  2  2  2  2 14 14  6  6  6  7  7  7 16  8 10 10 17 17 17\n",
      " 17 17 17 19 19 19  0  2  2  2  2  3 14 14  4  4 15  6  6  7  7  7 16 15\n",
      "  9  9 10 20 20 17 17 17 18 19 19  0  2  2  2  2  2 22  2  2  2  2 13  3\n",
      "  3 14  4  4  4 15 15  6  6  6  6  6 15  8  8  8  9  9  9  9  9 10 10 28\n",
      " 17 17 17 12 12 18 19 20 19 19 19 19  1  2  2  2  2  2  2  2  3 13 13 13\n",
      " 13 14 21  4  4  6  6  6 16  8  9  9  9 10 10 11  5 17 17 12 12 12 12 12\n",
      " 18 19 19 20 19  0  2  2  2  2  2  2  2 13  3  3 14 14 21  4  4  5 15 15\n",
      "  6  6  7 16 16  8  8  9  9 10 20 20 20  5 19 19  2  2 22  3 13 14  4  6\n",
      "  6 16 16 15 15  9  9 10 10 20  5  5  5 17 17 17 12 12 18 19  2  2  2  2\n",
      "  2 13 13 13 14 14  4 15  6  6  7  7  7  7 16 15  8  9  9  5  5 17 12 12\n",
      " 12 12 12 12 19 19 19 19 19  2 22  2  2  2  2 13  3 13  3  3 13 13 14 14\n",
      " 14 21  6  6  6  7  7 10 20 20 20  5  5 17 17 12 12 12 12 18 18] 26\n",
      "29 gang_li 3228\n"
     ]
    },
    {
     "name": "stderr",
     "output_type": "stream",
     "text": [
      "D:\\anaconda\\lib\\site-packages\\smart_open\\smart_open_lib.py:398: UserWarning: This function is deprecated, use smart_open.open instead. See the migration notes for details: https://github.com/RaRe-Technologies/smart_open/blob/master/README.rst#migrating-to-the-new-open-function\n",
      "  'See the migration notes for details: %s' % _MIGRATION_NOTES_URL\n",
      "D:\\anaconda\\lib\\site-packages\\ipykernel_launcher.py:388: DeprecationWarning: Call to deprecated `__contains__` (Method will be removed in 4.0.0, use self.wv.__contains__() instead).\n",
      "D:\\anaconda\\lib\\site-packages\\ipykernel_launcher.py:389: DeprecationWarning: Call to deprecated `__getitem__` (Method will be removed in 4.0.0, use self.wv.__getitem__() instead).\n"
     ]
    },
    {
     "name": "stdout",
     "output_type": "stream",
     "text": [
      "#papers  3228\n",
      "#authors 5211\n",
      "#org_words 1155\n",
      "#confs   1259\n",
      "walks done\n"
     ]
    },
    {
     "name": "stderr",
     "output_type": "stream",
     "text": [
      "D:\\anaconda\\lib\\site-packages\\ipykernel_launcher.py:54: DeprecationWarning: Call to deprecated `__contains__` (Method will be removed in 4.0.0, use self.wv.__contains__() instead).\n",
      "D:\\anaconda\\lib\\site-packages\\ipykernel_launcher.py:55: DeprecationWarning: Call to deprecated `__getitem__` (Method will be removed in 4.0.0, use self.wv.__getitem__() instead).\n"
     ]
    },
    {
     "name": "stdout",
     "output_type": "stream",
     "text": [
      "walks done\n",
      "walks done\n",
      "walks done\n",
      "walks done\n",
      "walks done\n",
      "walks done\n",
      "walks done\n",
      "walks done\n",
      "walks done\n",
      "relational outlier: {2626, 995, 1829, 2603, 1455, 496, 2064, 1811, 2550, 2904, 3131, 3037, 2654, 1567}\n",
      "semantic outlier: set()\n",
      "[  0   1   2 ...  12  47 110] 155\n",
      "30 baohong_zhang 271\n"
     ]
    },
    {
     "name": "stderr",
     "output_type": "stream",
     "text": [
      "D:\\anaconda\\lib\\site-packages\\smart_open\\smart_open_lib.py:398: UserWarning: This function is deprecated, use smart_open.open instead. See the migration notes for details: https://github.com/RaRe-Technologies/smart_open/blob/master/README.rst#migrating-to-the-new-open-function\n",
      "  'See the migration notes for details: %s' % _MIGRATION_NOTES_URL\n",
      "D:\\anaconda\\lib\\site-packages\\ipykernel_launcher.py:388: DeprecationWarning: Call to deprecated `__contains__` (Method will be removed in 4.0.0, use self.wv.__contains__() instead).\n",
      "D:\\anaconda\\lib\\site-packages\\ipykernel_launcher.py:389: DeprecationWarning: Call to deprecated `__getitem__` (Method will be removed in 4.0.0, use self.wv.__getitem__() instead).\n"
     ]
    },
    {
     "name": "stdout",
     "output_type": "stream",
     "text": [
      "#papers  271\n",
      "#authors 377\n",
      "#org_words 103\n",
      "#confs   195\n",
      "walks done\n"
     ]
    },
    {
     "name": "stderr",
     "output_type": "stream",
     "text": [
      "D:\\anaconda\\lib\\site-packages\\ipykernel_launcher.py:54: DeprecationWarning: Call to deprecated `__contains__` (Method will be removed in 4.0.0, use self.wv.__contains__() instead).\n",
      "D:\\anaconda\\lib\\site-packages\\ipykernel_launcher.py:55: DeprecationWarning: Call to deprecated `__getitem__` (Method will be removed in 4.0.0, use self.wv.__getitem__() instead).\n"
     ]
    },
    {
     "name": "stdout",
     "output_type": "stream",
     "text": [
      "walks done\n",
      "walks done\n",
      "walks done\n",
      "walks done\n",
      "walks done\n",
      "walks done\n",
      "walks done\n",
      "walks done\n",
      "walks done\n",
      "relational outlier: {6, 176, 88, 217, 61, 222}\n",
      "semantic outlier: set()\n",
      "[ 0  0  0  0  0  0  0  0  0  0  0  0  0  0  0  0  0  0  0  0  0  0  0  0\n",
      "  0  0  0  0  0  0  0  0  1  1  1  1  1  1  1  1  1  2  2  2  2  2  2  2\n",
      "  2  2  2  2  3  3  4  4  0  0  0  0  0  7  0  0  5  0  0  0  0  0  0  0\n",
      "  0  0  0  0  0  0  0  0  0  0  0  0  0  0  0  0  0  0  0  0  0  1  1  1\n",
      "  1  1  1  1  1  1  1  1  1  1  1  2  2  2  2  2  2  2  2  2  2  3  3  4\n",
      "  4  4  0  0  0  0  0  0  0  0  0  0  0  0  0  0  0  0  0  0  0  0  0  0\n",
      "  0  0  0  0  0  5  1  1  1  1  1  1  1  1  1  1  1  1  1  1  2  2  2  2\n",
      "  2  2  2  2  2  3  3  3  8  4  5  0  0  0  0  0  0  0  0  0  0  0  0  0\n",
      "  0  0  0  0  0  0  0  5  0  0  0  0  0  0  1  1  1  1  2  2  2  2  2  2\n",
      "  3  9  4  0  0  0 10  5  0  0  0  0  0  0  0  0  0  0  0  0  0  0  0  0\n",
      "  0  0  0  0  0  0  0  0  1  1  1  1  1  1  1  2  2  2  2  2  2  2  2  2\n",
      "  2  2  2  2  3  3  4] 10\n",
      "31 bing_xu 1236\n"
     ]
    },
    {
     "name": "stderr",
     "output_type": "stream",
     "text": [
      "D:\\anaconda\\lib\\site-packages\\smart_open\\smart_open_lib.py:398: UserWarning: This function is deprecated, use smart_open.open instead. See the migration notes for details: https://github.com/RaRe-Technologies/smart_open/blob/master/README.rst#migrating-to-the-new-open-function\n",
      "  'See the migration notes for details: %s' % _MIGRATION_NOTES_URL\n",
      "D:\\anaconda\\lib\\site-packages\\ipykernel_launcher.py:388: DeprecationWarning: Call to deprecated `__contains__` (Method will be removed in 4.0.0, use self.wv.__contains__() instead).\n",
      "D:\\anaconda\\lib\\site-packages\\ipykernel_launcher.py:389: DeprecationWarning: Call to deprecated `__getitem__` (Method will be removed in 4.0.0, use self.wv.__getitem__() instead).\n"
     ]
    },
    {
     "name": "stdout",
     "output_type": "stream",
     "text": [
      "#papers  1236\n",
      "#authors 2425\n",
      "#org_words 589\n",
      "#confs   682\n",
      "walks done\n"
     ]
    },
    {
     "name": "stderr",
     "output_type": "stream",
     "text": [
      "D:\\anaconda\\lib\\site-packages\\ipykernel_launcher.py:54: DeprecationWarning: Call to deprecated `__contains__` (Method will be removed in 4.0.0, use self.wv.__contains__() instead).\n",
      "D:\\anaconda\\lib\\site-packages\\ipykernel_launcher.py:55: DeprecationWarning: Call to deprecated `__getitem__` (Method will be removed in 4.0.0, use self.wv.__getitem__() instead).\n"
     ]
    },
    {
     "name": "stdout",
     "output_type": "stream",
     "text": [
      "walks done\n",
      "walks done\n",
      "walks done\n",
      "walks done\n",
      "walks done\n",
      "walks done\n",
      "walks done\n",
      "walks done\n",
      "walks done\n",
      "relational outlier: {1219, 996, 326, 263, 680, 202, 523, 845, 1230, 111, 240, 1172, 791, 856, 474, 571, 94, 763}\n",
      "semantic outlier: set()\n",
      "[ 0  0  1 ...  5  0 21] 73\n",
      "32 biao_huang 784\n"
     ]
    },
    {
     "name": "stderr",
     "output_type": "stream",
     "text": [
      "D:\\anaconda\\lib\\site-packages\\smart_open\\smart_open_lib.py:398: UserWarning: This function is deprecated, use smart_open.open instead. See the migration notes for details: https://github.com/RaRe-Technologies/smart_open/blob/master/README.rst#migrating-to-the-new-open-function\n",
      "  'See the migration notes for details: %s' % _MIGRATION_NOTES_URL\n",
      "D:\\anaconda\\lib\\site-packages\\ipykernel_launcher.py:388: DeprecationWarning: Call to deprecated `__contains__` (Method will be removed in 4.0.0, use self.wv.__contains__() instead).\n",
      "D:\\anaconda\\lib\\site-packages\\ipykernel_launcher.py:389: DeprecationWarning: Call to deprecated `__getitem__` (Method will be removed in 4.0.0, use self.wv.__getitem__() instead).\n"
     ]
    },
    {
     "name": "stdout",
     "output_type": "stream",
     "text": [
      "#papers  784\n",
      "#authors 865\n",
      "#org_words 225\n",
      "#confs   459\n",
      "walks done\n"
     ]
    },
    {
     "name": "stderr",
     "output_type": "stream",
     "text": [
      "D:\\anaconda\\lib\\site-packages\\ipykernel_launcher.py:54: DeprecationWarning: Call to deprecated `__contains__` (Method will be removed in 4.0.0, use self.wv.__contains__() instead).\n",
      "D:\\anaconda\\lib\\site-packages\\ipykernel_launcher.py:55: DeprecationWarning: Call to deprecated `__getitem__` (Method will be removed in 4.0.0, use self.wv.__getitem__() instead).\n"
     ]
    },
    {
     "name": "stdout",
     "output_type": "stream",
     "text": [
      "walks done\n",
      "walks done\n",
      "walks done\n",
      "walks done\n",
      "walks done\n",
      "walks done\n",
      "walks done\n",
      "walks done\n",
      "walks done\n",
      "relational outlier: {97, 413, 326}\n",
      "semantic outlier: set()\n",
      "[ 0  0  1  1  1  1  1  1  1  1  1  1  1  1  2  2  2  2  2  2  2  2  2  0\n",
      "  0  0  0  0  3  0  0  0  0  0  0  4  4  4  4  4  5  5  5  5  5  5  5  5\n",
      "  5  5  5  5  5  5  6  6  6  6  6  6  6  6  0 10  0  1  1  1  1  1  1  1\n",
      "  1  1  1  2  2  2  2  2  2  2  2  2  0  0  0  0  0  0  0  0  0  1  0  0\n",
      "  0 13  0  4  4  4  4  4  7  5  5  5  5  5  5  5  6  0  0  0  0  0  0  0\n",
      "  0  1  1  1  1  1  1  1  1  1  2  2  2  2  2  2  0  0  0  0  0  0  0  0\n",
      "  0  0  0  3  0  0  0  0  0  0  4  4  4  4  4  7  5  5  5  5  5  5  5  5\n",
      "  5  5  5  6  6  6  6  8  0  1  1  1  1  1  1  1  2  2  2  2  2  2  2  2\n",
      "  0  0  0  0  0  0  0  0  0  0  0  0  0  0  0  0  0  0  0  4  4  7  5  5\n",
      "  5  5  5  5  5  6  6  6  6  6  6  0  0  8  9  0  0  1  1  1  1  1  2  2\n",
      "  2  2  2  2  0  0  0  0  0  0  0  0  0  0  0  0  0  4  4  5  5  5  5  5\n",
      "  5  5  5  5  5  5  6  6  6  0 10 10  8  9  0  0  1  1  1  1  1  1  1  1\n",
      "  1  1  2  2  2  2  2  2  2  2  2  2  0  0  0  0  0  0  0  0  0  0  0  0\n",
      "  0  4  4  4  4  4  4  4  4  4  7  5  5  5  5  5  5  5  6  6  6  6  0  0\n",
      "  0  8  0  1  1  1  1  1  1  1  1  2  2  2  2  2  2  0  0  0  0  0  0  0\n",
      "  0  0  0  0  0  0  0  4  4  4  7  5  5  5  5  5  5  5  5  6  6  6  6  6\n",
      "  6  0  0  1  1  1  1  1  1  1  1  2  1  2  2  2  2  0  0  0  0  0  0  0\n",
      "  0  3  0  0  0  0  0  0  0  0  0  0  4  4  4  4  4  4  4  4  4  4  7  7\n",
      "  5  5  5  5  5  5  5  5  5  5  5  5  5  5  5  6  6  6  6  6  6  6  6  0\n",
      "  0 10  0  1  1  1  1  1  1  1  1  1  1  2  2  2  0  0  0  0  0  0  0  0\n",
      "  0  0  0  0  0  0  0  0  4  4  4  4  4  4  4  4  4  4  4  4  7  7  5  5\n",
      "  5  5  5  5  5  5  5  5  6  6  6  6  6  0  0  0  9  9  0  1  1  1  1  1\n",
      "  1  1  1  1  1  1  2  2  2  2  2  0  0  0  0  0  0  0  0  0  0  0  0  4\n",
      "  4  5  5  5  5  5  5  5  5  5  5  5  5  6  6  6 10  8  8  1  1  1  1  1\n",
      "  2  2  2  0  0  0  0  0  0  0  0  0  0  0  0  0  0  0  3  0  0  4  7  7\n",
      "  7  5  5  5  5  5  5  5  5  5  6  6  0  1  1  1  1  1  1  1  1  1  2  2\n",
      "  2  2  2  2  2  2  2  0  0  0  0  0  0  0  0  0  0  0  0  0  0  0  4  4\n",
      "  4  4  4  4  4  5  5  5  5  5  5  5  5  5  5  5  5  6  6  6  6  6  6  0\n",
      "  0 10  9  9  1  1  1  1  1  1  1  2  2  2  2  2  0  0  0  0  0  0  0  0\n",
      "  0  0  0  0  3  0  0  0  0  0  4  4  4  4  4  4  7  5  5  5  5  5  5  5\n",
      "  5  5  5  6  6  6  6  6  6  6  6  6  6  0  1  1  1  1  1  1  1  1  1  2\n",
      "  2  2  2  2  0  0  0  0  0  0  0  0  0  0  0  0  0  0  7  4  4  4  4  4\n",
      "  4  4  5  5  5  5  5  5  5  5  6  6  6  6  6  6] 12\n",
      "33 tao_li 2161\n"
     ]
    },
    {
     "name": "stderr",
     "output_type": "stream",
     "text": [
      "D:\\anaconda\\lib\\site-packages\\smart_open\\smart_open_lib.py:398: UserWarning: This function is deprecated, use smart_open.open instead. See the migration notes for details: https://github.com/RaRe-Technologies/smart_open/blob/master/README.rst#migrating-to-the-new-open-function\n",
      "  'See the migration notes for details: %s' % _MIGRATION_NOTES_URL\n",
      "D:\\anaconda\\lib\\site-packages\\ipykernel_launcher.py:388: DeprecationWarning: Call to deprecated `__contains__` (Method will be removed in 4.0.0, use self.wv.__contains__() instead).\n",
      "D:\\anaconda\\lib\\site-packages\\ipykernel_launcher.py:389: DeprecationWarning: Call to deprecated `__getitem__` (Method will be removed in 4.0.0, use self.wv.__getitem__() instead).\n"
     ]
    },
    {
     "name": "stdout",
     "output_type": "stream",
     "text": [
      "#papers  2161\n",
      "#authors 4177\n",
      "#org_words 975\n",
      "#confs   1014\n",
      "walks done\n"
     ]
    },
    {
     "name": "stderr",
     "output_type": "stream",
     "text": [
      "D:\\anaconda\\lib\\site-packages\\ipykernel_launcher.py:54: DeprecationWarning: Call to deprecated `__contains__` (Method will be removed in 4.0.0, use self.wv.__contains__() instead).\n",
      "D:\\anaconda\\lib\\site-packages\\ipykernel_launcher.py:55: DeprecationWarning: Call to deprecated `__getitem__` (Method will be removed in 4.0.0, use self.wv.__getitem__() instead).\n"
     ]
    },
    {
     "name": "stdout",
     "output_type": "stream",
     "text": [
      "walks done\n",
      "walks done\n",
      "walks done\n",
      "walks done\n",
      "walks done\n",
      "walks done\n",
      "walks done\n",
      "walks done\n",
      "walks done\n",
      "relational outlier: {966, 1063, 1511, 1659, 1418, 1292, 753, 850, 729, 1467, 1279}\n",
      "semantic outlier: set()\n",
      "[ 0  1  2 ... 11  8 29] 132\n",
      "34 lixin_gao 408\n"
     ]
    },
    {
     "name": "stderr",
     "output_type": "stream",
     "text": [
      "D:\\anaconda\\lib\\site-packages\\smart_open\\smart_open_lib.py:398: UserWarning: This function is deprecated, use smart_open.open instead. See the migration notes for details: https://github.com/RaRe-Technologies/smart_open/blob/master/README.rst#migrating-to-the-new-open-function\n",
      "  'See the migration notes for details: %s' % _MIGRATION_NOTES_URL\n",
      "D:\\anaconda\\lib\\site-packages\\ipykernel_launcher.py:388: DeprecationWarning: Call to deprecated `__contains__` (Method will be removed in 4.0.0, use self.wv.__contains__() instead).\n",
      "D:\\anaconda\\lib\\site-packages\\ipykernel_launcher.py:389: DeprecationWarning: Call to deprecated `__getitem__` (Method will be removed in 4.0.0, use self.wv.__getitem__() instead).\n"
     ]
    },
    {
     "name": "stdout",
     "output_type": "stream",
     "text": [
      "#papers  408\n",
      "#authors 370\n",
      "#org_words 122\n",
      "#confs   391\n",
      "walks done\n"
     ]
    },
    {
     "name": "stderr",
     "output_type": "stream",
     "text": [
      "D:\\anaconda\\lib\\site-packages\\ipykernel_launcher.py:54: DeprecationWarning: Call to deprecated `__contains__` (Method will be removed in 4.0.0, use self.wv.__contains__() instead).\n",
      "D:\\anaconda\\lib\\site-packages\\ipykernel_launcher.py:55: DeprecationWarning: Call to deprecated `__getitem__` (Method will be removed in 4.0.0, use self.wv.__getitem__() instead).\n"
     ]
    },
    {
     "name": "stdout",
     "output_type": "stream",
     "text": [
      "walks done\n",
      "walks done\n",
      "walks done\n",
      "walks done\n",
      "walks done\n",
      "walks done\n",
      "walks done\n",
      "walks done\n",
      "walks done\n",
      "relational outlier: {98, 382, 325, 6, 158, 108, 13, 236, 283, 210, 370, 249, 91, 125, 94}\n",
      "semantic outlier: set()\n",
      "[ 0  1  0  0  0  0 11  2  3  0  0  3  0 12  0  0  0  0  3  0  0  0  2  0\n",
      "  0  0  0  0  0  0  0  0  0  0  3  0  2  3  3  0  2  3  0  0  0  0  0  3\n",
      "  3  0  3  0  2  0  3  2  3  3  0  3  0  0  0  2  9  3  2  4  4  4  4  4\n",
      "  4  2  2  2  2  2  2  2  5  5  5  6  6  6  0  2  0  3  0 13  2  0 14  0\n",
      "  7  0 15  0  0  3  0  2  0  3  3  0 16  1  0  0  0  2  2  0  0  0  0  2\n",
      "  3  2  3  0  2 17  3  0  2  3  3  3  0  2  0  3  3 18  3  2  4  4  5  5\n",
      "  5  5  5  6  3  0  1  0  2  8  0  0  0  3 19  0  2  2  3  0  3  2  0  0\n",
      "  0  3  3  2  0  0  3  0  3  0  8  0  0  0  3  0  3  9  3  3  0  9  2  0\n",
      "  3  2  0  2  3  7  0  0  3  0  3  0  3  0  3  2  0  0 20  7  3  7  4  4\n",
      "  4  4  4  4  4  4  4  4  4  4  2  2  2  2  5  6  6  6  0  0 16  3  0  0\n",
      "  3  3  2  0  0  3  3  0  0 22  3  2  0  2  2  2  3  0  0  2  0  3  0  0\n",
      "  0  0  1  0  3 18  0  0  0  0  3  2  0  3  3  0  0  8  0  3  0  2  2  0\n",
      "  0  0  0  0  0  0  2  3  0  0  0  4  4  4  4  4  4  4  4  4  4  2  2  2\n",
      "  2  2  2  2  2  2  5  5  3  0  2  0  8 23  2  0  3  1  0  0  0  3  0  1\n",
      "  0  8  0  0  3  0  2  3  0  0  8  3  0  0  0  9  3  0  3  2  3  0  3  3\n",
      "  3  0  0  3  0  0  0  0  2  0  0  0  0  7  0  2  0  0  0 18  0  0 14  3\n",
      "  0  3  0  0  0  3  3  2  0  0  0  4  4  2  2  2  2  2  2  5  5  6  6  6] 22\n",
      "35 jie_gao 1254\n"
     ]
    },
    {
     "name": "stderr",
     "output_type": "stream",
     "text": [
      "D:\\anaconda\\lib\\site-packages\\smart_open\\smart_open_lib.py:398: UserWarning: This function is deprecated, use smart_open.open instead. See the migration notes for details: https://github.com/RaRe-Technologies/smart_open/blob/master/README.rst#migrating-to-the-new-open-function\n",
      "  'See the migration notes for details: %s' % _MIGRATION_NOTES_URL\n",
      "D:\\anaconda\\lib\\site-packages\\ipykernel_launcher.py:388: DeprecationWarning: Call to deprecated `__contains__` (Method will be removed in 4.0.0, use self.wv.__contains__() instead).\n",
      "D:\\anaconda\\lib\\site-packages\\ipykernel_launcher.py:389: DeprecationWarning: Call to deprecated `__getitem__` (Method will be removed in 4.0.0, use self.wv.__getitem__() instead).\n"
     ]
    },
    {
     "name": "stdout",
     "output_type": "stream",
     "text": [
      "#papers  1254\n",
      "#authors 2408\n",
      "#org_words 706\n",
      "#confs   713\n",
      "walks done\n"
     ]
    },
    {
     "name": "stderr",
     "output_type": "stream",
     "text": [
      "D:\\anaconda\\lib\\site-packages\\ipykernel_launcher.py:54: DeprecationWarning: Call to deprecated `__contains__` (Method will be removed in 4.0.0, use self.wv.__contains__() instead).\n",
      "D:\\anaconda\\lib\\site-packages\\ipykernel_launcher.py:55: DeprecationWarning: Call to deprecated `__getitem__` (Method will be removed in 4.0.0, use self.wv.__getitem__() instead).\n"
     ]
    },
    {
     "name": "stdout",
     "output_type": "stream",
     "text": [
      "walks done\n",
      "walks done\n",
      "walks done\n",
      "walks done\n",
      "walks done\n",
      "walks done\n",
      "walks done\n",
      "walks done\n",
      "walks done\n",
      "relational outlier: {1144, 761, 575, 319}\n",
      "semantic outlier: set()\n",
      "[ 0  1 81 ... 20 35 57] 89\n",
      "36 jiming_chen 368\n"
     ]
    },
    {
     "name": "stderr",
     "output_type": "stream",
     "text": [
      "D:\\anaconda\\lib\\site-packages\\smart_open\\smart_open_lib.py:398: UserWarning: This function is deprecated, use smart_open.open instead. See the migration notes for details: https://github.com/RaRe-Technologies/smart_open/blob/master/README.rst#migrating-to-the-new-open-function\n",
      "  'See the migration notes for details: %s' % _MIGRATION_NOTES_URL\n",
      "D:\\anaconda\\lib\\site-packages\\ipykernel_launcher.py:388: DeprecationWarning: Call to deprecated `__contains__` (Method will be removed in 4.0.0, use self.wv.__contains__() instead).\n",
      "D:\\anaconda\\lib\\site-packages\\ipykernel_launcher.py:389: DeprecationWarning: Call to deprecated `__getitem__` (Method will be removed in 4.0.0, use self.wv.__getitem__() instead).\n"
     ]
    },
    {
     "name": "stdout",
     "output_type": "stream",
     "text": [
      "#papers  368\n",
      "#authors 381\n",
      "#org_words 113\n",
      "#confs   262\n",
      "walks done\n"
     ]
    },
    {
     "name": "stderr",
     "output_type": "stream",
     "text": [
      "D:\\anaconda\\lib\\site-packages\\ipykernel_launcher.py:54: DeprecationWarning: Call to deprecated `__contains__` (Method will be removed in 4.0.0, use self.wv.__contains__() instead).\n",
      "D:\\anaconda\\lib\\site-packages\\ipykernel_launcher.py:55: DeprecationWarning: Call to deprecated `__getitem__` (Method will be removed in 4.0.0, use self.wv.__getitem__() instead).\n"
     ]
    },
    {
     "name": "stdout",
     "output_type": "stream",
     "text": [
      "walks done\n",
      "walks done\n",
      "walks done\n",
      "walks done\n",
      "walks done\n",
      "walks done\n",
      "walks done\n",
      "walks done\n",
      "walks done\n",
      "relational outlier: set()\n",
      "semantic outlier: set()\n",
      "[0 0 0 0 0 0 0 0 0 0 0 0 0 0 0 0 0 0 0 0 0 0 1 2 2 2 0 0 0 0 0 2 2 2 2 3 4\n",
      " 4 4 4 4 0 0 0 0 0 0 0 0 0 0 0 0 0 0 0 0 0 0 0 0 0 0 0 0 1 1 1 1 1 1 0 0 2\n",
      " 2 3 3 3 4 4 2 2 0 0 0 0 0 0 0 0 0 0 0 0 0 0 0 0 0 0 0 0 0 0 0 1 1 1 1 1 2\n",
      " 2 0 0 2 2 2 3 3 3 4 4 4 4 4 2 2 0 0 0 0 0 0 0 0 0 0 0 0 0 0 0 0 0 0 0 0 0\n",
      " 0 0 0 0 0 0 0 0 0 0 0 1 2 2 0 0 2 2 2 3 3 4 2 0 0 0 0 0 0 0 0 0 0 0 0 0 0\n",
      " 0 0 0 0 0 0 0 0 0 0 0 1 1 1 1 1 1 1 2 2 2 2 2 2 0 0 2 2 4 4 0 0 0 0 0 0 0\n",
      " 0 0 0 0 0 0 0 0 0 0 0 0 0 0 0 0 0 0 0 0 1 1 1 2 0 3 4 4 2 2 0 0 0 0 0 0 0\n",
      " 0 0 0 0 0 0 0 0 0 0 0 0 0 1 1 1 1 1 2 2 0 0 0 0 0 2 4 4 4 2 2 0 0 0 0 0 0\n",
      " 0 0 0 0 0 0 0 0 0 0 0 0 0 0 0 0 0 0 0 1 1 1 1 1 1 1 1 2 2 2 2 2 0 2 2 3 3\n",
      " 3 4 4 2 0 0 0 0 0 0 0 0 0 0 0 0 0 0 0 0 0 0 0 0 1 1 2 2 0 0 0 0 3 3 4] 5\n",
      "37 jianhua_yin 446\n"
     ]
    },
    {
     "name": "stderr",
     "output_type": "stream",
     "text": [
      "D:\\anaconda\\lib\\site-packages\\smart_open\\smart_open_lib.py:398: UserWarning: This function is deprecated, use smart_open.open instead. See the migration notes for details: https://github.com/RaRe-Technologies/smart_open/blob/master/README.rst#migrating-to-the-new-open-function\n",
      "  'See the migration notes for details: %s' % _MIGRATION_NOTES_URL\n",
      "D:\\anaconda\\lib\\site-packages\\ipykernel_launcher.py:388: DeprecationWarning: Call to deprecated `__contains__` (Method will be removed in 4.0.0, use self.wv.__contains__() instead).\n",
      "D:\\anaconda\\lib\\site-packages\\ipykernel_launcher.py:389: DeprecationWarning: Call to deprecated `__getitem__` (Method will be removed in 4.0.0, use self.wv.__getitem__() instead).\n"
     ]
    },
    {
     "name": "stdout",
     "output_type": "stream",
     "text": [
      "#papers  446\n",
      "#authors 594\n",
      "#org_words 201\n",
      "#confs   309\n",
      "walks done\n"
     ]
    },
    {
     "name": "stderr",
     "output_type": "stream",
     "text": [
      "D:\\anaconda\\lib\\site-packages\\ipykernel_launcher.py:54: DeprecationWarning: Call to deprecated `__contains__` (Method will be removed in 4.0.0, use self.wv.__contains__() instead).\n",
      "D:\\anaconda\\lib\\site-packages\\ipykernel_launcher.py:55: DeprecationWarning: Call to deprecated `__getitem__` (Method will be removed in 4.0.0, use self.wv.__getitem__() instead).\n"
     ]
    },
    {
     "name": "stdout",
     "output_type": "stream",
     "text": [
      "walks done\n",
      "walks done\n",
      "walks done\n",
      "walks done\n",
      "walks done\n",
      "walks done\n",
      "walks done\n",
      "walks done\n",
      "walks done\n",
      "relational outlier: {1, 390, 136, 10, 139, 26, 284, 29, 30, 285, 34, 166, 168, 176, 49, 55, 56, 57, 68, 324, 75, 333, 217, 349, 96, 352, 355, 101, 359, 364, 115}\n",
      "semantic outlier: set()\n",
      "[ 0  0  0  0  0  0  0  0  0  1 18  2  3  4  4  4  4  6 19  5  0  0  0  0\n",
      "  0  0  0  1  1 30 21  2  3  4  4  6  6  7  8  8  5  5  5  5  9 10 11  0\n",
      "  0  0 12 12  1  1  1  1 22 23  4  4  7  7  8  8  5  5 13 11  0  0  0  0\n",
      "  0  0  1 24 14  3  4  4  4  4  4  7  7  7  5  5  9  9  0  0  0  0  0  1\n",
      " 25 14  2  3  4  4  5  5  6  7  8  8  5  5  5 13  0  0  0  0  0  1  1  1\n",
      "  2  3  4  4  4  7  7  8  8  5  5  9  9  0  0  0  0  0  0  0  0 12  1  1\n",
      "  1  1  1  1 14  2  4  4  4  7  7  8  5  5  5  5  0  0  0  0 12  1 27  1\n",
      " 28  3  3  4  4  4  4  4  4  7  8  5  5  5  5 11 11  0  0  0  0  0  0  0\n",
      " 12  2  2  2  3  4  4 15  5  6  6  7  7  8  5  5  5  5  5  5  9 13 13 13\n",
      "  0  0  0 12  1 14  4  4  4  5  8  5  5  5 10  5 11  0  0  0  0  1  1  1\n",
      "  1  1  1 16  2  3  4  4  7  7  7  7  8  8  5  5  5  5  5 10  0  0  0 12\n",
      "  1 14 14  2  3  4 15  5  6  7  7  7  5  5  9  0  0  0  1  1 30 31  4  4\n",
      "  5  6  8  8  8  5  5  5  5 13  0  0  0  0 12 12  1  1  2  2  3  3  3  3\n",
      "  4 15 15  6  7  7  0  5  5  5  9  0  0  0  1 16 16  3  4  4  4  5  7  7\n",
      "  7  5  5  5  5  5  5  5  5  9 11  0  0  0  0  0  0 12  1 33  1  1  1 30\n",
      " 16  3  4  4  4  4  6  6  7  7  7  7  7  8  8  5  5  5  5  5 10  0  0  0\n",
      "  0  0  0  1  1  1 35  3  3  3  4  4  4  4  4  4  6  5  5  5  5  5  5  5\n",
      "  0  0  0  0 12 12 14 16  4  4  6  7  5  5 10  0  0 12 12 12 12  1  1  1\n",
      "  4  4  4  4 15  7  7  7  8  5  5  5  5  9] 30\n",
      "38 hideki_hayashi 168\n"
     ]
    },
    {
     "name": "stderr",
     "output_type": "stream",
     "text": [
      "D:\\anaconda\\lib\\site-packages\\smart_open\\smart_open_lib.py:398: UserWarning: This function is deprecated, use smart_open.open instead. See the migration notes for details: https://github.com/RaRe-Technologies/smart_open/blob/master/README.rst#migrating-to-the-new-open-function\n",
      "  'See the migration notes for details: %s' % _MIGRATION_NOTES_URL\n",
      "D:\\anaconda\\lib\\site-packages\\ipykernel_launcher.py:388: DeprecationWarning: Call to deprecated `__contains__` (Method will be removed in 4.0.0, use self.wv.__contains__() instead).\n",
      "D:\\anaconda\\lib\\site-packages\\ipykernel_launcher.py:389: DeprecationWarning: Call to deprecated `__getitem__` (Method will be removed in 4.0.0, use self.wv.__getitem__() instead).\n"
     ]
    },
    {
     "name": "stdout",
     "output_type": "stream",
     "text": [
      "#papers  168\n",
      "#authors 521\n",
      "#org_words 135\n",
      "#confs   148\n",
      "walks done\n"
     ]
    },
    {
     "name": "stderr",
     "output_type": "stream",
     "text": [
      "D:\\anaconda\\lib\\site-packages\\ipykernel_launcher.py:54: DeprecationWarning: Call to deprecated `__contains__` (Method will be removed in 4.0.0, use self.wv.__contains__() instead).\n",
      "D:\\anaconda\\lib\\site-packages\\ipykernel_launcher.py:55: DeprecationWarning: Call to deprecated `__getitem__` (Method will be removed in 4.0.0, use self.wv.__getitem__() instead).\n"
     ]
    },
    {
     "name": "stdout",
     "output_type": "stream",
     "text": [
      "walks done\n",
      "walks done\n",
      "walks done\n",
      "walks done\n",
      "walks done\n",
      "walks done\n",
      "walks done\n",
      "walks done\n",
      "walks done\n",
      "relational outlier: set()\n",
      "semantic outlier: set()\n",
      "[0 0 1 1 1 2 3 3 3 3 3 4 4 4 4 2 2 0 1 2 2 2 3 3 3 3 2 4 4 4 2 0 1 2 2 3 3\n",
      " 3 3 3 3 4 0 5 6 6 2 0 1 2 2 3 3 3 4 4 2 2 5 6 2 0 1 1 2 2 2 3 3 3 0 0 0 4\n",
      " 5 6 2 0 1 1 1 1 2 2 3 3 3 3 4 4 2 2 0 4 4 4 4 6 1 1 1 1 1 2 2 2 3 3 3 3 4\n",
      " 2 4 5 2 1 1 2 2 2 4 0 4 1 1 2 2 2 3 3 3 4 4 0 4 4 2 1 1 3 4 4 2 0 0 5 2 2\n",
      " 2 3 3 3 3 3 3 2 2 0 4 5 2 3 3 3 3 4 0 2] 7\n",
      "39 hongjie_zhang 626\n"
     ]
    },
    {
     "name": "stderr",
     "output_type": "stream",
     "text": [
      "D:\\anaconda\\lib\\site-packages\\smart_open\\smart_open_lib.py:398: UserWarning: This function is deprecated, use smart_open.open instead. See the migration notes for details: https://github.com/RaRe-Technologies/smart_open/blob/master/README.rst#migrating-to-the-new-open-function\n",
      "  'See the migration notes for details: %s' % _MIGRATION_NOTES_URL\n",
      "D:\\anaconda\\lib\\site-packages\\ipykernel_launcher.py:388: DeprecationWarning: Call to deprecated `__contains__` (Method will be removed in 4.0.0, use self.wv.__contains__() instead).\n",
      "D:\\anaconda\\lib\\site-packages\\ipykernel_launcher.py:389: DeprecationWarning: Call to deprecated `__getitem__` (Method will be removed in 4.0.0, use self.wv.__getitem__() instead).\n"
     ]
    },
    {
     "name": "stdout",
     "output_type": "stream",
     "text": [
      "#papers  626\n",
      "#authors 791\n",
      "#org_words 218\n",
      "#confs   264\n",
      "walks done\n"
     ]
    },
    {
     "name": "stderr",
     "output_type": "stream",
     "text": [
      "D:\\anaconda\\lib\\site-packages\\ipykernel_launcher.py:54: DeprecationWarning: Call to deprecated `__contains__` (Method will be removed in 4.0.0, use self.wv.__contains__() instead).\n",
      "D:\\anaconda\\lib\\site-packages\\ipykernel_launcher.py:55: DeprecationWarning: Call to deprecated `__getitem__` (Method will be removed in 4.0.0, use self.wv.__getitem__() instead).\n"
     ]
    },
    {
     "name": "stdout",
     "output_type": "stream",
     "text": [
      "walks done\n",
      "walks done\n",
      "walks done\n",
      "walks done\n",
      "walks done\n",
      "walks done\n",
      "walks done\n",
      "walks done\n",
      "walks done\n",
      "relational outlier: {579, 380, 549}\n",
      "semantic outlier: set()\n",
      "[ 1  0  0  0  0  0  0  0  0  0  0  0  0  0  0  1  0  0  0  1  0  0  0  0\n",
      "  0  0  0  0  1  3  2  3 10  4  4 11 11  5  5  4  4  6  6  4  4  4  7  7\n",
      "  0  0  0  0  0  0  0  1  0  0  0  0  0  0  0  0  0  0  0  0  0  0  0  0\n",
      "  1  0  1  0  1  0  0  0  1 14  3  8  3  3  3  3  3  3  2  9  9 10 10 10\n",
      "  4 11  5  5  5  4 12  6  6  6  6  4  7  1  1  0  1  1  1  0  0  0  0  1\n",
      "  0  0  1  0  0  0  0  0  0  0  0  0  0  1  0  0  0  1  1  3  8  2  3  8\n",
      "  2  3  9 10 10 10  4  5  4  6  6  0  0  1  0  0  0  0  0  0  0  1  0  1\n",
      "  0  0  0  1  0  1  1  0  1  0  0  0  0  0  0  0  0  0  0  1  0  0  8  3\n",
      "  2  3  9  9 10 10  4  5  4  1  1  0  1  0  0  0  0  1  1  0  0  1  0  0\n",
      "  0  0  1  1  0  1  1  0  0  0  0  0  0  0  0  0  0  0  0  1  0  0  1  0\n",
      "  0  1  8  3  8  3  3  3  8  3  3  3  9  9  9  9  9  9  9  9 10 10  6  6\n",
      "  7  0  0  0  0  0  0  0  1  1  0  0  0  0  0  0  1  0  1  0  0  0  0  0\n",
      "  0  0  0  0  0  0  0  0  0  3  2  2  3  2  3  8  9  9  9 10 10 10  4  5\n",
      "  4  7  1  0  0  0  1  1  0  0  0  0  0  0  0  0  1  0  1  0  0  1  0  0\n",
      "  0  0  0  0  0  1  0  0  0  0  0  0  1  0  0  1  0  0  0  0  1  0  0  0\n",
      "  0  0  1  2  3  3  3  8  3 11  6  0  0  0  0  1  0  1  0  1 15  1  0  0\n",
      "  0  0  0  0  1  1  0  0  0  0  0  0  0  0  0  0  0  0  0  0  3  8  3  3\n",
      "  3  3  3  2  9  4  4 11  5  4  4  4 12  0  0  0  0  0  0  0  0  0  0  1\n",
      "  0  0  0  0  0  0  0  0  1  1  0  0  1  0  0  0  1  1  0  0  0  0  0  0\n",
      "  1  3  8  2  3  3  2  3  3  8  9  9  4  4  6  6  4  0  0  0  0  0  1  1\n",
      "  0  0  1  0  1  0  0  0  0  0  0  0  0  0  0  1  0  0  1  0  1  1  0  0\n",
      "  0  0  0  0  0  3  3  3  3  2  8  9 10 10  4  4  4  4 11 12  6  0  0  0\n",
      "  0  0  0  0  0  0  0  0  0  0  0  0  0  0  0  0  0  0  0  0  0  0  1  1\n",
      "  0  0  1  1  0  0  0  0  1  0  0  1  0  0  3  3  3  3  3  3  8  3  3  2\n",
      "  9  9 10 16  4 12  7  0  1  1  1  0  1  1  0  0  0  0  0  0  0  1  0  0\n",
      "  0  1  1  0  0  0  1  0  0  0  0  8  8  2  3  2  3  4  4 17 11  4 12 12\n",
      "  6  6] 17\n",
      "40 h_vogel 111\n"
     ]
    },
    {
     "name": "stderr",
     "output_type": "stream",
     "text": [
      "D:\\anaconda\\lib\\site-packages\\smart_open\\smart_open_lib.py:398: UserWarning: This function is deprecated, use smart_open.open instead. See the migration notes for details: https://github.com/RaRe-Technologies/smart_open/blob/master/README.rst#migrating-to-the-new-open-function\n",
      "  'See the migration notes for details: %s' % _MIGRATION_NOTES_URL\n",
      "D:\\anaconda\\lib\\site-packages\\ipykernel_launcher.py:388: DeprecationWarning: Call to deprecated `__contains__` (Method will be removed in 4.0.0, use self.wv.__contains__() instead).\n",
      "D:\\anaconda\\lib\\site-packages\\ipykernel_launcher.py:389: DeprecationWarning: Call to deprecated `__getitem__` (Method will be removed in 4.0.0, use self.wv.__getitem__() instead).\n"
     ]
    },
    {
     "name": "stdout",
     "output_type": "stream",
     "text": [
      "#papers  111\n",
      "#authors 328\n",
      "#org_words 83\n",
      "#confs   48\n",
      "walks done\n",
      "walks done\n"
     ]
    },
    {
     "name": "stderr",
     "output_type": "stream",
     "text": [
      "D:\\anaconda\\lib\\site-packages\\ipykernel_launcher.py:54: DeprecationWarning: Call to deprecated `__contains__` (Method will be removed in 4.0.0, use self.wv.__contains__() instead).\n",
      "D:\\anaconda\\lib\\site-packages\\ipykernel_launcher.py:55: DeprecationWarning: Call to deprecated `__getitem__` (Method will be removed in 4.0.0, use self.wv.__getitem__() instead).\n"
     ]
    },
    {
     "name": "stdout",
     "output_type": "stream",
     "text": [
      "walks done\n",
      "walks done\n",
      "walks done\n",
      "walks done\n",
      "walks done\n",
      "walks done\n",
      "walks done\n",
      "walks done\n",
      "relational outlier: set()\n",
      "semantic outlier: set()\n",
      "[0 0 0 0 0 0 0 0 0 0 0 0 0 0 0 0 0 0 0 0 0 1 1 1 1 0 0 0 0 0 0 0 0 0 0 0 0\n",
      " 0 0 0 0 0 0 0 0 0 0 0 0 1 1 1 0 0 0 0 0 0 0 0 0 0 0 0 0 0 0 0 0 0 0 0 0 0\n",
      " 0 0 0 0 1 1 1 0 0 0 0 0 0 0 0 0 0 0 0 0 0 0 0 1 1 1 0 0 0 0 0 0 0 0 0 0 0] 2\n",
      "41 wen_gao 33\n"
     ]
    },
    {
     "name": "stderr",
     "output_type": "stream",
     "text": [
      "D:\\anaconda\\lib\\site-packages\\smart_open\\smart_open_lib.py:398: UserWarning: This function is deprecated, use smart_open.open instead. See the migration notes for details: https://github.com/RaRe-Technologies/smart_open/blob/master/README.rst#migrating-to-the-new-open-function\n",
      "  'See the migration notes for details: %s' % _MIGRATION_NOTES_URL\n",
      "D:\\anaconda\\lib\\site-packages\\ipykernel_launcher.py:388: DeprecationWarning: Call to deprecated `__contains__` (Method will be removed in 4.0.0, use self.wv.__contains__() instead).\n",
      "D:\\anaconda\\lib\\site-packages\\ipykernel_launcher.py:389: DeprecationWarning: Call to deprecated `__getitem__` (Method will be removed in 4.0.0, use self.wv.__getitem__() instead).\n",
      "D:\\anaconda\\lib\\site-packages\\ipykernel_launcher.py:54: DeprecationWarning: Call to deprecated `__contains__` (Method will be removed in 4.0.0, use self.wv.__contains__() instead).\n",
      "D:\\anaconda\\lib\\site-packages\\ipykernel_launcher.py:55: DeprecationWarning: Call to deprecated `__getitem__` (Method will be removed in 4.0.0, use self.wv.__getitem__() instead).\n"
     ]
    },
    {
     "name": "stdout",
     "output_type": "stream",
     "text": [
      "#papers  33\n",
      "#authors 99\n",
      "#org_words 45\n",
      "#confs   48\n",
      "walks done\n",
      "walks done\n",
      "walks done\n",
      "walks done\n",
      "walks done\n",
      "walks done\n",
      "walks done\n",
      "walks done\n",
      "walks done\n",
      "walks done\n",
      "relational outlier: set()\n",
      "semantic outlier: set()\n",
      "[0 0 0 0 0 0 0 0 0 0 0 0 0 0 0 0 0 0 0 0 0 0 0 0 0 0 0 0 0 0 0 0 0] 1\n",
      "42 r_gupta 271\n"
     ]
    },
    {
     "name": "stderr",
     "output_type": "stream",
     "text": [
      "D:\\anaconda\\lib\\site-packages\\smart_open\\smart_open_lib.py:398: UserWarning: This function is deprecated, use smart_open.open instead. See the migration notes for details: https://github.com/RaRe-Technologies/smart_open/blob/master/README.rst#migrating-to-the-new-open-function\n",
      "  'See the migration notes for details: %s' % _MIGRATION_NOTES_URL\n",
      "D:\\anaconda\\lib\\site-packages\\ipykernel_launcher.py:388: DeprecationWarning: Call to deprecated `__contains__` (Method will be removed in 4.0.0, use self.wv.__contains__() instead).\n",
      "D:\\anaconda\\lib\\site-packages\\ipykernel_launcher.py:389: DeprecationWarning: Call to deprecated `__getitem__` (Method will be removed in 4.0.0, use self.wv.__getitem__() instead).\n"
     ]
    },
    {
     "name": "stdout",
     "output_type": "stream",
     "text": [
      "#papers  271\n",
      "#authors 646\n",
      "#org_words 117\n",
      "#confs   119\n",
      "walks done\n"
     ]
    },
    {
     "name": "stderr",
     "output_type": "stream",
     "text": [
      "D:\\anaconda\\lib\\site-packages\\ipykernel_launcher.py:54: DeprecationWarning: Call to deprecated `__contains__` (Method will be removed in 4.0.0, use self.wv.__contains__() instead).\n",
      "D:\\anaconda\\lib\\site-packages\\ipykernel_launcher.py:55: DeprecationWarning: Call to deprecated `__getitem__` (Method will be removed in 4.0.0, use self.wv.__getitem__() instead).\n"
     ]
    },
    {
     "name": "stdout",
     "output_type": "stream",
     "text": [
      "walks done\n",
      "walks done\n",
      "walks done\n",
      "walks done\n",
      "walks done\n",
      "walks done\n",
      "walks done\n",
      "walks done\n",
      "walks done\n",
      "relational outlier: {235, 156, 239}\n",
      "semantic outlier: set()\n",
      "[ 0 13  1  2  1  3  3  3  3  3  3  3  3  3  4  5  6  6  7  8  0  0  0  1\n",
      "  3  3  3  4  5  6  7  8  8  8  0  0  3  3  3  3  3  7  5  5  6  9  9  9\n",
      " 31  7  0  1  1  3  3  3  3  3  3  3  3 11  1  4  7  5  5  9  7  0  0 10\n",
      "  3  3  3  3  3  3  3  3  3  1  1  4  9  7  8  0  2 13  3  3  3  3  3  3\n",
      "  3  3  3  3  3  2  7  5  5  6  7  0  0  1  2  1  3  3  3  3  3  3  3 11\n",
      "  7  5 31  0  0 10  3  3  3  3  3  3  3  3  1  4  7  5  0  0  1  1 10  3\n",
      "  3  3  3  3 11  2  4  7  5  5  5  5 22  8  0  1  1  3  3  3  3  3 11 11\n",
      "  2  7  7  5  5  7  8 13  1  3  3  3  3  3  3  3  3  3  3 11 11  2  4  7\n",
      "  7  5  5  8  2 10  3  3  3  3  3  3 11  2  1  1  1  7  7  7  5  5  5  6\n",
      "  6  6  7 13  1 13  3  3  3  3  3  3  3  3  3  3  3 11  2  2  1  5  6 30\n",
      "  1  7  2  3  3  3  3  3  3  3  3  3  3  3 11 11  1  9 31  7  3  3  3  3\n",
      "  3  3  3 11  9  9  7] 16\n",
      "43 jie_gong 406\n"
     ]
    },
    {
     "name": "stderr",
     "output_type": "stream",
     "text": [
      "D:\\anaconda\\lib\\site-packages\\smart_open\\smart_open_lib.py:398: UserWarning: This function is deprecated, use smart_open.open instead. See the migration notes for details: https://github.com/RaRe-Technologies/smart_open/blob/master/README.rst#migrating-to-the-new-open-function\n",
      "  'See the migration notes for details: %s' % _MIGRATION_NOTES_URL\n",
      "D:\\anaconda\\lib\\site-packages\\ipykernel_launcher.py:388: DeprecationWarning: Call to deprecated `__contains__` (Method will be removed in 4.0.0, use self.wv.__contains__() instead).\n",
      "D:\\anaconda\\lib\\site-packages\\ipykernel_launcher.py:389: DeprecationWarning: Call to deprecated `__getitem__` (Method will be removed in 4.0.0, use self.wv.__getitem__() instead).\n"
     ]
    },
    {
     "name": "stdout",
     "output_type": "stream",
     "text": [
      "#papers  406\n",
      "#authors 681\n",
      "#org_words 298\n",
      "#confs   356\n",
      "walks done\n"
     ]
    },
    {
     "name": "stderr",
     "output_type": "stream",
     "text": [
      "D:\\anaconda\\lib\\site-packages\\ipykernel_launcher.py:54: DeprecationWarning: Call to deprecated `__contains__` (Method will be removed in 4.0.0, use self.wv.__contains__() instead).\n",
      "D:\\anaconda\\lib\\site-packages\\ipykernel_launcher.py:55: DeprecationWarning: Call to deprecated `__getitem__` (Method will be removed in 4.0.0, use self.wv.__getitem__() instead).\n"
     ]
    },
    {
     "name": "stdout",
     "output_type": "stream",
     "text": [
      "walks done\n",
      "walks done\n",
      "walks done\n",
      "walks done\n",
      "walks done\n",
      "walks done\n",
      "walks done\n",
      "walks done\n",
      "walks done\n",
      "relational outlier: {131}\n",
      "semantic outlier: set()\n",
      "[ 0  0  1  2 29  3  4  4  4 17  5  5  1  0  0  1  1  1  2  2  2  6  7  8\n",
      "  4  9 10 30 30 11 11  0  0  1  1  6  6  6  3  8 12 12 13 13 14 32  0  0\n",
      "  0  0  1 13  2  6 15  7  7  4 12 16 16 13 13 17 14 18 22  0  0  1 25  2\n",
      "  2  6 16 16 18 18 41 41  1 19 27  0  1  1 15  7 12 12 12 20 21 22 23  0\n",
      "  0  1  6  7  8 17 17 19 11  0  1  1  1  1  6 15  3  7 13 18 36  1 19 19\n",
      " 27  0  1  1  6 37 24  4 21 17 18 36 23  1  1  7  8  8 12 12 12 20 20 16\n",
      " 21 18  1 11 11  1  1  1  1 25  2  2  3  7  8 12 17  9 10  5 41  1  1  1\n",
      "  1 25  2  2  6  6  6  3  7  7 24 12  1 11  1  2  6 37  3  7  8  4 10 41\n",
      " 12 26  1  1  2  2  6  3  7  7 24  4  4 12 12 16 16 21 13 14 17 23  1  1\n",
      "  1 25 25  2  6  6  6  3 24  1  1 19 19 11 27 27  1  1  2  6  7  8  4  4\n",
      " 18  9 10 22 27  1  1  1 25  6  6 15  3  8  4 21 18 10  5  1  1 23  1  1\n",
      "  1  2  6  6  3 16 20 21 13 17 14 14 12  1 11 26  1 25  2  7  7 41 12  1\n",
      "  1  2  6  6  6  6  7  8  4  4 17  5 41 23 26 26  1  6  8  4 17  9 12 23\n",
      "  1 25  6  3  3  3  7  8  8 24  4 20 13 36 22 22  1  1  1  1  6  6  7 12\n",
      " 14  5 12  1  6  6  3  7 24 24 24 12 14  1 25  2  4 17 17  9 10 25  6  6\n",
      "  6  3  7  7  4 12  1  1 25  6  6  7  7  7 17 17 36  1 27 23  2  2  6  3\n",
      "  7  7  4 12 18  9 10 10  1  2  2  7  8 24 24  4 12 18 10 22 27 26] 34\n",
      "44 bing_ren 351\n"
     ]
    },
    {
     "name": "stderr",
     "output_type": "stream",
     "text": [
      "D:\\anaconda\\lib\\site-packages\\smart_open\\smart_open_lib.py:398: UserWarning: This function is deprecated, use smart_open.open instead. See the migration notes for details: https://github.com/RaRe-Technologies/smart_open/blob/master/README.rst#migrating-to-the-new-open-function\n",
      "  'See the migration notes for details: %s' % _MIGRATION_NOTES_URL\n",
      "D:\\anaconda\\lib\\site-packages\\ipykernel_launcher.py:388: DeprecationWarning: Call to deprecated `__contains__` (Method will be removed in 4.0.0, use self.wv.__contains__() instead).\n",
      "D:\\anaconda\\lib\\site-packages\\ipykernel_launcher.py:389: DeprecationWarning: Call to deprecated `__getitem__` (Method will be removed in 4.0.0, use self.wv.__getitem__() instead).\n"
     ]
    },
    {
     "name": "stdout",
     "output_type": "stream",
     "text": [
      "#papers  351\n",
      "#authors 1122\n",
      "#org_words 158\n",
      "#confs   197\n",
      "walks done\n"
     ]
    },
    {
     "name": "stderr",
     "output_type": "stream",
     "text": [
      "D:\\anaconda\\lib\\site-packages\\ipykernel_launcher.py:54: DeprecationWarning: Call to deprecated `__contains__` (Method will be removed in 4.0.0, use self.wv.__contains__() instead).\n",
      "D:\\anaconda\\lib\\site-packages\\ipykernel_launcher.py:55: DeprecationWarning: Call to deprecated `__getitem__` (Method will be removed in 4.0.0, use self.wv.__getitem__() instead).\n"
     ]
    },
    {
     "name": "stdout",
     "output_type": "stream",
     "text": [
      "walks done\n",
      "walks done\n",
      "walks done\n",
      "walks done\n",
      "walks done\n",
      "walks done\n",
      "walks done\n",
      "walks done\n",
      "walks done\n",
      "relational outlier: {70}\n",
      "semantic outlier: set()\n",
      "[0 0 1 1 1 1 1 1 1 1 1 1 2 3 3 3 3 3 3 3 3 4 4 4 4 5 5 5 6 6 6 7 8 9 0 0 1\n",
      " 1 1 1 1 1 1 1 1 1 1 1 2 3 3 3 3 4 4 4 4 4 4 4 4 5 5 5 6 6 6 7 8 0 0 1 1 1\n",
      " 1 1 1 1 1 1 1 1 1 1 1 2 2 3 3 3 3 3 3 3 3 3 4 4 4 4 5 5 5 5 6 6 7 8 8 0 0\n",
      " 1 1 1 1 1 1 1 1 1 1 1 2 3 3 3 3 3 3 4 4 4 4 4 4 4 4 5 5 5 6 6 6 6 7 6 8 9\n",
      " 0 0 0 0 1 1 1 1 1 1 1 1 1 1 1 2 3 3 3 3 3 3 3 4 4 4 4 4 4 4 4 5 5 6 6 6 7\n",
      " 8 8 0 0 1 1 1 1 1 1 1 1 1 1 1 2 3 3 3 4 4 4 4 4 4 4 4 4 4 4 4 5 5 5 6 7 8\n",
      " 8 8 0 1 1 1 1 1 1 1 1 1 1 1 1 1 1 1 1 1 1 1 1 3 3 3 3 3 3 4 4 4 4 5 5 5 5\n",
      " 5 6 6 7 8 9 9 0 0 1 1 1 1 1 1 1 1 1 1 1 1 1 1 1 1 1 1 1 1 2 3 3 3 3 4 4 4\n",
      " 4 5 5 5 6 9 1 1 1 1 1 1 1 1 1 1 1 1 1 1 1 1 1 1 1 1 1 2 2 2 3 3 3 3 3 3 3\n",
      " 3 3 4 4 4 4 0 4 4 4 5 5 5 6 6 6 8 8] 10\n",
      "45 zhen_lei 206\n"
     ]
    },
    {
     "name": "stderr",
     "output_type": "stream",
     "text": [
      "D:\\anaconda\\lib\\site-packages\\smart_open\\smart_open_lib.py:398: UserWarning: This function is deprecated, use smart_open.open instead. See the migration notes for details: https://github.com/RaRe-Technologies/smart_open/blob/master/README.rst#migrating-to-the-new-open-function\n",
      "  'See the migration notes for details: %s' % _MIGRATION_NOTES_URL\n",
      "D:\\anaconda\\lib\\site-packages\\ipykernel_launcher.py:388: DeprecationWarning: Call to deprecated `__contains__` (Method will be removed in 4.0.0, use self.wv.__contains__() instead).\n",
      "D:\\anaconda\\lib\\site-packages\\ipykernel_launcher.py:389: DeprecationWarning: Call to deprecated `__getitem__` (Method will be removed in 4.0.0, use self.wv.__getitem__() instead).\n"
     ]
    },
    {
     "name": "stdout",
     "output_type": "stream",
     "text": [
      "#papers  206\n",
      "#authors 242\n",
      "#org_words 64\n",
      "#confs   137\n",
      "walks done\n"
     ]
    },
    {
     "name": "stderr",
     "output_type": "stream",
     "text": [
      "D:\\anaconda\\lib\\site-packages\\ipykernel_launcher.py:54: DeprecationWarning: Call to deprecated `__contains__` (Method will be removed in 4.0.0, use self.wv.__contains__() instead).\n",
      "D:\\anaconda\\lib\\site-packages\\ipykernel_launcher.py:55: DeprecationWarning: Call to deprecated `__getitem__` (Method will be removed in 4.0.0, use self.wv.__getitem__() instead).\n"
     ]
    },
    {
     "name": "stdout",
     "output_type": "stream",
     "text": [
      "walks done\n",
      "walks done\n",
      "walks done\n",
      "walks done\n",
      "walks done\n",
      "walks done\n",
      "walks done\n",
      "walks done\n",
      "walks done\n",
      "relational outlier: {106}\n",
      "semantic outlier: set()\n",
      "[0 0 0 0 0 1 1 1 1 1 1 1 1 1 1 1 1 1 1 1 1 1 1 1 1 1 1 1 1 1 1 1 1 1 1 1 1\n",
      " 1 1 1 1 1 2 1 1 2 2 2 2 2 0 0 0 0 0 0 1 1 1 1 1 1 1 1 1 1 1 1 1 1 1 1 1 1\n",
      " 1 1 1 1 1 1 1 1 1 1 1 1 1 1 1 1 1 1 1 3 3 3 3 2 2 2 2 2 2 0 0 1 5 1 1 1 1\n",
      " 1 1 1 1 1 1 1 1 1 1 1 1 1 1 1 1 1 1 1 1 1 1 2 1 1 1 1 1 1 1 1 1 1 1 1 1 1\n",
      " 1 1 3 3 2 2 2 0 0 0 0 0 0 0 0 1 1 1 1 1 1 1 1 1 1 1 1 1 1 1 1 1 1 1 1 1 1\n",
      " 1 1 1 1 1 1 1 1 1 1 1 1 1 2 1 1 3 3 2 2 2] 5\n",
      "46 chun_chen 830\n"
     ]
    },
    {
     "name": "stderr",
     "output_type": "stream",
     "text": [
      "D:\\anaconda\\lib\\site-packages\\smart_open\\smart_open_lib.py:398: UserWarning: This function is deprecated, use smart_open.open instead. See the migration notes for details: https://github.com/RaRe-Technologies/smart_open/blob/master/README.rst#migrating-to-the-new-open-function\n",
      "  'See the migration notes for details: %s' % _MIGRATION_NOTES_URL\n",
      "D:\\anaconda\\lib\\site-packages\\ipykernel_launcher.py:388: DeprecationWarning: Call to deprecated `__contains__` (Method will be removed in 4.0.0, use self.wv.__contains__() instead).\n",
      "D:\\anaconda\\lib\\site-packages\\ipykernel_launcher.py:389: DeprecationWarning: Call to deprecated `__getitem__` (Method will be removed in 4.0.0, use self.wv.__getitem__() instead).\n"
     ]
    },
    {
     "name": "stdout",
     "output_type": "stream",
     "text": [
      "#papers  830\n",
      "#authors 757\n",
      "#org_words 277\n",
      "#confs   566\n",
      "walks done\n"
     ]
    },
    {
     "name": "stderr",
     "output_type": "stream",
     "text": [
      "D:\\anaconda\\lib\\site-packages\\ipykernel_launcher.py:54: DeprecationWarning: Call to deprecated `__contains__` (Method will be removed in 4.0.0, use self.wv.__contains__() instead).\n",
      "D:\\anaconda\\lib\\site-packages\\ipykernel_launcher.py:55: DeprecationWarning: Call to deprecated `__getitem__` (Method will be removed in 4.0.0, use self.wv.__getitem__() instead).\n"
     ]
    },
    {
     "name": "stdout",
     "output_type": "stream",
     "text": [
      "walks done\n",
      "walks done\n",
      "walks done\n",
      "walks done\n",
      "walks done\n",
      "walks done\n",
      "walks done\n",
      "walks done\n",
      "walks done\n",
      "relational outlier: {608, 101}\n",
      "semantic outlier: set()\n",
      "[ 0  0  0  0  0  0  0  0  0  0  0  0  0  0  0  0  0  0  0  0  0  0  0  0\n",
      "  0  0  0  0  0  1  1  2  2  3  4  4  5  6  7  8  9  9 10  0  0  0  0  0\n",
      "  0  0  0  0  0  0  0  0  0  0 11  1  1  1  0  2  2  5  6  6  7  7  7  9\n",
      " 12 10  0  0  0  0  0  0  0  0  0  0  0  0  0  0  0  0  0  0  0  0  0  0\n",
      "  0  0  0  0  0 20  0  0  0 11  2  2  2  3  4 13  6  6  7  8 12  0  0  0\n",
      "  0  0  0  0  0  0  0  0  0  0  0  0  0  0  0  0  0  0  0  0  0 11  1  1\n",
      "  1  1  1  1  1  2  2 14  3 15 15 16  5  6  6  7  7  1  0  0  0  0  0  0\n",
      "  0  0  0  0  0  0  0  0  0  0  0  0  0  0  0  0  0  0  0  1  1  0  2  2\n",
      "  2 14 15 16  4 13  6  8  9  0  0  0  0  0  0  0 11  0  0  0  0  0  0  0\n",
      "  0  0  0  0  0  0  0  0  0  0 11 11 11  1  1  1  1  1  1  1 15 15 15 15\n",
      "  7  0  0  0  0  0  0 17  0  0  0  0  0  0  0  0  0  0  0  0  0  0  0  0\n",
      "  0  0 21  0  0  0  0  1  1  1  1  1  1  1  1  1  2  2 14  3 15 15  4  5\n",
      "  7  8  0  0  0  0  0  0  0  0  0  0  0  0  0  0  0  0  0  0  0  0  0  0\n",
      "  0  0  0  0  0 11  1  1  1  1  1  2 15  4  4 13  8  1  9  0  0  0  0  0\n",
      "  0  0  0  0  0  0  0  0  0  0  0  0  0  0  0 17  0  0  0  0  0 11  1  1\n",
      "  0  0  0  2 15 15 16 16  4 13  5 18  6  7  7 10  0  0  0  0  0 21  0  0\n",
      "  0  0  0  0  0  0  0  0  0  0  0  0  0 11 11 11  1  1  1  1  1  2 14 15\n",
      "  4  5  5  5  6  6  1  0  0  0  0  0  0  0  0  0  0  0  0  0  0  0  0  0\n",
      "  0 11  0  0  0  0  0  0  0  0  0  1  1  1 14 15 16 18  6  6  6  9 12 10\n",
      "  0  0  0  0  0  0  0  0  0  0  0  0  0  0  0  0  0  0  0  0  0  0  0  0\n",
      "  0  0  2 14  3 15 16 13 18  6  6  6  6  8 12  0  0  0  0  0  0  0  0 11\n",
      "  0  0  0  0  0  0  0  0  0  0  0  0  0 11  1  1  1  1  3 15 16  4  4 13\n",
      " 18  6  8  1  0  0  0  0  0 11  0  0  0  0  0  0  0  0  0 11  0  0  0  0\n",
      "  0  0  0  0  1  1  1  1  1  1  2  2 14  3  3  4 13 13  6  7  8  1  9 12\n",
      " 12 10  0  0  0  0  0  0  0  0  0  0  0  0  0  0  0  0  0  0  0  0  0  0\n",
      "  0  0  0  0  0  1  1  0 23 15  4  4  5  6  6  8  0  0  0  0  0  0  0  0\n",
      "  0  0  0  0  0  0  0  0  0  0  0  0  0  0  0 15  0  2  2  2 14 15 16  4\n",
      "  5  6  9 12 12  0  0  0  0  0  0  0  0  0  0  0  0  0  0  0  0  0  0  0\n",
      "  0  0  0 11  1  0  2  2  3 15 15  4  4  5  1 10 10  0  0  0  0  0  0  0\n",
      "  0  0  0  0  0  0  0  0  0 17  0  0  0  0  0  0  0  0  0  0  0 11  0  3\n",
      "  3 15  5 24  1  0  0  0  0  0  0  0  0  0  0  0  0  0  0  0  0  0  0  0\n",
      "  0  0  0  0  0  0  0  0  0  0 17 11  1  1  0  2  2  6  7  1 12  0  0  0\n",
      "  0  0  0  0  0  0  0  0  0  0  0  0  0  0  0  0  0  0  0  0  0  0  1  1\n",
      "  1  1  1  2  2  3  4  6  6  8  0  0  0  0  0  0  0  0  0  0  0  0  0  0\n",
      " 11  1  1  1  1  1  2  2  3 15  4 18  8  8] 23\n",
      "47 frank_caruso 293\n"
     ]
    },
    {
     "name": "stderr",
     "output_type": "stream",
     "text": [
      "D:\\anaconda\\lib\\site-packages\\smart_open\\smart_open_lib.py:398: UserWarning: This function is deprecated, use smart_open.open instead. See the migration notes for details: https://github.com/RaRe-Technologies/smart_open/blob/master/README.rst#migrating-to-the-new-open-function\n",
      "  'See the migration notes for details: %s' % _MIGRATION_NOTES_URL\n",
      "D:\\anaconda\\lib\\site-packages\\ipykernel_launcher.py:388: DeprecationWarning: Call to deprecated `__contains__` (Method will be removed in 4.0.0, use self.wv.__contains__() instead).\n",
      "D:\\anaconda\\lib\\site-packages\\ipykernel_launcher.py:389: DeprecationWarning: Call to deprecated `__getitem__` (Method will be removed in 4.0.0, use self.wv.__getitem__() instead).\n"
     ]
    },
    {
     "name": "stdout",
     "output_type": "stream",
     "text": [
      "#papers  293\n",
      "#authors 510\n",
      "#org_words 73\n",
      "#confs   83\n",
      "walks done\n"
     ]
    },
    {
     "name": "stderr",
     "output_type": "stream",
     "text": [
      "D:\\anaconda\\lib\\site-packages\\ipykernel_launcher.py:54: DeprecationWarning: Call to deprecated `__contains__` (Method will be removed in 4.0.0, use self.wv.__contains__() instead).\n",
      "D:\\anaconda\\lib\\site-packages\\ipykernel_launcher.py:55: DeprecationWarning: Call to deprecated `__getitem__` (Method will be removed in 4.0.0, use self.wv.__getitem__() instead).\n"
     ]
    },
    {
     "name": "stdout",
     "output_type": "stream",
     "text": [
      "walks done\n",
      "walks done\n",
      "walks done\n",
      "walks done\n",
      "walks done\n",
      "walks done\n",
      "walks done\n",
      "walks done\n",
      "walks done\n",
      "relational outlier: set()\n",
      "semantic outlier: set()\n",
      "[0 0 0 0 0 0 0 0 0 0 1 1 1 1 1 1 1 1 1 1 1 1 1 1 1 1 1 1 1 1 1 1 1 1 1 1 1\n",
      " 1 1 1 1 1 1 1 1 1 1 1 1 1 1 1 1 1 1 1 1 1 1 1 1 1 1 1 1 1 2 2 2 0 0 0 0 0\n",
      " 0 0 0 0 1 1 1 1 1 1 1 1 1 1 1 1 1 1 1 1 1 1 1 1 1 1 1 1 1 1 1 1 1 1 1 1 1\n",
      " 1 1 1 1 1 1 1 1 1 1 1 1 1 1 1 1 1 1 1 1 1 2 2 2 2 0 0 0 0 0 0 1 1 1 1 1 1\n",
      " 1 1 1 1 1 1 1 1 1 1 1 1 1 1 1 1 1 1 1 1 1 1 1 1 1 1 1 1 1 1 1 1 1 1 1 1 1\n",
      " 1 1 1 1 1 1 1 1 1 1 1 1 1 1 1 1 1 1 1 1 1 1 1 1 1 2 2 2 0 0 0 0 0 0 0 0 0\n",
      " 1 1 1 1 1 1 1 1 1 1 1 1 1 1 1 1 1 1 1 1 1 1 1 1 1 1 1 1 1 1 1 1 1 1 1 1 1\n",
      " 1 1 1 1 1 1 1 1 1 1 1 1 1 1 1 1 1 1 1 1 1 1 1 1 1 1 1 1 1 2 2 0 0 0] 3\n",
      "48 haining_wang 412\n"
     ]
    },
    {
     "name": "stderr",
     "output_type": "stream",
     "text": [
      "D:\\anaconda\\lib\\site-packages\\smart_open\\smart_open_lib.py:398: UserWarning: This function is deprecated, use smart_open.open instead. See the migration notes for details: https://github.com/RaRe-Technologies/smart_open/blob/master/README.rst#migrating-to-the-new-open-function\n",
      "  'See the migration notes for details: %s' % _MIGRATION_NOTES_URL\n",
      "D:\\anaconda\\lib\\site-packages\\ipykernel_launcher.py:388: DeprecationWarning: Call to deprecated `__contains__` (Method will be removed in 4.0.0, use self.wv.__contains__() instead).\n",
      "D:\\anaconda\\lib\\site-packages\\ipykernel_launcher.py:389: DeprecationWarning: Call to deprecated `__getitem__` (Method will be removed in 4.0.0, use self.wv.__getitem__() instead).\n"
     ]
    },
    {
     "name": "stdout",
     "output_type": "stream",
     "text": [
      "#papers  412\n",
      "#authors 523\n",
      "#org_words 195\n",
      "#confs   311\n",
      "walks done\n"
     ]
    },
    {
     "name": "stderr",
     "output_type": "stream",
     "text": [
      "D:\\anaconda\\lib\\site-packages\\ipykernel_launcher.py:54: DeprecationWarning: Call to deprecated `__contains__` (Method will be removed in 4.0.0, use self.wv.__contains__() instead).\n",
      "D:\\anaconda\\lib\\site-packages\\ipykernel_launcher.py:55: DeprecationWarning: Call to deprecated `__getitem__` (Method will be removed in 4.0.0, use self.wv.__getitem__() instead).\n"
     ]
    },
    {
     "name": "stdout",
     "output_type": "stream",
     "text": [
      "walks done\n",
      "walks done\n",
      "walks done\n",
      "walks done\n",
      "walks done\n",
      "walks done\n",
      "walks done\n",
      "walks done\n",
      "walks done\n",
      "relational outlier: {161, 296, 41, 49, 401, 180, 182}\n",
      "semantic outlier: set()\n",
      "[ 0  1  2  3  3  3  3  3  3  3  3  4  4  5  6  6  7  7  8  0  9  9 10  2\n",
      "  2  2  2  2  3  3  3  3  3  3  3  3  3  3 11  5 12 19  0  9  9 10 10  2\n",
      "  2  3  3  3  3  3  3  3  3  3  3  3  3  3  4  5  6 13  7  0  0 10  2  3\n",
      "  3  3  3  3  3  3  3  3  3  3  3  3 11 14  4  6  6 13  7 12  8  0  0  0\n",
      "  9  9  9  2  2  2  3  3  3  3  3  3  3  3 11  4  0  9  9  2  3  3  3  3\n",
      "  3  3  3 11 11  4  4  6  6 13 12 15  0  9  9  9 10  2  2  3  3  3  3  3\n",
      "  3  3  3 11 14  4  4  4  4  4  6 13 13  3 15 15  0  0  0  1  9 10  3  3\n",
      "  3  3  3  3  3  3  4  4  6  7  3  0  0  9 10  2  3  3  3  3  3  3  3  3\n",
      "  3  3 16  4  4  5  6 13 13  7 12 17 12  0  0  1  2  2  3  3  3  3  3  3\n",
      "  3  4  6 13  7  3 17  8  0  2  3  3  3 14 16  4  4  4  4  5  5  5  7 12\n",
      "  0  9 10  3  3  3  3  3  3  3  3  3 14  4  4  6 13  7  3  3 17  0  0  0\n",
      "  0  1  3  3  3  3  3 14 14  6  7  3 12 15  0  0  1  9  9  9  9 10  2  3\n",
      "  3  3 16  4  5  5  7 12  0  0  9  9  9  2  2  3  3  3  3  3  3  3  3 14\n",
      "  5  6 13 12 12  8  0  9  2  2  2  2  2  3  3  3  3  3  3  3 14 16  5 12\n",
      " 17 17  0  0  1  9  2  2  2  2  3  3  3  3  3 11 14  5 13  3  3 17  8  0\n",
      "  9  9  2  3 16  4  5  6  6 13  7 12 17 12  8 15  0  1  9  9  9  9 10  2\n",
      "  3  3  3  3  3  3  3 11 14  4  5  8  9  3  3  3  3 22 11 11 16  4  4  5\n",
      " 13  7  3 12] 20\n",
      "49 jianlong_wang 744\n"
     ]
    },
    {
     "name": "stderr",
     "output_type": "stream",
     "text": [
      "D:\\anaconda\\lib\\site-packages\\smart_open\\smart_open_lib.py:398: UserWarning: This function is deprecated, use smart_open.open instead. See the migration notes for details: https://github.com/RaRe-Technologies/smart_open/blob/master/README.rst#migrating-to-the-new-open-function\n",
      "  'See the migration notes for details: %s' % _MIGRATION_NOTES_URL\n",
      "D:\\anaconda\\lib\\site-packages\\ipykernel_launcher.py:388: DeprecationWarning: Call to deprecated `__contains__` (Method will be removed in 4.0.0, use self.wv.__contains__() instead).\n",
      "D:\\anaconda\\lib\\site-packages\\ipykernel_launcher.py:389: DeprecationWarning: Call to deprecated `__getitem__` (Method will be removed in 4.0.0, use self.wv.__getitem__() instead).\n"
     ]
    },
    {
     "name": "stdout",
     "output_type": "stream",
     "text": [
      "#papers  744\n",
      "#authors 904\n",
      "#org_words 230\n",
      "#confs   324\n",
      "walks done\n"
     ]
    },
    {
     "name": "stderr",
     "output_type": "stream",
     "text": [
      "D:\\anaconda\\lib\\site-packages\\ipykernel_launcher.py:54: DeprecationWarning: Call to deprecated `__contains__` (Method will be removed in 4.0.0, use self.wv.__contains__() instead).\n",
      "D:\\anaconda\\lib\\site-packages\\ipykernel_launcher.py:55: DeprecationWarning: Call to deprecated `__getitem__` (Method will be removed in 4.0.0, use self.wv.__getitem__() instead).\n"
     ]
    },
    {
     "name": "stdout",
     "output_type": "stream",
     "text": [
      "walks done\n",
      "walks done\n",
      "walks done\n",
      "walks done\n",
      "walks done\n",
      "walks done\n",
      "walks done\n",
      "walks done\n",
      "walks done\n",
      "relational outlier: {715, 583}\n",
      "semantic outlier: set()\n",
      "[ 0  0  1  2  3  3  4  4  4  4  4  4  4  4  5  5  4  4  4  4  4  4  4  4\n",
      "  4  4  4  4  4  4  4  5  4  6  6  7  6  6  6  8  8  8  8  8  9  9  9 10\n",
      " 11 11  0  0  1  1  1  1  1  1  1  1  3  3  3  3  5  4  5  4  4  4  4  4\n",
      "  5  5  4  4  5  4  4  4  4  4  4  4  4  4  4  4  4  4  4  4  4  4  4  4\n",
      "  4  4  4  4  4  4  4  4  4  4  4  4  6  6  6  6  7  6  6  6  8  8  8  8\n",
      "  9  9 12 10 11  4  4  0  0  0  1  1  1  1  1  1  2  3  4  4  4  4  4  4\n",
      "  4  4  4  4  4  4  4  4  4  4  4  4  4  4  4  4  4  5  4  6  6  6  7  6\n",
      "  6  6  6  6  8  8  8 12 10 11  4  4  0  0  1  1  1  1  1  1  2  1  3  4\n",
      "  4  4  4  4  5  4  5  4  4  4  4  4  4  4  4  4  4  4  4  4  4  4  4  4\n",
      "  4  4  4  4  4  4  4  5  6  6  6  6  6  6  6  6  6  8  8  8  9 12 10 12\n",
      " 12  0  0  1  1  1  1  1  2  3  4  4  4  4  4  4  4  4  5  5  4  4  4  4\n",
      "  4  4  4  4  4  4  4  4  4  4  4  4  4  4  4  4  4  4  4  4  4  5  6  6\n",
      "  6  6  6  6  6  6  6  6  6  6  6  8  8  8  8 17  9 12 10 11  0  1  1  1\n",
      "  1  1  1  1  1  1  1  2  4  4  4  4  5  4  4  4  5  4  4  4  4  4  4  4\n",
      "  4  4  4  4  4  4  4  4  4  4  4  4  4  4  4  4  4  4  4  4  4  4  4  4\n",
      "  4  4  4  4  4  6  6  6  6  6  6  6  6  6  8  8  9  9 10 10 10 10  4  0\n",
      "  1  1  1  1  2  3  4  4  5  4  4  4  5  4  4  4  4  4  4  5  4  5  4  4\n",
      "  4  4  4  4  4  4  4  4  4  4  4  4  4  4  6  6  7  6  6  6  6  6  6  6\n",
      "  6  8  8  8  8 12 11 13 12 12  0  1  1  1  1  1  1  3  4  4  4  4  4  4\n",
      "  5  4  4  4 14  4  4  4  4  4  4  4  4  4  4  4  4  4  4  4  4 14  4  4\n",
      "  4  4  4  4  4  4  4  4  4  4  6  6  7  6  6  6  6  6  6  6  8  8  8  8\n",
      "  8  8  8 10  1  1  1  1  1  1  1  1  4  4  4 14  4  4  4  5  5  4  4  5\n",
      "  4  4  4  4  4  4  4  4  4  4  4  4  4  4  4  4  4  6  6  6  6  6  6  6\n",
      "  6  6  8  8  8  9 12 12 12 10 11 11 13  1  1  1  1  1  1  1  1  1  1  1\n",
      "  1  2  2  2  3  3  3 18  3  4  4  4  4  4  5  4  4  4  5  4  4  4  4  4\n",
      "  4  5  4  4  4  4  5  4  4  4  4  4  4  4  4 14  4  4  4  4  4  4  4  4\n",
      "  4  6  6  7  6  6  6  6  8  8  8  9 12 12 10 13 13 12  1  1  1  1  1  5\n",
      "  4  5  4  4  4  4  4  4  5  4  4  5  4  4  4  4  4  4  4  4  4  4  4  5\n",
      "  4  4  6  6  6  6  6  6  6  8  8 12  1  1  1  2  2  2  3  3  3  3  5  5\n",
      "  4  4  5  4  4  4  4  4  5  4  4  4  4  4  4  4  4  4  4  4  4  4  4  4\n",
      "  4  4  4  6  6  6  6  6  7  6  6  6  6  6  6  8  8  8  8  9 12 11 13 13] 17\n"
     ]
    }
   ],
   "source": [
    "import re\n",
    "from gensim.models import word2vec\n",
    "from sklearn.cluster import DBSCAN\n",
    "import numpy as np\n",
    "\n",
    "pubs_raw = load_json(\"sna_test_data\",\"test_pub_sna.json\")\n",
    "name_pubs1 = load_json(\"sna_test_data\",\"example_evaluation_scratch.json\")\n",
    "\n",
    "result={}\n",
    "\n",
    "for n,name in enumerate(name_pubs1):\n",
    "    pubs=[]\n",
    "    for cluster in name_pubs1[name]:\n",
    "        pubs.extend(cluster)\n",
    "    \n",
    "    \n",
    "    print (n,name,len(pubs))\n",
    "    if len(pubs)==0:\n",
    "        result[name]=[]\n",
    "        continue\n",
    "    \n",
    "    \n",
    "    ##保存关系\n",
    "    ###############################################################\n",
    "    name_pubs_raw = {}\n",
    "    for i,pid in enumerate(pubs):\n",
    "        name_pubs_raw[pid] = pubs_raw[pid]\n",
    "        \n",
    "    dump_json(name_pubs_raw, 'genename', name+'.json', indent=4)\n",
    "    save_relation(name+'.json', name)  \n",
    "    ###############################################################\n",
    "    \n",
    "    \n",
    "    \n",
    "    ##元路径游走类\n",
    "    ###############################################################r\n",
    "    mpg = MetaPathGenerator()\n",
    "    mpg.read_data(\"gene\")\n",
    "    ###############################################################\n",
    "    \n",
    "\n",
    "    \n",
    "    ##论文关系表征向量\n",
    "    ############################################################### \n",
    "    all_embs=[]\n",
    "    rw_num = 10\n",
    "    cp=set()\n",
    "    for k in range(rw_num):\n",
    "        mpg.generate_WMRW(\"gene/RW.txt\",5,20)\n",
    "        sentences = word2vec.Text8Corpus(r'gene/RW.txt')\n",
    "        model = word2vec.Word2Vec(sentences, size=100,negative =25, min_count=1, window=10)\n",
    "        embs=[]\n",
    "        for i,pid in enumerate(pubs):\n",
    "            if pid in model:\n",
    "                embs.append(model[pid])\n",
    "            else:\n",
    "                cp.add(i)\n",
    "                embs.append(np.zeros(100))\n",
    "        all_embs.append(embs)\n",
    "    all_embs= np.array(all_embs)\n",
    "    print ('relational outlier:',cp)    \n",
    "    ############################################################### \n",
    " \n",
    "\n",
    "\n",
    "    ##论文文本表征向量\n",
    "    ###############################################################  \n",
    "    ptext_emb=load_data('gene','ptext_emb.pkl')\n",
    "    tcp=load_data('gene','tcp.pkl')\n",
    "    print ('semantic outlier:',tcp)\n",
    "    tembs=[]\n",
    "    for i,pid in enumerate(pubs):\n",
    "        tembs.append(ptext_emb[pid])\n",
    "    ###############################################################\n",
    "    \n",
    "    \n",
    "    \n",
    "    ##论文相似性矩阵\n",
    "    ###############################################################\n",
    "    sk_sim = np.zeros((len(pubs),len(pubs)))\n",
    "    for k in range(rw_num):\n",
    "        sk_sim = sk_sim + pairwise_distances(all_embs[k],metric=\"cosine\")\n",
    "    sk_sim =sk_sim/rw_num    \n",
    "    \n",
    "\n",
    "    tembs = pairwise_distances(tembs,metric=\"cosine\")\n",
    "   \n",
    "    w=1\n",
    "    sim = (np.array(sk_sim) + w*np.array(tembs))/(1+w)\n",
    "    ############################################################### \n",
    "    \n",
    "    \n",
    "  \n",
    "    ##evaluate\n",
    "    ###############################################################\n",
    "    pre = DBSCAN(eps = 0.2, min_samples = 4,metric =\"precomputed\").fit_predict(sim)\n",
    "    pre= np.array(pre)\n",
    "    \n",
    "    \n",
    "    ##离群论文集\n",
    "    outlier=set()\n",
    "    for i in range(len(pre)):\n",
    "        if pre[i]==-1:\n",
    "            outlier.add(i)\n",
    "    for i in cp:\n",
    "        outlier.add(i)\n",
    "    for i in tcp:\n",
    "        outlier.add(i)\n",
    "            \n",
    "        \n",
    "    ##基于阈值的相似性匹配\n",
    "    paper_pair = generate_pair(pubs,outlier)\n",
    "    paper_pair1 = paper_pair.copy()\n",
    "    K = len(set(pre))\n",
    "    for i in range(len(pre)):\n",
    "        if i not in outlier:\n",
    "            continue\n",
    "        j = np.argmax(paper_pair[i])\n",
    "        while j in outlier:\n",
    "            paper_pair[i][j]=-1\n",
    "            j = np.argmax(paper_pair[i])\n",
    "        if paper_pair[i][j]>=1.5:\n",
    "            pre[i]=pre[j]\n",
    "        else:\n",
    "            pre[i]=K\n",
    "            K=K+1\n",
    "    \n",
    "    for ii,i in enumerate(outlier):\n",
    "        for jj,j in enumerate(outlier):\n",
    "            if jj<=ii:\n",
    "                continue\n",
    "            else:\n",
    "                if paper_pair1[i][j]>=1.5:\n",
    "                    pre[j]=pre[i]\n",
    "            \n",
    "    \n",
    "\n",
    "    print (pre,len(set(pre)))\n",
    "    \n",
    "    result[name]=[]\n",
    "    for i in set(pre):\n",
    "        oneauthor=[]\n",
    "        for idx,j in enumerate(pre):\n",
    "            if i == j:\n",
    "                oneauthor.append(pubs[idx])\n",
    "        result[name].append(oneauthor)\n",
    "    \n",
    "\n",
    "dump_json(result, \"genetest\", \"result_test.json\",indent =4)"
   ]
  },
  {
   "cell_type": "markdown",
   "metadata": {},
   "source": [
    "# name disambiguation (train)"
   ]
  },
  {
   "cell_type": "code",
   "execution_count": 4,
   "metadata": {},
   "outputs": [],
   "source": [
    "pubs_raw = load_json(\"train\",\"train_pub.json\")\n",
    "name_pubs = load_json(\"train\",\"train_author.json\")"
   ]
  },
  {
   "cell_type": "code",
   "execution_count": 6,
   "metadata": {
    "scrolled": true
   },
   "outputs": [
    {
     "name": "stdout",
     "output_type": "stream",
     "text": [
      "0 li_guo 1464\n"
     ]
    },
    {
     "name": "stderr",
     "output_type": "stream",
     "text": [
      "D:\\anaconda\\lib\\site-packages\\smart_open\\smart_open_lib.py:398: UserWarning: This function is deprecated, use smart_open.open instead. See the migration notes for details: https://github.com/RaRe-Technologies/smart_open/blob/master/README.rst#migrating-to-the-new-open-function\n",
      "  'See the migration notes for details: %s' % _MIGRATION_NOTES_URL\n",
      "D:\\anaconda\\lib\\site-packages\\ipykernel_launcher.py:388: DeprecationWarning: Call to deprecated `__contains__` (Method will be removed in 4.0.0, use self.wv.__contains__() instead).\n",
      "D:\\anaconda\\lib\\site-packages\\ipykernel_launcher.py:389: DeprecationWarning: Call to deprecated `__getitem__` (Method will be removed in 4.0.0, use self.wv.__getitem__() instead).\n"
     ]
    },
    {
     "name": "stdout",
     "output_type": "stream",
     "text": [
      "#papers  1464\n",
      "#authors 3281\n",
      "#org_words 558\n",
      "#confs   1022\n",
      "walks done\n"
     ]
    },
    {
     "name": "stderr",
     "output_type": "stream",
     "text": [
      "D:\\anaconda\\lib\\site-packages\\ipykernel_launcher.py:60: DeprecationWarning: Call to deprecated `__contains__` (Method will be removed in 4.0.0, use self.wv.__contains__() instead).\n",
      "D:\\anaconda\\lib\\site-packages\\ipykernel_launcher.py:61: DeprecationWarning: Call to deprecated `__getitem__` (Method will be removed in 4.0.0, use self.wv.__getitem__() instead).\n"
     ]
    },
    {
     "name": "stdout",
     "output_type": "stream",
     "text": [
      "walks done\n",
      "walks done\n",
      "relational outlier: {1282, 1413, 1162, 139, 141, 1166, 1168, 1169, 1428, 279, 1433, 1437, 1312, 1442, 934, 1453, 1327, 1455, 50, 1462, 56, 85, 1109, 1124, 998, 999, 747, 749, 878, 751, 240, 752, 1139, 1399}\n",
      "semantic outlier: set()\n",
      "[  0   1   1 ... 246 247 248] 249\n",
      "[ 30  66  66 ...  20 257 258] 190\n",
      "0.8029268139494716 0.21227505759770854 0.3357782140769973\n",
      "avg_f1: 0.3357782140769973\n",
      "1 bo_shen 1797\n"
     ]
    },
    {
     "name": "stderr",
     "output_type": "stream",
     "text": [
      "D:\\anaconda\\lib\\site-packages\\smart_open\\smart_open_lib.py:398: UserWarning: This function is deprecated, use smart_open.open instead. See the migration notes for details: https://github.com/RaRe-Technologies/smart_open/blob/master/README.rst#migrating-to-the-new-open-function\n",
      "  'See the migration notes for details: %s' % _MIGRATION_NOTES_URL\n",
      "D:\\anaconda\\lib\\site-packages\\ipykernel_launcher.py:388: DeprecationWarning: Call to deprecated `__contains__` (Method will be removed in 4.0.0, use self.wv.__contains__() instead).\n",
      "D:\\anaconda\\lib\\site-packages\\ipykernel_launcher.py:389: DeprecationWarning: Call to deprecated `__getitem__` (Method will be removed in 4.0.0, use self.wv.__getitem__() instead).\n"
     ]
    },
    {
     "name": "stdout",
     "output_type": "stream",
     "text": [
      "#papers  1797\n",
      "#authors 2553\n",
      "#org_words 445\n",
      "#confs   668\n",
      "walks done\n"
     ]
    },
    {
     "name": "stderr",
     "output_type": "stream",
     "text": [
      "D:\\anaconda\\lib\\site-packages\\ipykernel_launcher.py:60: DeprecationWarning: Call to deprecated `__contains__` (Method will be removed in 4.0.0, use self.wv.__contains__() instead).\n",
      "D:\\anaconda\\lib\\site-packages\\ipykernel_launcher.py:61: DeprecationWarning: Call to deprecated `__getitem__` (Method will be removed in 4.0.0, use self.wv.__getitem__() instead).\n"
     ]
    },
    {
     "name": "stdout",
     "output_type": "stream",
     "text": [
      "walks done\n",
      "walks done\n",
      "relational outlier: {99, 1673, 363, 1675, 1010, 1365, 1429, 919, 1624}\n",
      "semantic outlier: set()\n",
      "[ 0  0  0 ... 56 56 56] 57\n",
      "[ 0  0  0 ... 12 12 12] 48\n",
      "0.735028123298994 0.9805870677274121 0.84023395909864\n",
      "avg_f1: 0.5880060865878186\n",
      "2 di_wang 1425\n"
     ]
    },
    {
     "name": "stderr",
     "output_type": "stream",
     "text": [
      "D:\\anaconda\\lib\\site-packages\\smart_open\\smart_open_lib.py:398: UserWarning: This function is deprecated, use smart_open.open instead. See the migration notes for details: https://github.com/RaRe-Technologies/smart_open/blob/master/README.rst#migrating-to-the-new-open-function\n",
      "  'See the migration notes for details: %s' % _MIGRATION_NOTES_URL\n",
      "D:\\anaconda\\lib\\site-packages\\ipykernel_launcher.py:388: DeprecationWarning: Call to deprecated `__contains__` (Method will be removed in 4.0.0, use self.wv.__contains__() instead).\n",
      "D:\\anaconda\\lib\\site-packages\\ipykernel_launcher.py:389: DeprecationWarning: Call to deprecated `__getitem__` (Method will be removed in 4.0.0, use self.wv.__getitem__() instead).\n"
     ]
    },
    {
     "name": "stdout",
     "output_type": "stream",
     "text": [
      "#papers  1425\n",
      "#authors 2675\n",
      "#org_words 745\n",
      "#confs   852\n",
      "walks done\n"
     ]
    },
    {
     "name": "stderr",
     "output_type": "stream",
     "text": [
      "D:\\anaconda\\lib\\site-packages\\ipykernel_launcher.py:60: DeprecationWarning: Call to deprecated `__contains__` (Method will be removed in 4.0.0, use self.wv.__contains__() instead).\n",
      "D:\\anaconda\\lib\\site-packages\\ipykernel_launcher.py:61: DeprecationWarning: Call to deprecated `__getitem__` (Method will be removed in 4.0.0, use self.wv.__getitem__() instead).\n"
     ]
    },
    {
     "name": "stdout",
     "output_type": "stream",
     "text": [
      "walks done\n",
      "walks done\n",
      "relational outlier: {69}\n",
      "semantic outlier: set()\n",
      "[  0   0   0 ... 111 111 111] 112\n",
      "[ 0  0  0 ... 35 35 35] 94\n",
      "0.5818580903755308 0.963077044583975 0.7254339128753513\n",
      "avg_f1: 0.6338153620169962\n",
      "3 long_wang 614\n"
     ]
    },
    {
     "name": "stderr",
     "output_type": "stream",
     "text": [
      "D:\\anaconda\\lib\\site-packages\\smart_open\\smart_open_lib.py:398: UserWarning: This function is deprecated, use smart_open.open instead. See the migration notes for details: https://github.com/RaRe-Technologies/smart_open/blob/master/README.rst#migrating-to-the-new-open-function\n",
      "  'See the migration notes for details: %s' % _MIGRATION_NOTES_URL\n",
      "D:\\anaconda\\lib\\site-packages\\ipykernel_launcher.py:388: DeprecationWarning: Call to deprecated `__contains__` (Method will be removed in 4.0.0, use self.wv.__contains__() instead).\n",
      "D:\\anaconda\\lib\\site-packages\\ipykernel_launcher.py:389: DeprecationWarning: Call to deprecated `__getitem__` (Method will be removed in 4.0.0, use self.wv.__getitem__() instead).\n"
     ]
    },
    {
     "name": "stdout",
     "output_type": "stream",
     "text": [
      "#papers  614\n",
      "#authors 825\n",
      "#org_words 260\n",
      "#confs   502\n",
      "walks done\n"
     ]
    },
    {
     "name": "stderr",
     "output_type": "stream",
     "text": [
      "D:\\anaconda\\lib\\site-packages\\ipykernel_launcher.py:60: DeprecationWarning: Call to deprecated `__contains__` (Method will be removed in 4.0.0, use self.wv.__contains__() instead).\n",
      "D:\\anaconda\\lib\\site-packages\\ipykernel_launcher.py:61: DeprecationWarning: Call to deprecated `__getitem__` (Method will be removed in 4.0.0, use self.wv.__getitem__() instead).\n"
     ]
    },
    {
     "name": "stdout",
     "output_type": "stream",
     "text": [
      "walks done\n",
      "walks done\n",
      "relational outlier: {492, 432, 433, 438, 439, 443}\n",
      "semantic outlier: set()\n",
      "[ 0  0  0  0  0  0  0  0  0  0  0  0  0  0  0  0  0  0  0  0  0  0  0  0\n",
      "  0  0  0  0  0  0  0  0  0  0  0  0  0  0  0  0  0  0  0  0  0  0  0  0\n",
      "  0  0  0  0  0  0  0  0  0  0  0  0  0  0  0  0  0  0  0  0  0  0  0  0\n",
      "  0  0  0  1  1  1  1  1  1  1  1  1  1  1  1  1  1  1  1  1  1  1  1  1\n",
      "  1  1  1  1  1  1  1  1  1  1  1  1  1  1  1  1  1  1  1  1  1  1  1  1\n",
      "  1  1  1  1  1  1  1  1  1  1  1  1  1  1  1  1  1  1  1  1  1  1  1  1\n",
      "  1  1  1  1  1  1  1  1  1  1  1  1  1  1  1  1  1  1  1  1  1  1  1  1\n",
      "  2  2  2  2  2  2  2  2  2  2  2  2  2  2  2  2  2  2  2  2  2  2  2  2\n",
      "  2  2  2  2  2  2  2  3  3  3  3  3  3  3  3  3  3  3  3  3  3  3  3  3\n",
      "  3  3  3  3  3  3  3  3  3  3  3  3  3  3  3  3  3  4  4  4  4  4  4  4\n",
      "  4  4  4  4  4  4  4  4  4  4  4  4  4  4  4  4  4  4  4  4  4  4  4  5\n",
      "  5  5  5  5  5  5  5  5  5  5  5  5  5  5  5  5  5  5  5  5  5  5  5  5\n",
      "  5  5  6  6  6  6  6  6  6  6  6  6  6  6  6  6  6  6  6  6  6  6  6  6\n",
      "  7  7  7  7  7  7  7  7  7  7  7  7  7  8  8  8  8  8  8  8  8  8  8  8\n",
      "  8  8  8  8  8  8  8  8  8  9  9  9  9  9  9  9  9  9  9  9  9  9  9  9\n",
      "  9  9  9  9  9  9 10 10 10 10 10 10 10 10 10 10 10 10 10 10 11 11 11 11\n",
      " 11 11 11 11 11 11 11 12 12 12 12 12 12 12 12 12 13 13 13 13 13 13 13 13\n",
      " 13 13 13 13 13 13 13 13 13 13 13 13 13 13 13 13 13 13 13 13 13 13 14 14\n",
      " 14 14 14 14 14 14 14 14 14 14 14 14 15 15 15 15 15 15 15 15 15 15 15 15\n",
      " 15 15 15 15 15 15 15 15 15 16 16 16 16 16 16 16 16 16 16 16 16 16 16 16\n",
      " 16 16 16 16 16 16 16 17 17 17 17 17 17 17 17 17 18 18 18 18 18 18 18 18\n",
      " 18 18 18 18 18 18 19 19 19 19 19 19 19 19 19 19 19 19 19 19 20 20 20 20\n",
      " 20 20 20 20 20 20 20 20 20 21 21 21 21 21 21 21 21 21 21 21 21 21 22 22\n",
      " 22 22 22 22 22 22 22 22 22 23 23 23 23 23 23 23 23 23 23 23 23 23 23 23\n",
      " 23 23 24 24 24 24 24 24 24 24 24 24 24 24 24 24 24 24 24 24 25 25 25 25\n",
      " 25 25 25 26 26 26 27 27 27 27 27 27 27 27] 28\n",
      "[ 0  0  0  0  0  0  0  0  0  0  0  0  0  0  0  0  0  0  0  0  0  0  0  0\n",
      "  0  1  0  0  0  0  0  0  0  0  0  0  0  0  0  0  0  0  0  0  0  0  0  0\n",
      "  0  0  1  1  0  0  0  0  0  0  0  0  0  0  1  0  0  0  0  0  0  0  0  0\n",
      "  0  0  0  0  0  0  0  0  0  0  0  0  0  0  0  0  0  0  0  0  0  0  0  0\n",
      "  0  0  0  0  0  0  0  0  0  0  0  0  0  0  0  0  0  0  0  0  0  0  0  0\n",
      "  0  0  0  0  0  0  0  0  0  0  0  0  0  0  0  0  0  0  0  0  0  0  0  0\n",
      "  0  0  0  0  0  0  0  0  0  0  0  0  0  0  0  0  0  0  0  0  0  0  0  0\n",
      "  0  0  0  0  0  0  0  0  0  0  0  0  0  0  0  0  0  0  0  0  0  0  0  0\n",
      "  0  0  0  0  0  0  0  2  2  2  0  2  2  2  2  2  2  2  2  2  2  2  2  2\n",
      "  2  2  2  2  2  2  2  2  2  2  2  2  2  2  2  2  2  0  0  0  0  0  0  0\n",
      "  0  0  0  0  0  0  0  0  0  0  0  0  0  0  0  0  0  0  0  0  0  0  0  3\n",
      "  3  3  3  3  3  3  3  3  3  3  3  3  3  3  3  3  3  3  3  3  3  3  3  3\n",
      "  3  3  4  4  4  4  4  4  4  4  4  4  4  4  4  4  4  4  4  4  4  4  4  4\n",
      "  5  5  5  5  5  5  5  5  5  5  5  5  5  6  7  6  7  7  7  7  7  7  6  6\n",
      "  6  7  7  6  6  6  6  6  6  2  2  2  2  2  0  2  2  2  2  2  2  2  2  2\n",
      "  2  2  2  2  2  2  8  8  8  8  8  8  8  8  8  8  8  8  8  8  9 10 10 10\n",
      " 10 10 10  9  9 10 10 11 11 11 11 11 11 11 11 11 11 11 11 11 11 11 11 11\n",
      " 11 11 11 11 11 11 11 11 11 11 11 11 11 11 11 11 11 11 11 11 11 11 12 12\n",
      " 25 26 12 12 12 12 12 27 12 12 12 28 13 13 13 13 13 13 13 13 13 13 13 13\n",
      " 13 13 13 13 13 13 13 13 13 14 14 14 14 14 14 14 14 14 14 14 14 14 14 14\n",
      " 14 14 14 14 14 14 14 15  4 29 29 15 31 15 15 15  3  3  3  3  3  3  3  3\n",
      "  3  3  3  3  3  3 16 16 16 16 16 16 16 16 16 16 16 16 16 16  2  2  2 17\n",
      " 17 17 17  2  2  2 17 17 17  0  0  0  0  0  0  0  0  0  0  0  0  0 18 18\n",
      " 18 18 18 18 18 18 18 18 18  0  3  3  3  3  3  3  3  3  3  3  0  3  3  3\n",
      "  3  3  0  0  0  0  0  0  0  0  0  0  0  0  0  0  0  0  0  0 11  9  9  9\n",
      " 11  9 11 13 13 13  3 35  3  3  3  3  3 36] 27\n",
      "0.275544622251528 0.9453580440267989 0.42671431937789644\n",
      "avg_f1: 0.5820401013572213\n",
      "4 qiang_xu 1309\n"
     ]
    },
    {
     "name": "stderr",
     "output_type": "stream",
     "text": [
      "D:\\anaconda\\lib\\site-packages\\smart_open\\smart_open_lib.py:398: UserWarning: This function is deprecated, use smart_open.open instead. See the migration notes for details: https://github.com/RaRe-Technologies/smart_open/blob/master/README.rst#migrating-to-the-new-open-function\n",
      "  'See the migration notes for details: %s' % _MIGRATION_NOTES_URL\n",
      "D:\\anaconda\\lib\\site-packages\\ipykernel_launcher.py:388: DeprecationWarning: Call to deprecated `__contains__` (Method will be removed in 4.0.0, use self.wv.__contains__() instead).\n",
      "D:\\anaconda\\lib\\site-packages\\ipykernel_launcher.py:389: DeprecationWarning: Call to deprecated `__getitem__` (Method will be removed in 4.0.0, use self.wv.__getitem__() instead).\n"
     ]
    },
    {
     "name": "stdout",
     "output_type": "stream",
     "text": [
      "#papers  1309\n",
      "#authors 1899\n",
      "#org_words 399\n",
      "#confs   689\n",
      "walks done\n"
     ]
    },
    {
     "name": "stderr",
     "output_type": "stream",
     "text": [
      "D:\\anaconda\\lib\\site-packages\\ipykernel_launcher.py:60: DeprecationWarning: Call to deprecated `__contains__` (Method will be removed in 4.0.0, use self.wv.__contains__() instead).\n",
      "D:\\anaconda\\lib\\site-packages\\ipykernel_launcher.py:61: DeprecationWarning: Call to deprecated `__getitem__` (Method will be removed in 4.0.0, use self.wv.__getitem__() instead).\n"
     ]
    },
    {
     "name": "stdout",
     "output_type": "stream",
     "text": [
      "walks done\n",
      "walks done\n",
      "relational outlier: {450, 357, 997, 391, 1158, 1192, 524, 1164, 815, 1039, 1264, 1170, 948, 1305}\n",
      "semantic outlier: set()\n",
      "[ 0  0  0 ... 26 26 26] 27\n",
      "[ 0  1  0 ... 29 29 29] 56\n",
      "0.706064807535627 0.46839115881700344 0.5631790767406597\n",
      "avg_f1: 0.578267896433909\n",
      "5 xiang_wang 1641\n"
     ]
    },
    {
     "name": "stderr",
     "output_type": "stream",
     "text": [
      "D:\\anaconda\\lib\\site-packages\\smart_open\\smart_open_lib.py:398: UserWarning: This function is deprecated, use smart_open.open instead. See the migration notes for details: https://github.com/RaRe-Technologies/smart_open/blob/master/README.rst#migrating-to-the-new-open-function\n",
      "  'See the migration notes for details: %s' % _MIGRATION_NOTES_URL\n",
      "D:\\anaconda\\lib\\site-packages\\ipykernel_launcher.py:388: DeprecationWarning: Call to deprecated `__contains__` (Method will be removed in 4.0.0, use self.wv.__contains__() instead).\n",
      "D:\\anaconda\\lib\\site-packages\\ipykernel_launcher.py:389: DeprecationWarning: Call to deprecated `__getitem__` (Method will be removed in 4.0.0, use self.wv.__getitem__() instead).\n"
     ]
    },
    {
     "name": "stdout",
     "output_type": "stream",
     "text": [
      "#papers  1641\n",
      "#authors 4062\n",
      "#org_words 733\n",
      "#confs   1150\n",
      "walks done\n"
     ]
    },
    {
     "name": "stderr",
     "output_type": "stream",
     "text": [
      "D:\\anaconda\\lib\\site-packages\\ipykernel_launcher.py:60: DeprecationWarning: Call to deprecated `__contains__` (Method will be removed in 4.0.0, use self.wv.__contains__() instead).\n",
      "D:\\anaconda\\lib\\site-packages\\ipykernel_launcher.py:61: DeprecationWarning: Call to deprecated `__getitem__` (Method will be removed in 4.0.0, use self.wv.__getitem__() instead).\n"
     ]
    },
    {
     "name": "stdout",
     "output_type": "stream",
     "text": [
      "walks done\n",
      "walks done\n",
      "relational outlier: {2, 642, 255, 133, 655, 1426, 1047, 1563, 1437, 1438, 1566, 169, 555, 1580, 813, 1329, 1337, 827, 828, 1344, 706, 323, 202, 847, 1487, 1618, 863, 991, 99, 1382, 1404, 766, 895}\n",
      "semantic outlier: set()\n",
      "[  0   0   0 ... 376 377 378] 379\n",
      "[ 0  0 78 ...  8 35 69] 206\n",
      "0.4078379821714661 0.09387513887903931 0.15262047417189017\n",
      "avg_f1: 0.5073266593902391\n",
      "6 changming_liu 225\n"
     ]
    },
    {
     "name": "stderr",
     "output_type": "stream",
     "text": [
      "D:\\anaconda\\lib\\site-packages\\smart_open\\smart_open_lib.py:398: UserWarning: This function is deprecated, use smart_open.open instead. See the migration notes for details: https://github.com/RaRe-Technologies/smart_open/blob/master/README.rst#migrating-to-the-new-open-function\n",
      "  'See the migration notes for details: %s' % _MIGRATION_NOTES_URL\n",
      "D:\\anaconda\\lib\\site-packages\\ipykernel_launcher.py:388: DeprecationWarning: Call to deprecated `__contains__` (Method will be removed in 4.0.0, use self.wv.__contains__() instead).\n",
      "D:\\anaconda\\lib\\site-packages\\ipykernel_launcher.py:389: DeprecationWarning: Call to deprecated `__getitem__` (Method will be removed in 4.0.0, use self.wv.__getitem__() instead).\n"
     ]
    },
    {
     "name": "stdout",
     "output_type": "stream",
     "text": [
      "#papers  225\n",
      "#authors 369\n",
      "#org_words 162\n",
      "#confs   174\n",
      "walks done\n"
     ]
    },
    {
     "name": "stderr",
     "output_type": "stream",
     "text": [
      "D:\\anaconda\\lib\\site-packages\\ipykernel_launcher.py:60: DeprecationWarning: Call to deprecated `__contains__` (Method will be removed in 4.0.0, use self.wv.__contains__() instead).\n",
      "D:\\anaconda\\lib\\site-packages\\ipykernel_launcher.py:61: DeprecationWarning: Call to deprecated `__getitem__` (Method will be removed in 4.0.0, use self.wv.__getitem__() instead).\n"
     ]
    },
    {
     "name": "stdout",
     "output_type": "stream",
     "text": [
      "walks done\n",
      "walks done\n",
      "relational outlier: {120, 1, 114, 119}\n",
      "semantic outlier: set()\n",
      "[ 0  0  0  0  0  1  1  1  1  1  1  1  1  1  1  1  1  1  1  1  1  1  1  1\n",
      "  1  1  1  1  1  1  1  1  1  1  1  1  1  1  1  1  1  1  1  1  1  1  1  1\n",
      "  1  1  1  1  1  1  1  1  1  1  1  1  1  1  1  1  1  1  1  1  1  1  1  1\n",
      "  1  1  1  1  1  1  1  1  1  1  1  1  1  1  1  1  1  1  1  1  1  1  1  1\n",
      "  1  1  1  1  1  1  1  2  2  2  2  2  2  2  2  2  2  2  3  3  3  3  3  3\n",
      "  3  3  4  4  4  4  4  4  4  4  4  4  5  5  5  5  5  5  5  5  5  5  5  5\n",
      "  5  5  5  5  5  5  5  5  5  6  6  6  6  6  6  6  6  6  7  7  7  7  7  7\n",
      "  7  8  8  8  8  8  8  8  8  9  9  9  9  9  9 10 10 10 10 10 10 11 11 11\n",
      " 11 11 12 12 12 12 12 13 13 13 13 14 14 14 14 15 15 15 15 16 16 16 17 17\n",
      " 17 18 18 19 19 20 20 21 21] 22\n",
      "[ 0  0  0  0  0  1  1  1  1  1  1  1  1  1  1  1  1  1  1  1  1  1  1  1\n",
      "  1  1  1  1  1  1  1  1  1  1  1  1  1  1  1  1  1  1  1  1  1  1  1  1\n",
      "  1  1  1  1  1  1  1  1  1  1  1  1  1  1  1  1  1  1  1  1  1  1  1  1\n",
      "  1  1  1  1  1  1  1  1  1  1  1  1  1  1  1  1  1  1  1  1  1  1  1  1\n",
      "  1  1  1  1  1  1  1  2  2  2  2  2  2  2  2  2  2  2 16  3  2  3  3 17\n",
      " 18  3  4  4  4  4  4  4  4  4  4  4  5  5  5  5  5  5  5  5  5  5  5  5\n",
      "  5  5  5  5  5  5  5  5  5  6  6  6  6  6  6  6  6  6  7  7  7  7  7  7\n",
      "  7  0  0  0  0  0  0  0  0  8  8  8  8  8  8  0  0  0  0  0  0  9  9  9\n",
      "  9  9 10 10 10 10 10 19 19 19 19 11 11 11 11 12 12 12 12  6  6  6 13 13\n",
      " 13 23 23  1  1  1  1 13 13] 19\n",
      "0.9037931034482759 0.9958206686930091 0.9475777295733911\n",
      "avg_f1: 0.5702196694164037\n",
      "7 kenji_kaneko 148\n"
     ]
    },
    {
     "name": "stderr",
     "output_type": "stream",
     "text": [
      "D:\\anaconda\\lib\\site-packages\\smart_open\\smart_open_lib.py:398: UserWarning: This function is deprecated, use smart_open.open instead. See the migration notes for details: https://github.com/RaRe-Technologies/smart_open/blob/master/README.rst#migrating-to-the-new-open-function\n",
      "  'See the migration notes for details: %s' % _MIGRATION_NOTES_URL\n",
      "D:\\anaconda\\lib\\site-packages\\ipykernel_launcher.py:388: DeprecationWarning: Call to deprecated `__contains__` (Method will be removed in 4.0.0, use self.wv.__contains__() instead).\n",
      "D:\\anaconda\\lib\\site-packages\\ipykernel_launcher.py:389: DeprecationWarning: Call to deprecated `__getitem__` (Method will be removed in 4.0.0, use self.wv.__getitem__() instead).\n"
     ]
    },
    {
     "name": "stdout",
     "output_type": "stream",
     "text": [
      "#papers  148\n",
      "#authors 246\n",
      "#org_words 47\n",
      "#confs   84\n",
      "walks done\n",
      "walks done\n"
     ]
    },
    {
     "name": "stderr",
     "output_type": "stream",
     "text": [
      "D:\\anaconda\\lib\\site-packages\\ipykernel_launcher.py:60: DeprecationWarning: Call to deprecated `__contains__` (Method will be removed in 4.0.0, use self.wv.__contains__() instead).\n",
      "D:\\anaconda\\lib\\site-packages\\ipykernel_launcher.py:61: DeprecationWarning: Call to deprecated `__getitem__` (Method will be removed in 4.0.0, use self.wv.__getitem__() instead).\n"
     ]
    },
    {
     "name": "stdout",
     "output_type": "stream",
     "text": [
      "walks done\n",
      "relational outlier: set()\n",
      "semantic outlier: set()\n",
      "[0 0 0 0 0 0 0 0 0 0 0 0 0 0 0 0 0 0 0 0 0 0 0 0 0 0 0 0 0 0 0 0 0 0 0 0 0\n",
      " 0 0 0 0 0 0 0 0 0 0 0 0 0 0 0 0 0 0 0 0 0 0 0 0 1 1 1 1 1 1 1 1 1 1 1 1 1\n",
      " 1 1 1 1 1 2 2 2 2 2 2 2 2 2 2 2 2 2 2 2 2 2 3 3 3 3 3 3 3 3 3 3 3 3 3 3 3\n",
      " 3 3 3 3 3 3 3 3 3 3 3 3 3 3 3 3 3 4 4 4 4 4 4 4 4 4 4 4 4 4 4 4 4 4 4 4 4] 5\n",
      "[0 0 0 0 0 0 0 0 0 0 0 0 0 0 0 0 0 0 0 0 0 0 0 0 0 0 0 0 0 0 0 0 0 0 0 0 0\n",
      " 0 0 0 0 0 0 0 0 0 0 0 0 0 0 0 0 0 0 0 0 0 0 0 0 1 1 1 1 1 1 1 1 1 1 1 1 1\n",
      " 1 1 1 1 1 0 0 0 2 0 0 0 0 0 0 0 0 0 0 0 0 0 2 2 2 2 2 2 2 2 2 2 2 2 2 2 2\n",
      " 2 2 2 2 2 2 2 2 2 2 2 2 2 2 2 2 2 3 3 3 3 3 3 3 3 3 3 3 3 3 3 3 3 3 3 3 3] 4\n",
      "0.7345272583618646 0.9942959001782531 0.8448954862162981\n",
      "avg_f1: 0.6045541465163905\n",
      "8 guohua_chen 828\n"
     ]
    },
    {
     "name": "stderr",
     "output_type": "stream",
     "text": [
      "D:\\anaconda\\lib\\site-packages\\smart_open\\smart_open_lib.py:398: UserWarning: This function is deprecated, use smart_open.open instead. See the migration notes for details: https://github.com/RaRe-Technologies/smart_open/blob/master/README.rst#migrating-to-the-new-open-function\n",
      "  'See the migration notes for details: %s' % _MIGRATION_NOTES_URL\n",
      "D:\\anaconda\\lib\\site-packages\\ipykernel_launcher.py:388: DeprecationWarning: Call to deprecated `__contains__` (Method will be removed in 4.0.0, use self.wv.__contains__() instead).\n",
      "D:\\anaconda\\lib\\site-packages\\ipykernel_launcher.py:389: DeprecationWarning: Call to deprecated `__getitem__` (Method will be removed in 4.0.0, use self.wv.__getitem__() instead).\n"
     ]
    },
    {
     "name": "stdout",
     "output_type": "stream",
     "text": [
      "#papers  828\n",
      "#authors 834\n",
      "#org_words 252\n",
      "#confs   456\n",
      "walks done\n"
     ]
    },
    {
     "name": "stderr",
     "output_type": "stream",
     "text": [
      "D:\\anaconda\\lib\\site-packages\\ipykernel_launcher.py:60: DeprecationWarning: Call to deprecated `__contains__` (Method will be removed in 4.0.0, use self.wv.__contains__() instead).\n",
      "D:\\anaconda\\lib\\site-packages\\ipykernel_launcher.py:61: DeprecationWarning: Call to deprecated `__getitem__` (Method will be removed in 4.0.0, use self.wv.__getitem__() instead).\n"
     ]
    },
    {
     "name": "stdout",
     "output_type": "stream",
     "text": [
      "walks done\n",
      "walks done\n",
      "relational outlier: {819, 316, 717}\n",
      "semantic outlier: set()\n",
      "[ 0  0  0  0  0  0  0  0  0  0  0  0  0  0  0  0  0  0  0  0  0  0  0  0\n",
      "  0  0  0  0  0  0  0  0  0  0  0  0  0  0  0  0  0  0  0  0  0  0  0  0\n",
      "  0  0  0  0  0  0  0  0  0  0  0  0  0  0  0  0  0  0  0  0  0  0  0  0\n",
      "  0  0  0  0  0  0  0  0  0  0  0  0  0  0  0  0  0  0  0  0  0  0  0  0\n",
      "  0  0  0  0  0  0  0  0  0  0  0  0  0  0  0  0  0  0  0  0  0  0  0  0\n",
      "  0  0  0  0  0  0  0  0  0  0  0  0  0  0  0  0  0  0  0  0  0  0  0  0\n",
      "  0  0  0  0  0  0  0  0  0  0  0  1  1  1  1  1  1  1  1  1  1  1  1  1\n",
      "  1  1  1  1  1  1  1  1  1  1  1  1  1  1  1  1  1  2  2  2  2  2  2  2\n",
      "  2  2  2  2  2  2  2  2  2  2  2  2  2  2  2  2  2  2  2  2  2  2  2  2\n",
      "  2  2  2  2  2  2  2  2  2  2  2  2  2  2  2  2  2  2  2  2  2  2  2  2\n",
      "  2  2  2  2  2  2  2  2  2  2  2  2  2  2  2  2  2  2  2  2  2  2  2  2\n",
      "  2  2  2  2  2  2  2  2  2  2  2  2  2  2  2  2  2  2  2  2  2  2  2  2\n",
      "  2  2  2  2  2  2  2  2  2  2  2  2  2  2  2  2  2  2  2  2  2  2  2  2\n",
      "  2  2  2  2  2  2  2  2  2  2  2  2  2  2  2  2  3  3  3  3  3  3  3  3\n",
      "  3  3  3  3  3  3  3  3  3  3  3  3  3  3  3  4  4  4  4  4  4  4  4  4\n",
      "  4  4  4  4  4  4  4  4  4  4  4  4  4  4  4  4  4  4  4  4  4  4  4  4\n",
      "  4  4  4  4  4  4  4  4  4  5  5  5  5  5  5  5  5  5  5  5  5  5  5  5\n",
      "  5  5  5  5  5  5  5  5  5  5  5  6  6  6  6  6  6  6  6  6  6  6  6  6\n",
      "  6  6  6  6  6  6  6  6  6  6  6  6  6  6  6  6  6  6  6  6  6  6  6  6\n",
      "  6  6  6  6  6  6  6  6  6  6  6  6  6  6  6  6  6  6  6  6  6  7  7  7\n",
      "  7  7  7  7  7  7  7  7  7  7  7  7  7  7  7  7  7  7  7  7  7  7  7  7\n",
      "  7  7  7  7  7  7  7  7  7  7  7  7  7  7  7  8  8  8  8  8  8  8  8  8\n",
      "  8  8  8  8  8  8  8  8  8  8  8  8  8  8  8  8  8  8  8  8  8  8  8  8\n",
      "  8  8  8  8  8  8  8  8  8  8  8  8  8  8  8  8  8  8  8  8  8  8  8  8\n",
      "  9  9  9  9  9  9  9  9  9  9  9  9  9  9  9  9  9  9  9  9  9  9  9  9\n",
      " 10 10 10 10 10 10 10 10 10 10 10 10 10 10 11 11 11 11 11 11 11 11 11 11\n",
      " 11 11 11 11 11 11 11 11 11 11 11 11 11 11 11 11 11 11 11 11 11 11 11 11\n",
      " 11 11 11 11 11 11 11 11 11 11 11 12 12 12 12 12 12 12 12 12 12 12 12 12\n",
      " 12 12 12 12 12 12 12 12 12 12 12 12 13 13 13 13 13 13 13 13 13 13 13 13\n",
      " 13 13 13 13 13 13 13 13 13 14 14 14 14 14 15 15 15 15 15 15 15 15 15 15\n",
      " 15 15 16 16 16 16 16 16 16 16 16 16 16 16 16 16 16 16 16 16 16 16 16 16\n",
      " 16 16 17 17 17 17 17 17 17 17 17 17 17 17 17 17 17 17 17 17 17 18 18 18\n",
      " 18 18 18 18 18 18 19 19 19 19 19 19 20 20 20 20 20 20 20 21 21 21 21 21\n",
      " 21 21 21 21 22 22 22 22 22 22 22 22 22 22 22 22 22 22 22 22 22 22 22 22\n",
      " 22 22 22 22 22 22 22 22 22 23 23 23] 24\n",
      "[ 0  0  0  0  0  0  0  0  0  0  0  0  0  0  0  0  0  0  0  0  0  0  0  0\n",
      "  0  0  0  0  0  0  0  0  0  0  0  0  0  0  0  0  0  0  0  0  0  0  0  0\n",
      "  0  0  0  0  0  0  0 19  0  0  0  0  0  0  0  0  0  0  0  0  0  0  0  0\n",
      "  0  0  0  0  0  0  0  0  0  0  0  0  0  0  0  0  0  0  0  0  0  0  0  0\n",
      "  0  0  0  0  0  0  0  0  0  0  0  0  0  0  0  0  0  0  0  0  0  0  0  0\n",
      "  0  0  0  0  0  0  0  0  0  0  0  0  0  0  0  0  0  0  0  0  0  0  0  0\n",
      "  0  0  0  0  0  0  0  0  0  0  0  1  1  1  1  1  1  1  1  1  1  1  1  1\n",
      "  1  1  1  1  1  1  1  1  1  1  1  1  1  1  1  1  1  2  2  2  2  2  2  2\n",
      "  2  2  2  2  2  2  2  2  2  2  2  2  2  2  2  2  2  2  2  2  2  2  2  2\n",
      "  2  2  2  2  2  2  2  2  2  2  2  2  2  2  2  2  2  2  2  2  2  2  2  2\n",
      "  2  2  2  2  2  2  2  2  2  2  2  2  2  2  2  2  2  2  2  2  2  2  2  2\n",
      "  2  2  2  2  2  2  2  2  2  2  2  2  2  2  2  2  2  2  2  2  2  2  2  2\n",
      "  2  2  2  2  2  2  2  2  2  2  2  2  2  2  2  2  2  2  2  2  2  2  2  2\n",
      "  2  2  2  2  2  2  2  2  2  2  2  2  2  2  2  2  3  3  3  3  3  3  3  3\n",
      "  3  3  3  3  3  3  3  3  3  3  3  3  3  3  3  3  3  3  3  3  3  3  3  3\n",
      "  3  3  3  3  3  3  0  3  3  3  3  3  3  3  3  3  3  3  3  3  3  3  3  3\n",
      "  3  3  3  3  0  3  3  3  3  4  4  4  4  4  4  4  4  4  4  4  4  4  4  4\n",
      "  4  4  4  4  4  4  4  4  4  4  4  5  5  5  5  5  5  5  5  5  5  5  5  5\n",
      "  5  5  5  5  5  5  5  5  5  5  5  5  5  5  5  5  5  5  5  5  5  5  5  5\n",
      "  5  5  5  5  5  5  5  5  5  5  5  5  5  5  5  5  5  5  5  5  5  6  6  6\n",
      "  6  6  6  6  6  6  6  6  6  6  6  6  6  6  6  6  6  6  6  6  6  6  6  6\n",
      "  6  6  6  6  6  6  6  6  6  6  6  6  6  6  6  7  7  7  7  7  7  7  7  7\n",
      "  7  7  7  7  7  7  7  7  7  7  7  7  7  7  7  7  7  7  7  7  7  7  7  7\n",
      "  7  7  7  7  7  7  7  7  7  7  7  7  7  7  7  7  7  7  7  7  7  7  7  7\n",
      "  7  7  7  7  7  7  7  7  7  7  7  7  7  7  7  7  7  7  7  7  7  7  7  7\n",
      "  8  8  8  8  8  8  8  8  8  8  8  8  8  8  9  9  9  9  9  9  9  9  9  9\n",
      "  9  9  9  9  9  9  9  9  9  9  9  9  9  9  9  9  9  9  9  9  9  9  9  9\n",
      "  9  9  9  9  9  9  9  9  9  9  9 10 10 10 10 10 10 10 10 10 10 10 10 10\n",
      " 10 10 10 10 10 10 10 10 10 10 10 10  1  1  1  1  1  1  1 10  1  1  1  1\n",
      "  1  1  1  1  1  1  1  1  1 11 11 11 11 11 12 12 12 12 12 12 12 22 12 12\n",
      " 12 12 13 13 13 13 13 13 13 13 13 13 13 13 13 13 13 13 13 13 13 13 13 13\n",
      " 13 13  9  9  9  9  9  9  9  9  9  9  9  9  9  9  9  9  9  9  9 10 10 10\n",
      " 10 10 10 10 10 10 14 14 14 14 14 14 15 15 15 15 15 15 15 16 16 16 16 16\n",
      " 16 16 16 16  7  7  7  7  7  7  7  7  7  7  7  7  7  7  7  7  7  7  7  7\n",
      "  7  7  7 23  7  7  7  7  7 24 25 25] 22\n",
      "0.8234662659009179 0.9904774201878692 0.8992834219897129\n",
      "avg_f1: 0.6373018437912041\n",
      "9 hai_jin 56\n"
     ]
    },
    {
     "name": "stderr",
     "output_type": "stream",
     "text": [
      "D:\\anaconda\\lib\\site-packages\\smart_open\\smart_open_lib.py:398: UserWarning: This function is deprecated, use smart_open.open instead. See the migration notes for details: https://github.com/RaRe-Technologies/smart_open/blob/master/README.rst#migrating-to-the-new-open-function\n",
      "  'See the migration notes for details: %s' % _MIGRATION_NOTES_URL\n",
      "D:\\anaconda\\lib\\site-packages\\ipykernel_launcher.py:388: DeprecationWarning: Call to deprecated `__contains__` (Method will be removed in 4.0.0, use self.wv.__contains__() instead).\n",
      "D:\\anaconda\\lib\\site-packages\\ipykernel_launcher.py:389: DeprecationWarning: Call to deprecated `__getitem__` (Method will be removed in 4.0.0, use self.wv.__getitem__() instead).\n",
      "D:\\anaconda\\lib\\site-packages\\ipykernel_launcher.py:60: DeprecationWarning: Call to deprecated `__contains__` (Method will be removed in 4.0.0, use self.wv.__contains__() instead).\n",
      "D:\\anaconda\\lib\\site-packages\\ipykernel_launcher.py:61: DeprecationWarning: Call to deprecated `__getitem__` (Method will be removed in 4.0.0, use self.wv.__getitem__() instead).\n"
     ]
    },
    {
     "name": "stdout",
     "output_type": "stream",
     "text": [
      "#papers  56\n",
      "#authors 100\n",
      "#org_words 63\n",
      "#confs   79\n",
      "walks done\n",
      "walks done\n",
      "walks done\n",
      "relational outlier: {52}\n",
      "semantic outlier: set()\n",
      "[0 0 0 0 0 0 0 1 1 1 1 1 1 1 1 1 1 1 1 1 1 1 2 2 2 2 2 2 2 2 2 2 2 2 2 2 2\n",
      " 2 2 2 2 3 3 3 3 3 3 3 3 3 3 4 4 4 4 4] 5\n",
      "[0 0 0 0 0 0 0 1 1 1 1 1 1 1 1 1 1 1 1 1 1 1 0 0 0 0 0 0 0 0 0 0 0 0 0 0 0\n",
      " 0 0 0 0 2 2 2 2 2 2 2 2 2 2 0 4 0 0 0] 4\n",
      "0.5948717948717949 0.9886363636363636 0.7427961579509071\n",
      "avg_f1: 0.6478512752071743\n",
      "10 jia_li 501\n"
     ]
    },
    {
     "name": "stderr",
     "output_type": "stream",
     "text": [
      "D:\\anaconda\\lib\\site-packages\\smart_open\\smart_open_lib.py:398: UserWarning: This function is deprecated, use smart_open.open instead. See the migration notes for details: https://github.com/RaRe-Technologies/smart_open/blob/master/README.rst#migrating-to-the-new-open-function\n",
      "  'See the migration notes for details: %s' % _MIGRATION_NOTES_URL\n",
      "D:\\anaconda\\lib\\site-packages\\ipykernel_launcher.py:388: DeprecationWarning: Call to deprecated `__contains__` (Method will be removed in 4.0.0, use self.wv.__contains__() instead).\n",
      "D:\\anaconda\\lib\\site-packages\\ipykernel_launcher.py:389: DeprecationWarning: Call to deprecated `__getitem__` (Method will be removed in 4.0.0, use self.wv.__getitem__() instead).\n"
     ]
    },
    {
     "name": "stdout",
     "output_type": "stream",
     "text": [
      "#papers  501\n",
      "#authors 1070\n",
      "#org_words 297\n",
      "#confs   413\n",
      "walks done\n"
     ]
    },
    {
     "name": "stderr",
     "output_type": "stream",
     "text": [
      "D:\\anaconda\\lib\\site-packages\\ipykernel_launcher.py:60: DeprecationWarning: Call to deprecated `__contains__` (Method will be removed in 4.0.0, use self.wv.__contains__() instead).\n",
      "D:\\anaconda\\lib\\site-packages\\ipykernel_launcher.py:61: DeprecationWarning: Call to deprecated `__getitem__` (Method will be removed in 4.0.0, use self.wv.__getitem__() instead).\n"
     ]
    },
    {
     "name": "stdout",
     "output_type": "stream",
     "text": [
      "walks done\n",
      "walks done\n",
      "relational outlier: {112, 272, 386, 280}\n",
      "semantic outlier: set()\n",
      "[ 0  0  0  0  0  0  0  0  0  0  0  0  0  0  0  0  0  0  0  0  0  0  0  0\n",
      "  0  0  0  0  0  0  0  0  0  0  0  0  0  0  0  0  0  0  0  0  0  0  0  0\n",
      "  0  0  0  0  0  0  0  0  0  0  0  0  0  0  0  0  0  0  0  0  0  0  0  0\n",
      "  0  0  0  0  0  0  0  0  0  0  0  0  0  0  0  0  0  0  0  0  0  0  0  0\n",
      "  0  0  0  0  0  0  0  0  0  0  0  0  0  0  0  1  1  1  1  1  1  1  1  1\n",
      "  1  1  1  1  1  1  1  1  1  1  1  1  1  1  1  1  1  1  1  1  1  1  1  1\n",
      "  1  1  1  1  1  1  1  1  2  2  2  2  2  2  2  2  2  2  2  2  2  2  2  2\n",
      "  2  2  2  2  2  2  3  3  3  3  3  3  3  3  3  3  3  3  3  3  3  3  3  3\n",
      "  3  3  3  4  4  4  4  4  4  4  4  4  4  4  4  4  4  4  4  4  4  4  4  4\n",
      "  4  4  4  4  4  4  4  4  5  5  5  5  5  5  5  5  5  5  5  5  5  5  5  5\n",
      "  5  5  5  5  5  5  5  5  5  5  5  5  5  5  5  5  5  5  5  5  5  5  5  5\n",
      "  5  5  5  5  5  5  5  6  6  6  6  6  6  6  6  6  6  6  6  7  7  7  7  7\n",
      "  7  7  7  7  7  7  7  7  7  7  7  7  7  7  7  7  7  7  7  7  7  7  7  7\n",
      "  7  7  7  7  7  7  7  7  7  7  7  7  7  7  7  8  8  8  8  8  8  8  8  8\n",
      "  8  8  8  8  8  8  8  8  8  9  9  9  9  9  9  9  9  9  9  9  9  9  9  9\n",
      "  9  9  9 10 10 10 10 11 11 11 11 11 11 11 11 11 11 11 11 12 12 12 12 13\n",
      " 13 13 13 13 13 13 13 13 13 13 13 13 13 13 13 13 14 14 14 14 14 15 15 15\n",
      " 15 15 15 15 15 15 15 15 15 15 16 16 16 16 16 16 17 17 17 17 17 17 17 17\n",
      " 18 18 18 18 18 18 18 18 18 18 18 18 18 18 19 19 19 19 19 19 19 19 19 19\n",
      " 19 19 20 20 20 20 20 20 20 20 20 20 20 20 20 20 20 20 20 20 21 21 21 21\n",
      " 21 21 21 21 21 21 21 21 21 21 21 21 21 21 21 22 22 22 22 22 22] 23\n",
      "[ 0  0  0  0  0  0  0  0  0  0  0  0  0  1  0  0  0  0  0  1  0  0  0  0\n",
      "  0  0  0  0  0  0  0  0  0  0  2  0  0  0  0  0  0  2  0  0  0  0  0  1\n",
      "  1  0  0  0  0  0  0  0  0  2  0  0  0  0  0  0  0  0  2  0  0  0  0  0\n",
      "  0  0  0  0  0  0  0  0  2  2  0  0  0  0  0  0  0  0  0  0 23  0  0  0\n",
      "  0  0  0  0  0  0  2  0  0  0  0  0  0  0 23  3 25  3  4  4  3  4  4  3\n",
      "  4  3  3  4  4  3  4  4  4  3  4  3  3  3  3  4  4  3  3  4  3  3  4  3\n",
      "  3  3  3  4  4  4  3  4  5  5  5  5  5  5  5  5  5  5  5  5  5  5  5  5\n",
      "  5  5  5  5  5  5  6  6  6  6  6  6  6  6  6  6  6  6  6  6  6  6  6  6\n",
      "  6  6  6  7  7  7  7  7  7  7  7  7  7  7  7  7  7  7  7  7  7  7  7  7\n",
      "  7  7  7  7  7  7  7  7  8  8  8  8  8  8  8  8  8  8  8  8  8  8  8  8\n",
      "  8  8  8  8  8  8 26  8  8  8  8  8  8  8  8  8  8  8  8  8  8  8  8  8\n",
      "  8  8  8  8  8  8  8  9 27  9  9  9  9  9  9  9 27  9  9 10 10 10 10 10\n",
      " 10 10 10 10 10 10 10 10 10 10 10 10 10 10 10 10 10 10 10 10 10 10 10 10\n",
      " 10 10 10 10 10 10 10 10 10 10 10 10 10 10 10 11 11 11 11 11 11 11 11 11\n",
      " 11 11 11 11 11 11 11 11 11 12 12 12 12 12 12 12 12 12 12 12 12 12 12 12\n",
      " 12 12 12 13 13 13 13 14 14 14 14 14 14 14 14 14 14 14 14 15 15 15 15 16\n",
      " 16 16 16 16 16 16 16 16 16 16 16 16 16 16 16 16 17 17 17 17 17 18 18 18\n",
      " 18 18 18 18 18 18 18 18 18 18 10 10 10 10 10 10 19 19 19 19 19 19 19 19\n",
      " 16 16 16 16 16 16 16 16 16 16 16 16 16 16 20 20 20 20 20 20 20 20 20 20\n",
      " 20 20 17 17 17 17 17 17 17 17 17 17 17 17 17 17 17 17 17 17  6  6  6  6\n",
      "  6  6  6  6  6  6  6  6  6  6  6  6  6  6  6 21 21 21 21 21 21] 26\n",
      "0.9025948496166699 0.8339084634943698 0.8668932313792127\n",
      "avg_f1: 0.6677641803137233\n",
      "11 guoliang_li 744\n"
     ]
    },
    {
     "name": "stderr",
     "output_type": "stream",
     "text": [
      "D:\\anaconda\\lib\\site-packages\\smart_open\\smart_open_lib.py:398: UserWarning: This function is deprecated, use smart_open.open instead. See the migration notes for details: https://github.com/RaRe-Technologies/smart_open/blob/master/README.rst#migrating-to-the-new-open-function\n",
      "  'See the migration notes for details: %s' % _MIGRATION_NOTES_URL\n",
      "D:\\anaconda\\lib\\site-packages\\ipykernel_launcher.py:388: DeprecationWarning: Call to deprecated `__contains__` (Method will be removed in 4.0.0, use self.wv.__contains__() instead).\n",
      "D:\\anaconda\\lib\\site-packages\\ipykernel_launcher.py:389: DeprecationWarning: Call to deprecated `__getitem__` (Method will be removed in 4.0.0, use self.wv.__getitem__() instead).\n"
     ]
    },
    {
     "name": "stdout",
     "output_type": "stream",
     "text": [
      "#papers  744\n",
      "#authors 1080\n",
      "#org_words 317\n",
      "#confs   432\n",
      "walks done\n"
     ]
    },
    {
     "name": "stderr",
     "output_type": "stream",
     "text": [
      "D:\\anaconda\\lib\\site-packages\\ipykernel_launcher.py:60: DeprecationWarning: Call to deprecated `__contains__` (Method will be removed in 4.0.0, use self.wv.__contains__() instead).\n",
      "D:\\anaconda\\lib\\site-packages\\ipykernel_launcher.py:61: DeprecationWarning: Call to deprecated `__getitem__` (Method will be removed in 4.0.0, use self.wv.__getitem__() instead).\n"
     ]
    },
    {
     "name": "stdout",
     "output_type": "stream",
     "text": [
      "walks done\n",
      "walks done\n",
      "relational outlier: set()\n",
      "semantic outlier: set()\n",
      "[ 0  0  0  0  0  0  0  0  0  0  0  0  0  0  0  0  0  0  1  1  1  1  1  1\n",
      "  1  1  1  1  2  2  2  2  2  2  2  2  2  2  2  2  2  2  2  2  2  2  2  2\n",
      "  2  2  2  2  2  2  2  2  2  2  2  2  2  2  2  2  2  2  2  2  2  2  2  2\n",
      "  2  2  2  2  2  2  2  2  2  2  2  2  2  2  2  2  2  2  2  2  2  2  2  2\n",
      "  2  2  2  2  2  2  2  2  2  2  2  2  2  2  2  2  2  2  2  2  2  2  2  2\n",
      "  2  2  2  2  2  2  2  2  2  2  2  2  2  2  2  2  2  2  2  2  2  2  2  2\n",
      "  2  2  2  2  2  2  2  2  2  2  2  2  2  2  2  2  2  2  2  2  2  2  2  2\n",
      "  2  2  2  2  2  2  2  2  2  2  2  2  2  2  2  2  2  2  2  2  2  2  2  2\n",
      "  2  2  2  2  2  2  2  2  2  2  2  2  2  2  2  2  2  2  2  2  2  2  2  2\n",
      "  2  2  2  2  2  2  2  2  2  2  2  2  2  3  3  3  3  3  3  3  3  3  3  3\n",
      "  3  3  3  3  3  3  3  3  3  3  3  3  3  3  3  3  3  3  4  4  4  4  4  4\n",
      "  4  4  4  4  4  4  4  4  4  4  4  4  4  5  5  5  5  5  5  5  5  5  5  5\n",
      "  5  5  5  5  5  5  5  5  5  5  5  5  5  5  5  5  5  5  5  5  5  5  5  5\n",
      "  5  5  5  5  5  5  5  5  5  5  5  5  5  5  5  5  5  5  5  5  5  5  5  5\n",
      "  5  6  6  6  6  6  6  6  6  6  6  7  7  7  7  7  7  7  7  7  7  8  8  8\n",
      "  8  8  8  8  8  8  8  8  8  8  8  8  8  8  8  8  8  8  8  8  8  8  8  8\n",
      "  8  8  8  8  8  8  8  8  8  8  8  8  8  8  8  8  8  8  8  8  8  8  8  8\n",
      "  8  8  8  8  8  8  8  8  9  9  9  9  9  9  9  9  9  9  9  9  9  9  9  9\n",
      "  9  9  9  9  9  9  9  9  9  9  9  9  9  9  9  9  9  9  9  9  9  9  9  9\n",
      "  9  9  9  9  9  9  9  9  9  9  9  9  9  9  9  9  9  9  9  9  9  9  9  9\n",
      "  9  9  9  9  9  9  9  9  9  9  9  9 10 10 10 10 10 10 10 10 10 10 10 10\n",
      " 10 10 10 10 10 10 10 10 11 11 11 11 11 11 11 11 11 11 11 11 11 12 12 12\n",
      " 12 12 12 13 13 13 13 13 13 14 14 14 14 15 15 15 15 15 15 16 16 16 17 17\n",
      " 17 18 18 18 18 19 19 19 19 19 19 19 19 19 19 19 19 19 19 19 19 19 19 19\n",
      " 19 19 19 19 19 19 19 19 19 19 19 19 19 19 19 19 19 19 19 19 19 19 19 19\n",
      " 19 19 19 19 19 19 19 19 19 19 19 19 19 19 19 19 19 19 19 19 19 19 19 19\n",
      " 19 19 19 19 19 19 19 19 19 19 19 19 19 19 19 19 19 20 20 20 20 20 20 20\n",
      " 20 20 20 20 20 20 20 21 21 21 21 21 21 22 22 22 22 22 22 22 22 22 23 23\n",
      " 23 24 24 24 24 24 24 24 24 24 25 25 25 25 25 25 25 25 26 26 26 26 26 26\n",
      " 26 26 27 27 27 27 27 27 27 28 28 28 28 28 28 29 29 29 29 29 29 29 30 30\n",
      " 30 30 30 30 31 31 31 31 32 32 32 32 33 33 33 33 34 34 34 34 35 35 35 35] 36\n",
      "[ 0  0  0  0  0  0  0  0  0  0  0  0  0  0  0  0  0  0  1  1  1  1  1  1\n",
      "  1  1  1  1  2  2  2  2  2  2  2  2  2  2 29  2  2  2  2  2  2  2  2  2\n",
      "  2  2  2  2  2  2  2  2  2  2  2  2  2  2  2  2  2  2  2  2  2  2  2  2\n",
      "  2  2  2  2  2  2  2  2  2  2  2  2  2  2  2  2  2  2  2  2  2  2  2  2\n",
      "  2  2  2  2  2  2  2  2  2  2  2  2  2  2  2  2  2  2  2  2 29  2  2 29\n",
      "  2  2  2  2  2  2  2  2  2  2  2  2  2 28  2  2  2  2  2  2  2  2  2  2\n",
      "  2  2  2  2  2  2  2  2  2  2  2  2  2  2  2  2  2  2  2  2  2  2  2  2\n",
      "  2  2  2  2  2  2  2  2  2  2  2  2  2  2  2  2  2  2  2  2  2  2  2  2\n",
      "  2  2  2  2  2  2  2  2  2  2  2  2  2  2  2  2  2  2  2  2  2  2  2  2\n",
      "  2  2  2  2  2  2  2  2  2  2  2  2  2  3  3  3  3  3  3  3  3  3  3  3\n",
      "  3  3  3  3  3  3  3  3  3  3  3  3  3  3  3  3  3  3  4  4  4  4  4  4\n",
      "  4  4  4  4  4  4  4  4  4  4  4  4  4  5  5  5  5  5  5  5  5  5  5  5\n",
      "  5  5  5  5  5  5  5  5  5  5  5  5  5  5  5  5  5  5  5  5  5  5  5  5\n",
      "  5  5  5  5  5  5  5  5  5  5  5  5  5  5  5  5  5  5  5  5  5  5  5  5\n",
      "  5  6  6  6  6  6  6  6  6  6  6  7  7  7  7  7  7  7  7  7  7  8  8  8\n",
      "  8  8  8  8  8  8  8  8  8  8  8  8  8  8  8  8  8  8  8  8  8  8  8  8\n",
      "  8  8  8  8  8  8  8  8  8  8  8  8  8  8  8  8  8  8  8  8  8  8  8  8\n",
      "  8  8  8  8  8  8  8  8  9  9  9  9  9  9  9  9  9  9  9  9  9  9  9  9\n",
      "  9  9  9  9  9  9  9  9  9  9  9  9  9  9  9  9  9  9  9  9  9  9  9  9\n",
      "  9  9  9  9  9  9  9  9  9  9  9  9  9  9  9  9  9  9  9  9  9  9  9  9\n",
      "  9  9  9  9  9  9  9  9  9  9  9  9 10 10 10 10 10 10 10 10 10 10 10 10\n",
      " 10 10 10 10 10 10 10 10 11 11 11 11 11 11 11 11 11 11 11 11 11 12 12 12\n",
      " 12 12 12 13 13 13 13 13 13 29 29 29 29 14 14 14 14 14 14 33 33 33 35 35\n",
      " 35  8  8  8  8 15 15 15 15 15 15 15 15 15 15 15 15 15 15 15 15 15 15 15\n",
      " 15 15 15 15 15 15 15 15 15 15 15 15 15 15 15 15 15 15 15 15 15 15 15 15\n",
      " 15 15 15 15 15 15 15 15 15 15 15 15 15 15 15 15 15 15 15 15 15 15 15 15\n",
      " 15 15 15 15 15 15 15 15 15 15 15 15 15 15 15 15 15 16 16 16 16 16 16 16\n",
      " 16 16 16 16 16 16 16  8  8  8  8  8  8 17 17 17 17 17 17 17 17 17 13 13\n",
      " 13 18 18 18 18 18 18 18 18 18 19 19 19 19 19 19 19 19 20 20 20 20 20 20\n",
      " 20 20 21 21 21 21 21 21 21 15 22 22 22 22 22 43 43 43 43 43 43 43 23 23\n",
      " 23 23 23 23 24 24 24 24 50 50 50 50 25 25 25 25 26 26 26 26  4  4  4  4] 33\n",
      "0.9744437380801018 0.9746915935393615 0.9745676500508647\n",
      "avg_f1: 0.6933311361251517\n",
      "12 lan_wang 1087\n"
     ]
    },
    {
     "name": "stderr",
     "output_type": "stream",
     "text": [
      "D:\\anaconda\\lib\\site-packages\\smart_open\\smart_open_lib.py:398: UserWarning: This function is deprecated, use smart_open.open instead. See the migration notes for details: https://github.com/RaRe-Technologies/smart_open/blob/master/README.rst#migrating-to-the-new-open-function\n",
      "  'See the migration notes for details: %s' % _MIGRATION_NOTES_URL\n",
      "D:\\anaconda\\lib\\site-packages\\ipykernel_launcher.py:388: DeprecationWarning: Call to deprecated `__contains__` (Method will be removed in 4.0.0, use self.wv.__contains__() instead).\n",
      "D:\\anaconda\\lib\\site-packages\\ipykernel_launcher.py:389: DeprecationWarning: Call to deprecated `__getitem__` (Method will be removed in 4.0.0, use self.wv.__getitem__() instead).\n"
     ]
    },
    {
     "name": "stdout",
     "output_type": "stream",
     "text": [
      "#papers  1087\n",
      "#authors 2662\n",
      "#org_words 512\n",
      "#confs   870\n",
      "walks done\n"
     ]
    },
    {
     "name": "stderr",
     "output_type": "stream",
     "text": [
      "D:\\anaconda\\lib\\site-packages\\ipykernel_launcher.py:60: DeprecationWarning: Call to deprecated `__contains__` (Method will be removed in 4.0.0, use self.wv.__contains__() instead).\n",
      "D:\\anaconda\\lib\\site-packages\\ipykernel_launcher.py:61: DeprecationWarning: Call to deprecated `__getitem__` (Method will be removed in 4.0.0, use self.wv.__getitem__() instead).\n"
     ]
    },
    {
     "name": "stdout",
     "output_type": "stream",
     "text": [
      "walks done\n",
      "walks done\n",
      "relational outlier: {898, 389, 12, 13, 405, 150, 663, 26, 923, 156, 31, 674, 424, 429, 1082, 831, 322, 834, 198, 582, 839, 970, 975, 853, 726, 471, 869, 881, 374, 510, 511}\n",
      "semantic outlier: set()\n",
      "[  0   1   1 ... 433 434 435] 436\n",
      "[  2   0   1 ...  28 224 222] 157\n",
      "0.3556305356389709 0.6146668610584634 0.4505717644544192\n",
      "avg_f1: 0.6746573383043262\n",
      "13 alessandro_giuliani 335\n"
     ]
    },
    {
     "name": "stderr",
     "output_type": "stream",
     "text": [
      "D:\\anaconda\\lib\\site-packages\\smart_open\\smart_open_lib.py:398: UserWarning: This function is deprecated, use smart_open.open instead. See the migration notes for details: https://github.com/RaRe-Technologies/smart_open/blob/master/README.rst#migrating-to-the-new-open-function\n",
      "  'See the migration notes for details: %s' % _MIGRATION_NOTES_URL\n",
      "D:\\anaconda\\lib\\site-packages\\ipykernel_launcher.py:388: DeprecationWarning: Call to deprecated `__contains__` (Method will be removed in 4.0.0, use self.wv.__contains__() instead).\n",
      "D:\\anaconda\\lib\\site-packages\\ipykernel_launcher.py:389: DeprecationWarning: Call to deprecated `__getitem__` (Method will be removed in 4.0.0, use self.wv.__getitem__() instead).\n"
     ]
    },
    {
     "name": "stdout",
     "output_type": "stream",
     "text": [
      "#papers  335\n",
      "#authors 669\n",
      "#org_words 117\n",
      "#confs   251\n",
      "walks done\n"
     ]
    },
    {
     "name": "stderr",
     "output_type": "stream",
     "text": [
      "D:\\anaconda\\lib\\site-packages\\ipykernel_launcher.py:60: DeprecationWarning: Call to deprecated `__contains__` (Method will be removed in 4.0.0, use self.wv.__contains__() instead).\n",
      "D:\\anaconda\\lib\\site-packages\\ipykernel_launcher.py:61: DeprecationWarning: Call to deprecated `__getitem__` (Method will be removed in 4.0.0, use self.wv.__getitem__() instead).\n"
     ]
    },
    {
     "name": "stdout",
     "output_type": "stream",
     "text": [
      "walks done\n",
      "walks done\n",
      "relational outlier: set()\n",
      "semantic outlier: set()\n",
      "[ 0  0  0  0  0  0  0  0  0  0  0  0  0  0  0  0  0  0  0  0  0  0  0  0\n",
      "  0  0  0  0  0  0  0  0  0  0  0  0  0  0  0  0  0  0  0  0  0  0  0  0\n",
      "  0  0  0  0  0  0  0  0  0  0  0  0  0  0  0  0  0  0  0  0  0  0  0  0\n",
      "  0  0  0  0  0  0  0  0  0  0  0  0  0  0  0  0  0  0  0  0  0  0  0  0\n",
      "  0  0  0  0  0  0  0  0  0  0  0  0  0  0  0  0  0  0  0  0  0  0  0  0\n",
      "  0  0  0  0  0  0  0  0  0  0  0  0  0  0  0  0  0  0  1  1  1  1  1  1\n",
      "  1  1  1  1  1  1  1  1  1  1  1  1  1  1  1  1  1  1  1  1  1  1  1  1\n",
      "  1  1  1  1  1  1  1  1  1  1  2  2  2  2  2  2  2  2  2  2  2  2  2  2\n",
      "  2  2  2  2  2  2  3  3  3  4  4  5  5  6  6  7  7  7  7  7  8  8  8  8\n",
      "  8  8  8  8  8  8  8  8  8  8  8  8  8  8  8  8  8  8  8  8  8  8  8  8\n",
      "  8  8  8  8  8  8  8  8  8  8  8  8  9  9  9  9  9  9 10 10 10 10 10 10\n",
      " 11 11 11 11 11 11 11 12 12 13 13 13 13 13 13 13 13 13 13 13 14 14 15 15\n",
      " 15 15 15 15 15 15 15 16 16 16 16 16 16 16 16 16 16 16 16 16 16 16 16 16\n",
      " 17 17 18 18 19 19 19 20 20 20 21 21 21 21 21 21 22 22 23 23 23 24 24] 25\n",
      "[ 0  0  0  0  0  0  0  0  1  1  1  1  1  1  1  1  1  1  1  1  1  1  1  1\n",
      "  1  1  1  1  1  1  1  2  1  1  1  1  1  2  1  1  3  2  3  1  1  1  2  1\n",
      "  1  3  1  2  1  3  1  1  3  1  1  1  3  1  1  1  1  1  1  1  1  1  1  1\n",
      "  1  1  1  1  1  1  1  1  1  1  1  1  1  1  1  1  1  1  1  1  1  1  1  1\n",
      "  1  1  1  1  1  1  1  1  1  1  1  1  1  1  1  1  1  1  1  1  1  1  1  1\n",
      "  1  1  1  1  1  1  1  1  1  1  1  1  1  1  1  1  0  1  4  4  4  5  5  4\n",
      "  4  4  4  4  5  4  5  4  4  4  4  4  4  4  4  4  4  4  4  4  5  4  4  4\n",
      "  4  4  4  4  4  4  4  4  4  4  6  6  6  6 10  6  6  6  6  6  6  6  6  6\n",
      "  6  6 10  6  6  6 12 12 12 15 15  7  7  1  1  7  7  7  7  7  7  7  7  7\n",
      "  7  7  7  7  7  7  7  7  7  7  7  7  7  7  7  7  7  7  7  7  7  7  7  7\n",
      "  7  7  7  7  7  7  7  7  7  7  7  7  1  1  1  1  1  1  1  1  1  1  1  1\n",
      "  1  1  1  1  1  1  1 18 18  1  1  1  1  1  1  1  1  1  1  1  1  1  8  8\n",
      "  8  8  8  8  8  8  8  1  1  1  1  1  1  1  1  1  1  1  1  1  1  1  1  1\n",
      "  1  1 20 20  1  1  1  1  1  1  1  1  1  1  1  1  1  1  1  1  1  1  1] 14\n",
      "0.4436124233591316 0.7657673288800209 0.5617820206841687\n",
      "avg_f1: 0.666594815617172\n",
      "14 jiang_he 416\n"
     ]
    },
    {
     "name": "stderr",
     "output_type": "stream",
     "text": [
      "D:\\anaconda\\lib\\site-packages\\smart_open\\smart_open_lib.py:398: UserWarning: This function is deprecated, use smart_open.open instead. See the migration notes for details: https://github.com/RaRe-Technologies/smart_open/blob/master/README.rst#migrating-to-the-new-open-function\n",
      "  'See the migration notes for details: %s' % _MIGRATION_NOTES_URL\n",
      "D:\\anaconda\\lib\\site-packages\\ipykernel_launcher.py:388: DeprecationWarning: Call to deprecated `__contains__` (Method will be removed in 4.0.0, use self.wv.__contains__() instead).\n",
      "D:\\anaconda\\lib\\site-packages\\ipykernel_launcher.py:389: DeprecationWarning: Call to deprecated `__getitem__` (Method will be removed in 4.0.0, use self.wv.__getitem__() instead).\n"
     ]
    },
    {
     "name": "stdout",
     "output_type": "stream",
     "text": [
      "#papers  416\n",
      "#authors 1877\n",
      "#org_words 166\n",
      "#confs   258\n",
      "walks done\n"
     ]
    },
    {
     "name": "stderr",
     "output_type": "stream",
     "text": [
      "D:\\anaconda\\lib\\site-packages\\ipykernel_launcher.py:60: DeprecationWarning: Call to deprecated `__contains__` (Method will be removed in 4.0.0, use self.wv.__contains__() instead).\n",
      "D:\\anaconda\\lib\\site-packages\\ipykernel_launcher.py:61: DeprecationWarning: Call to deprecated `__getitem__` (Method will be removed in 4.0.0, use self.wv.__getitem__() instead).\n"
     ]
    },
    {
     "name": "stdout",
     "output_type": "stream",
     "text": [
      "walks done\n",
      "walks done\n",
      "relational outlier: set()\n",
      "semantic outlier: set()\n",
      "[0 0 0 0 0 0 0 0 0 0 0 0 0 0 0 0 0 0 0 0 0 0 0 0 0 0 0 0 0 0 0 0 0 0 0 0 0\n",
      " 0 0 0 0 0 0 0 0 0 0 0 0 0 0 0 0 0 0 0 0 0 0 0 0 0 0 0 0 0 0 0 0 0 0 0 0 0\n",
      " 0 0 0 0 0 0 0 0 0 0 0 0 0 0 0 0 0 0 0 0 0 0 0 0 0 0 0 0 0 0 0 0 0 0 0 0 0\n",
      " 0 0 0 0 0 0 0 0 0 0 0 0 0 0 0 0 0 0 0 0 0 0 0 0 0 0 0 0 0 0 0 0 0 0 0 0 0\n",
      " 0 0 0 0 0 0 0 0 0 0 0 0 0 0 0 0 0 0 0 0 0 0 0 0 0 0 0 0 0 0 0 0 0 0 0 0 0\n",
      " 0 0 0 0 0 0 0 0 0 0 0 0 0 0 0 0 0 0 0 0 0 0 0 0 0 0 0 0 0 0 0 0 0 0 0 0 0\n",
      " 0 0 0 0 0 0 0 0 0 0 0 0 0 1 1 1 1 1 1 1 1 1 1 1 1 1 1 1 1 1 1 1 1 1 1 1 1\n",
      " 1 1 1 1 1 1 1 1 2 2 2 2 2 2 2 3 3 3 3 3 3 3 3 3 3 3 3 3 3 3 3 3 3 3 3 3 3\n",
      " 3 3 3 3 3 3 3 3 3 3 3 3 3 4 4 4 4 4 4 4 4 4 4 4 4 4 4 4 4 4 4 4 4 4 4 4 4\n",
      " 4 4 4 4 4 4 4 4 4 4 5 5 5 5 5 5 5 5 5 5 5 5 5 5 5 5 5 5 5 5 6 6 6 6 6 6 6\n",
      " 6 6 6 6 6 6 6 6 6 7 7 7 7 7 7 7 7 7 7 7 8 8 8 8 8 8 8 8 8 8 8 8 8 8 8 9 9\n",
      " 9 9 9 9 9 9 9 9 9] 10\n",
      "[0 0 0 0 0 0 0 0 0 0 0 0 0 0 0 0 0 0 0 0 0 0 0 0 0 0 0 0 0 0 0 0 0 0 0 0 0\n",
      " 0 0 0 0 0 0 0 0 0 0 0 0 0 0 0 0 0 0 0 0 0 0 0 0 0 0 0 0 0 0 0 0 0 0 0 0 0\n",
      " 0 0 0 0 0 0 0 0 0 0 0 0 0 0 0 0 0 0 0 0 0 0 0 0 0 0 0 0 0 0 0 0 0 0 0 0 0\n",
      " 0 0 0 0 0 0 0 0 0 0 0 0 0 0 0 0 0 0 0 0 0 0 0 0 0 0 0 0 0 0 0 0 0 0 0 0 0\n",
      " 0 0 0 0 0 0 0 0 0 0 0 0 0 0 0 0 0 0 0 0 0 0 0 0 0 0 0 0 0 0 0 0 0 0 0 0 0\n",
      " 0 0 0 0 0 0 0 0 0 0 0 0 0 0 0 0 0 0 0 0 0 0 0 0 0 0 0 0 0 0 0 0 0 0 0 0 0\n",
      " 0 0 0 0 0 0 0 0 0 0 0 0 0 1 1 1 1 1 1 1 1 1 1 1 1 1 1 1 1 1 1 1 1 1 1 1 1\n",
      " 1 1 1 1 1 1 1 1 2 2 2 2 2 2 2 2 2 2 2 2 2 2 2 2 2 2 2 2 2 2 2 2 2 2 2 2 2\n",
      " 2 2 2 2 2 2 2 2 2 2 2 2 2 3 3 3 3 3 3 3 3 3 3 3 3 3 3 3 3 3 3 3 3 3 3 3 3\n",
      " 3 3 3 3 3 3 3 3 3 3 4 4 4 4 4 4 4 4 4 4 4 4 4 4 4 4 4 4 4 4 2 2 2 2 2 2 2\n",
      " 2 2 2 2 2 2 2 3 2 5 5 5 5 5 5 5 5 5 5 5 6 6 6 6 6 6 6 6 6 6 6 6 6 6 6 9 7\n",
      " 7 7 7 7 7 7 7 7 7] 9\n",
      "0.9702717729012003 0.9991580507190246 0.9845030695204912\n",
      "avg_f1: 0.6877886992107266\n",
      "15 xiang_gao 1800\n"
     ]
    },
    {
     "name": "stderr",
     "output_type": "stream",
     "text": [
      "D:\\anaconda\\lib\\site-packages\\smart_open\\smart_open_lib.py:398: UserWarning: This function is deprecated, use smart_open.open instead. See the migration notes for details: https://github.com/RaRe-Technologies/smart_open/blob/master/README.rst#migrating-to-the-new-open-function\n",
      "  'See the migration notes for details: %s' % _MIGRATION_NOTES_URL\n",
      "D:\\anaconda\\lib\\site-packages\\ipykernel_launcher.py:388: DeprecationWarning: Call to deprecated `__contains__` (Method will be removed in 4.0.0, use self.wv.__contains__() instead).\n",
      "D:\\anaconda\\lib\\site-packages\\ipykernel_launcher.py:389: DeprecationWarning: Call to deprecated `__getitem__` (Method will be removed in 4.0.0, use self.wv.__getitem__() instead).\n"
     ]
    },
    {
     "name": "stdout",
     "output_type": "stream",
     "text": [
      "#papers  1800\n",
      "#authors 4669\n",
      "#org_words 635\n",
      "#confs   1162\n",
      "walks done\n"
     ]
    },
    {
     "name": "stderr",
     "output_type": "stream",
     "text": [
      "D:\\anaconda\\lib\\site-packages\\ipykernel_launcher.py:60: DeprecationWarning: Call to deprecated `__contains__` (Method will be removed in 4.0.0, use self.wv.__contains__() instead).\n",
      "D:\\anaconda\\lib\\site-packages\\ipykernel_launcher.py:61: DeprecationWarning: Call to deprecated `__getitem__` (Method will be removed in 4.0.0, use self.wv.__getitem__() instead).\n"
     ]
    },
    {
     "name": "stdout",
     "output_type": "stream",
     "text": [
      "walks done\n",
      "walks done\n",
      "relational outlier: {2, 1282, 1161, 11, 1423, 1685, 406, 1302, 536, 1434, 1693, 1438, 291, 937, 44, 1454, 1203, 56, 955, 1085, 1344, 1472, 1473, 1474, 1730, 1349, 1350, 1477, 1478, 1480, 1227, 1100, 1483, 1747, 1749, 1758, 1507, 1134, 1136, 243, 123, 1790, 1279}\n",
      "semantic outlier: set()\n",
      "[  0   0   0 ... 229 230 231] 232\n",
      "[ 0  0 71 ... 23 26 17] 208\n",
      "0.3049080849544887 0.16437143608525814 0.21359627919382534\n",
      "avg_f1: 0.6581516729596704\n",
      "16 jianping_wu 219\n"
     ]
    },
    {
     "name": "stderr",
     "output_type": "stream",
     "text": [
      "D:\\anaconda\\lib\\site-packages\\smart_open\\smart_open_lib.py:398: UserWarning: This function is deprecated, use smart_open.open instead. See the migration notes for details: https://github.com/RaRe-Technologies/smart_open/blob/master/README.rst#migrating-to-the-new-open-function\n",
      "  'See the migration notes for details: %s' % _MIGRATION_NOTES_URL\n",
      "D:\\anaconda\\lib\\site-packages\\ipykernel_launcher.py:388: DeprecationWarning: Call to deprecated `__contains__` (Method will be removed in 4.0.0, use self.wv.__contains__() instead).\n",
      "D:\\anaconda\\lib\\site-packages\\ipykernel_launcher.py:389: DeprecationWarning: Call to deprecated `__getitem__` (Method will be removed in 4.0.0, use self.wv.__getitem__() instead).\n"
     ]
    },
    {
     "name": "stdout",
     "output_type": "stream",
     "text": [
      "#papers  219\n",
      "#authors 467\n",
      "#org_words 190\n",
      "#confs   217\n",
      "walks done\n"
     ]
    },
    {
     "name": "stderr",
     "output_type": "stream",
     "text": [
      "D:\\anaconda\\lib\\site-packages\\ipykernel_launcher.py:60: DeprecationWarning: Call to deprecated `__contains__` (Method will be removed in 4.0.0, use self.wv.__contains__() instead).\n",
      "D:\\anaconda\\lib\\site-packages\\ipykernel_launcher.py:61: DeprecationWarning: Call to deprecated `__getitem__` (Method will be removed in 4.0.0, use self.wv.__getitem__() instead).\n"
     ]
    },
    {
     "name": "stdout",
     "output_type": "stream",
     "text": [
      "walks done\n",
      "walks done\n",
      "relational outlier: {25}\n",
      "semantic outlier: set()\n",
      "[ 0  0  0  0  0  0  0  0  0  0  0  0  0  0  0  0  0  0  0  0  0  0  0  0\n",
      "  0  0  0  0  0  0  0  0  0  0  0  0  0  0  0  0  0  0  0  0  0  0  0  0\n",
      "  0  0  0  0  0  0  0  0  0  0  0  0  0  0  0  0  1  1  1  1  1  1  1  1\n",
      "  1  1  1  1  1  1  1  1  1  1  1  1  2  2  2  2  2  2  3  3  3  3  3  3\n",
      "  3  3  3  3  3  3  3  3  3  3  3  3  3  3  3  3  3  3  3  3  3  3  3  3\n",
      "  3  3  3  3  3  3  3  3  3  3  3  3  3  3  3  3  3  3  3  3  3  3  3  3\n",
      "  3  3  4  4  4  4  4  4  4  4  4  4  4  4  5  5  5  5  5  5  5  5  5  5\n",
      "  5  6  6  7  7  8  8  8  9  9  9  9  9  9  9  9 10 10 10 10 10 10 10 11\n",
      " 11 11 12 12 12 12 13 13 13 13 13 14 14 14 15 15 15 16 16 17 17 18 18 19\n",
      " 19 20 20] 21\n",
      "[ 0  0  0  0  0  0 13  0  0  0  0  0  0  0  0  0  0 13  0  0  0  0  0  0\n",
      "  0  3  0  0  0  0  0  0  0  0  0  0  0  0  0  0  0  0  0  0  0  0  0  0\n",
      "  0  0  0  0  0  0  0  0  0  0  0  0  0  0  0  0  1  1  1  1  1  1  1  1\n",
      "  1  1  1  1  1  1  1  1  1  1  1  1  2  2  2  2  2  2  3  3  3  3  3  3\n",
      "  3  3  3  3  3  3  3  3  3  3  3  3  3  3  3  3  3  3  3  3  3  3  3  3\n",
      "  3  3  3  3  3  3  3  3  3  3  3  3  3  3  3  3  3  3  3  3  3  3  3  3\n",
      "  3  3  4  4  4  4  4  4  4  4  4  4  4  4  5  5  5  5  5  5  5  5  5  5\n",
      "  5 14 14  6  6  7  7  7  8  8  8  8  8  8  8  8  9  9  9  9  9  9  9  7\n",
      "  7  7  6  6  6  6 10 10 10 10 10 11 11 11 16 16 16 18 18 11 11 20 20 23\n",
      " 23 24 24] 19\n",
      "0.9795336787564767 0.9533535047907211 0.9662662918476872\n",
      "avg_f1: 0.6762760623060242\n",
      "17 peng_shi 815\n"
     ]
    },
    {
     "name": "stderr",
     "output_type": "stream",
     "text": [
      "D:\\anaconda\\lib\\site-packages\\smart_open\\smart_open_lib.py:398: UserWarning: This function is deprecated, use smart_open.open instead. See the migration notes for details: https://github.com/RaRe-Technologies/smart_open/blob/master/README.rst#migrating-to-the-new-open-function\n",
      "  'See the migration notes for details: %s' % _MIGRATION_NOTES_URL\n",
      "D:\\anaconda\\lib\\site-packages\\ipykernel_launcher.py:388: DeprecationWarning: Call to deprecated `__contains__` (Method will be removed in 4.0.0, use self.wv.__contains__() instead).\n",
      "D:\\anaconda\\lib\\site-packages\\ipykernel_launcher.py:389: DeprecationWarning: Call to deprecated `__getitem__` (Method will be removed in 4.0.0, use self.wv.__getitem__() instead).\n"
     ]
    },
    {
     "name": "stdout",
     "output_type": "stream",
     "text": [
      "#papers  815\n",
      "#authors 425\n",
      "#org_words 176\n",
      "#confs   272\n",
      "walks done\n"
     ]
    },
    {
     "name": "stderr",
     "output_type": "stream",
     "text": [
      "D:\\anaconda\\lib\\site-packages\\ipykernel_launcher.py:60: DeprecationWarning: Call to deprecated `__contains__` (Method will be removed in 4.0.0, use self.wv.__contains__() instead).\n",
      "D:\\anaconda\\lib\\site-packages\\ipykernel_launcher.py:61: DeprecationWarning: Call to deprecated `__getitem__` (Method will be removed in 4.0.0, use self.wv.__getitem__() instead).\n"
     ]
    },
    {
     "name": "stdout",
     "output_type": "stream",
     "text": [
      "walks done\n",
      "walks done\n",
      "relational outlier: set()\n",
      "semantic outlier: set()\n",
      "[ 0  0  0  0  0  0  0  0  0  0  0  0  0  0  0  0  0  0  0  0  0  0  0  0\n",
      "  0  0  0  0  0  0  0  0  0  0  0  0  0  0  0  0  0  0  0  0  0  0  0  0\n",
      "  0  0  0  0  0  0  0  0  0  0  0  0  0  0  0  0  0  0  0  0  0  0  0  0\n",
      "  0  0  0  0  0  0  0  0  0  0  0  0  0  0  0  0  0  0  0  0  0  0  0  0\n",
      "  0  0  0  0  0  0  0  0  0  0  0  0  0  0  0  0  0  0  0  0  0  0  0  0\n",
      "  0  0  0  0  0  0  0  0  0  0  0  0  0  0  0  0  0  0  0  0  0  0  0  0\n",
      "  0  0  0  0  0  0  0  0  0  0  0  0  0  0  0  0  0  0  0  0  0  0  0  0\n",
      "  0  0  0  0  0  0  0  0  0  0  0  0  0  0  0  0  0  0  0  0  0  0  0  0\n",
      "  0  0  0  0  0  0  0  0  0  0  0  0  0  0  0  0  0  0  0  0  0  0  0  0\n",
      "  0  0  0  0  0  0  0  0  0  0  0  0  0  0  0  0  0  0  0  0  0  0  0  0\n",
      "  0  0  0  0  0  0  0  0  0  0  0  0  0  0  0  0  0  0  0  0  0  0  0  0\n",
      "  0  0  0  0  0  0  0  0  0  0  0  0  0  0  0  0  0  0  0  0  0  0  0  0\n",
      "  0  0  0  0  0  0  0  0  0  0  0  0  0  0  0  0  0  0  0  0  0  0  0  0\n",
      "  0  0  0  0  0  0  0  0  0  0  0  0  0  0  0  0  0  0  0  0  0  0  0  0\n",
      "  0  0  0  0  0  0  0  0  0  0  0  0  0  0  0  0  0  0  0  0  0  0  0  0\n",
      "  0  0  0  0  0  0  0  0  0  0  0  0  0  0  0  0  0  0  0  0  0  0  0  0\n",
      "  0  0  0  0  0  0  0  0  0  0  0  0  0  0  0  0  0  0  0  0  0  0  0  0\n",
      "  0  0  0  0  0  0  0  0  0  0  0  0  0  0  0  0  0  0  0  0  0  0  0  0\n",
      "  0  0  0  0  0  0  0  0  0  0  0  0  0  0  0  0  0  0  0  0  0  0  0  0\n",
      "  0  0  0  0  0  0  0  0  0  0  0  0  0  0  0  0  0  0  0  0  0  0  0  0\n",
      "  0  0  0  0  0  0  0  0  0  0  0  0  0  0  0  0  0  0  0  0  0  0  0  0\n",
      "  0  0  0  0  0  0  0  0  0  0  0  0  0  0  0  0  0  0  0  0  0  0  0  0\n",
      "  0  0  0  0  0  0  0  0  0  0  0  0  0  0  0  0  0  0  0  0  0  1  1  1\n",
      "  1  1  1  1  1  1  1  1  1  1  1  1  1  1  1  1  1  1  1  1  1  1  1  1\n",
      "  1  1  1  1  1  1  1  1  1  1  1  1  1  1  1  1  1  1  1  1  1  1  1  1\n",
      "  1  1  1  1  1  1  1  1  1  1  1  1  1  1  1  1  1  1  1  1  1  1  1  1\n",
      "  1  1  1  1  1  1  2  2  2  2  2  2  2  2  2  2  2  2  2  2  2  2  2  2\n",
      "  2  2  2  2  2  2  2  2  2  2  2  2  2  2  2  2  2  2  2  2  2  2  2  2\n",
      "  2  2  2  2  2  2  2  2  2  2  2  2  2  2  2  2  2  2  2  2  2  2  2  2\n",
      "  2  2  2  2  2  2  2  2  2  2  2  2  2  2  2  2  2  2  2  2  2  2  2  3\n",
      "  3  3  3  3  3  3  3  3  3  3  4  4  4  4  4  4  4  4  4  4  4  4  4  4\n",
      "  4  4  5  5  5  5  5  5  5  5  5  5  5  5  5  5  5  5  5  6  6  6  6  6\n",
      "  6  6  6  6  6  6  7  7  7  7  7  7  7  7  8  8  8  8  8  8  8  8  8  8\n",
      "  9  9  9  9  9  9  9  9  9  9  9  9  9  9 10 10 10 10 10 10 10 10 10] 11\n",
      "[ 0  0  0  0  0  0  0  0  0  0  0  0  0  0  0  0  0  0  0  0  0  0  0  0\n",
      "  0  0  0  0  0  0  0  0  0  0  0  0  0  0  0  0  0  0  0  0  0  0  0  0\n",
      "  0  0  0  0  0  0  0  0  0  0  0  0  0  0  0  0  0  0  0  0  0  0  0  0\n",
      "  0  0  0  0  0  0  0  0  0  0  0  0  0  0  0  0  0  0  0  0  0  0  0  0\n",
      "  0  0  0  0  0  0  0  0  0  0  0  0  0  0  0  0  0  0  0  0  0  0  0  0\n",
      "  0  0  0  0  0  0  0  0  0  0  0  0  0 10  0  0  0  0  0  0  0  0  0  0\n",
      "  0  0  0  0  0  0  0  0  0  0  0  0  0  0  0  0  0  0  0  0  0  0  0  0\n",
      "  0  0  0  0  0  0  0  0  0  0  0  0  0  0  0  0  0  0  0  0  0  0  0  0\n",
      "  0  0  0  0  0  0  0  0  0  0  0  0  0  0  0  0  0  0  0  0  0  0  0  0\n",
      "  0  0  0  0  0  0  0  0  0  0  0  0  0  0  0  0  0  0  0  0  0  0  0  0\n",
      "  0  0  0  0  0  0  0  0  0  0  0  0  0  0  0  0  0  0  0  0  0  0  0  0\n",
      "  0  0  0  0  0  0  0  0  0  0  0  0  0  0  0  0  0  0  0  0  0  0  0  0\n",
      "  0  0  0  0  0  0  0  0  0  0  0  0  0  0  0  0  0  0  0  0  0  0  0  0\n",
      "  0  0  0  0  0  0  0  0  0  0  0  0  0  0  0  0  0  0  0  0  0  0  0  0\n",
      "  0  0  0  0  0  0  0  0  0  0  0  0  0  0  0  0  0  0  0  0  0  0  0  0\n",
      "  0  0  0  0  0  0  0  0  0  0  0  0  0  0  0  0  0  0  0  0  0  0  0  0\n",
      "  0  0  0  0  0  0  0  0  0  0  0  0  0  0  0  0  0  0  0  0  0  0  0  0\n",
      "  0  0  0  0  0  0  0  0  0  0  0  0  0  0  0  0  0  0  0  0  0  0  0  0\n",
      "  0  0  0  0  0  0  0  0  0  0  0  0  0  0  0  0  0  0  0  0  0  0  0  0\n",
      "  0  0  0  0  0  0  0  0  0  0  0  0  0  0  0  0  0  0  0  0  0  0  0  0\n",
      "  0  0  0  0  0  0  0  0  0  0  0  0  0  0  0  0  0  0  0  0  0  0  0  0\n",
      "  0  0  0  0  0  0  0  0  0  0  0  0  0  0  0  0  0  0  0  0  0  0  0  0\n",
      "  0  0  0  0  0  0  0  0  0  0  0  0  0  0  0  0  0  0  0  0  0  0  0  0\n",
      "  0  0  0  0  0  0  0  0  0  0  0  0  0  0  0  0  0  0  0  0  0  0  0  0\n",
      "  0  0  0  0  0  0  0  0  0  0  0  0  0  0  0  0  0  0  0  0  0  0  0  0\n",
      "  0  0  0  0  0  0  0  0  0  0  0  0  0  0  0  0  0  0  0  0  0  0  0  0\n",
      "  0  0  0  0  0  0  1  1  1  1  1  1  1  1  1  1  1  1  1  1  1  1  1  1\n",
      "  1  1  1  1  1  1  1  1  1  1  1  1  1  1  1  1  1  1  1  1  1  1  1  1\n",
      "  1  1  1  1  1  1  1  1  1  1  1  1  1  1  1  1  1  1  1  1  1  1  1  1\n",
      "  1  1  1  1  1  1  1  1  1  1  1  1  1  1  1  1  1  1  1  1  1  1  1  2\n",
      "  2  2  2  2  2  2  2  2  2  2  0  0  0  0  0  0  0  0  0  0  0  0  0  0\n",
      "  0  0  3  3  3  3  3  3  3  3  3  3  3  3  3  3  3  3  3  4  4  4  4  4\n",
      "  4  4  4  4  4  4  5  5  5  5  5  5  5  5  6  6  6  6  6  6  6  6  6  6\n",
      "  7  7  7  7  7  7  7  7  7  7  7  7  7  7  8  8  8  8  8  8  8  8  8] 10\n",
      "0.7432139286590081 0.9965348913675798 0.8514316585629389\n",
      "avg_f1: 0.6860069287647418\n",
      "18 feng_wu 2308\n"
     ]
    },
    {
     "name": "stderr",
     "output_type": "stream",
     "text": [
      "D:\\anaconda\\lib\\site-packages\\smart_open\\smart_open_lib.py:398: UserWarning: This function is deprecated, use smart_open.open instead. See the migration notes for details: https://github.com/RaRe-Technologies/smart_open/blob/master/README.rst#migrating-to-the-new-open-function\n",
      "  'See the migration notes for details: %s' % _MIGRATION_NOTES_URL\n",
      "D:\\anaconda\\lib\\site-packages\\ipykernel_launcher.py:388: DeprecationWarning: Call to deprecated `__contains__` (Method will be removed in 4.0.0, use self.wv.__contains__() instead).\n",
      "D:\\anaconda\\lib\\site-packages\\ipykernel_launcher.py:389: DeprecationWarning: Call to deprecated `__getitem__` (Method will be removed in 4.0.0, use self.wv.__getitem__() instead).\n"
     ]
    },
    {
     "name": "stdout",
     "output_type": "stream",
     "text": [
      "#papers  2308\n",
      "#authors 3485\n",
      "#org_words 791\n",
      "#confs   928\n",
      "walks done\n"
     ]
    },
    {
     "name": "stderr",
     "output_type": "stream",
     "text": [
      "D:\\anaconda\\lib\\site-packages\\ipykernel_launcher.py:60: DeprecationWarning: Call to deprecated `__contains__` (Method will be removed in 4.0.0, use self.wv.__contains__() instead).\n",
      "D:\\anaconda\\lib\\site-packages\\ipykernel_launcher.py:61: DeprecationWarning: Call to deprecated `__getitem__` (Method will be removed in 4.0.0, use self.wv.__getitem__() instead).\n"
     ]
    },
    {
     "name": "stdout",
     "output_type": "stream",
     "text": [
      "walks done\n",
      "walks done\n",
      "relational outlier: {1472, 833, 1731, 6, 1980, 12, 1677, 2032, 1969, 2001, 2037, 1884, 1407}\n",
      "semantic outlier: set()\n",
      "[  0   0   0 ... 122 122 122] 123\n",
      "[  0   0   0 ... 144 144 144] 103\n",
      "0.8593774904644171 0.9660888407367281 0.909614151000767\n",
      "avg_f1: 0.6977757299350589\n",
      "19 jing_zhu 577\n"
     ]
    },
    {
     "name": "stderr",
     "output_type": "stream",
     "text": [
      "D:\\anaconda\\lib\\site-packages\\smart_open\\smart_open_lib.py:398: UserWarning: This function is deprecated, use smart_open.open instead. See the migration notes for details: https://github.com/RaRe-Technologies/smart_open/blob/master/README.rst#migrating-to-the-new-open-function\n",
      "  'See the migration notes for details: %s' % _MIGRATION_NOTES_URL\n",
      "D:\\anaconda\\lib\\site-packages\\ipykernel_launcher.py:388: DeprecationWarning: Call to deprecated `__contains__` (Method will be removed in 4.0.0, use self.wv.__contains__() instead).\n",
      "D:\\anaconda\\lib\\site-packages\\ipykernel_launcher.py:389: DeprecationWarning: Call to deprecated `__getitem__` (Method will be removed in 4.0.0, use self.wv.__getitem__() instead).\n"
     ]
    },
    {
     "name": "stdout",
     "output_type": "stream",
     "text": [
      "#papers  577\n",
      "#authors 832\n",
      "#org_words 314\n",
      "#confs   440\n",
      "walks done\n"
     ]
    },
    {
     "name": "stderr",
     "output_type": "stream",
     "text": [
      "D:\\anaconda\\lib\\site-packages\\ipykernel_launcher.py:60: DeprecationWarning: Call to deprecated `__contains__` (Method will be removed in 4.0.0, use self.wv.__contains__() instead).\n",
      "D:\\anaconda\\lib\\site-packages\\ipykernel_launcher.py:61: DeprecationWarning: Call to deprecated `__getitem__` (Method will be removed in 4.0.0, use self.wv.__getitem__() instead).\n"
     ]
    },
    {
     "name": "stdout",
     "output_type": "stream",
     "text": [
      "walks done\n",
      "walks done\n",
      "relational outlier: {352, 356, 460, 565, 374, 509}\n",
      "semantic outlier: set()\n",
      "[ 0  0  0  0  0  0  0  0  0  0  0  0  0  0  0  0  0  0  0  0  0  0  0  0\n",
      "  0  0  0  0  0  0  0  0  0  0  0  0  0  0  0  0  0  0  0  0  0  0  0  0\n",
      "  0  0  0  0  0  0  0  0  0  0  0  0  0  0  0  0  0  0  0  0  0  0  0  0\n",
      "  0  0  0  0  0  0  0  0  0  0  0  0  0  0  0  0  0  0  0  0  0  0  0  0\n",
      "  0  0  0  0  0  0  0  0  0  0  0  0  0  0  0  0  0  0  0  0  0  0  0  0\n",
      "  0  0  0  0  0  0  0  0  0  0  0  0  0  0  0  0  0  0  0  0  0  0  0  0\n",
      "  0  0  0  0  0  0  0  0  0  0  0  0  0  0  0  0  0  0  0  0  0  0  0  0\n",
      "  0  0  0  0  0  0  0  0  0  0  0  0  0  0  0  0  0  0  0  0  0  0  0  0\n",
      "  0  0  0  0  0  0  0  0  0  0  0  1  1  1  1  1  1  1  1  1  1  1  1  1\n",
      "  1  1  1  1  1  1  1  1  1  1  1  1  2  2  2  2  2  2  2  2  2  2  2  2\n",
      "  2  2  2  2  2  2  2  2  2  2  2  2  2  2  2  3  3  3  3  3  3  3  3  3\n",
      "  3  3  3  4  4  4  4  4  4  4  4  4  4  4  4  4  4  4  4  4  5  5  5  5\n",
      "  5  5  5  5  5  5  5  5  5  5  5  5  5  5  5  5  5  5  5  5  5  5  5  5\n",
      "  5  5  5  5  5  5  5  5  5  5  5  5  5  5  5  5  5  5  5  5  5  5  5  5\n",
      "  5  5  5  5  5  5  5  5  5  5  5  5  5  5  6  6  6  6  6  6  6  6  6  6\n",
      "  6  6  6  6  6  6  6  6  6  6  6  6  6  6  6  6  7  7  7  7  7  7  7  7\n",
      "  8  8  8  8  8  8  8  8  8  8  8  8  8  8  8  8  8  8  8  8  8  8  9  9\n",
      "  9  9  9  9  9  9  9  9  9  9 10 10 10 11 11 11 11 11 11 11 11 11 11 11\n",
      " 12 12 12 12 12 12 12 12 12 12 12 13 13 13 13 13 13 13 13 13 13 13 14 14\n",
      " 14 14 14 14 14 14 14 14 14 14 14 14 14 14 14 14 14 14 15 15 15 15 15 15\n",
      " 15 15 15 15 15 15 15 15 16 16 16 16 16 16 16 16 16 16 16 16 16 16 16 16\n",
      " 16 17 17 17 18 18 18 18 18 19 19 19 19 19 19 19 20 20 20 20 20 20 21 21\n",
      " 21 21 21 21 21 22 22 22 22 22 22 22 22 22 22 22 22 22 22 22 22 22 22 22\n",
      " 22 22 22 22 22 22 22 22 23 24 24 24 24 25 25 25 25 25 26 26 26 26 26 26\n",
      " 26] 27\n",
      "[ 0  0  0  0  0  0  0  0  0  0  0  0 21  0  0  0  0  0  0  0  0  0  0  0\n",
      "  0  0  0  0  0 22  0  0  0  0  0  0  0  0  0  0  0  0  0  0  0  0  0  0\n",
      "  0  0  0 28  0  0  0  0  0  0  0  0  0  0  0  0  0  0  0  0  0  0  0  0\n",
      "  0  0  0  0  0  0  0  0  0  0  0  0  0  0  0  0  0  0  0  0  0  0  0  0\n",
      "  0  0  0  0  0  0  0  0  0  0 22  0  0  0  0  0  0  0  0  4  0  0  0  0\n",
      "  0  0  0  0  0  0  0  0  0  0  0  0  0  0  0  0  0  0  0 27  0  0  0  0\n",
      "  0  0  0  0  0  0  0  0  0  0  0  0  0  0  0  0  0  0  0  0  0  0  0  0\n",
      "  0  0  0 28  0  0  0  0  0  0  0  0  0  0  0  0  0  0  0  0  0  0  0  0\n",
      "  0  0  0  0  0  0  0  0  0  0  0  1  1  1  1  1  1  1  1  1  1  1  1  1\n",
      "  1  1  1  1  1  1  1  1  1  1  1  1  2  2  2  2  2  2  2  2  2  2  2  2\n",
      "  2  2  2  2  4  2  2  2  2  2  2  2  2  2  2  3  3  3  3  3  3  3  3  3\n",
      "  3  3  3  0  0  0  0  0  0  0  0  0  0  0 21  0  0  0  0  0  4  4  4  4\n",
      "  4  4  4  4  0  4  4  4  4  4  4  4  4  4  4  4  4  4  4  4  4 29  4 30\n",
      "  4  4  4  4  4  4  4 31  4  4  4  4  4  4  4  4  4  4  4  4  4  4  4  4\n",
      "  4  4  4  4  4  4  4  4 31  4  4  4  4  4  5  5  5  5  5  5  5  5  5  5\n",
      "  5  5  5  5  5  5  5  5  5  5  5  5  5  5  5  5  2  2  2  2  2  2  2  2\n",
      "  6  6  6  6  6  6  6  6  6  6  6  6  6  6  6  6 33  6  6  6  6  6  7  7\n",
      "  7  7  7  7  7  7  7  7  7  7  4  4  4  8  8  8  8  8  8  8  8  8  8  8\n",
      "  1  1  1  1  1  1  1  1  1  1  1  9  9  9  9  9  9  9  9  9  9  9 10 10\n",
      " 10 10 10 10 35 10 10 10 10 10 10 10 10 10 10 10 10 10 11 11 11 11 11 11\n",
      " 11 11 11 11 11 11 11 11 12 12 12 12 12 12 12 12 36 36 12 12 36 12 12 36\n",
      " 18  9  9  9 13 40 13 13 13  5  5  5  5 41  5  5 14 14 14 14 14  0 15 15\n",
      " 15 15 15 15 15 16 16 16 16 16 16 16 16 16 16 16 16 16 16 16 16 16 16 16\n",
      " 16 16 16 16 16 16 16 16 42 17 17 17 17 43 18 18 18 18 19 19 19 19 19 19\n",
      " 19] 34\n",
      "0.8367654445002511 0.9257759784075573 0.8790231401221075\n",
      "avg_f1: 0.7068381004444113\n",
      "20 xiaoyang_zhang 447\n"
     ]
    },
    {
     "name": "stderr",
     "output_type": "stream",
     "text": [
      "D:\\anaconda\\lib\\site-packages\\smart_open\\smart_open_lib.py:398: UserWarning: This function is deprecated, use smart_open.open instead. See the migration notes for details: https://github.com/RaRe-Technologies/smart_open/blob/master/README.rst#migrating-to-the-new-open-function\n",
      "  'See the migration notes for details: %s' % _MIGRATION_NOTES_URL\n",
      "D:\\anaconda\\lib\\site-packages\\ipykernel_launcher.py:388: DeprecationWarning: Call to deprecated `__contains__` (Method will be removed in 4.0.0, use self.wv.__contains__() instead).\n",
      "D:\\anaconda\\lib\\site-packages\\ipykernel_launcher.py:389: DeprecationWarning: Call to deprecated `__getitem__` (Method will be removed in 4.0.0, use self.wv.__getitem__() instead).\n"
     ]
    },
    {
     "name": "stdout",
     "output_type": "stream",
     "text": [
      "#papers  447\n",
      "#authors 717\n",
      "#org_words 283\n",
      "#confs   316\n",
      "walks done\n"
     ]
    },
    {
     "name": "stderr",
     "output_type": "stream",
     "text": [
      "D:\\anaconda\\lib\\site-packages\\ipykernel_launcher.py:60: DeprecationWarning: Call to deprecated `__contains__` (Method will be removed in 4.0.0, use self.wv.__contains__() instead).\n",
      "D:\\anaconda\\lib\\site-packages\\ipykernel_launcher.py:61: DeprecationWarning: Call to deprecated `__getitem__` (Method will be removed in 4.0.0, use self.wv.__getitem__() instead).\n"
     ]
    },
    {
     "name": "stdout",
     "output_type": "stream",
     "text": [
      "walks done\n",
      "walks done\n",
      "relational outlier: {232}\n",
      "semantic outlier: set()\n",
      "[ 0  0  0  0  0  0  1  1  1  1  2  2  2  2  2  2  2  2  2  2  2  2  2  2\n",
      "  2  2  2  2  2  2  2  2  2  2  2  2  2  2  2  2  2  2  2  2  2  2  2  2\n",
      "  2  2  2  2  2  2  2  2  2  2  2  2  2  2  2  2  2  2  2  2  2  2  2  2\n",
      "  2  2  2  2  2  2  2  2  2  2  2  2  2  2  2  2  2  2  2  2  2  2  2  2\n",
      "  2  2  2  2  2  2  2  2  2  2  2  2  2  2  2  2  2  2  2  2  2  2  2  2\n",
      "  2  2  2  2  2  2  2  2  2  2  2  2  2  2  2  2  2  2  2  2  2  2  2  2\n",
      "  2  2  2  2  2  2  2  2  2  2  2  2  2  2  2  2  2  2  2  2  2  2  2  2\n",
      "  2  2  2  2  2  2  2  2  2  2  2  2  2  2  2  2  2  2  2  2  2  2  2  2\n",
      "  2  2  2  2  2  2  2  2  2  2  2  2  2  2  2  2  2  2  2  2  2  2  2  2\n",
      "  2  2  2  2  2  2  2  2  2  2  2  2  2  2  2  3  3  3  3  3  3  3  3  3\n",
      "  3  3  3  3  3  3  3  4  4  4  4  4  4  4  4  5  5  5  5  5  5  5  6  6\n",
      "  6  6  6  6  6  6  6  6  6  6  6  6  6  7  7  7  7  7  7  7  7  7  7  7\n",
      "  7  7  7  7  7  7  7  7  7  7  7  7  7  7  7  7  7  7  7  7  7  7  7  7\n",
      "  7  7  7  7  7  7  7  7  7  7  8  8  8  8  8  8  8  8  8  8  8  8  8  8\n",
      "  8  9  9  9  9  9  9  9  9  9  9  9  9  9  9  9  9  9  9  9  9  9  9  9\n",
      " 10 10 10 10 11 11 11 11 11 11 11 11 12 12 12 12 13 13 13 13 13 13 13 14\n",
      " 14 14 14 15 15 15 15 15 15 16 16 16 16 16 16 16 17 17 17 17 18 18 18 19\n",
      " 19 19 19 20 20 20 20 21 21 22 22 22 23 23 23 24 24 24 25 25 26 26 27 27\n",
      " 28 28 29 29 29 29 29 29 29 29 29 29 29 29 29] 30\n",
      "[ 0  0  0  0  0  0  1  1  1  1  2  2  2  2  2  2  2  2  2  2  2  2  2  2\n",
      "  2  2  2  2  2  2  2  2  2  2  2  2  2  2  2  2  2  2  2  2  2  2  2  2\n",
      "  2  2  2  2  2  2  2  2  2  2  2  3  2  2  2  2  2  2  2  2  2  2  2  2\n",
      "  2  2  2  3  2  2  2  2  2  2  2  2  2  2  2  2  2  2  2  2  2  2  2  2\n",
      "  3  2  2  2  2  2  2  2  2  2  2  2  2  2  2  2  2  2  2  2  2  2  2  2\n",
      "  2  2  2  2  2  2  2  2  2  2  2  2  2  2  2  2  2  2  2  2  2  2  2  2\n",
      "  2  2  2  2  2  2  2  2  2  2  2  2  2  2  2  2  2  2  2  2  2  2  2  2\n",
      "  2  3  2  2  2  2  2  2  2  2  3  2  2  2  2  2  2  2  2  2  2  2  2  2\n",
      "  2  2  2  2  2  2  2  2  2  2  2  2  2  2  2  2  2  2  2  2  2  2  2  2\n",
      "  2  2  2  2  2  2  2  2  2  2  2  2  2 21 21  4 22  4  4  4  4  4  4  4\n",
      "  4  4  4  4  4  4  4  5  5  5  5  5  5  5  5  6  6  6  6  6  6  6  7  7\n",
      "  7  7  7  7  7  7  7  7  7  7  7  7  7  8  8  8  8  8  8  8  8  8  8  8\n",
      "  8  8  8  8  8  8  8  8  8  8  8  8  9  9  9  9  9  9  9  8  8  8  8  8\n",
      "  8  8  8  8  8  8  8  8  8  8 10 10 10 10 10 10 10 10 10 10 10 10 10 10\n",
      " 10 11 11 11 11 11 11 11 11 11 11 11 11 11 11 11 11 11 11 11 11 11 11  1\n",
      " 12 12 12 12 13 13 13 13 13 13 13 13 11 11 11 11 14 14 14 14 14 14 14 15\n",
      " 15 15 15 16 16 16 16 16 16 17 17 17 17 17 17 17 16 16 24 24 26 26 26 18\n",
      " 18 18 18 19 19 19 19 29 29 12 12 12 33 33 33  1  1  1 37 37 39 39 41 41\n",
      " 11 11 10 10 10 10 10 10 10 10 10 10 10 10 10] 29\n",
      "0.9847161572052402 0.9306431273644389 0.9569163670654801\n",
      "avg_f1: 0.7187465893311289\n",
      "21 mei_han 388\n"
     ]
    },
    {
     "name": "stderr",
     "output_type": "stream",
     "text": [
      "D:\\anaconda\\lib\\site-packages\\smart_open\\smart_open_lib.py:398: UserWarning: This function is deprecated, use smart_open.open instead. See the migration notes for details: https://github.com/RaRe-Technologies/smart_open/blob/master/README.rst#migrating-to-the-new-open-function\n",
      "  'See the migration notes for details: %s' % _MIGRATION_NOTES_URL\n",
      "D:\\anaconda\\lib\\site-packages\\ipykernel_launcher.py:388: DeprecationWarning: Call to deprecated `__contains__` (Method will be removed in 4.0.0, use self.wv.__contains__() instead).\n",
      "D:\\anaconda\\lib\\site-packages\\ipykernel_launcher.py:389: DeprecationWarning: Call to deprecated `__getitem__` (Method will be removed in 4.0.0, use self.wv.__getitem__() instead).\n"
     ]
    },
    {
     "name": "stdout",
     "output_type": "stream",
     "text": [
      "#papers  388\n",
      "#authors 531\n",
      "#org_words 235\n",
      "#confs   296\n",
      "walks done\n"
     ]
    },
    {
     "name": "stderr",
     "output_type": "stream",
     "text": [
      "D:\\anaconda\\lib\\site-packages\\ipykernel_launcher.py:60: DeprecationWarning: Call to deprecated `__contains__` (Method will be removed in 4.0.0, use self.wv.__contains__() instead).\n",
      "D:\\anaconda\\lib\\site-packages\\ipykernel_launcher.py:61: DeprecationWarning: Call to deprecated `__getitem__` (Method will be removed in 4.0.0, use self.wv.__getitem__() instead).\n"
     ]
    },
    {
     "name": "stdout",
     "output_type": "stream",
     "text": [
      "walks done\n",
      "walks done\n",
      "relational outlier: {65, 346, 283}\n",
      "semantic outlier: set()\n",
      "[ 0  0  0  0  0  0  0  0  0  0  0  0  0  0  0  0  0  0  0  0  0  0  0  0\n",
      "  0  0  0  0  0  0  0  0  0  0  0  0  0  0  0  0  0  0  0  0  0  0  0  0\n",
      "  0  0  0  0  0  0  0  0  0  0  0  0  0  0  0  0  1  1  1  1  1  1  1  1\n",
      "  1  1  1  1  1  1  1  1  1  1  1  1  1  1  1  1  1  1  1  1  1  1  1  1\n",
      "  1  1  1  1  1  1  1  1  1  1  1  1  1  1  1  1  1  1  1  1  1  1  1  1\n",
      "  1  1  1  1  1  1  1  1  1  1  1  1  1  1  1  1  1  1  1  1  1  1  1  1\n",
      "  1  1  2  2  2  2  2  2  2  2  2  2  2  2  2  2  2  2  2  2  2  2  2  2\n",
      "  2  2  2  2  2  2  2  2  2  2  2  2  2  2  2  3  3  3  3  3  3  3  3  3\n",
      "  3  3  3  3  4  4  4  4  4  4  4  4  4  4  5  5  5  5  5  5  5  5  5  5\n",
      "  5  5  5  5  5  5  5  5  5  5  6  6  6  6  6  6  6  6  6  6  6  6  6  7\n",
      "  7  7  7  7  7  7  7  7  7  7  7  7  7  7  7  7  7  7  7  7  7  7  7  8\n",
      "  8  8  8  8  8  8  8  8  8  8  8  8  8  8  8  8  8  8  8  8  8  8  8  8\n",
      "  8  9  9  9  9  9  9  9  9  9  9  9  9  9 10 10 10 10 10 10 10 10 10 10\n",
      " 10 10 10 10 10 11 11 11 11 11 11 11 11 11 11 12 12 12 12 12 12 12 12 12\n",
      " 12 12 12 12 12 12 12 12 12 13 14 15 15 15 15 15 15 15 15 15 15 15 15 15\n",
      " 16 17 17 17 17 17 17 17 17 17 17 18 18 18 18 18 18 18 18 18 18 18 18 18\n",
      " 18 18 18 18] 19\n",
      "[ 0  0  0  0  0  0  0  0  0  0  0  0  0  0  0  0  0  0  0  0  0  0  0  0\n",
      "  0  0  0  0  0  0  0  0  0  0  0  0  0  0  0  0  0  0  0  0  0  0  0  0\n",
      "  0  0  0  0  0  0  0  0  0  0  0  0  0  0  0  0  1  1  1  1  1  1  1  1\n",
      "  1  1  1  1  1  1  1  1  1  1  1  1  1  1  1  1  1  1  1  1  1  1  1  1\n",
      "  1  1  1  1  1  1  1  1  1  1  1  1  1  1  1  1  1  1  1  1  1  1  1  1\n",
      "  1  1  1  1  1  1  1  1  1  1  1 10  1  1  1  1  1  1  1  1  1  1  1  1\n",
      "  1  1 17  2  2  2  2  2  2  2  2  2  2  2  2  2  2  2  2  2  2  2  2  2\n",
      "  2  2  2  2  2  2 17  2  2  2  2  2  2  2  2  3  3  3  3  3  3  3  3  3\n",
      "  3  3  3  3  4  4  4  4  4  4  4  4  4  4  5  5  5  5  5  5  5  5  5  5\n",
      "  5  5  5  5  5  5  5  5  5  5  6  6  6  6  6  6  6  6  6  6  6  6  6  7\n",
      "  7  7  7  7  7  7  7  7  7  7  7  7  7  7  7  7  7  7  7  7  7  7  7  8\n",
      "  8  8  8  8  8  8  8  8  8  8  8  8  8  8  8  8  8  8  8  8  8  8  8  8\n",
      "  8  9  9  9  9  9  9  9  9  9  9  9 18  9 10 10 10 10 10 10 10 10 10 10\n",
      " 10 10 10 10 10 11 11 11 11 11 11 11 11 11 11 12 12 12 12 12 12 12 12 12\n",
      " 12 12 12 12 12 12 12 19 12 20 21 13 13 13 13 13 13 13 13 13 13 13 13 13\n",
      " 22 14 14 23 14 14  4 24 14 14 24 15 15 15 15 15 15 25 15 15 15 15 15 15\n",
      " 15 15 15 15] 25\n",
      "0.9966375252185609 0.9705304518664047 0.9834107498341075\n",
      "avg_f1: 0.7307767784449006\n",
      "22 jianhua_shen 400\n"
     ]
    },
    {
     "name": "stderr",
     "output_type": "stream",
     "text": [
      "D:\\anaconda\\lib\\site-packages\\smart_open\\smart_open_lib.py:398: UserWarning: This function is deprecated, use smart_open.open instead. See the migration notes for details: https://github.com/RaRe-Technologies/smart_open/blob/master/README.rst#migrating-to-the-new-open-function\n",
      "  'See the migration notes for details: %s' % _MIGRATION_NOTES_URL\n",
      "D:\\anaconda\\lib\\site-packages\\ipykernel_launcher.py:388: DeprecationWarning: Call to deprecated `__contains__` (Method will be removed in 4.0.0, use self.wv.__contains__() instead).\n",
      "D:\\anaconda\\lib\\site-packages\\ipykernel_launcher.py:389: DeprecationWarning: Call to deprecated `__getitem__` (Method will be removed in 4.0.0, use self.wv.__getitem__() instead).\n"
     ]
    },
    {
     "name": "stdout",
     "output_type": "stream",
     "text": [
      "#papers  400\n",
      "#authors 620\n",
      "#org_words 107\n",
      "#confs   233\n",
      "walks done\n"
     ]
    },
    {
     "name": "stderr",
     "output_type": "stream",
     "text": [
      "D:\\anaconda\\lib\\site-packages\\ipykernel_launcher.py:60: DeprecationWarning: Call to deprecated `__contains__` (Method will be removed in 4.0.0, use self.wv.__contains__() instead).\n",
      "D:\\anaconda\\lib\\site-packages\\ipykernel_launcher.py:61: DeprecationWarning: Call to deprecated `__getitem__` (Method will be removed in 4.0.0, use self.wv.__getitem__() instead).\n"
     ]
    },
    {
     "name": "stdout",
     "output_type": "stream",
     "text": [
      "walks done\n",
      "walks done\n",
      "relational outlier: set()\n",
      "semantic outlier: set()\n",
      "[0 0 0 0 0 0 0 0 0 0 0 0 0 0 0 0 0 0 0 0 0 0 0 0 0 0 0 0 0 0 0 0 0 0 0 0 0\n",
      " 0 0 0 0 0 0 0 0 0 0 0 0 0 0 0 0 0 0 0 0 0 0 0 0 0 0 0 0 0 0 0 0 0 0 0 0 0\n",
      " 0 0 0 0 0 0 0 0 0 0 0 0 0 0 0 0 0 0 0 0 0 0 0 0 0 0 0 0 0 0 0 0 0 0 0 0 0\n",
      " 0 0 0 0 0 0 0 0 0 0 0 0 0 0 0 0 0 0 0 0 0 0 0 0 0 0 0 0 0 0 0 0 0 0 0 0 0\n",
      " 0 0 0 0 0 0 0 0 0 0 0 0 0 0 0 0 0 0 0 0 0 0 0 0 0 0 0 0 0 0 0 0 0 0 0 0 0\n",
      " 0 0 0 0 0 0 0 0 0 0 0 0 0 0 0 0 0 0 0 0 0 0 0 1 1 1 1 1 1 1 1 1 1 1 1 1 1\n",
      " 1 1 1 1 1 1 1 1 1 1 1 2 2 2 2 2 2 2 2 2 2 2 2 2 2 2 2 2 2 2 2 2 2 2 2 2 2\n",
      " 2 2 2 2 2 2 2 2 2 2 2 2 2 2 2 2 2 2 2 2 2 2 2 2 2 2 2 2 2 2 2 2 2 2 2 2 2\n",
      " 2 2 2 2 2 2 2 2 2 2 2 2 2 2 2 2 2 2 2 2 2 2 2 2 2 2 2 2 2 2 2 2 2 2 2 2 3\n",
      " 3 3 3 3 3 3 3 3 3 3 3 3 3 3 3 3 4 4 4 4 4 4 4 4 4 4 4 4 4 4 4 4 4 4 4 4 4\n",
      " 4 5 5 5 5 5 5 5 5 5 5 5 6 6 6 6 6 6 6 6 6 6 6 6 6 6 6 6 6 6] 7\n",
      "[ 0  0  1  0  2  0  0  0  0  0  0  0  0  0  0  3  0  0  0  2  0  0  0  0\n",
      "  3  0  3  1  0  0  0  0  1  4  0  0  0  1  0  0  4  0  0  0  2  2  0  0\n",
      "  0  0  3  1  0  0  0  3  0  0  2  0  0  0  0  0  0  0 12  0  1  0  0  3\n",
      "  0  0  0  3  0  0  0  0  0  0  0  0  0  0  0  0  0  0  0  0  0  0  0  4\n",
      "  0  0  1  0  0  0  3  0  0  0  0  0  0  0  0  4  5  3  0  0  0  0  3  0\n",
      "  0  0  0  0  3  0  2  0  0  0  0  0  0  0  0  0  0  0  0  0  0  0  0  3\n",
      "  2  0  0  2  0  0  0  0  0  0  1  3  0  0  0  0  3  0  0  0  0  0  1  0\n",
      "  0  0  0  0  3  0 12  0  0  0  3  0  0  0  0  3  0  3  1  0  0  0  3  0\n",
      "  0  0  0  0  0  0  0  1  0  4  0  0  0  0  0  0  6  6  6  6  6  6  6  6\n",
      "  6  6  6  6  6  6  6  6  6  6  6  6  6  6  6  6  6  5  5  5  5  5  5  5\n",
      "  5  5  5  5  5  5  5  5  5  5  5  5  5  5  5  5  5  5  5  5  5  5  5  5\n",
      "  5  5  5  5  5  5  5  5  5  5  5  5  5  5  5  5  5  5  5  5  5  5  5  5\n",
      "  5  5  5  5  5  5  5  5  5  5  5  5  5  5  5  5  5  5  5  5  5  5  5  5\n",
      "  5  5  5  5  5  5  5  5  5  5  5  5  5  5  5  5  5  5  5  5  7  7  7  7\n",
      "  7  7  7  7  7  7  7  7  7  7  7  7  7  8  8  8  8  8  8  8  8  8  8  8\n",
      "  8  8  8  8  8  8  8  8  8  8  8  9  9  9  9  9  9  9  9  9  9  9  7  7\n",
      "  7  7  7  7  7  7  7  7  7  7  7  7  7  7  7  7] 11\n",
      "0.9791634511498688 0.698319512732076 0.8152320575699814\n",
      "avg_f1: 0.734448747102513\n",
      "23 hong_xiao 981\n"
     ]
    },
    {
     "name": "stderr",
     "output_type": "stream",
     "text": [
      "D:\\anaconda\\lib\\site-packages\\smart_open\\smart_open_lib.py:398: UserWarning: This function is deprecated, use smart_open.open instead. See the migration notes for details: https://github.com/RaRe-Technologies/smart_open/blob/master/README.rst#migrating-to-the-new-open-function\n",
      "  'See the migration notes for details: %s' % _MIGRATION_NOTES_URL\n",
      "D:\\anaconda\\lib\\site-packages\\ipykernel_launcher.py:388: DeprecationWarning: Call to deprecated `__contains__` (Method will be removed in 4.0.0, use self.wv.__contains__() instead).\n",
      "D:\\anaconda\\lib\\site-packages\\ipykernel_launcher.py:389: DeprecationWarning: Call to deprecated `__getitem__` (Method will be removed in 4.0.0, use self.wv.__getitem__() instead).\n"
     ]
    },
    {
     "name": "stdout",
     "output_type": "stream",
     "text": [
      "#papers  981\n",
      "#authors 15596\n",
      "#org_words 301\n",
      "#confs   414\n",
      "walks done\n"
     ]
    },
    {
     "name": "stderr",
     "output_type": "stream",
     "text": [
      "D:\\anaconda\\lib\\site-packages\\ipykernel_launcher.py:60: DeprecationWarning: Call to deprecated `__contains__` (Method will be removed in 4.0.0, use self.wv.__contains__() instead).\n",
      "D:\\anaconda\\lib\\site-packages\\ipykernel_launcher.py:61: DeprecationWarning: Call to deprecated `__getitem__` (Method will be removed in 4.0.0, use self.wv.__getitem__() instead).\n"
     ]
    },
    {
     "name": "stdout",
     "output_type": "stream",
     "text": [
      "walks done\n",
      "walks done\n",
      "relational outlier: {505, 634, 734, 519}\n",
      "semantic outlier: set()\n",
      "[ 0  0  0  0  0  0  0  0  0  0  0  0  0  0  0  0  0  0  0  0  0  0  0  0\n",
      "  0  0  0  0  0  0  0  0  0  0  0  0  0  0  0  0  0  0  0  0  0  0  0  0\n",
      "  0  0  0  0  0  0  0  0  0  0  0  0  0  0  0  0  0  0  0  0  0  0  0  0\n",
      "  0  0  0  0  0  0  0  0  0  0  0  0  0  0  0  0  0  0  0  0  0  0  0  0\n",
      "  0  0  0  0  0  0  0  0  0  0  0  0  0  0  0  0  0  0  0  0  0  0  0  0\n",
      "  0  0  0  0  0  0  0  0  0  0  0  0  0  0  0  0  0  0  0  0  0  0  0  0\n",
      "  0  0  0  0  0  0  0  0  0  0  0  0  0  0  0  0  0  0  0  0  0  0  0  0\n",
      "  0  0  0  0  0  0  0  0  0  0  0  0  0  0  0  0  0  0  0  0  0  0  0  0\n",
      "  0  0  0  0  0  0  0  0  0  0  0  0  0  0  0  0  0  0  0  0  0  0  0  0\n",
      "  0  0  0  0  0  0  0  0  0  0  0  0  0  0  0  0  0  0  0  0  0  0  0  0\n",
      "  0  0  0  0  0  0  0  0  0  0  0  0  0  0  0  0  0  0  0  0  0  0  0  0\n",
      "  0  0  0  0  0  0  0  0  0  0  0  0  0  0  0  0  0  0  0  0  0  0  0  0\n",
      "  0  0  0  0  0  0  0  0  0  0  0  0  0  0  0  0  0  0  0  0  0  0  0  0\n",
      "  0  0  0  0  0  0  0  0  0  0  0  0  0  0  0  0  0  0  0  0  0  0  0  0\n",
      "  0  0  0  0  0  0  0  0  0  0  0  0  0  0  0  0  0  0  0  0  0  0  0  0\n",
      "  0  0  0  0  0  0  0  0  0  0  0  0  0  0  0  0  0  0  0  0  0  0  0  0\n",
      "  0  0  0  0  0  0  0  0  0  0  0  0  0  0  0  0  0  0  0  0  0  0  0  0\n",
      "  0  0  0  0  0  0  0  0  0  0  0  0  0  0  0  0  0  0  0  0  0  0  0  0\n",
      "  0  0  0  0  0  0  0  0  0  0  0  0  0  0  0  0  0  0  0  0  0  0  0  0\n",
      "  0  0  0  0  0  0  0  0  0  0  0  0  0  0  0  0  0  0  0  0  0  0  0  0\n",
      "  0  0  0  0  0  0  0  0  0  0  0  0  0  0  0  0  0  0  0  1  1  1  1  1\n",
      "  1  1  1  1  1  1  1  1  1  1  1  1  1  1  1  1  1  2  2  2  2  2  2  2\n",
      "  2  2  2  2  2  2  2  2  2  2  2  2  2  2  2  2  2  2  2  2  2  2  2  2\n",
      "  2  2  2  2  2  2  2  2  2  2  2  2  2  2  2  2  2  2  2  2  2  2  2  2\n",
      "  2  2  2  2  2  2  2  2  2  2  2  2  2  2  2  2  2  2  2  2  2  2  2  2\n",
      "  2  2  2  2  3  3  3  3  3  3  3  3  3  3  3  3  3  3  4  4  4  4  4  4\n",
      "  4  4  4  4  4  4  4  4  4  4  4  4  4  4  4  5  5  5  5  5  5  5  5  5\n",
      "  5  5  5  5  5  5  5  5  5  5  5  5  5  5  5  5  5  5  5  5  5  5  5  5\n",
      "  5  5  5  5  5  5  5  5  5  5  5  5  5  5  5  6  6  6  6  6  6  6  6  6\n",
      "  6  6  6  6  6  6  6  6  7  7  7  7  7  7  7  7  7  7  7  7  7  7  7  7\n",
      "  7  7  8  8  8  8  8  8  8  8  8  8  8  8  8  8  8  8  8  9  9  9  9  9\n",
      "  9  9  9  9  9  9  9  9  9  9  9  9  9  9  9  9  9  9  9  9  9  9  9  9\n",
      "  9  9  9 10 10 10 10 10 10 10 10 10 10 10 10 10 10 10 10 10 10 10 10 10\n",
      " 10 10 10 11 11 11 11 11 11 11 11 11 11 11 11 11 11 11 11 11 11 11 11 11\n",
      " 11 12 12 12 12 12 12 12 12 12 12 12 12 12 12 12 12 12 13 13 13 13 13 13\n",
      " 13 13 13 14 14 14 14 14 14 14 14 14 14 14 14 14 14 14 14 14 15 15 15 15\n",
      " 15 15 15 15 15 15 15 15 15 15 16 16 16 16 16 16 16 16 16 16 16 16 16 17\n",
      " 17 17 17 17 18 18 18 18 18 18 18 18 18 18 19 19 19 19 19 19 19 19 19 19\n",
      " 19 19 19 19 19 19 19 19 19 20 20 20 20 20 20 20 20 20 20 20 20 20 20 21\n",
      " 21 21 21 21 21 21 21 21 21 21 21 21 21 22 22 22 22 23 23 23 23 23 23 23\n",
      " 24 24 24 24 24 24 24 25 25 25 25 25 25 25 25 25 26 26 26 26 26] 27\n",
      "[ 0  1  0  0  0  0  0  0  0  0  2  0  0  0  0  2  0  0  0  0  0  0  0  3\n",
      "  0  0  0  0  0  3  0  0  0  0  0  0  0  0  0  0  0  0  0  0  2  0  0  0\n",
      "  2  0  0  3  0  0  0  0  0  0  0  0  0  0  1  0  0  0  0  0  0  0  0  0\n",
      "  0  0  0  0  0  0  0  0  0  0  0  0  0  0  0  0  0  0  0  0  0  0  0  0\n",
      "  0  0  0  0  0  0  1  0  0  0  0  0  0  0  0  0  0  0  0  0  0  0  0  0\n",
      "  0  0  0  0  0  2  0  2  0  1  3  0  0  0  0  2  0  0  0  0  0  0  0  0\n",
      "  0  0  0  0  0  0  0  0  0  0  0  0  0  0  0  0  0  0  0  0  0  0  0  0\n",
      "  0  0  0  0  2  0  0  0  0  0  0  0  0  0  0  0  0  0  0  0  0  0  0  0\n",
      "  0  1  0  0  0  0  0  0  0  0  0  0  0  0  0  0  0  0  0  0  0  0  0  0\n",
      "  0  0  0  0  0  0  0  0  1  0  0  0  0  0  0  0  0  0  0  0  0  0  0  0\n",
      "  0  0  3  0  0  0  0  0  0  0  0  2  0  0  0  0  0  0  0  0  0  0  0  0\n",
      "  0  0  0  2  0  0  0  2  0  0  0  0  0  0  0  0  0  0  0  3  2  0  0  0\n",
      "  0  0  0  0  0  0  0  0  0  0  0  0  0  0  0  0  0  0  0  0  1  0  0  0\n",
      "  0  0  0  0  0  0  0  0  0  0  0  0  0  0  0  0  0  0  0  0  0  0  0  0\n",
      "  0  0  0  0  0  0  0  0  0  3  0  0  0  0  0  0  0  0  0  0  0  0  2  0\n",
      "  0  0  3  0  0  0  0  0  0  0  0  0  0  0  0  0  0  0  0  0  0  0  0  0\n",
      "  0  0  0  0  0  1  0  0  0  0  0  0  1  0  0  0  0  0  0  0  0  0  0  0\n",
      "  0  0  0  0  0  0  0  0  0  0  0  3  0  0  0  0  0  0  0  0  0  0  0  0\n",
      "  0  0  0  0  0  0  0  0  0  0  0  0  0  0  3  0  0  0  0  0  0  0  0  0\n",
      "  3  0  0  0  0  1  0  0  0  0  0  0  0  0  0  0  0  0  0  0  0  0  0  0\n",
      "  3  3  0  0  0  0  0  0  0  0  0  0  0  0  0  0  0  0  0  4  4  4  4  4\n",
      "  4  4  4  4  4  4  4  4  4  4  4  4  4  4  4  4  4  5  5  5  5  5  5  5\n",
      "  5  5  5  5  5  5  5  5  5  5  5  5  5  5  5  5  5  5  5  5  5  5  5  5\n",
      "  5  5  5  5  5  5  5  5  5  5  5  5  5  5  5  5  5  5  5  5  5  5  5  5\n",
      "  5  5  5  5  5  5  5  5  5  5  5  5  5  5  5  5  5  5  5  5  5  5  5  5\n",
      "  5  5  5  5  6  6  6  6  6  6  6  6  6  6  6  6  6  6  7  7  7  7  7  7\n",
      "  7 24  7  7  7  7  7  7  7  7  7  7  7  7  7  8  9  9  9  9  9  9  9  9\n",
      "  9  8  9  9  8  8  9  9  9  9  9  8  9  9  9  8  9  9  8  9  9  9  9  9\n",
      "  9  8  8  9  8  9  9  8  9  9  9  8  9  9  9 10 10 10 10 10 10 10 10 10\n",
      " 10 10 10 10 10 10 10 10 11 11 11 11 11 11 11 11 11 11 11 11 11 11 11 11\n",
      " 11 11 12 12 12 12 12 12 12 12 12 12 12 12 25 12 12 12 12 11 11 11 11 11\n",
      " 11 11 11 11 11 11 11 11 11 11 11 11 11 11 11 11 11 11 11 11 11 11 11 11\n",
      " 11 11 11 13 13 13 13 13 13 13 13 13 13 13 13 13 13 13 13 13 13 13 13 13\n",
      " 13 13 13 11 11 11 11 11 11 11 11 11 11 11 11 11 11 11 11 11 11 11 11 11\n",
      " 11  6  6  6  6  6  6  6  6  6  6  6  6  6  6  6  6  6 14 14 14 14 14 14\n",
      " 14 14 26 15 15 15 15 15 15 15 15 15 15 15 15 15 15 15 15 15 10 10 10 10\n",
      " 10 10 10 10 10 10 10 10 10 10 16 16 16 16 16 16 16 16 16 16 16 16 16 17\n",
      "  0 17 17 17 18 18 18 18 18 18 18 18 18 18 13 13 13 13 13 13 13 13 13 13\n",
      " 13 13 13 13 13 13 13 13 13 14 14 14 14 17 14 14 14 17 14 14 14 14 14 19\n",
      " 19 19 19 19 19 19 19 19 19 19 19 19 19 16 16 28 28 20 20 20 20 20 20 20\n",
      " 11 11 11 11 11 11 11 21 21  0 21 21 21 21 21 21 30 22 22 22 22] 28\n",
      "0.9647510420806101 0.8662551908959087 0.9128539084938038\n",
      "avg_f1: 0.7418822954938166\n",
      "24 qing_yang 2302\n"
     ]
    },
    {
     "name": "stderr",
     "output_type": "stream",
     "text": [
      "D:\\anaconda\\lib\\site-packages\\smart_open\\smart_open_lib.py:398: UserWarning: This function is deprecated, use smart_open.open instead. See the migration notes for details: https://github.com/RaRe-Technologies/smart_open/blob/master/README.rst#migrating-to-the-new-open-function\n",
      "  'See the migration notes for details: %s' % _MIGRATION_NOTES_URL\n",
      "D:\\anaconda\\lib\\site-packages\\ipykernel_launcher.py:388: DeprecationWarning: Call to deprecated `__contains__` (Method will be removed in 4.0.0, use self.wv.__contains__() instead).\n",
      "D:\\anaconda\\lib\\site-packages\\ipykernel_launcher.py:389: DeprecationWarning: Call to deprecated `__getitem__` (Method will be removed in 4.0.0, use self.wv.__getitem__() instead).\n"
     ]
    },
    {
     "name": "stdout",
     "output_type": "stream",
     "text": [
      "#papers  2302\n",
      "#authors 4309\n",
      "#org_words 709\n",
      "#confs   1289\n",
      "walks done\n"
     ]
    },
    {
     "name": "stderr",
     "output_type": "stream",
     "text": [
      "D:\\anaconda\\lib\\site-packages\\ipykernel_launcher.py:60: DeprecationWarning: Call to deprecated `__contains__` (Method will be removed in 4.0.0, use self.wv.__contains__() instead).\n",
      "D:\\anaconda\\lib\\site-packages\\ipykernel_launcher.py:61: DeprecationWarning: Call to deprecated `__getitem__` (Method will be removed in 4.0.0, use self.wv.__getitem__() instead).\n"
     ]
    },
    {
     "name": "stdout",
     "output_type": "stream",
     "text": [
      "walks done\n",
      "walks done\n",
      "relational outlier: {512, 2180, 1673, 1931, 1934, 2063, 405, 920, 923, 1954, 1321, 1835, 2171, 1965, 1843, 1973, 1724, 2237, 1857, 1987, 711, 2250, 1614, 86, 1882, 2269, 2014, 2143, 1888, 2270, 614, 999, 2152, 1643, 1389, 1645, 1907, 372, 501, 2164, 1657, 763}\n",
      "semantic outlier: set()\n",
      "[  0   1   1 ... 287 288 289] 290\n",
      "[  0  62  63 ...  53 303  36] 216\n",
      "0.6579911500214113 0.05242590656368256 0.097114173233876\n",
      "avg_f1: 0.716091570603419\n",
      "25 makoto_sasaki 321\n"
     ]
    },
    {
     "name": "stderr",
     "output_type": "stream",
     "text": [
      "D:\\anaconda\\lib\\site-packages\\smart_open\\smart_open_lib.py:398: UserWarning: This function is deprecated, use smart_open.open instead. See the migration notes for details: https://github.com/RaRe-Technologies/smart_open/blob/master/README.rst#migrating-to-the-new-open-function\n",
      "  'See the migration notes for details: %s' % _MIGRATION_NOTES_URL\n",
      "D:\\anaconda\\lib\\site-packages\\ipykernel_launcher.py:388: DeprecationWarning: Call to deprecated `__contains__` (Method will be removed in 4.0.0, use self.wv.__contains__() instead).\n",
      "D:\\anaconda\\lib\\site-packages\\ipykernel_launcher.py:389: DeprecationWarning: Call to deprecated `__getitem__` (Method will be removed in 4.0.0, use self.wv.__getitem__() instead).\n"
     ]
    },
    {
     "name": "stdout",
     "output_type": "stream",
     "text": [
      "#papers  321\n",
      "#authors 1524\n",
      "#org_words 126\n",
      "#confs   206\n",
      "walks done\n"
     ]
    },
    {
     "name": "stderr",
     "output_type": "stream",
     "text": [
      "D:\\anaconda\\lib\\site-packages\\ipykernel_launcher.py:60: DeprecationWarning: Call to deprecated `__contains__` (Method will be removed in 4.0.0, use self.wv.__contains__() instead).\n",
      "D:\\anaconda\\lib\\site-packages\\ipykernel_launcher.py:61: DeprecationWarning: Call to deprecated `__getitem__` (Method will be removed in 4.0.0, use self.wv.__getitem__() instead).\n"
     ]
    },
    {
     "name": "stdout",
     "output_type": "stream",
     "text": [
      "walks done\n",
      "walks done\n",
      "relational outlier: {243, 251, 63}\n",
      "semantic outlier: set()\n",
      "[ 0  0  0  0  0  0  0  0  0  0  0  0  0  0  0  0  0  0  0  0  0  0  0  0\n",
      "  0  0  0  0  0  0  0  0  0  0  0  0  0  0  0  0  0  0  0  0  0  0  0  0\n",
      "  0  0  0  0  0  0  0  1  1  1  1  1  1  1  1  1  1  1  2  2  2  2  2  2\n",
      "  2  2  2  2  2  2  2  2  2  2  2  2  2  2  2  2  2  2  2  2  2  2  2  2\n",
      "  2  2  2  2  2  2  2  2  2  3  3  3  3  3  3  3  3  3  3  3  3  3  3  3\n",
      "  3  3  3  3  3  3  3  3  3  3  3  3  3  3  3  3  3  3  3  3  3  3  3  3\n",
      "  3  3  3  3  3  3  3  3  3  3  3  3  3  3  4  4  4  4  4  4  4  4  4  4\n",
      "  4  5  5  5  6  6  6  6  6  6  6  6  6  6  6  6  6  6  6  6  6  6  6  6\n",
      "  6  6  6  6  6  6  6  6  6  6  6  6  6  6  6  6  6  6  6  6  6  7  7  7\n",
      "  7  7  7  7  7  7  7  7  7  7  7  7  7  7  7  7  7  7  7  7  7  7  7  7\n",
      "  8  8  8  8  8  8  8  8  8  8  8  8  8  8  8  8  8  8  8  8  8  9  9  9\n",
      "  9  9  9  9  9  9 10 10 10 10 10 10 11 11 11 11 11 12 12 12 12 12 12 13\n",
      " 13 13 13 14 14 14 14 15 15 15 15 16 16 16 16 17 17 17 17 18 18 18 18 19\n",
      " 19 19 19 20 20 20 21 21 21] 22\n",
      "[ 0  0  0  0  0  0  0  0  0  0  0  0  0  0  0  0  0  0  0  0  0  0  0  0\n",
      "  0  0  0  0  0  0  0  0  0  0  0  0  0  0  0  0  0  0  0  0  0  0  0  0\n",
      "  0  0  0  0  0  0  0 15 16 17 17 15 17 16 16  0 16 15  1  1  1  1  1  1\n",
      "  1  1  1  1  1  1  1  1  1  1  1  1  1  1  1  1  1  1  1  1  1  1  1  1\n",
      "  1  1  1  1  1  1  1  1  1  2  3  2  2  2  2  2  3  3  3  2  2  2  3  2\n",
      "  2  3  3  3  3  3  3  3  3  3  3  3  3  3  3  3  3  3  3  3  3  3  3  3\n",
      "  3  3  2  2  2  2  2  2  3  3  2  3  2  2  4  4  4  4  4  4  4  4  4  4\n",
      "  4 25 26 26  5  5  5  5  5  5  5  5  5  5  5  5  5  5  5  5  5  5  5  5\n",
      "  5  5  5  5  5  5  5  5  5  5  5  5  5  5  5  5  5  5  5  5  5  6  6  6\n",
      "  6  6  6  6  6  6  6  6  6  6  6  6  6  6  6  6  6  6  6  6  6  6  6  6\n",
      "  7  7  7  7  7  7  7 28  7  7  7 29  7  7  7  7  7  7  7  7  7  8  8  8\n",
      "  8  8  8  8  8  8 30 30 30 30 30 30 36 36 36 36 36  9  9  9  9  9  9 41\n",
      " 41 41 41 45 45 45 45 10 10 10 10 11 11 11 11 12 12 12 12 13 13 13 13 49\n",
      " 49 49 49 53 53 53 55 55 55] 28\n",
      "0.9878667549084491 0.8575258521639219 0.9180932854946182\n",
      "avg_f1: 0.7238608673300035\n",
      "26 feng_gao 2663\n"
     ]
    },
    {
     "name": "stderr",
     "output_type": "stream",
     "text": [
      "D:\\anaconda\\lib\\site-packages\\smart_open\\smart_open_lib.py:398: UserWarning: This function is deprecated, use smart_open.open instead. See the migration notes for details: https://github.com/RaRe-Technologies/smart_open/blob/master/README.rst#migrating-to-the-new-open-function\n",
      "  'See the migration notes for details: %s' % _MIGRATION_NOTES_URL\n",
      "D:\\anaconda\\lib\\site-packages\\ipykernel_launcher.py:388: DeprecationWarning: Call to deprecated `__contains__` (Method will be removed in 4.0.0, use self.wv.__contains__() instead).\n",
      "D:\\anaconda\\lib\\site-packages\\ipykernel_launcher.py:389: DeprecationWarning: Call to deprecated `__getitem__` (Method will be removed in 4.0.0, use self.wv.__getitem__() instead).\n"
     ]
    },
    {
     "name": "stdout",
     "output_type": "stream",
     "text": [
      "#papers  2663\n",
      "#authors 5233\n",
      "#org_words 882\n",
      "#confs   970\n",
      "walks done\n"
     ]
    },
    {
     "name": "stderr",
     "output_type": "stream",
     "text": [
      "D:\\anaconda\\lib\\site-packages\\ipykernel_launcher.py:60: DeprecationWarning: Call to deprecated `__contains__` (Method will be removed in 4.0.0, use self.wv.__contains__() instead).\n",
      "D:\\anaconda\\lib\\site-packages\\ipykernel_launcher.py:61: DeprecationWarning: Call to deprecated `__getitem__` (Method will be removed in 4.0.0, use self.wv.__getitem__() instead).\n"
     ]
    },
    {
     "name": "stdout",
     "output_type": "stream",
     "text": [
      "walks done\n",
      "walks done\n",
      "relational outlier: {1728, 2333}\n",
      "semantic outlier: set()\n",
      "[ 0  0  0 ... 91 91 91] 92\n",
      "[ 0  0  0 ... 67 67 67] 71\n",
      "0.6083844580777096 0.9673011956509207 0.7469649956149917\n",
      "avg_f1: 0.7247165757850031\n",
      "27 d_zhang 223\n"
     ]
    },
    {
     "name": "stderr",
     "output_type": "stream",
     "text": [
      "D:\\anaconda\\lib\\site-packages\\smart_open\\smart_open_lib.py:398: UserWarning: This function is deprecated, use smart_open.open instead. See the migration notes for details: https://github.com/RaRe-Technologies/smart_open/blob/master/README.rst#migrating-to-the-new-open-function\n",
      "  'See the migration notes for details: %s' % _MIGRATION_NOTES_URL\n",
      "D:\\anaconda\\lib\\site-packages\\ipykernel_launcher.py:388: DeprecationWarning: Call to deprecated `__contains__` (Method will be removed in 4.0.0, use self.wv.__contains__() instead).\n",
      "D:\\anaconda\\lib\\site-packages\\ipykernel_launcher.py:389: DeprecationWarning: Call to deprecated `__getitem__` (Method will be removed in 4.0.0, use self.wv.__getitem__() instead).\n"
     ]
    },
    {
     "name": "stdout",
     "output_type": "stream",
     "text": [
      "#papers  223\n",
      "#authors 1302\n",
      "#org_words 84\n",
      "#confs   137\n",
      "walks done\n"
     ]
    },
    {
     "name": "stderr",
     "output_type": "stream",
     "text": [
      "D:\\anaconda\\lib\\site-packages\\ipykernel_launcher.py:60: DeprecationWarning: Call to deprecated `__contains__` (Method will be removed in 4.0.0, use self.wv.__contains__() instead).\n",
      "D:\\anaconda\\lib\\site-packages\\ipykernel_launcher.py:61: DeprecationWarning: Call to deprecated `__getitem__` (Method will be removed in 4.0.0, use self.wv.__getitem__() instead).\n"
     ]
    },
    {
     "name": "stdout",
     "output_type": "stream",
     "text": [
      "walks done\n",
      "walks done\n",
      "relational outlier: {25, 129, 29}\n",
      "semantic outlier: set()\n",
      "[ 0  0  0  0  0  1  1  1  1  2  2  2  2  2  2  2  2  2  2  2  2  3  4  4\n",
      "  5  5  5  5  5  5  6  6  6  6  6  6  6  6  6  6  6  6  6  6  6  6  6  6\n",
      "  6  6  6  6  6  6  6  6  6  6  6  6  6  6  6  6  6  6  6  6  6  6  6  6\n",
      "  6  6  6  6  6  7  7  7  7  7  7  7  8  8  8  8  8  8  8  9  9  9  9 10\n",
      " 10 10 10 11 11 11 11 12 12 12 12 12 12 12 12 13 13 13 14 14 14 14 14 14\n",
      " 14 14 14 14 14 14 14 14 14 15 15 15 15 15 15 15 15 15 15 15 15 15 15 15\n",
      " 15 15 15 15 15 15 15 15 15 15 15 15 15 15 15 15 15 15 15 15 15 15 15 15\n",
      " 15 15 15 15 15 15 15 15 15 15 15 15 15 15 15 15 15 15 15 15 15 15 15 15\n",
      " 15 15 15 15 15 15 15 15 15 15 15 15 15 15 15 15 15 15 15 15 15 15 15 15\n",
      " 15 15 15 15 15 15 15] 16\n",
      "[ 0  0  0  0  0  1  1  1  1  2  2  2  2  2  2  2  2  2  2  2  2  1  1  1\n",
      "  3 12 12  7 12 15  1  1  1  1  1  1  1  1  1  1  1  1  1  1  1  1  1  1\n",
      "  1  1  1  1  1  1  1  1  1  1  1  1  1  1  1  1  1  1  1  1  1  1  1  1\n",
      "  1  1  1  1  5  4  4  4  4  4  4  4  5  5  5  5  5  5  5  6  6  6  6  1\n",
      "  1  1  1  1  1  1  1  7  7  7  7  7  7  7  7  3  3  3  8  8  8  8  8  8\n",
      "  8  8  8  8  8  8  8  8  8  9  9  9  9  9  9  9  9  9  9  9  9  9  9  9\n",
      "  9  9  9  9  9  9  9  9  9  9  9  9  9  9  9  9  9  9  9  9  9  9  9  9\n",
      "  9  9  9  9  9  9  9  9  9  9  9  9  9  9  9  9  9  9  9  9  9  9  9  9\n",
      "  9  9  9  9  9  9  9  9  9  9  9  9  9  9  9  9  9  9  9  9  9  9  9  9\n",
      "  9  9  9 10 10 10 10] 13\n",
      "0.8703038222803006 0.9272537417333797 0.8978766430738119\n",
      "avg_f1: 0.7309008639024606\n",
      "28 akira_ono 195\n"
     ]
    },
    {
     "name": "stderr",
     "output_type": "stream",
     "text": [
      "D:\\anaconda\\lib\\site-packages\\smart_open\\smart_open_lib.py:398: UserWarning: This function is deprecated, use smart_open.open instead. See the migration notes for details: https://github.com/RaRe-Technologies/smart_open/blob/master/README.rst#migrating-to-the-new-open-function\n",
      "  'See the migration notes for details: %s' % _MIGRATION_NOTES_URL\n",
      "D:\\anaconda\\lib\\site-packages\\ipykernel_launcher.py:388: DeprecationWarning: Call to deprecated `__contains__` (Method will be removed in 4.0.0, use self.wv.__contains__() instead).\n",
      "D:\\anaconda\\lib\\site-packages\\ipykernel_launcher.py:389: DeprecationWarning: Call to deprecated `__getitem__` (Method will be removed in 4.0.0, use self.wv.__getitem__() instead).\n"
     ]
    },
    {
     "name": "stdout",
     "output_type": "stream",
     "text": [
      "#papers  195\n",
      "#authors 446\n",
      "#org_words 78\n",
      "#confs   120\n",
      "walks done\n"
     ]
    },
    {
     "name": "stderr",
     "output_type": "stream",
     "text": [
      "D:\\anaconda\\lib\\site-packages\\ipykernel_launcher.py:60: DeprecationWarning: Call to deprecated `__contains__` (Method will be removed in 4.0.0, use self.wv.__contains__() instead).\n",
      "D:\\anaconda\\lib\\site-packages\\ipykernel_launcher.py:61: DeprecationWarning: Call to deprecated `__getitem__` (Method will be removed in 4.0.0, use self.wv.__getitem__() instead).\n"
     ]
    },
    {
     "name": "stdout",
     "output_type": "stream",
     "text": [
      "walks done\n",
      "walks done\n",
      "relational outlier: set()\n",
      "semantic outlier: set()\n",
      "[0 0 0 0 0 0 0 0 0 0 0 0 0 0 0 0 0 0 0 0 0 0 0 0 0 0 1 1 1 1 1 1 1 1 1 1 1\n",
      " 1 1 1 1 1 1 1 1 1 1 1 1 1 1 1 1 2 2 2 2 2 2 2 2 2 2 2 2 2 2 2 3 3 3 3 3 3\n",
      " 3 3 3 3 3 3 3 3 3 3 3 3 3 3 3 3 3 3 3 3 3 3 3 3 3 3 3 3 3 3 3 3 3 3 3 3 3\n",
      " 3 3 3 3 3 3 3 3 3 3 3 3 3 3 3 3 3 3 3 3 3 3 3 3 3 3 3 3 3 3 3 3 3 3 3 3 3\n",
      " 3 3 3 3 3 3 3 3 3 3 3 3 3 3 3 3 3 4 4 4 4 4 4 4 4 4 4 4 4 4 4 4 4 4 5 5 5\n",
      " 5 6 6 6 6 7 7 7 8 8] 9\n",
      "[0 0 0 0 0 0 0 0 0 0 0 0 0 0 0 0 0 0 0 0 0 0 0 0 0 0 1 1 1 1 1 2 1 1 2 1 2\n",
      " 2 1 1 1 1 1 1 1 2 1 1 2 1 1 1 1 3 3 3 3 3 3 3 3 3 3 3 3 3 3 3 4 4 4 4 4 4\n",
      " 4 4 4 4 4 4 4 4 4 4 4 4 4 4 4 4 4 4 4 4 4 4 4 4 4 4 4 4 4 4 4 4 4 4 4 4 4\n",
      " 4 4 4 4 4 4 4 4 4 4 4 4 4 4 4 4 4 4 4 4 4 4 4 4 4 4 4 4 4 4 4 4 4 4 4 4 4\n",
      " 4 4 4 4 4 4 4 4 4 4 4 4 4 4 4 4 4 5 5 5 5 5 5 5 5 5 5 5 5 5 5 5 5 5 7 7 7\n",
      " 7 5 5 5 5 5 5 5 1 1] 7\n",
      "0.9693044712562101 0.9774557165861514 0.9733630289532293\n",
      "avg_f1: 0.739261628214556\n",
      "29 hong_yang 310\n"
     ]
    },
    {
     "name": "stderr",
     "output_type": "stream",
     "text": [
      "D:\\anaconda\\lib\\site-packages\\smart_open\\smart_open_lib.py:398: UserWarning: This function is deprecated, use smart_open.open instead. See the migration notes for details: https://github.com/RaRe-Technologies/smart_open/blob/master/README.rst#migrating-to-the-new-open-function\n",
      "  'See the migration notes for details: %s' % _MIGRATION_NOTES_URL\n",
      "D:\\anaconda\\lib\\site-packages\\ipykernel_launcher.py:388: DeprecationWarning: Call to deprecated `__contains__` (Method will be removed in 4.0.0, use self.wv.__contains__() instead).\n",
      "D:\\anaconda\\lib\\site-packages\\ipykernel_launcher.py:389: DeprecationWarning: Call to deprecated `__getitem__` (Method will be removed in 4.0.0, use self.wv.__getitem__() instead).\n"
     ]
    },
    {
     "name": "stdout",
     "output_type": "stream",
     "text": [
      "#papers  310\n",
      "#authors 458\n",
      "#org_words 88\n",
      "#confs   254\n",
      "walks done\n"
     ]
    },
    {
     "name": "stderr",
     "output_type": "stream",
     "text": [
      "D:\\anaconda\\lib\\site-packages\\ipykernel_launcher.py:60: DeprecationWarning: Call to deprecated `__contains__` (Method will be removed in 4.0.0, use self.wv.__contains__() instead).\n",
      "D:\\anaconda\\lib\\site-packages\\ipykernel_launcher.py:61: DeprecationWarning: Call to deprecated `__getitem__` (Method will be removed in 4.0.0, use self.wv.__getitem__() instead).\n"
     ]
    },
    {
     "name": "stdout",
     "output_type": "stream",
     "text": [
      "walks done\n",
      "walks done\n",
      "relational outlier: {144, 149, 135}\n",
      "semantic outlier: set()\n",
      "[ 0  0  0  0  0  0  0  0  0  0  0  0  0  0  0  0  0  0  0  0  0  0  0  0\n",
      "  0  0  0  0  0  0  0  0  0  0  0  0  0  0  0  0  0  0  0  0  0  0  0  0\n",
      "  0  0  0  0  0  0  0  0  0  0  0  0  0  0  0  0  0  0  0  0  0  0  0  0\n",
      "  0  0  0  0  0  0  1  1  1  2  2  2  2  2  2  2  2  2  2  2  2  2  2  2\n",
      "  2  2  2  2  2  2  2  2  2  2  2  2  2  2  2  2  2  3  3  3  3  3  3  3\n",
      "  3  3  3  3  3  4  4  4  4  4  4  4  4  4  4  5  5  5  5  5  6  6  6  6\n",
      "  6  6  6  6  6  6  7  7  7  7  7  7  8  8  8  9  9  9 10 10 10 10 10 10\n",
      " 10 10 10 10 11 11 11 11 11 11 11 11 11 11 11 11 11 11 11 11 11 11 11 11\n",
      " 11 11 11 11 11 11 11 11 11 11 11 11 11 11 11 11 11 11 11 11 11 11 11 11\n",
      " 11 11 11 11 11 11 11 11 11 11 11 11 11 11 11 11 11 11 11 11 11 11 11 11\n",
      " 11 11 11 11 11 11 11 11 11 11 11 11 11 11 11 11 11 11 11 11 11 11 11 11\n",
      " 11 11 12 12 12 12 12 12 12 12 12 12 12 12 13 13 13 13 13 13 13 13 14 14\n",
      " 14 14 14 14 14 14 15 15 15 15 16 16 16 16 16 16 16 16 16 16 16 16] 17\n",
      "[ 0  0  0  0  0  0  0  0  0  0  0  0  0  0  0  0  0  0  0  0  0  0  0  0\n",
      "  0  0  0  0  0  0  0  0  0  0  0  0  0  0  0  0  0  0  0  0  0  0  0  0\n",
      "  0  0  0  0  0  0  0  0  0  0  0  0  0  0  0  0  0  0  0  0  0  0  0  0\n",
      "  0  0  0  0  0  0 12 12 12  1  1  1  1  1  1  2  1  1  1  1  1  1  1  1\n",
      "  1  3  3  3  3  3  3  3  3  3  3  3  3  3  3  3  3  6  2  2  2  2  2  2\n",
      "  2  2  2  2  2  4  4  3  4  4  4  4  4  4  4 15  3  3  3  3  5  5  5  5\n",
      " 16  5  5  5  5 17  2  2  2  2  2  2  3  3  3  6  6 18  6  6  6  6  6  6\n",
      "  6  6  6  6  0  0  0  0  0  0  0  0  0  0  0  0  0  0  0  0  0  0  0  0\n",
      "  4  0  0  0  0  0  0  0  0  0  0  0  0  0  0  0  0  0  0  0  0  0  0  0\n",
      "  0  0  0  0  0  0  0  0  0  0  0  0  0  0  0  0  0  0  0  0  0  0  0  0\n",
      "  0  0  0  0  0  0  0  0  0  0  0  0  0  0  0  0  0  0  0  0  0  0  0  0\n",
      "  0  0  7  7  7  7  7  7  7  0  1  7  7  7  8  8  8  8  8  8  8  8  9  9\n",
      "  9  9  9  9  9  9 10 10 10 10  3  3  3  3  3  3  3  3  3  3  3  3] 16\n",
      "0.49596723377441715 0.948427521388119 0.6513302163929\n",
      "avg_f1: 0.7363305811538342\n",
      "30 bin_gao 398\n"
     ]
    },
    {
     "name": "stderr",
     "output_type": "stream",
     "text": [
      "D:\\anaconda\\lib\\site-packages\\smart_open\\smart_open_lib.py:398: UserWarning: This function is deprecated, use smart_open.open instead. See the migration notes for details: https://github.com/RaRe-Technologies/smart_open/blob/master/README.rst#migrating-to-the-new-open-function\n",
      "  'See the migration notes for details: %s' % _MIGRATION_NOTES_URL\n",
      "D:\\anaconda\\lib\\site-packages\\ipykernel_launcher.py:388: DeprecationWarning: Call to deprecated `__contains__` (Method will be removed in 4.0.0, use self.wv.__contains__() instead).\n",
      "D:\\anaconda\\lib\\site-packages\\ipykernel_launcher.py:389: DeprecationWarning: Call to deprecated `__getitem__` (Method will be removed in 4.0.0, use self.wv.__getitem__() instead).\n"
     ]
    },
    {
     "name": "stdout",
     "output_type": "stream",
     "text": [
      "#papers  398\n",
      "#authors 563\n",
      "#org_words 199\n",
      "#confs   326\n",
      "walks done\n"
     ]
    },
    {
     "name": "stderr",
     "output_type": "stream",
     "text": [
      "D:\\anaconda\\lib\\site-packages\\ipykernel_launcher.py:60: DeprecationWarning: Call to deprecated `__contains__` (Method will be removed in 4.0.0, use self.wv.__contains__() instead).\n",
      "D:\\anaconda\\lib\\site-packages\\ipykernel_launcher.py:61: DeprecationWarning: Call to deprecated `__getitem__` (Method will be removed in 4.0.0, use self.wv.__getitem__() instead).\n"
     ]
    },
    {
     "name": "stdout",
     "output_type": "stream",
     "text": [
      "walks done\n",
      "walks done\n",
      "relational outlier: {344, 361, 385, 384}\n",
      "semantic outlier: set()\n",
      "[ 0  0  0  0  0  0  0  0  0  0  0  0  0  0  0  0  0  0  0  0  0  0  0  0\n",
      "  0  0  0  0  0  0  0  0  0  0  0  0  0  0  0  0  0  0  0  0  0  0  0  0\n",
      "  0  0  0  0  0  0  0  0  0  0  0  0  0  0  0  0  0  0  0  0  0  0  0  0\n",
      "  0  0  0  0  0  0  0  0  0  0  0  0  0  0  0  0  0  0  0  0  0  0  0  0\n",
      "  0  0  0  0  0  1  1  1  1  1  1  1  1  1  1  1  1  1  1  1  1  1  1  1\n",
      "  1  1  1  1  1  1  1  1  1  1  1  1  1  1  1  1  1  1  2  2  2  2  2  2\n",
      "  2  2  2  2  2  2  2  2  2  2  2  2  2  2  2  2  2  2  2  2  2  2  2  2\n",
      "  3  3  3  3  3  3  3  3  3  3  3  3  3  3  3  3  3  3  3  3  3  3  3  3\n",
      "  4  4  4  4  4  4  4  4  4  4  4  4  4  4  5  5  5  5  5  5  5  5  5  5\n",
      "  5  5  5  5  5  5  5  5  6  6  6  6  6  6  6  6  6  6  6  6  6  6  6  6\n",
      "  6  6  6  6  6  6  6  6  6  6  6  6  6  6  6  6  6  6  6  6  6  6  6  6\n",
      "  6  6  6  6  7  7  7  7  7  7  7  7  7  7  7  7  8  8  8  8  8  8  8  8\n",
      "  8  8  8  8  8  8  8  8  8  8  8  8  8  8  8  8  8  8  9  9  9  9  9  9\n",
      "  9  9  9  9  9  9  9  9  9 10 10 10 10 10 10 10 10 10 10 10 10 10 10 10\n",
      " 10 10 10 10 10 10 10 11 11 11 11 11 11 11 11 11 11 12 12 12 12 12 12 12\n",
      " 13 13 13 13 13 13 13 13 13 13 13 13 13 13 13 13 13 13 13 13 13 13 13 13\n",
      " 14 14 15 15 15 15 15 15 15 15 15 15 15 15] 16\n",
      "[ 0  0  0  0  0  0  0  0  0  0  0  0  0  0  0  0  0  0  0  0  0  0  0  0\n",
      "  0  0  0  0  0  0  0  0  0  0  0  0  0  0  0  0  0  0  0  0  0  0  0  0\n",
      "  0  0  0  0  0  0  0  0  0  0  0  0  0  0  0  0  0  0  0  0  0  0  0  0\n",
      "  0  0  0  0  0  0  0  0  0  0  0  0  0  0  0  0  0  0  0  0  0  0  0  0\n",
      "  0  0  0  0  0  1  1  1  1  1  1  1  1  1  1  1  1  1  1  1  1  1  1  1\n",
      "  1  1  1  1  1  1  1  1  1  1  1  1  1  1  1  1  1  1  2  2  2  2  2  2\n",
      "  2  2  2  2  2  2  2  2  2  2  2  2  2  2  2  2  2  2  2  2  2  2  2  2\n",
      "  1  1  1  1  1  1  1  1  1  1  1  1  1  1  1  1  1  1  1  1  1  1  1  1\n",
      "  1  1  1  1  1  1  1  1  1  1  1  1  1  1  3  3  3  3  3  3  3  3  3  3\n",
      "  3  3  3  3  3  3  3  3  4  4  4  4  4  4  4  4  4  4  4  4  4  4  4  4\n",
      "  4  4  4  4  4  4  4  4  4  4  4  4  4  4  4  4  4  4  4  4  4  4  4  4\n",
      "  4  4  4  4 15  5  5  5  5  5  5  5  5  5  5  5  6  6  6  6  6  6  6  6\n",
      "  6  6  6  6  6  6  6  6  6  6  6  6  6  6  6  6  6  6  7  7  7  7  7  7\n",
      "  7  7  7  7  7  7  7  7  7  8  8  8  8  8  8  8  8  8  8  8  8  8  8  8\n",
      "  8  8  8  8  8  8  8  9  9  9  9  9  9  9  9  9  9 10 10 10 10 10 10 10\n",
      " 11 16 11 11 17 11 11 11 11 11 11 11 11 11 11 11 11 11 11 11 11 11 18 11\n",
      " 19 20 12 12 12 12 12 12 12 12 12 12 12 12] 19\n",
      "0.8327733512527599 0.9910887695647207 0.9050599895670318\n",
      "avg_f1: 0.7417734652961954\n",
      "31 t_wang 1368\n"
     ]
    },
    {
     "name": "stderr",
     "output_type": "stream",
     "text": [
      "D:\\anaconda\\lib\\site-packages\\smart_open\\smart_open_lib.py:398: UserWarning: This function is deprecated, use smart_open.open instead. See the migration notes for details: https://github.com/RaRe-Technologies/smart_open/blob/master/README.rst#migrating-to-the-new-open-function\n",
      "  'See the migration notes for details: %s' % _MIGRATION_NOTES_URL\n",
      "D:\\anaconda\\lib\\site-packages\\ipykernel_launcher.py:388: DeprecationWarning: Call to deprecated `__contains__` (Method will be removed in 4.0.0, use self.wv.__contains__() instead).\n",
      "D:\\anaconda\\lib\\site-packages\\ipykernel_launcher.py:389: DeprecationWarning: Call to deprecated `__getitem__` (Method will be removed in 4.0.0, use self.wv.__getitem__() instead).\n"
     ]
    },
    {
     "name": "stdout",
     "output_type": "stream",
     "text": [
      "#papers  1357\n",
      "#authors 11985\n",
      "#org_words 613\n",
      "#confs   825\n",
      "walks done\n"
     ]
    },
    {
     "name": "stderr",
     "output_type": "stream",
     "text": [
      "D:\\anaconda\\lib\\site-packages\\ipykernel_launcher.py:60: DeprecationWarning: Call to deprecated `__contains__` (Method will be removed in 4.0.0, use self.wv.__contains__() instead).\n",
      "D:\\anaconda\\lib\\site-packages\\ipykernel_launcher.py:61: DeprecationWarning: Call to deprecated `__getitem__` (Method will be removed in 4.0.0, use self.wv.__getitem__() instead).\n"
     ]
    },
    {
     "name": "stdout",
     "output_type": "stream",
     "text": [
      "walks done\n",
      "walks done\n",
      "relational outlier: {644, 900, 393, 907, 783, 401, 402, 914, 532, 1170, 1175, 796, 412, 669, 930, 675, 677, 555, 684, 1197, 942, 560, 1218, 458, 971, 461, 590, 1231, 466, 989, 1248, 1260, 624, 627, 372}\n",
      "semantic outlier: set()\n"
     ]
    },
    {
     "ename": "KeyboardInterrupt",
     "evalue": "",
     "output_type": "error",
     "traceback": [
      "\u001b[1;31m---------------------------------------------------------------------------\u001b[0m",
      "\u001b[1;31mKeyboardInterrupt\u001b[0m                         Traceback (most recent call last)",
      "\u001b[1;32m<ipython-input-6-5dc99c3e5ce6>\u001b[0m in \u001b[0;36m<module>\u001b[1;34m()\u001b[0m\n\u001b[0;32m    111\u001b[0m \u001b[1;33m\u001b[0m\u001b[0m\n\u001b[0;32m    112\u001b[0m     \u001b[1;31m## assign each outlier a label\u001b[0m\u001b[1;33m\u001b[0m\u001b[1;33m\u001b[0m\u001b[0m\n\u001b[1;32m--> 113\u001b[1;33m     \u001b[0mpaper_pair\u001b[0m \u001b[1;33m=\u001b[0m \u001b[0mgenerate_pair\u001b[0m\u001b[1;33m(\u001b[0m\u001b[0mpubs\u001b[0m\u001b[1;33m,\u001b[0m\u001b[0moutlier\u001b[0m\u001b[1;33m)\u001b[0m\u001b[1;33m\u001b[0m\u001b[0m\n\u001b[0m\u001b[0;32m    114\u001b[0m     \u001b[0mpaper_pair1\u001b[0m \u001b[1;33m=\u001b[0m \u001b[0mpaper_pair\u001b[0m\u001b[1;33m.\u001b[0m\u001b[0mcopy\u001b[0m\u001b[1;33m(\u001b[0m\u001b[1;33m)\u001b[0m\u001b[1;33m\u001b[0m\u001b[0m\n\u001b[0;32m    115\u001b[0m     \u001b[0mK\u001b[0m \u001b[1;33m=\u001b[0m \u001b[0mlen\u001b[0m\u001b[1;33m(\u001b[0m\u001b[0mset\u001b[0m\u001b[1;33m(\u001b[0m\u001b[0mpre\u001b[0m\u001b[1;33m)\u001b[0m\u001b[1;33m)\u001b[0m\u001b[1;33m\u001b[0m\u001b[0m\n",
      "\u001b[1;32m<ipython-input-1-32472427711d>\u001b[0m in \u001b[0;36mgenerate_pair\u001b[1;34m(pubs, outlier)\u001b[0m\n\u001b[0;32m    225\u001b[0m \u001b[1;33m\u001b[0m\u001b[0m\n\u001b[0;32m    226\u001b[0m             \u001b[1;32mif\u001b[0m \u001b[0mpid\u001b[0m \u001b[1;32min\u001b[0m \u001b[0mpaper_author\u001b[0m \u001b[1;32mand\u001b[0m \u001b[0mpjd\u001b[0m \u001b[1;32min\u001b[0m \u001b[0mpaper_author\u001b[0m\u001b[1;33m:\u001b[0m\u001b[1;33m\u001b[0m\u001b[0m\n\u001b[1;32m--> 227\u001b[1;33m                 \u001b[0mca\u001b[0m \u001b[1;33m=\u001b[0m \u001b[0mlen\u001b[0m\u001b[1;33m(\u001b[0m\u001b[0mset\u001b[0m\u001b[1;33m(\u001b[0m\u001b[0mpaper_author\u001b[0m\u001b[1;33m[\u001b[0m\u001b[0mpid\u001b[0m\u001b[1;33m]\u001b[0m\u001b[1;33m)\u001b[0m\u001b[1;33m&\u001b[0m\u001b[0mset\u001b[0m\u001b[1;33m(\u001b[0m\u001b[0mpaper_author\u001b[0m\u001b[1;33m[\u001b[0m\u001b[0mpjd\u001b[0m\u001b[1;33m]\u001b[0m\u001b[1;33m)\u001b[0m\u001b[1;33m)\u001b[0m\u001b[1;33m*\u001b[0m\u001b[1;36m1.5\u001b[0m\u001b[1;33m\u001b[0m\u001b[0m\n\u001b[0m\u001b[0;32m    228\u001b[0m             \u001b[1;32mif\u001b[0m \u001b[0mpid\u001b[0m \u001b[1;32min\u001b[0m \u001b[0mpaper_conf\u001b[0m \u001b[1;32mand\u001b[0m \u001b[0mpjd\u001b[0m \u001b[1;32min\u001b[0m \u001b[0mpaper_conf\u001b[0m \u001b[1;32mand\u001b[0m \u001b[1;34m'null'\u001b[0m \u001b[1;32mnot\u001b[0m \u001b[1;32min\u001b[0m \u001b[0mpaper_conf\u001b[0m\u001b[1;33m[\u001b[0m\u001b[0mpid\u001b[0m\u001b[1;33m]\u001b[0m\u001b[1;33m:\u001b[0m\u001b[1;33m\u001b[0m\u001b[0m\n\u001b[0;32m    229\u001b[0m                 \u001b[0mcv\u001b[0m \u001b[1;33m=\u001b[0m \u001b[0mtanimoto\u001b[0m\u001b[1;33m(\u001b[0m\u001b[0mset\u001b[0m\u001b[1;33m(\u001b[0m\u001b[0mpaper_conf\u001b[0m\u001b[1;33m[\u001b[0m\u001b[0mpid\u001b[0m\u001b[1;33m]\u001b[0m\u001b[1;33m)\u001b[0m\u001b[1;33m,\u001b[0m\u001b[0mset\u001b[0m\u001b[1;33m(\u001b[0m\u001b[0mpaper_conf\u001b[0m\u001b[1;33m[\u001b[0m\u001b[0mpjd\u001b[0m\u001b[1;33m]\u001b[0m\u001b[1;33m)\u001b[0m\u001b[1;33m)\u001b[0m\u001b[1;33m\u001b[0m\u001b[0m\n",
      "\u001b[1;31mKeyboardInterrupt\u001b[0m: "
     ]
    }
   ],
   "source": [
    "import re\n",
    "from gensim.models import word2vec\n",
    "from sklearn.cluster import DBSCAN\n",
    "import numpy as np\n",
    "from sklearn.metrics.pairwise import pairwise_distances\n",
    "\n",
    "\n",
    "result=[]\n",
    "for n,name in enumerate(name_pubs):\n",
    "    ilabel=0\n",
    "    pubs=[] # all papers\n",
    "    labels=[] # ground truth\n",
    "    \n",
    "    for author in name_pubs[name]:\n",
    "        iauthor_pubs = name_pubs[name][author]\n",
    "        for pub in iauthor_pubs:\n",
    "            pubs.append(pub)\n",
    "            labels.append(ilabel)\n",
    "        ilabel += 1\n",
    "        \n",
    "    print (n,name,len(pubs))\n",
    "    \n",
    "    \n",
    "    if len(pubs)==0:\n",
    "        result.append(0)\n",
    "        continue\n",
    "    \n",
    "    ##保存关系\n",
    "    ###############################################################\n",
    "    name_pubs_raw = {}\n",
    "    for i,pid in enumerate(pubs):\n",
    "        name_pubs_raw[pid] = pubs_raw[pid]\n",
    "        \n",
    "    dump_json(name_pubs_raw, 'genename', name+'.json', indent=4)\n",
    "    save_relation(name+'.json', name)  \n",
    "    ###############################################################\n",
    "    \n",
    "    \n",
    "    \n",
    "    ##元路径游走类\n",
    "    ###############################################################r\n",
    "    mpg = MetaPathGenerator()\n",
    "    mpg.read_data(\"gene\")\n",
    "    ###############################################################\n",
    "    \n",
    "  \n",
    "    \n",
    "    ##论文关系表征向量\n",
    "    ############################################################### \n",
    "    all_embs=[]\n",
    "    rw_num =3\n",
    "    cp=set()\n",
    "    for k in range(rw_num):\n",
    "        mpg.generate_WMRW(\"gene/RW.txt\",5,20) #生成路径集\n",
    "        sentences = word2vec.Text8Corpus(r'gene/RW.txt')\n",
    "        model = word2vec.Word2Vec(sentences, size=100,negative =25, min_count=1, window=10)\n",
    "        embs=[]\n",
    "        for i,pid in enumerate(pubs):\n",
    "            if pid in model:\n",
    "                embs.append(model[pid])\n",
    "            else:\n",
    "                cp.add(i)\n",
    "                embs.append(np.zeros(100))\n",
    "        all_embs.append(embs)\n",
    "    all_embs= np.array(all_embs)\n",
    "    print ('relational outlier:',cp)\n",
    "    ############################################################### \n",
    "\n",
    "    \n",
    "    \n",
    "    ##论文文本表征向量\n",
    "    ###############################################################   \n",
    "    ptext_emb=load_data('gene','ptext_emb.pkl')\n",
    "    tcp=load_data('gene','tcp.pkl')\n",
    "    print ('semantic outlier:',tcp)\n",
    "    tembs=[]\n",
    "    for i,pid in enumerate(pubs):\n",
    "        tembs.append(ptext_emb[pid])\n",
    "    ############################################################### \n",
    "    \n",
    "    ##离散点\n",
    "    outlier=set()\n",
    "    for i in cp:\n",
    "        outlier.add(i)\n",
    "    for i in tcp:\n",
    "        outlier.add(i)\n",
    "    \n",
    "    ##网络嵌入向量相似度\n",
    "    sk_sim = np.zeros((len(pubs),len(pubs)))\n",
    "    for k in range(rw_num):\n",
    "        sk_sim = sk_sim + pairwise_distances(all_embs[k],metric=\"cosine\")\n",
    "    sk_sim =sk_sim/rw_num    \n",
    "    \n",
    "    ##文本相似度\n",
    "    t_sim = pairwise_distances(tembs,metric=\"cosine\")\n",
    "    \n",
    "    w=1\n",
    "    sim = (np.array(sk_sim) + w*np.array(t_sim))/(1+w)\n",
    "    \n",
    "    \n",
    "    \n",
    "    ##evaluate\n",
    "    ###############################################################\n",
    "    pre = DBSCAN(eps = 0.2, min_samples = 4,metric =\"precomputed\").fit_predict(sim)\n",
    "    \n",
    "    \n",
    "    for i in range(len(pre)):\n",
    "        if pre[i]==-1:\n",
    "            outlier.add(i)\n",
    "    \n",
    "    ## assign each outlier a label\n",
    "    paper_pair = generate_pair(pubs,outlier)\n",
    "    paper_pair1 = paper_pair.copy()\n",
    "    K = len(set(pre))\n",
    "    for i in range(len(pre)):\n",
    "        if i not in outlier:\n",
    "            continue\n",
    "        j = np.argmax(paper_pair[i])\n",
    "        while j in outlier:\n",
    "            paper_pair[i][j]=-1\n",
    "            j = np.argmax(paper_pair[i])\n",
    "        if paper_pair[i][j]>=1.5:\n",
    "            pre[i]=pre[j]\n",
    "        else:\n",
    "            pre[i]=K\n",
    "            K=K+1\n",
    "    \n",
    "    ## find nodes in outlier is the same label or not\n",
    "    for ii,i in enumerate(outlier):\n",
    "        for jj,j in enumerate(outlier):\n",
    "            if jj<=ii:\n",
    "                continue\n",
    "            else:\n",
    "                if paper_pair1[i][j]>=1.5:\n",
    "                    pre[j]=pre[i]\n",
    "            \n",
    "            \n",
    "    \n",
    "    labels = np.array(labels)\n",
    "    pre = np.array(pre)\n",
    "    print (labels,len(set(labels)))\n",
    "    print (pre,len(set(pre)))\n",
    "    pairwise_precision, pairwise_recall, pairwise_f1 = pairwise_evaluate(labels,pre)\n",
    "    print (pairwise_precision, pairwise_recall, pairwise_f1)\n",
    "    result.append(pairwise_f1)\n",
    "\n",
    "    print ('avg_f1:', np.mean(result))"
   ]
  },
  {
   "cell_type": "markdown",
   "metadata": {},
   "source": [
    "# name disambiguation (valid)"
   ]
  },
  {
   "cell_type": "code",
   "execution_count": 8,
   "metadata": {},
   "outputs": [
    {
     "name": "stdout",
     "output_type": "stream",
     "text": [
      "0 heng_li 768\n"
     ]
    },
    {
     "name": "stderr",
     "output_type": "stream",
     "text": [
      "D:\\anaconda\\lib\\site-packages\\smart_open\\smart_open_lib.py:398: UserWarning: This function is deprecated, use smart_open.open instead. See the migration notes for details: https://github.com/RaRe-Technologies/smart_open/blob/master/README.rst#migrating-to-the-new-open-function\n",
      "  'See the migration notes for details: %s' % _MIGRATION_NOTES_URL\n",
      "D:\\anaconda\\lib\\site-packages\\ipykernel_launcher.py:388: DeprecationWarning: Call to deprecated `__contains__` (Method will be removed in 4.0.0, use self.wv.__contains__() instead).\n",
      "D:\\anaconda\\lib\\site-packages\\ipykernel_launcher.py:389: DeprecationWarning: Call to deprecated `__getitem__` (Method will be removed in 4.0.0, use self.wv.__getitem__() instead).\n"
     ]
    },
    {
     "name": "stdout",
     "output_type": "stream",
     "text": [
      "#papers  768\n",
      "#authors 1443\n",
      "#org_words 526\n",
      "#confs   521\n",
      "walks done\n"
     ]
    },
    {
     "name": "stderr",
     "output_type": "stream",
     "text": [
      "D:\\anaconda\\lib\\site-packages\\ipykernel_launcher.py:54: DeprecationWarning: Call to deprecated `__contains__` (Method will be removed in 4.0.0, use self.wv.__contains__() instead).\n",
      "D:\\anaconda\\lib\\site-packages\\ipykernel_launcher.py:55: DeprecationWarning: Call to deprecated `__getitem__` (Method will be removed in 4.0.0, use self.wv.__getitem__() instead).\n"
     ]
    },
    {
     "name": "stdout",
     "output_type": "stream",
     "text": [
      "walks done\n",
      "walks done\n",
      "walks done\n",
      "walks done\n",
      "walks done\n",
      "walks done\n",
      "walks done\n",
      "walks done\n",
      "walks done\n",
      "set()\n",
      "[ 0  1  1  2  2  1  1  1  1  1  3 25  4  5  5  6 40  7  8  0  0  9  9  2\n",
      "  1  1  1  1 10 11 11 12 13 39 14 31  0 15 15  1  1  1 10 16  3 17 17  7\n",
      " 18 14  2  0  0  2  1  1  1  1  3  3  3 19 18  0  1  1  1 20 20  1  1  1\n",
      "  1 21 21 13 13 14  2 22  0  1  9  2  2  2  1  1  1  1  1 11 23 24  3 25\n",
      " 26 27 28  2  0  1 29 30  1 11 12  3 26 26 31  0  1  1  2 20  1  1  1  1\n",
      "  1 13  3 19 27  8  2 32  0  2  2 33  1  1  1  1  3  1  4  0  0 29  1  1\n",
      "  1  1 11 23 16 21 34  3 26  4 26  7 18 35 33  0 29 20  1  1  1 10 23 43\n",
      " 36  5  6  1  1  9  9  1  1  1  1 34 37 35 35 22 49  1  9 29 29 15 15 33\n",
      "  1  1 36 21  3 26  1 37 17 14 27 38 38  1  2  2  2  2  1  1  1  1  1  1\n",
      " 21 12  1 37  6 26 18  1  9  2  2 30  1  1 10 11 23 16 13 26  5 17 26 22\n",
      "  1  2 33  1  1  1  1  1  3  3 37 26 27 39  1  9  2  2  1  1  1  1  1  1\n",
      "  1  1 17  1 15  1  1  1  1  1 36 13 13  3  6 17 40 39 18 41  1 29  2  1\n",
      "  1  1  1  1  1  1  3  3  3  7 14 39 33 49  1  2  3  3  3  3  1 37  5 39\n",
      "  1  9  9  2  2  1  1  1  1  1 36 13  3 25 35 42  1  1  1  3 26 25 17 39\n",
      " 14  1  9  2  2  2  2 33 33 33  1  1  3  4  4  4  5 17 14 14 42  1  1  1\n",
      " 43 24 18 14 49  1  2  1  1  1  1 13 26 40 40 39 14 33 22 49  1  1  1  1\n",
      "  1 21 21  1 37 44  1  9  9  9  2  1  1  1  1  1  1  1 10 12  3  5 17 17\n",
      " 26 27 42  1  2  1  1 21  4 14  7 18 32 41  1  1  2  2  1  1  1  1 10 16\n",
      "  5 31 41  1 33  1  1  1 21 26 19  8 14  1  9 20  1  1  1  1  1 13 13  3\n",
      "  3 26 17 44 42 22 38  9 30 33  1  1 43 12  3  1 19  9  1  1 43 21 24  5\n",
      " 26 19 44 44  8 39  9  2 30  1 26  1 37 17 44 14  9  9  1  1  1  1 21 24\n",
      " 34 26  6 39  9 29 29  1  1 11 11 13 23  3 26 17 19 14 28 18 32  9  2 20\n",
      "  1  1  1  1 21 36 33 42 38 41 29  2  2  2  2  1  1  1  1 11 34 36  1 37\n",
      " 19 44 14 41 41 15 20 20 33  1  1  1  1  1  1 10 23  3  3 26  1 25 25  5\n",
      " 33 38 31  2 30 33 33  1  1  1  1  1  1 13  3  3  3 35  2  1  1  1  1  1\n",
      "  1  1  1  1  1 11 23 16 14 19 28 28  8 39 14 33  2  2 30  1  1  1 11 13\n",
      " 36  5 26 26 19 40  7  2 20  1  1  1 36 37 27 35 14  2 20  1  1 13  3 25\n",
      " 26  7 38  2 33  1  1  1  1  1  1  1  1 23 36 12 25  7 27 14  2  1  1  1\n",
      " 16 16  3  3 25 25  4 37 37 17 19 22 38  2  1  1  1  2  1  1  1  1 34  3\n",
      "  3 26 36 19 35  2 33  1  1  1  1  1  4  5 39 18 14 41 30  1  1 11 12  3\n",
      " 26  4  4 28 39 35 14 32 30  1  1  1  1  1 10  3  3 20 24  3  3  3  2 31\n",
      " 49 41 41  1  1  1  1  1 10  4 17 14  1  1  1  1  1 13 26 25  8 22 38 32] 46\n",
      "1 fang_chen 314\n"
     ]
    },
    {
     "name": "stderr",
     "output_type": "stream",
     "text": [
      "D:\\anaconda\\lib\\site-packages\\smart_open\\smart_open_lib.py:398: UserWarning: This function is deprecated, use smart_open.open instead. See the migration notes for details: https://github.com/RaRe-Technologies/smart_open/blob/master/README.rst#migrating-to-the-new-open-function\n",
      "  'See the migration notes for details: %s' % _MIGRATION_NOTES_URL\n",
      "D:\\anaconda\\lib\\site-packages\\ipykernel_launcher.py:388: DeprecationWarning: Call to deprecated `__contains__` (Method will be removed in 4.0.0, use self.wv.__contains__() instead).\n",
      "D:\\anaconda\\lib\\site-packages\\ipykernel_launcher.py:389: DeprecationWarning: Call to deprecated `__getitem__` (Method will be removed in 4.0.0, use self.wv.__getitem__() instead).\n"
     ]
    },
    {
     "name": "stdout",
     "output_type": "stream",
     "text": [
      "#papers  314\n",
      "#authors 791\n",
      "#org_words 92\n",
      "#confs   283\n",
      "walks done\n"
     ]
    },
    {
     "name": "stderr",
     "output_type": "stream",
     "text": [
      "D:\\anaconda\\lib\\site-packages\\ipykernel_launcher.py:54: DeprecationWarning: Call to deprecated `__contains__` (Method will be removed in 4.0.0, use self.wv.__contains__() instead).\n",
      "D:\\anaconda\\lib\\site-packages\\ipykernel_launcher.py:55: DeprecationWarning: Call to deprecated `__getitem__` (Method will be removed in 4.0.0, use self.wv.__getitem__() instead).\n"
     ]
    },
    {
     "name": "stdout",
     "output_type": "stream",
     "text": [
      "walks done\n",
      "walks done\n",
      "walks done\n",
      "walks done\n",
      "walks done\n",
      "walks done\n",
      "walks done\n",
      "walks done\n",
      "walks done\n",
      "{170, 300, 301, 70}\n",
      "[ 0  0  0  1  1  2  2  3  3  3  0  0  0  0  0 12  4  4  0  0  0  0  0  1\n",
      "  1  1  2  2  2  3  3  0  0  0  5  5  4  4  0  0  0  0  4  4  4  3  1  1\n",
      "  2  2  2  3  3  3  3  3  0  0  0  0  0  0  5  6  6  7  7 16  4  4 13  0\n",
      "  0  0  0  1  1  2  2  3  3  3  3  0  0  0  0  0  6  8  8  8 16 16  8  8\n",
      "  4  4  4  4  0  0  4  4  4  9  9  3  2  2  3  0  0  0  0  5  6  8  2  7\n",
      " 10 10  0  0  0  0  0  4  9  1  1  2  2  2  2  2  3  3  3  0  0  0  0  0\n",
      "  0  0 16  4  4 17  4 10  0  0  9  1  1  2  2  2  3  3  3  3  0  0  0  5\n",
      "  8  8 18 10 10  0  0  9  9  9  3  1  1  1  2  2  2  3  3  3  3  3  3  3\n",
      "  0  0  0  0  0  0  5  7 17  4  4  4  0  4  3  1  1  1  2  3  3  3  3  0\n",
      "  0  0  0  0  0  0  5  7  4  0  0  1  1  1  1  2  2  3  0  0  2  0  0  0\n",
      "  8  8  8  8  8  8  0  4  4  2  3  3  3  3  3  3  3  0  0  0  0  0  0  6\n",
      "  8  4  4  4  4  0  4  4  9  9  1  1  3  3  0  0  0  0  0  8  1  4  4  0\n",
      "  3  1  2  3  3  3  0  8  4 17  4  4  4 19  3  1  2  2  3  3  3  0  0  0\n",
      "  6  7] 17\n",
      "2 lin_zhou 980\n"
     ]
    },
    {
     "name": "stderr",
     "output_type": "stream",
     "text": [
      "D:\\anaconda\\lib\\site-packages\\smart_open\\smart_open_lib.py:398: UserWarning: This function is deprecated, use smart_open.open instead. See the migration notes for details: https://github.com/RaRe-Technologies/smart_open/blob/master/README.rst#migrating-to-the-new-open-function\n",
      "  'See the migration notes for details: %s' % _MIGRATION_NOTES_URL\n",
      "D:\\anaconda\\lib\\site-packages\\ipykernel_launcher.py:388: DeprecationWarning: Call to deprecated `__contains__` (Method will be removed in 4.0.0, use self.wv.__contains__() instead).\n",
      "D:\\anaconda\\lib\\site-packages\\ipykernel_launcher.py:389: DeprecationWarning: Call to deprecated `__getitem__` (Method will be removed in 4.0.0, use self.wv.__getitem__() instead).\n"
     ]
    },
    {
     "name": "stdout",
     "output_type": "stream",
     "text": [
      "#papers  979\n",
      "#authors 2114\n",
      "#org_words 346\n",
      "#confs   699\n",
      "walks done\n"
     ]
    },
    {
     "name": "stderr",
     "output_type": "stream",
     "text": [
      "D:\\anaconda\\lib\\site-packages\\ipykernel_launcher.py:54: DeprecationWarning: Call to deprecated `__contains__` (Method will be removed in 4.0.0, use self.wv.__contains__() instead).\n",
      "D:\\anaconda\\lib\\site-packages\\ipykernel_launcher.py:55: DeprecationWarning: Call to deprecated `__getitem__` (Method will be removed in 4.0.0, use self.wv.__getitem__() instead).\n"
     ]
    },
    {
     "name": "stdout",
     "output_type": "stream",
     "text": [
      "walks done\n",
      "walks done\n",
      "walks done\n",
      "walks done\n",
      "walks done\n",
      "walks done\n",
      "walks done\n",
      "walks done\n",
      "walks done\n",
      "{545, 194, 483, 681, 178, 735, 820, 182, 505, 701, 255}\n",
      "[15  0  1  2 16  0  0  1 14  0  0 41  0  0  3 42  4  4  4  4  4  5  6 43\n",
      "  7  7  8  9  9 10 11 12 44 13 13 14  7  4  6  0 45  0 15  0  0  0 16 17\n",
      " 17 17 17  0 18  4  9  4  4 19  5 35 19 10 20 13 18  0 46 21  0 22  0  2\n",
      "  0  7  4  4  4 24 19  5 13  7  7  8 23  4 25 17 13  0 15  0 41 17  0  0\n",
      "  0 48 24  4  4  6  7 73  9 25 26 20 27  0  0 34 16 21 34  2  0  4  9 28\n",
      "  4  7  7  7  9 10 25 12 12 13 25 15 71  2  2  0  0 18 34  0 29  0  4  4\n",
      "  4 19  7  7  7  7  8  4 25 10 30 12 44 12 51 13 13 31  4 25 27  0  0  0\n",
      " 32 52 17  2  0 22  0  3 24  4 53  4  9 24 54  4  4 33 33  7  9  9 25 10\n",
      " 25  1 55 31  4 18 18  6  0  2 22  0  0 17  0  2  0  0  0 22  4  4  4  4\n",
      "  4  5 19  7 73  8  4 25 25 12 12  9 76 14  0  0 34 22 22 41  0  0  0  2\n",
      "  0 29  0 38  3  4  4  9 77  4 19 19 35  7  7 58 10 12 14  4 32  0  0  0\n",
      "  0  0  0 22  0  0  0  0  0  0  7  4  4  4  9 36 19 19  5  7  7  7 23 10\n",
      " 25 75 31  4  7 33 32  2  0  0  0  0  0  0  0  2  0 18 18 38  4 24  4  9\n",
      "  9  4 26 28  4  9  7  8  9  4  9  9 76 60 10 25 25 20 31  1 14  0 37 19\n",
      " 34  2  0  1  0 38  4  4  4  9  4 35  7 25 25 10 12 26  1 25  0 17 17 16\n",
      " 17  2 22  3  3  7 39  4  9  9  4 61 19  7  7  8 18 23  9 37 25 25 13 31\n",
      "  1  6 14 32  1 34 21 22  0 16 17 22 39 39  0  4  4  4 19  7  7  7  7  7\n",
      " 60 10 25 30 12 13 14 25 25 18 27 37  0  0 17  2 17 25 38  4  4  9  4 17\n",
      "  4  9  9 61  4 19 19 19 35  7  2 23 37 25 12 13 14  4 19 32 22  0  1  0\n",
      "  0  0  0  0  7  3 74 77  4  4 35  5  7 10 10 51 67 18 18 17 17  2  0  0\n",
      " 22  0  7 68  9  4 26 36  4  9  4 19 13  7 25 25 12 12 20  7  4 25 27 14\n",
      "  1 69 84  0  0 16 17 17  0  0  0  7  4  4  4  4  4  6 33  7  7  7 10 25\n",
      " 11  4  6 19  0 41 34  0 17  0  0  0  0 71 14  0  0 72  3 18  0  4  4  4\n",
      "  4 19  7  7 73  8  9  9 30 11 12 26 18  0 17 17 16  0  0  0 22 22  3 39\n",
      " 74  4  4 19  7  7  7  7  8 10 25 12 12 75 13 76 31 31  4  4  0 19  0 21\n",
      "  0 22  2  2  0  0 22 17 17 34 17  0  0  0  0  0 29  4  4  4 77  4  4  4\n",
      " 19 45  9 25 10 25 12 19  1 34 17  0 22 17 17 17 17  4  4  4 28  4 28  5\n",
      "  7  7  8 78  4 25 10 25 12 12 12 18 14 27  0  0  0 17  0  0 34  0  4  4\n",
      " 19 19 33  7  7  4 26 12 20 79  0  0  0  0  0  0  0  0 22 22 39  4  4  9\n",
      " 35  7  7  7  8 80  9  4  4 25 25 25 12 75 13 14 76 31  6  1  0  0  0  0\n",
      " 34  0  0  0 52 84 18  4  4  4  4  9  7  7  7 85 86  9 26 18  6  0  0 17\n",
      " 17 22 21 38  4  9  4  4  7  7  7  7  7  8  2  4  4 25 25 44 13  1  6 37\n",
      " 41 46  0  0  2 22 21  0  3 24  4  9  4 35  7 86  9 25 25  4 22 17 17  4\n",
      "  4 17  0  1  2  0  0  0  0  0  0 17  0  0  3  4 21  4  4  9 36  4  4 19\n",
      "  7  7  8  8 91 10 25 51  7 27 37 21 17  0  0  0  0 39  4  4  4  4 28  4\n",
      "  4  9 19 35 19  5  7 10 25 25 25 10 17  1 17 17  0 22  0  0  0  0  4  4\n",
      "  4  4  9  7 23  4 25 25 30 12  4 94 34 46  0  0  0 13 29 14  0  7  4 24\n",
      "  4 28  4  9  4  4  7 73  8  4 25 25 12 96  7  0  0 17  0  4  0 41 17  0\n",
      " 17 39  0  4  4  9  4 36  5  6 19 35  5 19 43  7  7  9  4 37 25 12  7  1\n",
      " 16 34  0 39  4 48  4  4  4  4 19 35 19  7  7 23 25 25 12 14  1 18 14  4\n",
      "  0 37  0  0 22  0  4  4  9  4  4  5  7  7  7  7 25 25 11  4] 74\n",
      "3 akio_yamamoto 272\n"
     ]
    },
    {
     "name": "stderr",
     "output_type": "stream",
     "text": [
      "D:\\anaconda\\lib\\site-packages\\smart_open\\smart_open_lib.py:398: UserWarning: This function is deprecated, use smart_open.open instead. See the migration notes for details: https://github.com/RaRe-Technologies/smart_open/blob/master/README.rst#migrating-to-the-new-open-function\n",
      "  'See the migration notes for details: %s' % _MIGRATION_NOTES_URL\n",
      "D:\\anaconda\\lib\\site-packages\\ipykernel_launcher.py:388: DeprecationWarning: Call to deprecated `__contains__` (Method will be removed in 4.0.0, use self.wv.__contains__() instead).\n",
      "D:\\anaconda\\lib\\site-packages\\ipykernel_launcher.py:389: DeprecationWarning: Call to deprecated `__getitem__` (Method will be removed in 4.0.0, use self.wv.__getitem__() instead).\n"
     ]
    },
    {
     "name": "stdout",
     "output_type": "stream",
     "text": [
      "#papers  272\n",
      "#authors 347\n",
      "#org_words 79\n",
      "#confs   144\n",
      "walks done\n"
     ]
    },
    {
     "name": "stderr",
     "output_type": "stream",
     "text": [
      "D:\\anaconda\\lib\\site-packages\\ipykernel_launcher.py:54: DeprecationWarning: Call to deprecated `__contains__` (Method will be removed in 4.0.0, use self.wv.__contains__() instead).\n",
      "D:\\anaconda\\lib\\site-packages\\ipykernel_launcher.py:55: DeprecationWarning: Call to deprecated `__getitem__` (Method will be removed in 4.0.0, use self.wv.__getitem__() instead).\n"
     ]
    },
    {
     "name": "stdout",
     "output_type": "stream",
     "text": [
      "walks done\n",
      "walks done\n",
      "walks done\n",
      "walks done\n",
      "walks done\n",
      "walks done\n",
      "walks done\n",
      "walks done\n",
      "walks done\n",
      "{32, 193, 165, 166, 71, 40, 41, 200, 201, 121, 92, 221, 30, 31}\n",
      "[ 0  0  0  0  0  0  0  0  0  1  2  2  2  2  2  2  2  2  2  3  3  3  3  3\n",
      "  3  3  3  4  4  5  0  0  8 19 19  0  0  0  0  0 11  0  0  0  0  1  1  1\n",
      "  1  1  1  2  2  2  2  2  3  3  3  3  4  4  4  6 19  0  0  0  0  0  0  0\n",
      "  0  0  0  0  0  1  2  2  2  2  2  3  3  3  3  4  4  4  5  5  0 19  0  0\n",
      "  0  0  0  0  0  0  0  0  1  1  1  2  2  2  2  2  3  3  3  3  3  4  4  4\n",
      "  5 14  6  6  0  0  0  0  0  0  0  1  2  2  2  2  3  3  3  3  3  3  3  3\n",
      "  4  4  4  5  5  5  5  0  0  0  0  0  0  0  0  0  0  3  3  4  4  8  8  6\n",
      "  0  0  0  0  0  0  0  0  0  2  2  2  2  3  3  3  3  4  4  4  4  4  4  4\n",
      "  5 17  0  0  0  0  0  0  0  0  0  0  0  1  1  1  2  2  2  2  2  2  3  3\n",
      "  4  4  4  5  5  8  0  0  1  1  1  1  1  2  2  2  2  2  3  3  3  3  3  3\n",
      "  4  4  4  4  6  6  0  0  0  0  0  0  0  0  1  2  2  2  2  2  2  3  3  3\n",
      "  3  3  4  4  4  5  5 19] 12\n",
      "4 y_luo 162\n"
     ]
    },
    {
     "name": "stderr",
     "output_type": "stream",
     "text": [
      "D:\\anaconda\\lib\\site-packages\\smart_open\\smart_open_lib.py:398: UserWarning: This function is deprecated, use smart_open.open instead. See the migration notes for details: https://github.com/RaRe-Technologies/smart_open/blob/master/README.rst#migrating-to-the-new-open-function\n",
      "  'See the migration notes for details: %s' % _MIGRATION_NOTES_URL\n",
      "D:\\anaconda\\lib\\site-packages\\ipykernel_launcher.py:388: DeprecationWarning: Call to deprecated `__contains__` (Method will be removed in 4.0.0, use self.wv.__contains__() instead).\n",
      "D:\\anaconda\\lib\\site-packages\\ipykernel_launcher.py:389: DeprecationWarning: Call to deprecated `__getitem__` (Method will be removed in 4.0.0, use self.wv.__getitem__() instead).\n"
     ]
    },
    {
     "name": "stdout",
     "output_type": "stream",
     "text": [
      "#papers  162\n",
      "#authors 652\n",
      "#org_words 136\n",
      "#confs   206\n",
      "walks done\n"
     ]
    },
    {
     "name": "stderr",
     "output_type": "stream",
     "text": [
      "D:\\anaconda\\lib\\site-packages\\ipykernel_launcher.py:54: DeprecationWarning: Call to deprecated `__contains__` (Method will be removed in 4.0.0, use self.wv.__contains__() instead).\n",
      "D:\\anaconda\\lib\\site-packages\\ipykernel_launcher.py:55: DeprecationWarning: Call to deprecated `__getitem__` (Method will be removed in 4.0.0, use self.wv.__getitem__() instead).\n"
     ]
    },
    {
     "name": "stdout",
     "output_type": "stream",
     "text": [
      "walks done\n",
      "walks done\n",
      "walks done\n",
      "walks done\n",
      "walks done\n",
      "walks done\n",
      "walks done\n",
      "walks done\n",
      "walks done\n",
      "{125, 126, 111}\n",
      "[ 0  0  1  4  5 12  2  3  3  4  4  0  9  9  5  2  4  4  4  0  4 12 11 15\n",
      "  2  2 16  0  0  9  4  2 15 10  5  5  0  6 11  0 37 15 19  7  5  5  4  4\n",
      "  0  4 12 11  8  0  1  1  6  9  2  2  3  3 16  8  0  6 22  5 12 37  3 10\n",
      "  8  1  4  5 23  5  5  5  1  4 37  4  4 11  5 19  3  5  4  4  1  6  4  9\n",
      "  4 26  2  5  5  5  4  6 27 11  5  5  5  8 27 29  4  4 11 11  2  2  2 26\n",
      " 23 16  5  4 27 33 34  2  5  4  9 10  2 35  8  4  4 12 12 11  2  7  7  5\n",
      "  4  0 36  5 37  2  2 10  7  5 12  5 12  0  2 10  3  8] 26\n",
      "5 chun_li 318\n"
     ]
    },
    {
     "name": "stderr",
     "output_type": "stream",
     "text": [
      "D:\\anaconda\\lib\\site-packages\\smart_open\\smart_open_lib.py:398: UserWarning: This function is deprecated, use smart_open.open instead. See the migration notes for details: https://github.com/RaRe-Technologies/smart_open/blob/master/README.rst#migrating-to-the-new-open-function\n",
      "  'See the migration notes for details: %s' % _MIGRATION_NOTES_URL\n",
      "D:\\anaconda\\lib\\site-packages\\ipykernel_launcher.py:388: DeprecationWarning: Call to deprecated `__contains__` (Method will be removed in 4.0.0, use self.wv.__contains__() instead).\n",
      "D:\\anaconda\\lib\\site-packages\\ipykernel_launcher.py:389: DeprecationWarning: Call to deprecated `__getitem__` (Method will be removed in 4.0.0, use self.wv.__getitem__() instead).\n"
     ]
    },
    {
     "name": "stdout",
     "output_type": "stream",
     "text": [
      "#papers  318\n",
      "#authors 598\n",
      "#org_words 139\n",
      "#confs   282\n",
      "walks done\n"
     ]
    },
    {
     "name": "stderr",
     "output_type": "stream",
     "text": [
      "D:\\anaconda\\lib\\site-packages\\ipykernel_launcher.py:54: DeprecationWarning: Call to deprecated `__contains__` (Method will be removed in 4.0.0, use self.wv.__contains__() instead).\n",
      "D:\\anaconda\\lib\\site-packages\\ipykernel_launcher.py:55: DeprecationWarning: Call to deprecated `__getitem__` (Method will be removed in 4.0.0, use self.wv.__getitem__() instead).\n"
     ]
    },
    {
     "name": "stdout",
     "output_type": "stream",
     "text": [
      "walks done\n",
      "walks done\n",
      "walks done\n",
      "walks done\n",
      "walks done\n",
      "walks done\n",
      "walks done\n",
      "walks done\n",
      "walks done\n",
      "{35, 172, 30}\n",
      "[ 0  0  0  1  2  2  2  3  3  3  3  3  3  3  4  4  5  5  5  5  6  6  6  6\n",
      "  7  0  0  0  8  6 16  4 17  1 18 19  0  0  3  3  3  4  4  9  7  3  0  0\n",
      "  0 10 11  1  4  0  0  3  3  3  3  4  5  9 12  0  0  0 10 10 10 13  6  6\n",
      " 21 13  1  0  3  3  3  3  3  4  5  5  9 14  3  0  8 10 11 11  1  1  4  0\n",
      "  2  3  3  3  3  3  3  3  4  5  6 14  3  0  0  0 11  4 17  3  3  3  3  3\n",
      "  7 12  6  3  0 10  4 11  0  3  3  3  3  3  3  3  3  3  5  6  6 14 28  3\n",
      "  0  0  0 10  3 23  0 24  0  0  3  3  4  5  7 14  3  0  0 10  1  1  0  0\n",
      "  3  3  3  4 25 14  6  0  0 24  3  1  1  2  2  3 13  3  3  3  3  3  4  9\n",
      "  9 12  3  0 10 11  1  3  3  3  3  3  4  5  6  6  7  6  0  0  0 10  4  4\n",
      "  3  3  3  3  3  3  6  6 12  3  0  0  0 10 10  0  0  3  3  3  3  5  5  5\n",
      "  5 12  3  3  3  8  0 10  5  0  3  3 13  3 13  3  3 13  4  5  5  6  6 14\n",
      " 28  8  0  0  0  0  0  0  3  3  3  3  3  3  4  6  7 12 10  6 11  0  0  0\n",
      "  0  4  3  3  3  3  3  3  4  6  6  3  8 29 13 11  0 17  3  3  3  3  3  3\n",
      "  4  4  6  6  6  6] 25\n",
      "6 shiyi_chen 229\n"
     ]
    },
    {
     "name": "stderr",
     "output_type": "stream",
     "text": [
      "D:\\anaconda\\lib\\site-packages\\smart_open\\smart_open_lib.py:398: UserWarning: This function is deprecated, use smart_open.open instead. See the migration notes for details: https://github.com/RaRe-Technologies/smart_open/blob/master/README.rst#migrating-to-the-new-open-function\n",
      "  'See the migration notes for details: %s' % _MIGRATION_NOTES_URL\n",
      "D:\\anaconda\\lib\\site-packages\\ipykernel_launcher.py:388: DeprecationWarning: Call to deprecated `__contains__` (Method will be removed in 4.0.0, use self.wv.__contains__() instead).\n",
      "D:\\anaconda\\lib\\site-packages\\ipykernel_launcher.py:389: DeprecationWarning: Call to deprecated `__getitem__` (Method will be removed in 4.0.0, use self.wv.__getitem__() instead).\n"
     ]
    },
    {
     "name": "stdout",
     "output_type": "stream",
     "text": [
      "#papers  229\n",
      "#authors 267\n",
      "#org_words 123\n",
      "#confs   172\n",
      "walks done\n"
     ]
    },
    {
     "name": "stderr",
     "output_type": "stream",
     "text": [
      "D:\\anaconda\\lib\\site-packages\\ipykernel_launcher.py:54: DeprecationWarning: Call to deprecated `__contains__` (Method will be removed in 4.0.0, use self.wv.__contains__() instead).\n",
      "D:\\anaconda\\lib\\site-packages\\ipykernel_launcher.py:55: DeprecationWarning: Call to deprecated `__getitem__` (Method will be removed in 4.0.0, use self.wv.__getitem__() instead).\n"
     ]
    },
    {
     "name": "stdout",
     "output_type": "stream",
     "text": [
      "walks done\n",
      "walks done\n",
      "walks done\n",
      "walks done\n",
      "walks done\n",
      "walks done\n",
      "walks done\n",
      "walks done\n",
      "walks done\n",
      "{128, 224, 8, 151, 123, 156, 127}\n",
      "[ 0  1  0  2  0  0  0  2  9  0  0  0  0  3  3  3  3  3  3  3  3  3  3  3\n",
      "  3  3  3  3  3  3  3  4  5  5  5 14  5  0  0  0  0  0  0  0  0  0  0  0\n",
      "  0  3  3  3  3  3  3  3  3  3  3  3  3  3  3  3  3  3  3  3  3  3  4  4\n",
      "  4  4  6  6  6  6  6  5  5  5  5  5  0  0  7 14  0  0  0  0  0  0  0  3\n",
      "  3  3  3  3  3  3  3  3  3  3  3  3  3  4  6  6  6  6  5  5  5  5  0  0\n",
      "  7  1  2 12  0  0  2  0 13  0 14  0  7  3  3  3  3  3  4  3  3  3  3  3\n",
      "  3  3  3  3  3  3  3 15  3  3  3  4 16  6  5  0  0  0  0  0  0  0  2  0\n",
      "  0  0  0  7  0  0  7  0  3  3  3  3  3  3  3  3  3  3  3  3  3  3  4  4\n",
      "  6  6  6  5  0  0  0  1  2  0  1  0  2  2  3  3  3  3  3  3  3  3  3  3\n",
      "  3  3  3  3  3  3  3  4 17  6  5  5  5] 15\n",
      "7 zhigang_chen 1356\n"
     ]
    },
    {
     "name": "stderr",
     "output_type": "stream",
     "text": [
      "D:\\anaconda\\lib\\site-packages\\smart_open\\smart_open_lib.py:398: UserWarning: This function is deprecated, use smart_open.open instead. See the migration notes for details: https://github.com/RaRe-Technologies/smart_open/blob/master/README.rst#migrating-to-the-new-open-function\n",
      "  'See the migration notes for details: %s' % _MIGRATION_NOTES_URL\n",
      "D:\\anaconda\\lib\\site-packages\\ipykernel_launcher.py:388: DeprecationWarning: Call to deprecated `__contains__` (Method will be removed in 4.0.0, use self.wv.__contains__() instead).\n",
      "D:\\anaconda\\lib\\site-packages\\ipykernel_launcher.py:389: DeprecationWarning: Call to deprecated `__getitem__` (Method will be removed in 4.0.0, use self.wv.__getitem__() instead).\n"
     ]
    },
    {
     "name": "stdout",
     "output_type": "stream",
     "text": [
      "#papers  1356\n",
      "#authors 1859\n",
      "#org_words 358\n",
      "#confs   628\n",
      "walks done\n"
     ]
    },
    {
     "name": "stderr",
     "output_type": "stream",
     "text": [
      "D:\\anaconda\\lib\\site-packages\\ipykernel_launcher.py:54: DeprecationWarning: Call to deprecated `__contains__` (Method will be removed in 4.0.0, use self.wv.__contains__() instead).\n",
      "D:\\anaconda\\lib\\site-packages\\ipykernel_launcher.py:55: DeprecationWarning: Call to deprecated `__getitem__` (Method will be removed in 4.0.0, use self.wv.__getitem__() instead).\n"
     ]
    },
    {
     "name": "stdout",
     "output_type": "stream",
     "text": [
      "walks done\n",
      "walks done\n",
      "walks done\n",
      "walks done\n",
      "walks done\n",
      "walks done\n",
      "walks done\n",
      "walks done\n",
      "walks done\n",
      "{677, 518, 296, 1022, 601, 638}\n",
      "[ 0  1  2 ... 13 13 13] 36\n",
      "8 chun_wang 221\n"
     ]
    },
    {
     "name": "stderr",
     "output_type": "stream",
     "text": [
      "D:\\anaconda\\lib\\site-packages\\smart_open\\smart_open_lib.py:398: UserWarning: This function is deprecated, use smart_open.open instead. See the migration notes for details: https://github.com/RaRe-Technologies/smart_open/blob/master/README.rst#migrating-to-the-new-open-function\n",
      "  'See the migration notes for details: %s' % _MIGRATION_NOTES_URL\n",
      "D:\\anaconda\\lib\\site-packages\\ipykernel_launcher.py:388: DeprecationWarning: Call to deprecated `__contains__` (Method will be removed in 4.0.0, use self.wv.__contains__() instead).\n",
      "D:\\anaconda\\lib\\site-packages\\ipykernel_launcher.py:389: DeprecationWarning: Call to deprecated `__getitem__` (Method will be removed in 4.0.0, use self.wv.__getitem__() instead).\n"
     ]
    },
    {
     "name": "stdout",
     "output_type": "stream",
     "text": [
      "#papers  221\n",
      "#authors 271\n",
      "#org_words 49\n",
      "#confs   179\n",
      "walks done\n"
     ]
    },
    {
     "name": "stderr",
     "output_type": "stream",
     "text": [
      "D:\\anaconda\\lib\\site-packages\\ipykernel_launcher.py:54: DeprecationWarning: Call to deprecated `__contains__` (Method will be removed in 4.0.0, use self.wv.__contains__() instead).\n",
      "D:\\anaconda\\lib\\site-packages\\ipykernel_launcher.py:55: DeprecationWarning: Call to deprecated `__getitem__` (Method will be removed in 4.0.0, use self.wv.__getitem__() instead).\n"
     ]
    },
    {
     "name": "stdout",
     "output_type": "stream",
     "text": [
      "walks done\n",
      "walks done\n",
      "walks done\n",
      "walks done\n",
      "walks done\n",
      "walks done\n",
      "walks done\n",
      "walks done\n",
      "walks done\n",
      "{80, 107, 139, 30}\n",
      "[0 0 0 1 1 1 1 1 1 1 1 1 1 1 1 1 1 1 1 2 3 0 0 0 0 1 1 1 1 1 1 1 1 1 1 1 1\n",
      " 1 1 1 1 2 2 4 4 4 0 0 0 5 5 1 1 1 1 1 1 1 1 1 1 1 1 1 1 1 1 1 1 1 1 1 1 1\n",
      " 1 2 4 0 0 0 7 5 5 1 1 1 1 1 1 1 1 1 1 1 1 1 1 1 1 1 1 1 1 2 2 1 1 8 3 3 3\n",
      " 0 0 5 1 1 1 1 1 1 1 1 1 1 1 1 1 1 1 4 4 3 3 3 0 0 0 0 0 0 0 5 5 5 1 1 1 1\n",
      " 1 1 1 1 1 1 1 1 1 1 1 1 1 1 4 3 3 0 0 0 0 5 1 1 1 1 1 1 1 1 1 1 1 1 1 1 1\n",
      " 1 1 1 1 1 1 1 1 1 1 2 2 4 3 0 5 5 5 1 1 1 1 1 1 1 1 1 1 1 1 1 1 2 2 4 0] 8\n",
      "9 j_yu 0\n",
      "10 y_guo 708\n"
     ]
    },
    {
     "name": "stderr",
     "output_type": "stream",
     "text": [
      "D:\\anaconda\\lib\\site-packages\\smart_open\\smart_open_lib.py:398: UserWarning: This function is deprecated, use smart_open.open instead. See the migration notes for details: https://github.com/RaRe-Technologies/smart_open/blob/master/README.rst#migrating-to-the-new-open-function\n",
      "  'See the migration notes for details: %s' % _MIGRATION_NOTES_URL\n",
      "D:\\anaconda\\lib\\site-packages\\ipykernel_launcher.py:388: DeprecationWarning: Call to deprecated `__contains__` (Method will be removed in 4.0.0, use self.wv.__contains__() instead).\n",
      "D:\\anaconda\\lib\\site-packages\\ipykernel_launcher.py:389: DeprecationWarning: Call to deprecated `__getitem__` (Method will be removed in 4.0.0, use self.wv.__getitem__() instead).\n"
     ]
    },
    {
     "name": "stdout",
     "output_type": "stream",
     "text": [
      "#papers  706\n",
      "#authors 10986\n",
      "#org_words 193\n",
      "#confs   287\n",
      "walks done\n"
     ]
    },
    {
     "name": "stderr",
     "output_type": "stream",
     "text": [
      "D:\\anaconda\\lib\\site-packages\\ipykernel_launcher.py:54: DeprecationWarning: Call to deprecated `__contains__` (Method will be removed in 4.0.0, use self.wv.__contains__() instead).\n",
      "D:\\anaconda\\lib\\site-packages\\ipykernel_launcher.py:55: DeprecationWarning: Call to deprecated `__getitem__` (Method will be removed in 4.0.0, use self.wv.__getitem__() instead).\n"
     ]
    },
    {
     "name": "stdout",
     "output_type": "stream",
     "text": [
      "walks done\n",
      "walks done\n",
      "walks done\n",
      "walks done\n",
      "walks done\n",
      "walks done\n",
      "walks done\n",
      "walks done\n",
      "walks done\n",
      "{69, 103, 363, 428, 44, 685, 239, 528, 398, 179, 532, 87, 216, 183, 634, 603, 668}\n",
      "[ 3  0  0  1  1  2  2  2  2  2  2  2  2  2  2  1  1  1  2  0  3  0  2  3\n",
      "  1  1  0  2  4  5  2  2  2  2  2  2  2  1  2  6  0  0  3  3 20 25  3 21\n",
      " 17  0  0  2  7  8  5  2  2  2  2  2  2  2  2  1  0  0  0  3  3  2  1  9\n",
      "  2  8  8  2  2  2  2  2  2  0  0  3  0  0  0  6 10 10  3  0  1  3  8 11\n",
      "  5  2  2  2  2  2  1  3  0  0  0 10  3 12 18 13  1  1  1 10 10  2  8 11\n",
      "  2  2  2  2  2  2  2  2  2  2  2  1  0 10  0  1  2  8  2  2  2  2  2  2\n",
      "  2  2  1 14 15  0 10 12  0  3  3  0  7  4  2  2  2  2  2  2  2  2  2  2\n",
      "  2  2  2  2  2  1  2  2  2  0  0  0 26  3  3  1 13  1  4  6  2  2  2  2\n",
      "  2  2  1  1  6  1  0  0  0  3  0  0  0 16  2  2  2  2  2  2  2  1  0  3\n",
      " 26  0  1  1  1  0  4  2  2  2  2  2  2  2  0  3  0  3  4  3  3  0  1  6\n",
      "  8  2  2  2  2  2  2  1  1  2  0  3  3  3  3  3  3  0  3  8  1  9 10  2\n",
      " 11  4 16  2  2  2  2  2  2  3  6  0  0  3  3  3 17 17 13  1  1  2  8  5\n",
      "  0  4  2  2  2  2  2  2  2  2  2  2  2  2  2 14  0  3  3  3  0  1  2 11\n",
      "  4  2  2  2  2  2  2  2  1  2  6  3  0  0  0  2  2  2  7  8  5  4  2  2\n",
      "  2  2  2  2  2  3  2  2  0  0  3 17 13  0  1  8 16  2  2  2  2  1 15  3\n",
      "  0  0  0  1  3 13  0 23  4 16  2  2  2  2  2  2  2  2  6  0  0  2  8  8\n",
      "  2  2  2  2  2  2  2  2  2  2  3  0  0  0  3  8  8  4  2  2  2  0  0  3\n",
      " 17  0  9 18  8  2  2  2  2  2  2  2  2  1  2 14  0  0  0 15 24  3  3 18\n",
      "  0  2 16  2  2  2  2  2  2  2  6  0  0  3  3  1  1  0  7  8  2  2  2  2\n",
      "  2  2  2  2  2  2  1  0  0  3 12  3  0  1  9  2  2  2  2  2  2  2  2  2\n",
      "  2  2  1  1  0  0  0  0  0  0  0 15  3  3  1  0  2  7  8  5  5  2  2  2\n",
      "  2  2  2  2  2  2  0 12  0  1  0  2  7  4  2  2  2  2  2  2  2  2  0 25\n",
      " 26  1  3  3 27  1  1  1  0  2  8  2  2  2  2  2  2  2  2  2  2  2  2  2\n",
      "  2 14  3  3  3 17  1  0  0  2  2  2  2  2  2  3  2  2  2  2  2  2  6  1\n",
      "  6  0  3  0  0  0  9  3  2  2  8  8  2  2  2  2  2  2  2  2  1  2  2  2\n",
      "  2  1  0  3 18  3 13  1  0  2  4  8  2  2  2  2  1  2  2  2  2  0  0 17\n",
      "  1  0  8  8  2  2  2  2  6  3 28  0  2  3  8  8 11 11  2  2  2  2  2  2\n",
      "  2  2  0  0  0  2  2  2  8  5 16  2  2  2  2  2  2  2 15  0 29  2  4  8\n",
      "  8  5  2  2  2  2  2  2  2  2  2  2  2  3  0  1  0  8  8  5  2  2  2  2\n",
      "  1  0  0  4  8  2  2  2  2  1  2  0] 28\n",
      "11 g_li 362\n"
     ]
    },
    {
     "name": "stderr",
     "output_type": "stream",
     "text": [
      "D:\\anaconda\\lib\\site-packages\\smart_open\\smart_open_lib.py:398: UserWarning: This function is deprecated, use smart_open.open instead. See the migration notes for details: https://github.com/RaRe-Technologies/smart_open/blob/master/README.rst#migrating-to-the-new-open-function\n",
      "  'See the migration notes for details: %s' % _MIGRATION_NOTES_URL\n",
      "D:\\anaconda\\lib\\site-packages\\ipykernel_launcher.py:388: DeprecationWarning: Call to deprecated `__contains__` (Method will be removed in 4.0.0, use self.wv.__contains__() instead).\n",
      "D:\\anaconda\\lib\\site-packages\\ipykernel_launcher.py:389: DeprecationWarning: Call to deprecated `__getitem__` (Method will be removed in 4.0.0, use self.wv.__getitem__() instead).\n"
     ]
    },
    {
     "name": "stdout",
     "output_type": "stream",
     "text": [
      "#papers  362\n",
      "#authors 1120\n",
      "#org_words 54\n",
      "#confs   102\n",
      "walks done\n"
     ]
    },
    {
     "name": "stderr",
     "output_type": "stream",
     "text": [
      "D:\\anaconda\\lib\\site-packages\\ipykernel_launcher.py:54: DeprecationWarning: Call to deprecated `__contains__` (Method will be removed in 4.0.0, use self.wv.__contains__() instead).\n",
      "D:\\anaconda\\lib\\site-packages\\ipykernel_launcher.py:55: DeprecationWarning: Call to deprecated `__getitem__` (Method will be removed in 4.0.0, use self.wv.__getitem__() instead).\n"
     ]
    },
    {
     "name": "stdout",
     "output_type": "stream",
     "text": [
      "walks done\n",
      "walks done\n",
      "walks done\n",
      "walks done\n",
      "walks done\n",
      "walks done\n",
      "walks done\n",
      "walks done\n",
      "walks done\n",
      "{314, 351}\n",
      "[0 0 0 0 0 0 0 0 0 0 0 0 0 0 0 0 0 0 0 0 0 0 0 0 0 0 7 1 2 2 2 2 3 4 5 5 5\n",
      " 4 6 0 0 0 0 0 0 0 0 0 0 0 0 0 0 0 0 0 0 0 0 0 0 0 0 0 0 0 0 0 0 0 0 0 0 0\n",
      " 1 2 2 2 2 2 2 3 3 3 3 4 5 4 4 4 4 4 6 0 0 0 0 0 0 0 0 0 0 0 0 0 0 0 0 0 0\n",
      " 0 7 0 1 1 1 1 1 2 2 3 4 5 5 5 5 6 6 0 0 0 0 0 0 0 0 0 0 0 0 0 0 0 0 0 0 0\n",
      " 0 0 0 0 0 0 0 0 0 7 0 0 1 1 1 2 3 3 5 5 5 6 6 6 0 0 0 0 0 0 0 0 0 0 0 0 0\n",
      " 0 0 0 0 0 7 1 1 2 3 3 3 3 3 4 5 5 5 6 6 6 6 6 0 0 0 0 0 0 0 0 0 0 0 0 0 0\n",
      " 0 0 0 0 0 0 7 7 0 0 0 0 1 1 1 1 2 2 2 2 2 2 3 5 5 6 6 6 0 0 0 0 0 0 0 0 0\n",
      " 0 0 0 0 0 0 0 0 0 0 7 0 0 1 1 2 2 3 3 4 4 4 5 5 6 6 6 0 0 0 0 0 0 0 0 0 0\n",
      " 0 0 0 0 0 0 0 0 0 0 1 1 1 2 2 2 3 4 4 4 5 4 4 4 4 6 6 0 0 0 0 0 0 0 0 0 0\n",
      " 0 0 0 0 0 0 0 0 0 0 0 0 0 0 0 0 0 0 1 1 2 2 2 3 5 4 6 6 6] 8\n",
      "12 jing_huang 1121\n"
     ]
    },
    {
     "name": "stderr",
     "output_type": "stream",
     "text": [
      "D:\\anaconda\\lib\\site-packages\\smart_open\\smart_open_lib.py:398: UserWarning: This function is deprecated, use smart_open.open instead. See the migration notes for details: https://github.com/RaRe-Technologies/smart_open/blob/master/README.rst#migrating-to-the-new-open-function\n",
      "  'See the migration notes for details: %s' % _MIGRATION_NOTES_URL\n",
      "D:\\anaconda\\lib\\site-packages\\ipykernel_launcher.py:388: DeprecationWarning: Call to deprecated `__contains__` (Method will be removed in 4.0.0, use self.wv.__contains__() instead).\n",
      "D:\\anaconda\\lib\\site-packages\\ipykernel_launcher.py:389: DeprecationWarning: Call to deprecated `__getitem__` (Method will be removed in 4.0.0, use self.wv.__getitem__() instead).\n"
     ]
    },
    {
     "name": "stdout",
     "output_type": "stream",
     "text": [
      "#papers  1121\n",
      "#authors 2517\n",
      "#org_words 446\n",
      "#confs   873\n",
      "walks done\n"
     ]
    },
    {
     "name": "stderr",
     "output_type": "stream",
     "text": [
      "D:\\anaconda\\lib\\site-packages\\ipykernel_launcher.py:54: DeprecationWarning: Call to deprecated `__contains__` (Method will be removed in 4.0.0, use self.wv.__contains__() instead).\n",
      "D:\\anaconda\\lib\\site-packages\\ipykernel_launcher.py:55: DeprecationWarning: Call to deprecated `__getitem__` (Method will be removed in 4.0.0, use self.wv.__getitem__() instead).\n"
     ]
    },
    {
     "name": "stdout",
     "output_type": "stream",
     "text": [
      "walks done\n",
      "walks done\n",
      "walks done\n",
      "walks done\n",
      "walks done\n",
      "walks done\n",
      "walks done\n",
      "walks done\n",
      "walks done\n",
      "{256, 4, 646, 525, 152, 537, 793, 35, 296, 425, 43, 942, 819, 436, 310, 701, 702, 65, 194, 835, 582, 715, 77, 594, 865, 868, 117, 1013, 509}\n",
      "[ 2 22 73 ... 15 16  8] 135\n",
      "13 atsushi_takeda 78\n"
     ]
    },
    {
     "name": "stderr",
     "output_type": "stream",
     "text": [
      "D:\\anaconda\\lib\\site-packages\\smart_open\\smart_open_lib.py:398: UserWarning: This function is deprecated, use smart_open.open instead. See the migration notes for details: https://github.com/RaRe-Technologies/smart_open/blob/master/README.rst#migrating-to-the-new-open-function\n",
      "  'See the migration notes for details: %s' % _MIGRATION_NOTES_URL\n",
      "D:\\anaconda\\lib\\site-packages\\ipykernel_launcher.py:388: DeprecationWarning: Call to deprecated `__contains__` (Method will be removed in 4.0.0, use self.wv.__contains__() instead).\n",
      "D:\\anaconda\\lib\\site-packages\\ipykernel_launcher.py:389: DeprecationWarning: Call to deprecated `__getitem__` (Method will be removed in 4.0.0, use self.wv.__getitem__() instead).\n",
      "D:\\anaconda\\lib\\site-packages\\ipykernel_launcher.py:54: DeprecationWarning: Call to deprecated `__contains__` (Method will be removed in 4.0.0, use self.wv.__contains__() instead).\n",
      "D:\\anaconda\\lib\\site-packages\\ipykernel_launcher.py:55: DeprecationWarning: Call to deprecated `__getitem__` (Method will be removed in 4.0.0, use self.wv.__getitem__() instead).\n"
     ]
    },
    {
     "name": "stdout",
     "output_type": "stream",
     "text": [
      "#papers  78\n",
      "#authors 363\n",
      "#org_words 48\n",
      "#confs   73\n",
      "walks done\n",
      "walks done\n",
      "walks done\n",
      "walks done\n",
      "walks done\n",
      "walks done\n",
      "walks done\n",
      "walks done\n",
      "walks done\n",
      "walks done\n",
      "set()\n",
      "[0 0 0 0 0 0 0 0 0 0 0 0 0 1 1 1 1 1 1 1 1 1 1 1 2 2 2 2 2 2 0 0 0 0 0 0 0\n",
      " 0 0 0 1 1 1 1 1 1 2 2 2 2 2 2 2 2 0 0 0 0 0 0 0 0 0 0 0 0 0 0 1 1 1 1 1 1\n",
      " 1 1 2 2] 3\n",
      "14 fei_gao 1346\n"
     ]
    },
    {
     "name": "stderr",
     "output_type": "stream",
     "text": [
      "D:\\anaconda\\lib\\site-packages\\smart_open\\smart_open_lib.py:398: UserWarning: This function is deprecated, use smart_open.open instead. See the migration notes for details: https://github.com/RaRe-Technologies/smart_open/blob/master/README.rst#migrating-to-the-new-open-function\n",
      "  'See the migration notes for details: %s' % _MIGRATION_NOTES_URL\n",
      "D:\\anaconda\\lib\\site-packages\\ipykernel_launcher.py:388: DeprecationWarning: Call to deprecated `__contains__` (Method will be removed in 4.0.0, use self.wv.__contains__() instead).\n",
      "D:\\anaconda\\lib\\site-packages\\ipykernel_launcher.py:389: DeprecationWarning: Call to deprecated `__getitem__` (Method will be removed in 4.0.0, use self.wv.__getitem__() instead).\n"
     ]
    },
    {
     "name": "stdout",
     "output_type": "stream",
     "text": [
      "#papers  1346\n",
      "#authors 2752\n",
      "#org_words 455\n",
      "#confs   901\n",
      "walks done\n"
     ]
    },
    {
     "name": "stderr",
     "output_type": "stream",
     "text": [
      "D:\\anaconda\\lib\\site-packages\\ipykernel_launcher.py:54: DeprecationWarning: Call to deprecated `__contains__` (Method will be removed in 4.0.0, use self.wv.__contains__() instead).\n",
      "D:\\anaconda\\lib\\site-packages\\ipykernel_launcher.py:55: DeprecationWarning: Call to deprecated `__getitem__` (Method will be removed in 4.0.0, use self.wv.__getitem__() instead).\n"
     ]
    },
    {
     "name": "stdout",
     "output_type": "stream",
     "text": [
      "walks done\n",
      "walks done\n",
      "walks done\n",
      "walks done\n",
      "walks done\n",
      "walks done\n",
      "walks done\n",
      "walks done\n",
      "walks done\n",
      "{261, 269, 536, 539, 34, 293, 1321, 426, 682, 177, 434, 1230, 466, 858, 226, 354, 100, 355, 613, 1258, 1260}\n",
      "[ 0 14 14 ... 31  5 22] 102\n",
      "15 rajendra_prasad 165\n"
     ]
    },
    {
     "name": "stderr",
     "output_type": "stream",
     "text": [
      "D:\\anaconda\\lib\\site-packages\\smart_open\\smart_open_lib.py:398: UserWarning: This function is deprecated, use smart_open.open instead. See the migration notes for details: https://github.com/RaRe-Technologies/smart_open/blob/master/README.rst#migrating-to-the-new-open-function\n",
      "  'See the migration notes for details: %s' % _MIGRATION_NOTES_URL\n",
      "D:\\anaconda\\lib\\site-packages\\ipykernel_launcher.py:388: DeprecationWarning: Call to deprecated `__contains__` (Method will be removed in 4.0.0, use self.wv.__contains__() instead).\n",
      "D:\\anaconda\\lib\\site-packages\\ipykernel_launcher.py:389: DeprecationWarning: Call to deprecated `__getitem__` (Method will be removed in 4.0.0, use self.wv.__getitem__() instead).\n"
     ]
    },
    {
     "name": "stdout",
     "output_type": "stream",
     "text": [
      "#papers  165\n",
      "#authors 261\n",
      "#org_words 75\n",
      "#confs   105\n",
      "walks done\n"
     ]
    },
    {
     "name": "stderr",
     "output_type": "stream",
     "text": [
      "D:\\anaconda\\lib\\site-packages\\ipykernel_launcher.py:54: DeprecationWarning: Call to deprecated `__contains__` (Method will be removed in 4.0.0, use self.wv.__contains__() instead).\n",
      "D:\\anaconda\\lib\\site-packages\\ipykernel_launcher.py:55: DeprecationWarning: Call to deprecated `__getitem__` (Method will be removed in 4.0.0, use self.wv.__getitem__() instead).\n"
     ]
    },
    {
     "name": "stdout",
     "output_type": "stream",
     "text": [
      "walks done\n",
      "walks done\n",
      "walks done\n",
      "walks done\n",
      "walks done\n",
      "walks done\n",
      "walks done\n",
      "walks done\n",
      "walks done\n",
      "{154}\n",
      "[0 5 0 0 0 0 0 0 0 0 0 1 1 1 1 1 1 1 1 1 1 1 1 1 1 1 1 1 1 2 2 2 2 2 3 3 3\n",
      " 3 3 3 3 3 3 3 3 3 0 0 0 0 0 0 0 0 0 0 0 0 0 0 0 1 1 1 1 1 1 1 1 1 1 1 1 1\n",
      " 1 1 1 2 2 2 2 2 2 2 2 2 3 0 0 0 0 0 0 0 0 0 1 1 1 1 1 1 1 1 1 1 1 1 1 1 1\n",
      " 1 1 2 2 2 2 2 2 2 2 2 2 2 2 2 3 3 3 3 3 0 0 0 0 0 0 0 0 0 0 0 0 0 0 0 1 1\n",
      " 1 1 1 1 1 1 1 2 2 2 2 2 3 3 3 3 3] 5\n",
      "16 qi_li 2686\n"
     ]
    },
    {
     "name": "stderr",
     "output_type": "stream",
     "text": [
      "D:\\anaconda\\lib\\site-packages\\smart_open\\smart_open_lib.py:398: UserWarning: This function is deprecated, use smart_open.open instead. See the migration notes for details: https://github.com/RaRe-Technologies/smart_open/blob/master/README.rst#migrating-to-the-new-open-function\n",
      "  'See the migration notes for details: %s' % _MIGRATION_NOTES_URL\n",
      "D:\\anaconda\\lib\\site-packages\\ipykernel_launcher.py:388: DeprecationWarning: Call to deprecated `__contains__` (Method will be removed in 4.0.0, use self.wv.__contains__() instead).\n",
      "D:\\anaconda\\lib\\site-packages\\ipykernel_launcher.py:389: DeprecationWarning: Call to deprecated `__getitem__` (Method will be removed in 4.0.0, use self.wv.__getitem__() instead).\n"
     ]
    },
    {
     "name": "stdout",
     "output_type": "stream",
     "text": [
      "#papers  2678\n",
      "#authors 4682\n",
      "#org_words 666\n",
      "#confs   1342\n",
      "walks done\n"
     ]
    },
    {
     "name": "stderr",
     "output_type": "stream",
     "text": [
      "D:\\anaconda\\lib\\site-packages\\ipykernel_launcher.py:54: DeprecationWarning: Call to deprecated `__contains__` (Method will be removed in 4.0.0, use self.wv.__contains__() instead).\n",
      "D:\\anaconda\\lib\\site-packages\\ipykernel_launcher.py:55: DeprecationWarning: Call to deprecated `__getitem__` (Method will be removed in 4.0.0, use self.wv.__getitem__() instead).\n"
     ]
    },
    {
     "name": "stdout",
     "output_type": "stream",
     "text": [
      "walks done\n",
      "walks done\n",
      "walks done\n",
      "walks done\n",
      "walks done\n",
      "walks done\n",
      "walks done\n",
      "walks done\n",
      "walks done\n",
      "{1, 1412, 2055, 1292, 14, 399, 526, 2447, 1942, 1309, 1310, 546, 2338, 2084, 1577, 303, 820, 56, 190, 65, 1603, 1733, 1992, 1995, 2383, 344, 217, 2520, 988, 862, 1630, 2657, 1506, 993, 234, 1642, 1898, 2668, 2286, 1007, 2287, 1909, 374, 1783, 1660, 2046}\n",
      "[86 89  0 ... 19 52 19] 196\n",
      "17 bin_ren 371\n"
     ]
    },
    {
     "name": "stderr",
     "output_type": "stream",
     "text": [
      "D:\\anaconda\\lib\\site-packages\\smart_open\\smart_open_lib.py:398: UserWarning: This function is deprecated, use smart_open.open instead. See the migration notes for details: https://github.com/RaRe-Technologies/smart_open/blob/master/README.rst#migrating-to-the-new-open-function\n",
      "  'See the migration notes for details: %s' % _MIGRATION_NOTES_URL\n",
      "D:\\anaconda\\lib\\site-packages\\ipykernel_launcher.py:388: DeprecationWarning: Call to deprecated `__contains__` (Method will be removed in 4.0.0, use self.wv.__contains__() instead).\n",
      "D:\\anaconda\\lib\\site-packages\\ipykernel_launcher.py:389: DeprecationWarning: Call to deprecated `__getitem__` (Method will be removed in 4.0.0, use self.wv.__getitem__() instead).\n"
     ]
    },
    {
     "name": "stdout",
     "output_type": "stream",
     "text": [
      "#papers  371\n",
      "#authors 556\n",
      "#org_words 137\n",
      "#confs   211\n",
      "walks done\n"
     ]
    },
    {
     "name": "stderr",
     "output_type": "stream",
     "text": [
      "D:\\anaconda\\lib\\site-packages\\ipykernel_launcher.py:54: DeprecationWarning: Call to deprecated `__contains__` (Method will be removed in 4.0.0, use self.wv.__contains__() instead).\n",
      "D:\\anaconda\\lib\\site-packages\\ipykernel_launcher.py:55: DeprecationWarning: Call to deprecated `__getitem__` (Method will be removed in 4.0.0, use self.wv.__getitem__() instead).\n"
     ]
    },
    {
     "name": "stdout",
     "output_type": "stream",
     "text": [
      "walks done\n",
      "walks done\n",
      "walks done\n",
      "walks done\n",
      "walks done\n",
      "walks done\n",
      "walks done\n",
      "walks done\n",
      "walks done\n",
      "set()\n",
      "[0 0 0 0 0 0 0 0 0 0 0 0 0 0 0 0 0 0 0 0 0 0 0 0 0 0 0 1 1 1 1 1 1 1 1 2 0\n",
      " 2 0 2 3 3 4 0 0 0 0 0 0 0 0 0 0 0 0 0 0 0 0 0 0 0 0 0 0 0 0 0 0 0 0 0 0 0\n",
      " 0 0 0 0 0 0 0 0 0 0 0 1 1 1 1 1 1 1 1 1 2 2 5 5 0 0 0 0 0 0 0 0 0 0 0 0 0\n",
      " 0 0 0 0 0 0 0 0 0 0 0 0 0 0 0 0 0 0 0 1 1 1 1 1 1 1 1 1 1 1 1 1 1 2 2 2 2\n",
      " 2 3 3 3 4 5 0 0 0 0 0 0 0 0 0 0 0 0 0 0 0 0 0 0 0 0 0 0 0 0 0 0 0 0 0 0 0\n",
      " 0 0 0 0 0 0 0 0 0 0 0 0 1 1 1 1 0 2 2 3 3 4 5 5 0 0 0 0 0 0 0 0 0 0 0 0 0\n",
      " 0 0 0 0 0 0 0 0 0 0 0 0 0 0 0 0 0 0 0 0 0 1 1 1 1 1 1 1 1 1 1 2 3 3 5 5 0\n",
      " 0 0 0 0 0 0 0 0 0 0 0 0 0 0 0 0 0 0 0 0 0 0 0 0 0 0 0 0 0 0 0 0 0 0 0 0 0\n",
      " 1 1 1 1 1 1 1 1 1 1 1 1 2 2 2 3 3 3 4 5 0 0 0 0 0 0 0 0 0 0 0 0 0 0 0 0 0\n",
      " 0 0 0 0 0 0 0 0 0 0 0 0 0 0 0 0 0 0 1 1 1 1 1 1 1 1 1 1 1 1 2 0 2 3 3 3 4\n",
      " 5] 6\n",
      "18 yong_cao 1340\n"
     ]
    },
    {
     "name": "stderr",
     "output_type": "stream",
     "text": [
      "D:\\anaconda\\lib\\site-packages\\smart_open\\smart_open_lib.py:398: UserWarning: This function is deprecated, use smart_open.open instead. See the migration notes for details: https://github.com/RaRe-Technologies/smart_open/blob/master/README.rst#migrating-to-the-new-open-function\n",
      "  'See the migration notes for details: %s' % _MIGRATION_NOTES_URL\n",
      "D:\\anaconda\\lib\\site-packages\\ipykernel_launcher.py:388: DeprecationWarning: Call to deprecated `__contains__` (Method will be removed in 4.0.0, use self.wv.__contains__() instead).\n",
      "D:\\anaconda\\lib\\site-packages\\ipykernel_launcher.py:389: DeprecationWarning: Call to deprecated `__getitem__` (Method will be removed in 4.0.0, use self.wv.__getitem__() instead).\n"
     ]
    },
    {
     "name": "stdout",
     "output_type": "stream",
     "text": [
      "#papers  1340\n",
      "#authors 2157\n",
      "#org_words 443\n",
      "#confs   574\n",
      "walks done\n"
     ]
    },
    {
     "name": "stderr",
     "output_type": "stream",
     "text": [
      "D:\\anaconda\\lib\\site-packages\\ipykernel_launcher.py:54: DeprecationWarning: Call to deprecated `__contains__` (Method will be removed in 4.0.0, use self.wv.__contains__() instead).\n",
      "D:\\anaconda\\lib\\site-packages\\ipykernel_launcher.py:55: DeprecationWarning: Call to deprecated `__getitem__` (Method will be removed in 4.0.0, use self.wv.__getitem__() instead).\n"
     ]
    },
    {
     "name": "stdout",
     "output_type": "stream",
     "text": [
      "walks done\n",
      "walks done\n",
      "walks done\n",
      "walks done\n",
      "walks done\n",
      "walks done\n",
      "walks done\n",
      "walks done\n",
      "walks done\n",
      "{458, 226, 603, 1153}\n",
      "[0 0 0 ... 6 8 8] 41\n",
      "19 jing_zhou 304\n"
     ]
    },
    {
     "name": "stderr",
     "output_type": "stream",
     "text": [
      "D:\\anaconda\\lib\\site-packages\\smart_open\\smart_open_lib.py:398: UserWarning: This function is deprecated, use smart_open.open instead. See the migration notes for details: https://github.com/RaRe-Technologies/smart_open/blob/master/README.rst#migrating-to-the-new-open-function\n",
      "  'See the migration notes for details: %s' % _MIGRATION_NOTES_URL\n",
      "D:\\anaconda\\lib\\site-packages\\ipykernel_launcher.py:388: DeprecationWarning: Call to deprecated `__contains__` (Method will be removed in 4.0.0, use self.wv.__contains__() instead).\n",
      "D:\\anaconda\\lib\\site-packages\\ipykernel_launcher.py:389: DeprecationWarning: Call to deprecated `__getitem__` (Method will be removed in 4.0.0, use self.wv.__getitem__() instead).\n"
     ]
    },
    {
     "name": "stdout",
     "output_type": "stream",
     "text": [
      "#papers  304\n",
      "#authors 474\n",
      "#org_words 85\n",
      "#confs   277\n",
      "walks done\n"
     ]
    },
    {
     "name": "stderr",
     "output_type": "stream",
     "text": [
      "D:\\anaconda\\lib\\site-packages\\ipykernel_launcher.py:54: DeprecationWarning: Call to deprecated `__contains__` (Method will be removed in 4.0.0, use self.wv.__contains__() instead).\n",
      "D:\\anaconda\\lib\\site-packages\\ipykernel_launcher.py:55: DeprecationWarning: Call to deprecated `__getitem__` (Method will be removed in 4.0.0, use self.wv.__getitem__() instead).\n"
     ]
    },
    {
     "name": "stdout",
     "output_type": "stream",
     "text": [
      "walks done\n",
      "walks done\n",
      "walks done\n",
      "walks done\n",
      "walks done\n",
      "walks done\n",
      "walks done\n",
      "walks done\n",
      "walks done\n",
      "set()\n",
      "[ 0  1  1  1  2  2  3  4  4  4  5  5  6  6  6  7  7  2  0  1  2  2 14  1\n",
      "  5  7  7  2  8  8  8  8  0  0  1  1  1  9  2  2  2 10 10  2 14  1 10  7\n",
      "  7  7  2  8  0 11  2  2  2  3 10  6  6  7  7  8  8  0  0  0  1  1  1  1\n",
      "  1  9  2  2  8  2  1  1  1 10  7  8  0  1  1  1  9  2  2  2 10 10  5  2\n",
      "  1  1  3  4 10  6  6  2  0  1  1 15  2  2  2  1  1  1  3  4 10  7  8  8\n",
      "  0  1  1  1  2  2  5  2  1  3  7  8  8  0  1  1  1 10  2  2  5  2  4  5\n",
      " 10 10  6  1  1  9 11 11  2  8  2  1  1  6  7  7  2  8  8  1  1  1  2  2\n",
      "  2  2  1  5  6  7  8  1  1  1  1 11  2  2  2  2  8  9  1  1  1  1  1  1\n",
      "  1  3  6  7  7  2  8  8  1  1  1  9 11 15 10  2  1  1  7  7  2  2  8  1\n",
      "  1  9  2  2  2  1  1  6  7  7  8  8  1  1  1  1  1  1 11 15  2  8  2  1\n",
      "  4  6  6  7  2  8  1  1  2  2  5  1  3  3  4  6  6  2  8  8  1 11  2  8\n",
      "  5  2  1  1  8  8  1  1  1  9  9  2  2  2 10  5  1  5  8  9  9 11 10  2\n",
      "  2  2  8  8  5  5  2  3  5 10 10  6  7  2  2  2] 14\n",
      "20 hong_jiang 2699\n"
     ]
    },
    {
     "name": "stderr",
     "output_type": "stream",
     "text": [
      "D:\\anaconda\\lib\\site-packages\\smart_open\\smart_open_lib.py:398: UserWarning: This function is deprecated, use smart_open.open instead. See the migration notes for details: https://github.com/RaRe-Technologies/smart_open/blob/master/README.rst#migrating-to-the-new-open-function\n",
      "  'See the migration notes for details: %s' % _MIGRATION_NOTES_URL\n",
      "D:\\anaconda\\lib\\site-packages\\ipykernel_launcher.py:388: DeprecationWarning: Call to deprecated `__contains__` (Method will be removed in 4.0.0, use self.wv.__contains__() instead).\n",
      "D:\\anaconda\\lib\\site-packages\\ipykernel_launcher.py:389: DeprecationWarning: Call to deprecated `__getitem__` (Method will be removed in 4.0.0, use self.wv.__getitem__() instead).\n"
     ]
    },
    {
     "name": "stdout",
     "output_type": "stream",
     "text": [
      "#papers  2699\n",
      "#authors 3653\n",
      "#org_words 772\n",
      "#confs   1007\n",
      "walks done\n"
     ]
    },
    {
     "name": "stderr",
     "output_type": "stream",
     "text": [
      "D:\\anaconda\\lib\\site-packages\\ipykernel_launcher.py:54: DeprecationWarning: Call to deprecated `__contains__` (Method will be removed in 4.0.0, use self.wv.__contains__() instead).\n",
      "D:\\anaconda\\lib\\site-packages\\ipykernel_launcher.py:55: DeprecationWarning: Call to deprecated `__getitem__` (Method will be removed in 4.0.0, use self.wv.__getitem__() instead).\n"
     ]
    },
    {
     "name": "stdout",
     "output_type": "stream",
     "text": [
      "walks done\n",
      "walks done\n",
      "walks done\n",
      "walks done\n",
      "walks done\n",
      "walks done\n",
      "walks done\n",
      "walks done\n",
      "walks done\n",
      "{1112, 1191, 95}\n",
      "[0 1 0 ... 9 9 0] 61\n",
      "21 liang_zhou 213\n"
     ]
    },
    {
     "name": "stderr",
     "output_type": "stream",
     "text": [
      "D:\\anaconda\\lib\\site-packages\\smart_open\\smart_open_lib.py:398: UserWarning: This function is deprecated, use smart_open.open instead. See the migration notes for details: https://github.com/RaRe-Technologies/smart_open/blob/master/README.rst#migrating-to-the-new-open-function\n",
      "  'See the migration notes for details: %s' % _MIGRATION_NOTES_URL\n",
      "D:\\anaconda\\lib\\site-packages\\ipykernel_launcher.py:388: DeprecationWarning: Call to deprecated `__contains__` (Method will be removed in 4.0.0, use self.wv.__contains__() instead).\n",
      "D:\\anaconda\\lib\\site-packages\\ipykernel_launcher.py:389: DeprecationWarning: Call to deprecated `__getitem__` (Method will be removed in 4.0.0, use self.wv.__getitem__() instead).\n"
     ]
    },
    {
     "name": "stdout",
     "output_type": "stream",
     "text": [
      "#papers  213\n",
      "#authors 332\n",
      "#org_words 88\n",
      "#confs   255\n",
      "walks done\n"
     ]
    },
    {
     "name": "stderr",
     "output_type": "stream",
     "text": [
      "D:\\anaconda\\lib\\site-packages\\ipykernel_launcher.py:54: DeprecationWarning: Call to deprecated `__contains__` (Method will be removed in 4.0.0, use self.wv.__contains__() instead).\n",
      "D:\\anaconda\\lib\\site-packages\\ipykernel_launcher.py:55: DeprecationWarning: Call to deprecated `__getitem__` (Method will be removed in 4.0.0, use self.wv.__getitem__() instead).\n"
     ]
    },
    {
     "name": "stdout",
     "output_type": "stream",
     "text": [
      "walks done\n",
      "walks done\n",
      "walks done\n",
      "walks done\n",
      "walks done\n",
      "walks done\n",
      "walks done\n",
      "walks done\n",
      "walks done\n",
      "set()\n",
      "[0 0 1 1 2 2 2 3 4 4 4 0 0 0 2 2 2 2 2 5 0 0 0 0 6 6 6 3 4 4 4 2 2 2 7 5 5\n",
      " 5 0 0 0 0 0 1 6 6 6 2 3 3 3 4 2 2 0 0 0 0 1 1 2 2 3 3 4 4 4 0 7 5 5 5 5 5\n",
      " 0 0 0 6 2 2 4 4 4 4 4 2 2 4 4 5 0 0 0 1 2 2 2 4 4 4 4 0 2 2 4 5 5 5 5 5 0\n",
      " 0 0 1 2 3 4 4 2 2 5 5 0 0 0 0 4 4 0 0 2 2 5 5 5 5 0 0 6 3 4 4 4 2 2 2 2 7\n",
      " 5 5 5 5 0 0 0 0 0 1 1 6 3 4 2 7 4 5 0 0 0 0 0 1 6 4 0 2 2 7 4 4 4 5 5 5 0\n",
      " 0 0 1 6 2 4 4 2 2 2 7 5 5 0 0 0 2 2 4 4 2 2 2 2 7 5 5 5] 8\n",
      "22 ming_xu 1222\n"
     ]
    },
    {
     "name": "stderr",
     "output_type": "stream",
     "text": [
      "D:\\anaconda\\lib\\site-packages\\smart_open\\smart_open_lib.py:398: UserWarning: This function is deprecated, use smart_open.open instead. See the migration notes for details: https://github.com/RaRe-Technologies/smart_open/blob/master/README.rst#migrating-to-the-new-open-function\n",
      "  'See the migration notes for details: %s' % _MIGRATION_NOTES_URL\n",
      "D:\\anaconda\\lib\\site-packages\\ipykernel_launcher.py:388: DeprecationWarning: Call to deprecated `__contains__` (Method will be removed in 4.0.0, use self.wv.__contains__() instead).\n",
      "D:\\anaconda\\lib\\site-packages\\ipykernel_launcher.py:389: DeprecationWarning: Call to deprecated `__getitem__` (Method will be removed in 4.0.0, use self.wv.__getitem__() instead).\n"
     ]
    },
    {
     "name": "stdout",
     "output_type": "stream",
     "text": [
      "#papers  1222\n",
      "#authors 2200\n",
      "#org_words 416\n",
      "#confs   963\n",
      "walks done\n"
     ]
    },
    {
     "name": "stderr",
     "output_type": "stream",
     "text": [
      "D:\\anaconda\\lib\\site-packages\\ipykernel_launcher.py:54: DeprecationWarning: Call to deprecated `__contains__` (Method will be removed in 4.0.0, use self.wv.__contains__() instead).\n",
      "D:\\anaconda\\lib\\site-packages\\ipykernel_launcher.py:55: DeprecationWarning: Call to deprecated `__getitem__` (Method will be removed in 4.0.0, use self.wv.__getitem__() instead).\n"
     ]
    },
    {
     "name": "stdout",
     "output_type": "stream",
     "text": [
      "walks done\n",
      "walks done\n",
      "walks done\n",
      "walks done\n",
      "walks done\n",
      "walks done\n",
      "walks done\n",
      "walks done\n",
      "walks done\n",
      "{17, 401, 787, 660, 789, 426, 1199, 944, 561, 55, 68, 1102, 80, 208, 465, 854, 352, 355, 746, 111, 756, 1142, 1147}\n",
      "[20 60  0 ... 32 16 48] 100\n",
      "23 jie_sun 1407\n"
     ]
    },
    {
     "name": "stderr",
     "output_type": "stream",
     "text": [
      "D:\\anaconda\\lib\\site-packages\\smart_open\\smart_open_lib.py:398: UserWarning: This function is deprecated, use smart_open.open instead. See the migration notes for details: https://github.com/RaRe-Technologies/smart_open/blob/master/README.rst#migrating-to-the-new-open-function\n",
      "  'See the migration notes for details: %s' % _MIGRATION_NOTES_URL\n",
      "D:\\anaconda\\lib\\site-packages\\ipykernel_launcher.py:388: DeprecationWarning: Call to deprecated `__contains__` (Method will be removed in 4.0.0, use self.wv.__contains__() instead).\n",
      "D:\\anaconda\\lib\\site-packages\\ipykernel_launcher.py:389: DeprecationWarning: Call to deprecated `__getitem__` (Method will be removed in 4.0.0, use self.wv.__getitem__() instead).\n"
     ]
    },
    {
     "name": "stdout",
     "output_type": "stream",
     "text": [
      "#papers  1407\n",
      "#authors 2478\n",
      "#org_words 453\n",
      "#confs   893\n",
      "walks done\n"
     ]
    },
    {
     "name": "stderr",
     "output_type": "stream",
     "text": [
      "D:\\anaconda\\lib\\site-packages\\ipykernel_launcher.py:54: DeprecationWarning: Call to deprecated `__contains__` (Method will be removed in 4.0.0, use self.wv.__contains__() instead).\n",
      "D:\\anaconda\\lib\\site-packages\\ipykernel_launcher.py:55: DeprecationWarning: Call to deprecated `__getitem__` (Method will be removed in 4.0.0, use self.wv.__getitem__() instead).\n"
     ]
    },
    {
     "name": "stdout",
     "output_type": "stream",
     "text": [
      "walks done\n",
      "walks done\n",
      "walks done\n",
      "walks done\n",
      "walks done\n",
      "walks done\n",
      "walks done\n",
      "walks done\n",
      "walks done\n",
      "{992, 929, 610, 1219, 968, 425, 1033, 1051, 1069, 494, 15, 957, 1170, 117, 694, 853, 1210, 571, 29, 1182}\n",
      "[ 0  0  0 ... 32 38 23] 134\n",
      "24 hao_zhang 3967\n"
     ]
    },
    {
     "name": "stderr",
     "output_type": "stream",
     "text": [
      "D:\\anaconda\\lib\\site-packages\\smart_open\\smart_open_lib.py:398: UserWarning: This function is deprecated, use smart_open.open instead. See the migration notes for details: https://github.com/RaRe-Technologies/smart_open/blob/master/README.rst#migrating-to-the-new-open-function\n",
      "  'See the migration notes for details: %s' % _MIGRATION_NOTES_URL\n",
      "D:\\anaconda\\lib\\site-packages\\ipykernel_launcher.py:388: DeprecationWarning: Call to deprecated `__contains__` (Method will be removed in 4.0.0, use self.wv.__contains__() instead).\n",
      "D:\\anaconda\\lib\\site-packages\\ipykernel_launcher.py:389: DeprecationWarning: Call to deprecated `__getitem__` (Method will be removed in 4.0.0, use self.wv.__getitem__() instead).\n"
     ]
    },
    {
     "name": "stdout",
     "output_type": "stream",
     "text": [
      "#papers  3967\n",
      "#authors 6423\n",
      "#org_words 1337\n",
      "#confs   1387\n",
      "walks done\n"
     ]
    },
    {
     "name": "stderr",
     "output_type": "stream",
     "text": [
      "D:\\anaconda\\lib\\site-packages\\ipykernel_launcher.py:54: DeprecationWarning: Call to deprecated `__contains__` (Method will be removed in 4.0.0, use self.wv.__contains__() instead).\n",
      "D:\\anaconda\\lib\\site-packages\\ipykernel_launcher.py:55: DeprecationWarning: Call to deprecated `__getitem__` (Method will be removed in 4.0.0, use self.wv.__getitem__() instead).\n"
     ]
    },
    {
     "name": "stdout",
     "output_type": "stream",
     "text": [
      "walks done\n",
      "walks done\n",
      "walks done\n",
      "walks done\n",
      "walks done\n",
      "walks done\n",
      "walks done\n",
      "walks done\n",
      "walks done\n",
      "{3936, 1601, 258, 3543, 228, 2117, 646, 3141, 3735, 3746, 364, 1008, 466, 435, 3796, 2357, 3127, 2584, 3578, 957}\n",
      "[  0   1   1 ...  31  16 119] 179\n",
      "25 jue_wang 810\n"
     ]
    },
    {
     "name": "stderr",
     "output_type": "stream",
     "text": [
      "D:\\anaconda\\lib\\site-packages\\smart_open\\smart_open_lib.py:398: UserWarning: This function is deprecated, use smart_open.open instead. See the migration notes for details: https://github.com/RaRe-Technologies/smart_open/blob/master/README.rst#migrating-to-the-new-open-function\n",
      "  'See the migration notes for details: %s' % _MIGRATION_NOTES_URL\n",
      "D:\\anaconda\\lib\\site-packages\\ipykernel_launcher.py:388: DeprecationWarning: Call to deprecated `__contains__` (Method will be removed in 4.0.0, use self.wv.__contains__() instead).\n",
      "D:\\anaconda\\lib\\site-packages\\ipykernel_launcher.py:389: DeprecationWarning: Call to deprecated `__getitem__` (Method will be removed in 4.0.0, use self.wv.__getitem__() instead).\n"
     ]
    },
    {
     "name": "stdout",
     "output_type": "stream",
     "text": [
      "#papers  810\n",
      "#authors 1381\n",
      "#org_words 266\n",
      "#confs   684\n",
      "walks done\n"
     ]
    },
    {
     "name": "stderr",
     "output_type": "stream",
     "text": [
      "D:\\anaconda\\lib\\site-packages\\ipykernel_launcher.py:54: DeprecationWarning: Call to deprecated `__contains__` (Method will be removed in 4.0.0, use self.wv.__contains__() instead).\n",
      "D:\\anaconda\\lib\\site-packages\\ipykernel_launcher.py:55: DeprecationWarning: Call to deprecated `__getitem__` (Method will be removed in 4.0.0, use self.wv.__getitem__() instead).\n"
     ]
    },
    {
     "name": "stdout",
     "output_type": "stream",
     "text": [
      "walks done\n",
      "walks done\n",
      "walks done\n",
      "walks done\n",
      "walks done\n",
      "walks done\n",
      "walks done\n",
      "walks done\n",
      "walks done\n",
      "{163, 453, 743, 235, 651, 13, 461, 625, 627, 373, 598, 248, 255}\n",
      "[  0   0   1   2   3   1   2   1   1   1  34   1   1  35   4   5   6   1\n",
      "   5   7   7  36   8   9   9  10   6   0   0   0   0   0   0   0   1   2\n",
      "   2   2   2  10   2   3   1   1  20   1   4   4  11   1   1  30   1   4\n",
      "   1   1  22  10  12  12  27   0   0   0   0   2   2   2   2   2   2   2\n",
      "   1   1   2   2  13  14   1  37   1  15   1   7   7   7   1   1   1  14\n",
      "   1   0  16   9   1   0   0   0   0   0   1  38  17   3   1   1   2   2\n",
      "   2  13  13   1   1   1  24  14   1   1   7   7   7   1  18   2  39  19\n",
      "   1  14   0   0   0   2   2   1   1  40  14   3   1   1   6  37  20   7\n",
      "   7   1  18  15   0   0   2   1   2   2   2   2  17   2   1   3   2  13\n",
      "  13  42   1  15   1   4  14  27  11   7   7  21   2   1   2  43  22   2\n",
      "   9   8  10   0   0   0   0   0   0   0   0  23   2   2   2  17   1   2\n",
      "   1   1   1  32   1   1   1  24  11  11   1   1   1   3  44   1  22  22\n",
      "  22  81  46  14   0   0   0   0   0   0   0   0   0   0   2   2   3   2\n",
      "  13  47  15   1   1   7   7   1   1   1  44  10  10   1  49   7   0   0\n",
      "  31   1   2  50  16  38   2   2  52   3   3   3   1   6  54  20  14  91\n",
      "   7   7   7   7   7   1   1   2   0   0  81  16  16  14  25 102  26  14\n",
      "   0   0   0   0   1   2  17   2   2  93   1   2   1   1   1  18  85  24\n",
      "   7  21   4   1   1  30  14   1  27   0   0  23  31   2   2  10   2   2\n",
      "   1  31   3  62   1   1   1   4   1   1   9   1   2  20   1   7   1   4\n",
      "   1   3  46  22  81  27   0   0   0   0  23   2   1   1   2   1   2   1\n",
      "   1   1   1   1  85  20  20   1   7   7  29   1   1  66  12   2   7   0\n",
      "   0   0   0   0  16   2   2   2   2   2   1   1  32   6   1   5  11  21\n",
      "   2   1  28   1  86  26   9   0   0   0   2   2  17   2   3   2   3   3\n",
      "  13  11   1   1  85  14  68   7   7   2   1   1   0  70  81   1  29   1\n",
      "   1   0   0   1  10   2   1  10   1   1   2  10   3   1   1   1   4   1\n",
      "  85  14  20  74   7   1   1  22  81  16   0  76   2   1   1  39   1   2\n",
      "   1   1   1   1  15  30   1  99   1   1  28  16  25  29  79  26   7   0\n",
      "   0   0   0   0   0   2   2   1   2   2   2   1   2   1   1   1   5  14\n",
      "  24  24   1   1   1   3   3   1  19  81  82   1  14   0   0   2   2   2\n",
      "  83   1  17   2   6   5   5  11  11   1   7   1   1   1  14  22  14  14\n",
      "   8  26   0   0   2   2   1   1   2   1   3   2  84   1  85   1  18  32\n",
      "  14  11  11   7   7   7   1   4  86  85   7   1   1  27  27   0   0   0\n",
      "   0   0   0  23   2   2   1   2  17   1   1   1   1  10  34   1   1   1\n",
      "   1  20  24  20  11   7   7  19  88  22   1  29   7  26   9   0   0   0\n",
      "   2   2   1  17   2   2   3   3   3   1   1  14  24  89  24  90  91   7\n",
      "   1  21   1   1   9  29  29   1   0   2   1   1   1   1   3   1  20   7\n",
      "   7   7   1   5   1   3   8  25  92   7   9   0   0  30   2  17  93   1\n",
      "  40   2   1   1   2   2  14   3   1   3   1   1   7   7   2  14  28  95\n",
      "  22  81  26  14  14   0   0  16  17  37   1  11  91  99   7   7   1  18\n",
      "   1  28   7 100  16  25  25  10  82   7   0   0   2   2   2   2   2   1\n",
      " 102   1   3   2   2   3   1   1   1   1   7   7   1   1   2  29   1   1\n",
      "   1  44   1  43   2 100  81  12  12  26   0   2   1   2  17   1   2  14\n",
      "   1  24   6  30  15  14  24   7   7   7   7  29   1  19   3  14   8   2\n",
      " 106   1  17  31   2   2   1   1   1   2   1   2   2   1   2  10  13  13\n",
      "   1  32   1   1   6  11  11   1  99   7   7   7  21   1   1  16   9   7] 73\n",
      "26 y_shi 414\n"
     ]
    },
    {
     "name": "stderr",
     "output_type": "stream",
     "text": [
      "D:\\anaconda\\lib\\site-packages\\smart_open\\smart_open_lib.py:398: UserWarning: This function is deprecated, use smart_open.open instead. See the migration notes for details: https://github.com/RaRe-Technologies/smart_open/blob/master/README.rst#migrating-to-the-new-open-function\n",
      "  'See the migration notes for details: %s' % _MIGRATION_NOTES_URL\n",
      "D:\\anaconda\\lib\\site-packages\\ipykernel_launcher.py:388: DeprecationWarning: Call to deprecated `__contains__` (Method will be removed in 4.0.0, use self.wv.__contains__() instead).\n",
      "D:\\anaconda\\lib\\site-packages\\ipykernel_launcher.py:389: DeprecationWarning: Call to deprecated `__getitem__` (Method will be removed in 4.0.0, use self.wv.__getitem__() instead).\n"
     ]
    },
    {
     "name": "stdout",
     "output_type": "stream",
     "text": [
      "#papers  414\n",
      "#authors 1334\n",
      "#org_words 195\n",
      "#confs   340\n",
      "walks done\n"
     ]
    },
    {
     "name": "stderr",
     "output_type": "stream",
     "text": [
      "D:\\anaconda\\lib\\site-packages\\ipykernel_launcher.py:54: DeprecationWarning: Call to deprecated `__contains__` (Method will be removed in 4.0.0, use self.wv.__contains__() instead).\n",
      "D:\\anaconda\\lib\\site-packages\\ipykernel_launcher.py:55: DeprecationWarning: Call to deprecated `__getitem__` (Method will be removed in 4.0.0, use self.wv.__getitem__() instead).\n"
     ]
    },
    {
     "name": "stdout",
     "output_type": "stream",
     "text": [
      "walks done\n",
      "walks done\n",
      "walks done\n",
      "walks done\n",
      "walks done\n",
      "walks done\n",
      "walks done\n",
      "walks done\n",
      "walks done\n",
      "{299, 195, 413}\n",
      "[ 0  1  1  1  1  1  1  1 19  8  2  3  4  8  5  3 16  6  0  1  1  1  1  1\n",
      " 17  7  2  3  8  1  1  0 13  1 11  1  1  1  1  1  1  1  9  4  3  3  1 10\n",
      "  1  1  1 13  0  1  1  1 11  1  1  1 12  7 21 12  3  3 12 10  5  5  6  1\n",
      "  1  1  1  1  1  1  1  1  1  7  7 16  1  1  1  1  1  1  1  1 16 13  5 10\n",
      "  6  1  1  1  1 12 12  1 13  2  3  3 13 15 12  5  8 10  1  1  1  3  3  5\n",
      "  6  1  1  1  1  1  1  1  1 17  3  3  4 17 24 14  6  1  1  1  1  1  1  1\n",
      "  1  1  1  1  1  9  4  3 24 14 10  1  1  1  1  1  6  1  3  3  1  1  1  1\n",
      "  1  1  1  1 12  4 13  9  3  8 16 16  1  1  1  1  1  1  3 12  5  3  1  1\n",
      "  1 11  4 27  5 14  6  6  1 13  1  1  1  1  1  1  1  1 13  1  1  1 13 16\n",
      " 13  1  1  1  1  1  1  1 11 13  2  3  3 10  1  1  1  1  1  1  1 11 12  9\n",
      "  3  3  3  3 15 14  1  3  1  1  1  1  1  1  1  1 13 28 15 16  3  1  1  1\n",
      "  1  3  3 13  1 29  1  1  1  1 12  1  2  9 15 10 16  1  1  1  1  1  1  1\n",
      "  3 30  8 10 10 13  1  1  1  1 12 31 17 13  2  2  9 13  8  1  1 13  1  1\n",
      "  1  1 11  7 21 13  8 12 33  1  1  1  1  1 13 15 12  8 14 10 10  1  1  1\n",
      "  3 14 10 10  1  1 16  1  1  1  1  1  1  1 11  1  1  1  1 19 13 13  3 16\n",
      "  1  1  1  1 11  1  1 17 13  3  3  3  1  3 12 10 10 10  1  8  6  1 13 11\n",
      "  1  1  1  1  6 17  2  2  3  4 13  3 14 10  1  1  1 13  1  1  1  1  3  3\n",
      "  3  3  3  3 10 38] 28\n",
      "27 jian_huang 542\n"
     ]
    },
    {
     "name": "stderr",
     "output_type": "stream",
     "text": [
      "D:\\anaconda\\lib\\site-packages\\smart_open\\smart_open_lib.py:398: UserWarning: This function is deprecated, use smart_open.open instead. See the migration notes for details: https://github.com/RaRe-Technologies/smart_open/blob/master/README.rst#migrating-to-the-new-open-function\n",
      "  'See the migration notes for details: %s' % _MIGRATION_NOTES_URL\n",
      "D:\\anaconda\\lib\\site-packages\\ipykernel_launcher.py:388: DeprecationWarning: Call to deprecated `__contains__` (Method will be removed in 4.0.0, use self.wv.__contains__() instead).\n",
      "D:\\anaconda\\lib\\site-packages\\ipykernel_launcher.py:389: DeprecationWarning: Call to deprecated `__getitem__` (Method will be removed in 4.0.0, use self.wv.__getitem__() instead).\n"
     ]
    },
    {
     "name": "stdout",
     "output_type": "stream",
     "text": [
      "#papers  542\n",
      "#authors 753\n",
      "#org_words 331\n",
      "#confs   386\n",
      "walks done\n"
     ]
    },
    {
     "name": "stderr",
     "output_type": "stream",
     "text": [
      "D:\\anaconda\\lib\\site-packages\\ipykernel_launcher.py:54: DeprecationWarning: Call to deprecated `__contains__` (Method will be removed in 4.0.0, use self.wv.__contains__() instead).\n",
      "D:\\anaconda\\lib\\site-packages\\ipykernel_launcher.py:55: DeprecationWarning: Call to deprecated `__getitem__` (Method will be removed in 4.0.0, use self.wv.__getitem__() instead).\n"
     ]
    },
    {
     "name": "stdout",
     "output_type": "stream",
     "text": [
      "walks done\n",
      "walks done\n",
      "walks done\n",
      "walks done\n",
      "walks done\n",
      "walks done\n",
      "walks done\n",
      "walks done\n",
      "walks done\n",
      "{98, 316}\n",
      "[ 0  0  0  0  0  0  0  0 11  1  1  1  2  3  4  5  5  6  7  8  8  1  9  9\n",
      "  9 10  0  0  0  0  0  0  0  0  0 11 11 12 12 12 12 12  1 13 13 13 13  2\n",
      "  2 14 14 15 15  6  7  7  7  7  9  9 10  0  0  0  0  0 11 11 12 12  1 13\n",
      "  2 16 14 15  7  7  8  8  1 10  0  0  0  0  0 11 11 23  2  2  2  3 16 16\n",
      "  4 14 24 15  7  7  7  7  8  1  1  9 10  0  0  0  0  0  0  0  0 11 11 12\n",
      "  1 13 14 14  5  5  6  7  7  7  7  8  8  1 17 17  9  0  0  0  0  0  0 11\n",
      " 11 11 11 12 12 25  1  1  2  2  2  2  3  6  7  8  1 17 10 10 10  0  0 11\n",
      " 11 11 11 11 12 12 12 13 13 13  2  2  2  2  4 18 18 15  7  7  8 17  9  0\n",
      "  0 11 11 11 12 12 12 12 12  1  1  1 13 13  2  2  3  6  6 19 19  7  9 10\n",
      "  0  0  0  0  0 11 21 12 12 12  1  1 13 13 13  2  2  3  3  0  4  6  7  7\n",
      "  7  8  8  8  9  9  9  0  0  0 20  0  0  0 12 12 12  1  1  1  1  1  1 13\n",
      " 13 13 13 13  2  4 14 14 18 26  5  7  7  7  8 17 17 10 10  0  0  0  0  0\n",
      "  0 11 11 12 12 12 12 12  1 13 13 13 13  2 14 14 18 15 15 15  6  7  8  9\n",
      "  0  0  0  0 11 11 12 12  1  2  2  2  3 14 14 18 15 15 15 15 17 10  0  0\n",
      "  0 11 12 12 12 12 12 13 13  2  2  2  3  4  4 27  7 10 10  0  0  0 11 11\n",
      " 11 11 11 12 12 12 12  1  1 13  3 14 15 15  6 19  7  8 17  9  0  0  0 11\n",
      " 11 11 11  0 13 13  2  2  2 15 10  6  7 10 20  0  0  0 11 11 11 11 21 12\n",
      "  1  1 13 13 13  2  2 16 16  4  5 19 19  7  8  9  0  0 20  0 11 11 11 12\n",
      " 12 12  1  1  1  1  1 13  2  2  3  3 14 15 15 15  6  6  7  7  7  7  0  0\n",
      "  0 11 12 12 12 12  1 18  5  5 19  7 17  0 20  0 11 11 11 21 12 12 12 21\n",
      "  1  1 13  2  2  2  2  2 14 14 18 18 15  6  7  7  7  1  0 11 11 12 12 12\n",
      " 12 12  1  1 13 13 13  3 14 15  6  6  7  7  7  8  1  0 11 11 12 12 12 12\n",
      "  1 13  2 14 18 15  5  6  7  7 17  9 10 10] 27\n",
      "28 ping_zhang 3182\n"
     ]
    },
    {
     "name": "stderr",
     "output_type": "stream",
     "text": [
      "D:\\anaconda\\lib\\site-packages\\smart_open\\smart_open_lib.py:398: UserWarning: This function is deprecated, use smart_open.open instead. See the migration notes for details: https://github.com/RaRe-Technologies/smart_open/blob/master/README.rst#migrating-to-the-new-open-function\n",
      "  'See the migration notes for details: %s' % _MIGRATION_NOTES_URL\n",
      "D:\\anaconda\\lib\\site-packages\\ipykernel_launcher.py:388: DeprecationWarning: Call to deprecated `__contains__` (Method will be removed in 4.0.0, use self.wv.__contains__() instead).\n",
      "D:\\anaconda\\lib\\site-packages\\ipykernel_launcher.py:389: DeprecationWarning: Call to deprecated `__getitem__` (Method will be removed in 4.0.0, use self.wv.__getitem__() instead).\n"
     ]
    },
    {
     "name": "stdout",
     "output_type": "stream",
     "text": [
      "#papers  3182\n",
      "#authors 5036\n",
      "#org_words 705\n",
      "#confs   1387\n",
      "walks done\n"
     ]
    },
    {
     "name": "stderr",
     "output_type": "stream",
     "text": [
      "D:\\anaconda\\lib\\site-packages\\ipykernel_launcher.py:54: DeprecationWarning: Call to deprecated `__contains__` (Method will be removed in 4.0.0, use self.wv.__contains__() instead).\n",
      "D:\\anaconda\\lib\\site-packages\\ipykernel_launcher.py:55: DeprecationWarning: Call to deprecated `__getitem__` (Method will be removed in 4.0.0, use self.wv.__getitem__() instead).\n"
     ]
    },
    {
     "name": "stdout",
     "output_type": "stream",
     "text": [
      "walks done\n",
      "walks done\n",
      "walks done\n",
      "walks done\n",
      "walks done\n",
      "walks done\n",
      "walks done\n",
      "walks done\n",
      "walks done\n",
      "{2176, 3075, 2948, 1925, 2821, 1031, 777, 3087, 1552, 2962, 408, 412, 1437, 1310, 290, 2083, 2858, 171, 1712, 561, 2492, 64, 2368, 2752, 582, 585, 2378, 2506, 332, 1869, 1486, 1743, 978, 1749, 854, 2007, 1370, 2139, 2908, 736, 3041, 2660, 2916, 122, 361, 1136, 1396, 1397, 1400, 1146, 1531, 2175}\n",
      "[ 0  0  0 ... 11 32 58] 218\n",
      "29 feng_zhou 1398\n"
     ]
    },
    {
     "name": "stderr",
     "output_type": "stream",
     "text": [
      "D:\\anaconda\\lib\\site-packages\\smart_open\\smart_open_lib.py:398: UserWarning: This function is deprecated, use smart_open.open instead. See the migration notes for details: https://github.com/RaRe-Technologies/smart_open/blob/master/README.rst#migrating-to-the-new-open-function\n",
      "  'See the migration notes for details: %s' % _MIGRATION_NOTES_URL\n",
      "D:\\anaconda\\lib\\site-packages\\ipykernel_launcher.py:388: DeprecationWarning: Call to deprecated `__contains__` (Method will be removed in 4.0.0, use self.wv.__contains__() instead).\n",
      "D:\\anaconda\\lib\\site-packages\\ipykernel_launcher.py:389: DeprecationWarning: Call to deprecated `__getitem__` (Method will be removed in 4.0.0, use self.wv.__getitem__() instead).\n"
     ]
    },
    {
     "name": "stdout",
     "output_type": "stream",
     "text": [
      "#papers  1398\n",
      "#authors 2356\n",
      "#org_words 598\n",
      "#confs   711\n",
      "walks done\n"
     ]
    },
    {
     "name": "stderr",
     "output_type": "stream",
     "text": [
      "D:\\anaconda\\lib\\site-packages\\ipykernel_launcher.py:54: DeprecationWarning: Call to deprecated `__contains__` (Method will be removed in 4.0.0, use self.wv.__contains__() instead).\n",
      "D:\\anaconda\\lib\\site-packages\\ipykernel_launcher.py:55: DeprecationWarning: Call to deprecated `__getitem__` (Method will be removed in 4.0.0, use self.wv.__getitem__() instead).\n"
     ]
    },
    {
     "name": "stdout",
     "output_type": "stream",
     "text": [
      "walks done\n",
      "walks done\n",
      "walks done\n",
      "walks done\n",
      "walks done\n",
      "walks done\n",
      "walks done\n",
      "walks done\n",
      "walks done\n",
      "{898, 67, 708, 924, 650, 1239, 155, 540}\n",
      "[ 0  1  2 ... 51 18 18] 72\n",
      "30 dong_zhang 1424\n"
     ]
    },
    {
     "name": "stderr",
     "output_type": "stream",
     "text": [
      "D:\\anaconda\\lib\\site-packages\\smart_open\\smart_open_lib.py:398: UserWarning: This function is deprecated, use smart_open.open instead. See the migration notes for details: https://github.com/RaRe-Technologies/smart_open/blob/master/README.rst#migrating-to-the-new-open-function\n",
      "  'See the migration notes for details: %s' % _MIGRATION_NOTES_URL\n",
      "D:\\anaconda\\lib\\site-packages\\ipykernel_launcher.py:388: DeprecationWarning: Call to deprecated `__contains__` (Method will be removed in 4.0.0, use self.wv.__contains__() instead).\n",
      "D:\\anaconda\\lib\\site-packages\\ipykernel_launcher.py:389: DeprecationWarning: Call to deprecated `__getitem__` (Method will be removed in 4.0.0, use self.wv.__getitem__() instead).\n"
     ]
    },
    {
     "name": "stdout",
     "output_type": "stream",
     "text": [
      "#papers  1424\n",
      "#authors 2787\n",
      "#org_words 450\n",
      "#confs   844\n",
      "walks done\n"
     ]
    },
    {
     "name": "stderr",
     "output_type": "stream",
     "text": [
      "D:\\anaconda\\lib\\site-packages\\ipykernel_launcher.py:54: DeprecationWarning: Call to deprecated `__contains__` (Method will be removed in 4.0.0, use self.wv.__contains__() instead).\n",
      "D:\\anaconda\\lib\\site-packages\\ipykernel_launcher.py:55: DeprecationWarning: Call to deprecated `__getitem__` (Method will be removed in 4.0.0, use self.wv.__getitem__() instead).\n"
     ]
    },
    {
     "name": "stdout",
     "output_type": "stream",
     "text": [
      "walks done\n",
      "walks done\n",
      "walks done\n",
      "walks done\n",
      "walks done\n",
      "walks done\n",
      "walks done\n",
      "walks done\n",
      "walks done\n",
      "{512, 1409, 265, 1161, 22, 409, 1306, 929, 803, 1336, 197, 712, 329, 585, 843, 333, 589, 975, 1230, 724, 109, 375, 1271, 253}\n",
      "[  0   0   1 ... 138  42  19] 106\n",
      "31 h_yu 150\n"
     ]
    },
    {
     "name": "stderr",
     "output_type": "stream",
     "text": [
      "D:\\anaconda\\lib\\site-packages\\smart_open\\smart_open_lib.py:398: UserWarning: This function is deprecated, use smart_open.open instead. See the migration notes for details: https://github.com/RaRe-Technologies/smart_open/blob/master/README.rst#migrating-to-the-new-open-function\n",
      "  'See the migration notes for details: %s' % _MIGRATION_NOTES_URL\n",
      "D:\\anaconda\\lib\\site-packages\\ipykernel_launcher.py:388: DeprecationWarning: Call to deprecated `__contains__` (Method will be removed in 4.0.0, use self.wv.__contains__() instead).\n",
      "D:\\anaconda\\lib\\site-packages\\ipykernel_launcher.py:389: DeprecationWarning: Call to deprecated `__getitem__` (Method will be removed in 4.0.0, use self.wv.__getitem__() instead).\n"
     ]
    },
    {
     "name": "stdout",
     "output_type": "stream",
     "text": [
      "#papers  150\n",
      "#authors 483\n",
      "#org_words 158\n",
      "#confs   211\n",
      "walks done\n"
     ]
    },
    {
     "name": "stderr",
     "output_type": "stream",
     "text": [
      "D:\\anaconda\\lib\\site-packages\\ipykernel_launcher.py:54: DeprecationWarning: Call to deprecated `__contains__` (Method will be removed in 4.0.0, use self.wv.__contains__() instead).\n",
      "D:\\anaconda\\lib\\site-packages\\ipykernel_launcher.py:55: DeprecationWarning: Call to deprecated `__getitem__` (Method will be removed in 4.0.0, use self.wv.__getitem__() instead).\n"
     ]
    },
    {
     "name": "stdout",
     "output_type": "stream",
     "text": [
      "walks done\n",
      "walks done\n",
      "walks done\n",
      "walks done\n",
      "walks done\n",
      "walks done\n",
      "walks done\n",
      "walks done\n",
      "walks done\n",
      "{77, 45, 79, 116, 53, 60}\n",
      "[ 0  3  1  0  0  0  7  0  0  0  0  0  0  1  5  0  0  0  0  0  2  0  0  0\n",
      "  0  0  0  0  0  8  0  0  0  0  4  0  0  3  0  0  0  0  0  0  0  9  0  0\n",
      "  0  3  0  1  5 11  0  0  0  2  0  4 12  0  0  0  1  8  3  0  0  4  0  7\n",
      "  3  5  0  0  0 15  0  0  0  0  2  0  0  1  0  0  0  0  0  0  3  0  0  5\n",
      "  0  0  0  0  0  0  0  0  0  5  0  0  0  0  0 19  0  0  0  0 17  0  0  0\n",
      "  2  0  0 18  3  0  0  0  3  3  0  0  0  0 19  0  2  0  4  0  0 20 20 19\n",
      "  0 23  0  0  0  0] 17\n",
      "32 jian_wu 607\n"
     ]
    },
    {
     "name": "stderr",
     "output_type": "stream",
     "text": [
      "D:\\anaconda\\lib\\site-packages\\smart_open\\smart_open_lib.py:398: UserWarning: This function is deprecated, use smart_open.open instead. See the migration notes for details: https://github.com/RaRe-Technologies/smart_open/blob/master/README.rst#migrating-to-the-new-open-function\n",
      "  'See the migration notes for details: %s' % _MIGRATION_NOTES_URL\n",
      "D:\\anaconda\\lib\\site-packages\\ipykernel_launcher.py:388: DeprecationWarning: Call to deprecated `__contains__` (Method will be removed in 4.0.0, use self.wv.__contains__() instead).\n",
      "D:\\anaconda\\lib\\site-packages\\ipykernel_launcher.py:389: DeprecationWarning: Call to deprecated `__getitem__` (Method will be removed in 4.0.0, use self.wv.__getitem__() instead).\n"
     ]
    },
    {
     "name": "stdout",
     "output_type": "stream",
     "text": [
      "#papers  607\n",
      "#authors 585\n",
      "#org_words 100\n",
      "#confs   338\n",
      "walks done\n"
     ]
    },
    {
     "name": "stderr",
     "output_type": "stream",
     "text": [
      "D:\\anaconda\\lib\\site-packages\\ipykernel_launcher.py:54: DeprecationWarning: Call to deprecated `__contains__` (Method will be removed in 4.0.0, use self.wv.__contains__() instead).\n",
      "D:\\anaconda\\lib\\site-packages\\ipykernel_launcher.py:55: DeprecationWarning: Call to deprecated `__getitem__` (Method will be removed in 4.0.0, use self.wv.__getitem__() instead).\n"
     ]
    },
    {
     "name": "stdout",
     "output_type": "stream",
     "text": [
      "walks done\n",
      "walks done\n",
      "walks done\n",
      "walks done\n",
      "walks done\n",
      "walks done\n",
      "walks done\n",
      "walks done\n",
      "walks done\n",
      "{197}\n",
      "[ 0  0  0  1  2  3  3  3  3  3  3  3  3  3  3  3  3  3  3  3  3  3  3  3\n",
      "  3  3  1  1  1  1  4  5  5  3  4  6  6  6  6  7  0  0  0  8  2  3  3  3\n",
      "  3  3  3  3  3  3  3  3  3  3  3  3  3  3  3  3  3  1  5  5  5  4  4  6\n",
      "  6  6  6  6  6  6  0  0  8  8  8  2  2  3  3  3  3  3  3  3  3  3  3  3\n",
      "  3  3  3  3  3  3  3  1  1  9  4  4  4  4  4  4  4  3  3  4  6  6  6  6\n",
      "  6  6  8  0  0  0  0  0  1  1  1  2  2  2  2  2  3  3  3  3  3  3  3  3\n",
      "  3  3  3  3  3  3  3  3  3  1  1  4  4  4  4  4  5  5  5  3  3  4  4  6\n",
      "  6  6  6  6  6  6  6  7  7  8  0  0  0  0  2  2  2  2  2  2  3  3  3  3\n",
      "  3  3  3  3  3  3  3  3  3  3  3  1  1  1  1  9  3  4  6  4  6  6  6  7\n",
      "  7  0  0  0  0  0  0  8  1  1  1  2  2  3  3  3  3  3  3  3  3  3  3  3\n",
      "  3  3  3  3  3  3  3  3  3  3  3  3  1  4  4  4  4  4  4  6  6  4  6  6\n",
      "  0  0  0  8  2  2  2  3  3  3  3  3  3  3  3  3  3  1  1  1  4  4  3  3\n",
      "  4  6  6  6  6  6  6  6  6  6  0  0  0  0  0  0  0  1  3  3  3  3  3  3\n",
      "  3  3  3  3  3  3  3  3  3  3  3  3  3  3  3  1  1  5  3  4  6  6  6  6\n",
      "  6  4  6  6  6  8  0  0  0  0  0  8  1  1  1  2  3  3  3  3  3  3  3  3\n",
      "  3  3  3  3  3  3  3  3  3  3  1  1  1  1  1  9  3  3  4  6  6  6  4  0\n",
      "  0  0  1  1  1  2  2  2  2  3  3  3  3  3  3  3  3  3  3  3  3  3  3  3\n",
      "  3  3  1  1  3  9  9  4  4  4  3  3  4  6  6  6  6  6  4  6  7  0  0  0\n",
      "  0  0  8  2  2  3  3  3  3  3 11  3  3  3  3  3  3  3  3  3  3  3  3  1\n",
      "  3  9  9  4  4  4  4  3  3  4  6  6  4  6  6  7  7  0  0  0  8  8  1  1\n",
      "  2  3  3  3  3  3 11  3  3  3  3  3  3  3  3  3  3  3  3  3  1  1  1  1\n",
      "  1  9  9  4  5  5  3  3  6  6  6  6  6  6  8  0  0  0  8  8  1  2  2  3\n",
      "  3  3  3  3  3  3  3  3  3  3  3  3  3  3  1  1  1  9  9  4  5  5  3  4\n",
      "  4  4  6  6  6  4  0  8  2  3  3  3  3  3  3  3  3  3  3  3  3  3  3  3\n",
      "  3  3  3  3  3  3  3  3  3  3  3  3  3  3  3  1  1  1  1  1  9  4  3  3\n",
      "  4  4  6  6 12  7  8] 12\n",
      "33 li_huang 690\n"
     ]
    },
    {
     "name": "stderr",
     "output_type": "stream",
     "text": [
      "D:\\anaconda\\lib\\site-packages\\smart_open\\smart_open_lib.py:398: UserWarning: This function is deprecated, use smart_open.open instead. See the migration notes for details: https://github.com/RaRe-Technologies/smart_open/blob/master/README.rst#migrating-to-the-new-open-function\n",
      "  'See the migration notes for details: %s' % _MIGRATION_NOTES_URL\n",
      "D:\\anaconda\\lib\\site-packages\\ipykernel_launcher.py:388: DeprecationWarning: Call to deprecated `__contains__` (Method will be removed in 4.0.0, use self.wv.__contains__() instead).\n",
      "D:\\anaconda\\lib\\site-packages\\ipykernel_launcher.py:389: DeprecationWarning: Call to deprecated `__getitem__` (Method will be removed in 4.0.0, use self.wv.__getitem__() instead).\n"
     ]
    },
    {
     "name": "stdout",
     "output_type": "stream",
     "text": [
      "#papers  690\n",
      "#authors 1740\n",
      "#org_words 311\n",
      "#confs   641\n",
      "walks done\n"
     ]
    },
    {
     "name": "stderr",
     "output_type": "stream",
     "text": [
      "D:\\anaconda\\lib\\site-packages\\ipykernel_launcher.py:54: DeprecationWarning: Call to deprecated `__contains__` (Method will be removed in 4.0.0, use self.wv.__contains__() instead).\n",
      "D:\\anaconda\\lib\\site-packages\\ipykernel_launcher.py:55: DeprecationWarning: Call to deprecated `__getitem__` (Method will be removed in 4.0.0, use self.wv.__getitem__() instead).\n"
     ]
    },
    {
     "name": "stdout",
     "output_type": "stream",
     "text": [
      "walks done\n",
      "walks done\n",
      "walks done\n",
      "walks done\n",
      "walks done\n",
      "walks done\n",
      "walks done\n",
      "walks done\n",
      "walks done\n",
      "{0, 416, 641, 323, 100, 273, 118, 599, 408, 252, 638}\n",
      "[ 36   0   0   2   1   2   1   3  37   0   4   5  38   1   6   6  26   7\n",
      "   8   8   1   1   9  23   1   1   0   2   0  10   3  39   2   0   4  11\n",
      "   1   6   8  11  11  20  12  13  40  28   1   0  41  42  14  15   2   2\n",
      "  43   1   8  24   2  15  32  12  16  17  18   0   0   0  19   0   1   1\n",
      "   2   6   6   6   6   1   4   7   7   8   0   0  12   6  28   1  44  19\n",
      "  15  10   4  34   6   7   2  45  20   0  46   9   1   0   0   1  41   0\n",
      "   0  21   2   4   2   8  22  17  17   6  48  23  13  13   1  18   1   6\n",
      "   0  15   2   2   2  10   2   0  49   6   1  50   6   6  51  21   8   7\n",
      "  24  25   8   0   6   1   1   2  53  15  10  12  54   2   2   6   1   1\n",
      "   1   1   7  26   2  22   0   0   2   1  27   1   6   2  27   1   6   2\n",
      "   7  33 113   2   2 125  10 108  17  32   1   1   1  28  29 108  15   1\n",
      "   1   2 111  10  11   1   1   1   6   6   6  30   7   7   2 125  16   1\n",
      "  18  44   1   1   1   2  31   4   6   4  51  63  32   7  33 113  22  26\n",
      "   0   1   1  32  23  68  13   1 108  15   0   1   0   5   5   6  38  30\n",
      "   8   0  29  29  13   0   1   2  42   1  15  10  10  32  71   4   2 113\n",
      "  33   8  24  73  22  22  12   1  41  19  75  32 107   1   6  38 108   4\n",
      "   4   7  10  78   8   1  32   9   2   0   1  15  14   2 111  15  27   4\n",
      "   8   8  24  25  20   0  30   1   1  17 108  24   6   1  27  23  34  80\n",
      "   1   6   7   7  33  26  20   0   8   9   6   0   0   1   1   1   0   2\n",
      "   2   4   1  71   4  51   4  83   9  25 108   0  12   8   1  24   6   1\n",
      "   1  42   2  15   0  15  10   3  31   2  10   1   6  51   7   7  33  24\n",
      "  10  11   0   1   9  13  18   6   6   1   0   3  10   6   1   5   4  33\n",
      "  43  22  12   6   6   0  87  14  88  27   6   6  89 108   4 113   2   2\n",
      " 119  12  91  28   6   2   2   4   4  34  93   6   1   6  94  24  16  30\n",
      "  17  13   2   2  24  19  15  10   2  10   2  23  34  12  23   7   7  22\n",
      "   0   1  17  18  28  29   6   2   1   2   0   0   0  10  97  11 108  50\n",
      "  32   7  33 113   2  22  22  11  99   1   9  23   0   1 108  14   2   1\n",
      "   6  12   7  43  24  12   1  17 114   1   2 108 108  15  15   2   0   2\n",
      "   6   8   8  10  27  12  22  22  25  25 106  23  13  28  29  13   1  14\n",
      "  15 107  15   6   1 108   2  32  11 109   1  32   6   1   1   0   2   2\n",
      " 111  21  11  34   8   6   4 112   7 113  26  15   7  24   0   0   1  17\n",
      "  18   0   2  10   0   2   7  33  24   8 114  23  28   1  14   2   1   1\n",
      "  10   2   2   0   6   6   2  26  11  11  20   0   1   1   2  15  14   0\n",
      "   1  31  23   1   1 115   1   2   7   7   7   7   8  15 116  24  24  24\n",
      "  16  12   8  17   6   2  10  31   0  15  11   6   1  24   2  26 119  24\n",
      "  26  12 120  30   1   1   1  18 121  10   1 122   3   1   2  27   4   2\n",
      "  37  22 124  25  13  11  16   6  20  23   1  29   2  15  10   1  10  21\n",
      "  23   6   4   2  33 113 125  24   7  24  37   4   2  11   1   6  33  24\n",
      "  11 119   0   8  29   7] 84\n",
      "34 shiyong_liu 261\n"
     ]
    },
    {
     "name": "stderr",
     "output_type": "stream",
     "text": [
      "D:\\anaconda\\lib\\site-packages\\smart_open\\smart_open_lib.py:398: UserWarning: This function is deprecated, use smart_open.open instead. See the migration notes for details: https://github.com/RaRe-Technologies/smart_open/blob/master/README.rst#migrating-to-the-new-open-function\n",
      "  'See the migration notes for details: %s' % _MIGRATION_NOTES_URL\n",
      "D:\\anaconda\\lib\\site-packages\\ipykernel_launcher.py:388: DeprecationWarning: Call to deprecated `__contains__` (Method will be removed in 4.0.0, use self.wv.__contains__() instead).\n",
      "D:\\anaconda\\lib\\site-packages\\ipykernel_launcher.py:389: DeprecationWarning: Call to deprecated `__getitem__` (Method will be removed in 4.0.0, use self.wv.__getitem__() instead).\n"
     ]
    },
    {
     "name": "stdout",
     "output_type": "stream",
     "text": [
      "#papers  261\n",
      "#authors 401\n",
      "#org_words 80\n",
      "#confs   143\n",
      "walks done\n"
     ]
    },
    {
     "name": "stderr",
     "output_type": "stream",
     "text": [
      "D:\\anaconda\\lib\\site-packages\\ipykernel_launcher.py:54: DeprecationWarning: Call to deprecated `__contains__` (Method will be removed in 4.0.0, use self.wv.__contains__() instead).\n",
      "D:\\anaconda\\lib\\site-packages\\ipykernel_launcher.py:55: DeprecationWarning: Call to deprecated `__getitem__` (Method will be removed in 4.0.0, use self.wv.__getitem__() instead).\n"
     ]
    },
    {
     "name": "stdout",
     "output_type": "stream",
     "text": [
      "walks done\n",
      "walks done\n",
      "walks done\n",
      "walks done\n",
      "walks done\n",
      "walks done\n",
      "walks done\n",
      "walks done\n",
      "walks done\n",
      "{23}\n",
      "[0 0 0 0 0 0 0 0 0 0 0 0 0 0 0 0 0 0 0 0 0 0 0 0 1 1 1 1 1 1 1 1 1 1 1 1 1\n",
      " 1 1 1 1 1 1 1 1 1 1 1 1 1 1 2 2 0 0 0 0 0 0 0 0 0 0 0 0 0 0 0 0 0 0 0 3 1\n",
      " 1 1 1 1 1 1 1 1 1 1 1 1 1 1 1 1 1 1 1 1 1 1 1 1 1 1 1 1 1 1 2 2 2 2 2 0 0\n",
      " 0 0 0 0 0 0 0 0 0 0 0 0 0 0 0 0 0 0 3 1 1 1 1 1 1 1 1 1 1 1 1 1 1 1 1 1 1\n",
      " 1 1 1 1 1 1 1 1 1 1 2 2 0 0 0 0 0 0 0 0 0 0 0 0 0 0 0 0 0 0 0 0 0 0 3 1 1\n",
      " 1 1 1 1 1 1 1 1 1 1 1 1 1 1 1 1 1 1 2 2 2 2 0 0 0 0 0 0 0 0 0 0 0 0 0 0 0\n",
      " 0 0 0 0 0 0 0 3 3 1 1 1 1 1 1 1 1 1 1 1 1 1 1 1 1 1 1 1 1 1 1 1 1 1 1 1 2\n",
      " 2 2] 4\n",
      "35 ke_xu 529\n"
     ]
    },
    {
     "name": "stderr",
     "output_type": "stream",
     "text": [
      "D:\\anaconda\\lib\\site-packages\\smart_open\\smart_open_lib.py:398: UserWarning: This function is deprecated, use smart_open.open instead. See the migration notes for details: https://github.com/RaRe-Technologies/smart_open/blob/master/README.rst#migrating-to-the-new-open-function\n",
      "  'See the migration notes for details: %s' % _MIGRATION_NOTES_URL\n",
      "D:\\anaconda\\lib\\site-packages\\ipykernel_launcher.py:388: DeprecationWarning: Call to deprecated `__contains__` (Method will be removed in 4.0.0, use self.wv.__contains__() instead).\n",
      "D:\\anaconda\\lib\\site-packages\\ipykernel_launcher.py:389: DeprecationWarning: Call to deprecated `__getitem__` (Method will be removed in 4.0.0, use self.wv.__getitem__() instead).\n"
     ]
    },
    {
     "name": "stdout",
     "output_type": "stream",
     "text": [
      "#papers  529\n",
      "#authors 701\n",
      "#org_words 56\n",
      "#confs   397\n",
      "walks done\n"
     ]
    },
    {
     "name": "stderr",
     "output_type": "stream",
     "text": [
      "D:\\anaconda\\lib\\site-packages\\ipykernel_launcher.py:54: DeprecationWarning: Call to deprecated `__contains__` (Method will be removed in 4.0.0, use self.wv.__contains__() instead).\n",
      "D:\\anaconda\\lib\\site-packages\\ipykernel_launcher.py:55: DeprecationWarning: Call to deprecated `__getitem__` (Method will be removed in 4.0.0, use self.wv.__getitem__() instead).\n"
     ]
    },
    {
     "name": "stdout",
     "output_type": "stream",
     "text": [
      "walks done\n",
      "walks done\n",
      "walks done\n",
      "walks done\n",
      "walks done\n",
      "walks done\n",
      "walks done\n",
      "walks done\n",
      "walks done\n",
      "{241, 77, 78}\n",
      "[0 0 1 1 1 1 1 1 1 1 1 2 2 2 2 2 3 3 3 3 1 2 2 2 2 4 5 5 5 5 5 5 5 5 5 5 5\n",
      " 5 5 5 5 5 5 5 5 5 5 5 5 5 5 5 5 5 1 0 0 0 0 0 1 1 1 1 1 1 1 1 1 1 1 1 1 1\n",
      " 1 1 1 7 8 2 2 2 2 2 2 3 3 3 3 3 1 2 2 4 4 5 5 5 5 5 5 5 5 5 5 5 5 5 5 5 5\n",
      " 5 1 0 1 1 1 1 1 1 1 1 1 1 1 1 2 2 2 2 3 3 3 1 2 2 2 4 4 4 4 5 5 5 5 5 5 5\n",
      " 5 5 5 5 5 5 5 5 5 5 5 5 5 5 5 5 5 0 0 1 1 1 1 1 1 1 1 1 1 1 1 1 1 1 1 1 1\n",
      " 2 2 2 2 3 1 1 4 4 4 5 5 5 5 5 5 5 5 5 5 5 5 5 5 5 5 5 5 5 5 5 5 5 5 5 5 5\n",
      " 0 0 1 1 1 1 1 1 1 1 1 1 1 1 1 1 1 1 1 9 2 2 3 3 3 3 3 1 2 4 5 5 5 5 5 5 5\n",
      " 5 5 5 5 5 5 5 5 5 5 5 5 5 5 5 5 5 5 5 0 0 0 1 1 1 1 1 1 1 1 1 1 1 1 1 1 2\n",
      " 1 1 1 2 2 2 2 2 2 2 3 3 2 4 5 5 5 5 5 5 5 5 5 5 5 5 5 5 5 5 5 0 0 0 1 1 1\n",
      " 1 1 1 1 1 1 1 1 1 1 1 1 2 2 2 2 3 3 3 3 1 1 1 1 2 4 5 5 5 5 5 5 5 5 5 5 5\n",
      " 5 5 5 5 1 0 0 0 1 1 1 1 1 1 1 1 1 1 1 1 1 2 2 2 2 2 3 3 3 4 4 4 5 5 5 5 5\n",
      " 5 5 5 5 5 5 5 5 5 5 5 0 0 1 1 1 1 1 1 1 1 1 1 1 1 1 1 2 2 2 2 2 3 1 2 4 5\n",
      " 5 5 5 5 5 5 5 5 5 5 5 5 5 5 5 5 5 5 5 5 5 5 5 5 1 1 0 0 1 1 1 1 1 1 1 1 1\n",
      " 1 1 1 1 1 2 2 2 2 2 2 2 2 2 2 2 3 1 2 2 2 4 5 5 5 5 5 5 5 5 5 5 5 5 5 5 5\n",
      " 5 5 5 5 5 5 1 5 5 5 5] 9\n",
      "36 min_yang 1640\n"
     ]
    },
    {
     "name": "stderr",
     "output_type": "stream",
     "text": [
      "D:\\anaconda\\lib\\site-packages\\smart_open\\smart_open_lib.py:398: UserWarning: This function is deprecated, use smart_open.open instead. See the migration notes for details: https://github.com/RaRe-Technologies/smart_open/blob/master/README.rst#migrating-to-the-new-open-function\n",
      "  'See the migration notes for details: %s' % _MIGRATION_NOTES_URL\n",
      "D:\\anaconda\\lib\\site-packages\\ipykernel_launcher.py:388: DeprecationWarning: Call to deprecated `__contains__` (Method will be removed in 4.0.0, use self.wv.__contains__() instead).\n",
      "D:\\anaconda\\lib\\site-packages\\ipykernel_launcher.py:389: DeprecationWarning: Call to deprecated `__getitem__` (Method will be removed in 4.0.0, use self.wv.__getitem__() instead).\n"
     ]
    },
    {
     "name": "stdout",
     "output_type": "stream",
     "text": [
      "#papers  1640\n",
      "#authors 3338\n",
      "#org_words 504\n",
      "#confs   1033\n",
      "walks done\n"
     ]
    },
    {
     "name": "stderr",
     "output_type": "stream",
     "text": [
      "D:\\anaconda\\lib\\site-packages\\ipykernel_launcher.py:54: DeprecationWarning: Call to deprecated `__contains__` (Method will be removed in 4.0.0, use self.wv.__contains__() instead).\n",
      "D:\\anaconda\\lib\\site-packages\\ipykernel_launcher.py:55: DeprecationWarning: Call to deprecated `__getitem__` (Method will be removed in 4.0.0, use self.wv.__getitem__() instead).\n"
     ]
    },
    {
     "name": "stdout",
     "output_type": "stream",
     "text": [
      "walks done\n",
      "walks done\n",
      "walks done\n",
      "walks done\n",
      "walks done\n",
      "walks done\n",
      "walks done\n",
      "walks done\n",
      "walks done\n",
      "{1154, 1155, 1028, 773, 765, 266, 1420, 781, 146, 1554, 1437, 165, 40, 429, 690, 1330, 1458, 834, 1476, 582, 72, 842, 203, 1102, 209, 593, 86, 729, 478, 608, 226, 1507, 1635, 1125, 104, 243, 1268, 757, 374, 763, 509}\n",
      "[66  0  0 ... 28  7  7] 141\n",
      "37 lei_wu 752\n"
     ]
    },
    {
     "name": "stderr",
     "output_type": "stream",
     "text": [
      "D:\\anaconda\\lib\\site-packages\\smart_open\\smart_open_lib.py:398: UserWarning: This function is deprecated, use smart_open.open instead. See the migration notes for details: https://github.com/RaRe-Technologies/smart_open/blob/master/README.rst#migrating-to-the-new-open-function\n",
      "  'See the migration notes for details: %s' % _MIGRATION_NOTES_URL\n",
      "D:\\anaconda\\lib\\site-packages\\ipykernel_launcher.py:388: DeprecationWarning: Call to deprecated `__contains__` (Method will be removed in 4.0.0, use self.wv.__contains__() instead).\n",
      "D:\\anaconda\\lib\\site-packages\\ipykernel_launcher.py:389: DeprecationWarning: Call to deprecated `__getitem__` (Method will be removed in 4.0.0, use self.wv.__getitem__() instead).\n"
     ]
    },
    {
     "name": "stdout",
     "output_type": "stream",
     "text": [
      "#papers  752\n",
      "#authors 1534\n",
      "#org_words 352\n",
      "#confs   726\n",
      "walks done\n"
     ]
    },
    {
     "name": "stderr",
     "output_type": "stream",
     "text": [
      "D:\\anaconda\\lib\\site-packages\\ipykernel_launcher.py:54: DeprecationWarning: Call to deprecated `__contains__` (Method will be removed in 4.0.0, use self.wv.__contains__() instead).\n",
      "D:\\anaconda\\lib\\site-packages\\ipykernel_launcher.py:55: DeprecationWarning: Call to deprecated `__getitem__` (Method will be removed in 4.0.0, use self.wv.__getitem__() instead).\n"
     ]
    },
    {
     "name": "stdout",
     "output_type": "stream",
     "text": [
      "walks done\n",
      "walks done\n",
      "walks done\n",
      "walks done\n",
      "walks done\n",
      "walks done\n",
      "walks done\n",
      "walks done\n",
      "walks done\n",
      "{387, 389, 266, 653, 22, 31, 166, 429, 60, 574, 447, 703, 581, 326, 709, 458, 336, 721, 85, 343, 222, 615, 362, 239, 495}\n",
      "[ 47  11  11   0   1   6   2   3   4   5   6  48   7  11   8   9  10  11\n",
      "  12  47  13  14  50   6   2  15  45  44  51   7  11  52  11  16   6  17\n",
      "   3  53  18  36  10  19  11  13  13  54   0   0   1   1  17   2   6   5\n",
      "   6  20  20  21  11  36  56  36   8   8  22   8  11  23  16   1   5   3\n",
      "  24  25  11  15  42  11  11  39  11  13  14   1   1  58   3  48   6  11\n",
      "  15  39  51  41  19  26  27  12  28  29  11  11   2   3   6 124  17  17\n",
      "  61  15  42   9  10  11  28  11   0  16   3  11 118  11  30  38  11  31\n",
      "  23  23  63   0  32  14   5   6   3   2  17   3   6  30  21  21  18  11\n",
      " 129  53  33  33  10  11  29  28  11   1 123  25  67   1  21  18  19  26\n",
      "   8  34  29  68  11   1   6  11  35  17  11  21  39  36   8  11   9   9\n",
      "  22  23  23  32 125   6   6   6   6   8  15  71 134  11  12  12   8  26\n",
      "   9  18  10  34  31  28  11  32   1  22  15   6   6   7  11   1   6  36\n",
      "  53  33  10   7  23   0  73   6   1 139   3   3  40  20  21  18  44   8\n",
      " 140  11  11  23  32  76   6   5  77  25   4  25  15  30  20  71  18  11\n",
      "  23   8 129  33  37  31  14   1   1   6   6   6   6  35  80  51  21  44\n",
      "  38   8   8  39  10  12  12  29   0  16   5   6   5   1  20  21  42  11\n",
      "   8  39  19  23  11  11   0  32   5   2   1  18   8  43  27  13  11   0\n",
      "   1   2   6   6  83  30  84 116  11   7  37   8  10  31  16   1  14   5\n",
      "   5   6  86   4   6   6   6   0  38   9  14  10  23  23  31   0  32  14\n",
      "   4  87  24   6   6  35  34  11  40  20  21  19  36  53  19  34  11  23\n",
      "  33   6  89  35   4  45  15  21 131  41  36 137  11   8  11   9   9   9\n",
      "   8  94  11   6   3   4  67   9  33  96  28  97  45   6 126   1  30  40\n",
      "  40  21   6  21  18  12   8  14  43  43  28  33  32  14   1   6  21  15\n",
      "  15  15  15  12  42  19   8  33  33  10  19  11  54  32   3 100 123   5\n",
      "  25  41  42  12  11   9  22  37  27  28 102  32 139 139   5 105   5   6\n",
      "   3  17  11  67  15  41  41  13  11  32  11  16   1   6  11   1  18  18\n",
      "  36 137   7  39  37  34  63  32 109   1   1   6  11   6   6  11  11  30\n",
      "  30   8  11  33  10  27  63  13  32 112  19   6   5   6  25  40  18  22\n",
      "  11  12  11 113 114  22   6   6   3   6  21   4  35  30  20  21  41   8\n",
      "  33  33  27  11  11  11   0  32   1   3   2 115   4   6  25  15  30  11\n",
      "   9   9  14  22  10  11   0   5  24   2  24   6  15  20  21  18 116  36\n",
      " 117   8  26   9  39  22  10  11  32 118  15  30  40  18  11  12 120   8\n",
      "   8  11 121  14   6 122   4  21  18  44  11   8   9   7   0  10   6  17\n",
      "   6 123 124  15  21  21  36  19  19   9  11  14 125   6   6   6   0 126\n",
      "   1  30  20 127  45 117  12 129  14  43  32   1   3 123  11  30  40 131\n",
      "  41  41 132   9  53   7  10  34  27  32 134   6   4   6   1  15  30  30\n",
      "  40  20  21  44  11 136  32  18  44  41  19 137  39  27 138 139   6   3\n",
      "  11  11  15  39  40  20  38  12   8  33 140   7   7  37  19  14   1   6\n",
      "  43   6 141  21  18   8  11   9  22  27  14   3   3  45  25  11  11 143\n",
      "  19 144   1   1   1   6   4 145  25  11  18  36  42 146   6   6   5   5\n",
      "   4 147   6   6  21  21  44  38   8  33  14  22 146   6   6   3   5  45\n",
      "   4   6   2   2  18  51  42   8   8  53  33  33 140  27] 106\n",
      "38 jie_zhou 1517\n"
     ]
    },
    {
     "name": "stderr",
     "output_type": "stream",
     "text": [
      "D:\\anaconda\\lib\\site-packages\\smart_open\\smart_open_lib.py:398: UserWarning: This function is deprecated, use smart_open.open instead. See the migration notes for details: https://github.com/RaRe-Technologies/smart_open/blob/master/README.rst#migrating-to-the-new-open-function\n",
      "  'See the migration notes for details: %s' % _MIGRATION_NOTES_URL\n",
      "D:\\anaconda\\lib\\site-packages\\ipykernel_launcher.py:388: DeprecationWarning: Call to deprecated `__contains__` (Method will be removed in 4.0.0, use self.wv.__contains__() instead).\n",
      "D:\\anaconda\\lib\\site-packages\\ipykernel_launcher.py:389: DeprecationWarning: Call to deprecated `__getitem__` (Method will be removed in 4.0.0, use self.wv.__getitem__() instead).\n"
     ]
    },
    {
     "name": "stdout",
     "output_type": "stream",
     "text": [
      "#papers  1517\n",
      "#authors 3307\n",
      "#org_words 479\n",
      "#confs   1041\n",
      "walks done\n"
     ]
    },
    {
     "name": "stderr",
     "output_type": "stream",
     "text": [
      "D:\\anaconda\\lib\\site-packages\\ipykernel_launcher.py:54: DeprecationWarning: Call to deprecated `__contains__` (Method will be removed in 4.0.0, use self.wv.__contains__() instead).\n",
      "D:\\anaconda\\lib\\site-packages\\ipykernel_launcher.py:55: DeprecationWarning: Call to deprecated `__getitem__` (Method will be removed in 4.0.0, use self.wv.__getitem__() instead).\n"
     ]
    },
    {
     "name": "stdout",
     "output_type": "stream",
     "text": [
      "walks done\n",
      "walks done\n",
      "walks done\n",
      "walks done\n",
      "walks done\n",
      "walks done\n",
      "walks done\n",
      "walks done\n",
      "walks done\n",
      "{608, 1184, 226, 1304, 740, 968, 361, 364, 77, 623, 17, 1393, 595, 631, 1086, 58, 987, 413, 94, 1279}\n",
      "[62  0  0 ... 26 17 57] 130\n",
      "39 zhang_lei 133\n"
     ]
    },
    {
     "name": "stderr",
     "output_type": "stream",
     "text": [
      "D:\\anaconda\\lib\\site-packages\\smart_open\\smart_open_lib.py:398: UserWarning: This function is deprecated, use smart_open.open instead. See the migration notes for details: https://github.com/RaRe-Technologies/smart_open/blob/master/README.rst#migrating-to-the-new-open-function\n",
      "  'See the migration notes for details: %s' % _MIGRATION_NOTES_URL\n",
      "D:\\anaconda\\lib\\site-packages\\ipykernel_launcher.py:388: DeprecationWarning: Call to deprecated `__contains__` (Method will be removed in 4.0.0, use self.wv.__contains__() instead).\n",
      "D:\\anaconda\\lib\\site-packages\\ipykernel_launcher.py:389: DeprecationWarning: Call to deprecated `__getitem__` (Method will be removed in 4.0.0, use self.wv.__getitem__() instead).\n"
     ]
    },
    {
     "name": "stdout",
     "output_type": "stream",
     "text": [
      "#papers  133\n",
      "#authors 286\n",
      "#org_words 88\n",
      "#confs   264\n",
      "walks done\n",
      "walks done\n"
     ]
    },
    {
     "name": "stderr",
     "output_type": "stream",
     "text": [
      "D:\\anaconda\\lib\\site-packages\\ipykernel_launcher.py:54: DeprecationWarning: Call to deprecated `__contains__` (Method will be removed in 4.0.0, use self.wv.__contains__() instead).\n",
      "D:\\anaconda\\lib\\site-packages\\ipykernel_launcher.py:55: DeprecationWarning: Call to deprecated `__getitem__` (Method will be removed in 4.0.0, use self.wv.__getitem__() instead).\n"
     ]
    },
    {
     "name": "stdout",
     "output_type": "stream",
     "text": [
      "walks done\n",
      "walks done\n",
      "walks done\n",
      "walks done\n",
      "walks done\n",
      "walks done\n",
      "walks done\n",
      "walks done\n",
      "{64, 97, 129, 35, 100, 37, 102, 7, 72, 9, 10, 75, 76, 92, 24, 59, 60, 125}\n",
      "[ 0  0  0  0  0  1  1  3  0  4  5  0  0  0  0  0  0  0  0  0  0  0  0  0\n",
      "  6  0  0  0  0  0  0  0  0  0  0  7  0  8  0  1  1  1  0  0  0  0  0  0\n",
      "  1  1  0  0  0  0  0  0  0  0  0  9 10  0  0  0 11  0  0  0  0  0  0  0\n",
      " 12  0  0 13 14  0  0  0  0  0  0  0  0  0  0  1  1  1  1  1 15  0  0  0\n",
      "  0 16  0  0 17  0  7  0  1  0  0  0  0  0  0  0  0  0  0  0  1  0  0  0\n",
      "  0  0  0  0  0 18  1  1  1 19  0  0  0] 19\n",
      "40 h_y_wang 95\n"
     ]
    },
    {
     "name": "stderr",
     "output_type": "stream",
     "text": [
      "D:\\anaconda\\lib\\site-packages\\smart_open\\smart_open_lib.py:398: UserWarning: This function is deprecated, use smart_open.open instead. See the migration notes for details: https://github.com/RaRe-Technologies/smart_open/blob/master/README.rst#migrating-to-the-new-open-function\n",
      "  'See the migration notes for details: %s' % _MIGRATION_NOTES_URL\n",
      "D:\\anaconda\\lib\\site-packages\\ipykernel_launcher.py:388: DeprecationWarning: Call to deprecated `__contains__` (Method will be removed in 4.0.0, use self.wv.__contains__() instead).\n",
      "D:\\anaconda\\lib\\site-packages\\ipykernel_launcher.py:389: DeprecationWarning: Call to deprecated `__getitem__` (Method will be removed in 4.0.0, use self.wv.__getitem__() instead).\n",
      "D:\\anaconda\\lib\\site-packages\\ipykernel_launcher.py:54: DeprecationWarning: Call to deprecated `__contains__` (Method will be removed in 4.0.0, use self.wv.__contains__() instead).\n",
      "D:\\anaconda\\lib\\site-packages\\ipykernel_launcher.py:55: DeprecationWarning: Call to deprecated `__getitem__` (Method will be removed in 4.0.0, use self.wv.__getitem__() instead).\n"
     ]
    },
    {
     "name": "stdout",
     "output_type": "stream",
     "text": [
      "#papers  95\n",
      "#authors 240\n",
      "#org_words 34\n",
      "#confs   87\n",
      "walks done\n",
      "walks done\n",
      "walks done\n",
      "walks done\n",
      "walks done\n",
      "walks done\n",
      "walks done\n",
      "walks done\n",
      "walks done\n",
      "walks done\n",
      "{92, 38}\n",
      "[0 0 1 1 1 2 2 2 2 1 0 2 2 2 2 2 2 2 2 2 2 6 1 1 1 0 1 2 2 2 2 2 0 2 2 2 2\n",
      " 2 5 1 1 2 2 2 2 2 2 2 2 2 2 1 1 2 2 2 2 2 2 2 2 1 1 1 2 2 2 2 2 2 2 2 2 2\n",
      " 2 1 1 2 2 2 2 2 2 6 1 1 2 2 2 2 2 2 7 2 2] 6\n",
      "41 qing_li 1287\n"
     ]
    },
    {
     "name": "stderr",
     "output_type": "stream",
     "text": [
      "D:\\anaconda\\lib\\site-packages\\smart_open\\smart_open_lib.py:398: UserWarning: This function is deprecated, use smart_open.open instead. See the migration notes for details: https://github.com/RaRe-Technologies/smart_open/blob/master/README.rst#migrating-to-the-new-open-function\n",
      "  'See the migration notes for details: %s' % _MIGRATION_NOTES_URL\n",
      "D:\\anaconda\\lib\\site-packages\\ipykernel_launcher.py:388: DeprecationWarning: Call to deprecated `__contains__` (Method will be removed in 4.0.0, use self.wv.__contains__() instead).\n",
      "D:\\anaconda\\lib\\site-packages\\ipykernel_launcher.py:389: DeprecationWarning: Call to deprecated `__getitem__` (Method will be removed in 4.0.0, use self.wv.__getitem__() instead).\n"
     ]
    },
    {
     "name": "stdout",
     "output_type": "stream",
     "text": [
      "#papers  1287\n",
      "#authors 2197\n",
      "#org_words 574\n",
      "#confs   815\n",
      "walks done\n"
     ]
    },
    {
     "name": "stderr",
     "output_type": "stream",
     "text": [
      "D:\\anaconda\\lib\\site-packages\\ipykernel_launcher.py:54: DeprecationWarning: Call to deprecated `__contains__` (Method will be removed in 4.0.0, use self.wv.__contains__() instead).\n",
      "D:\\anaconda\\lib\\site-packages\\ipykernel_launcher.py:55: DeprecationWarning: Call to deprecated `__getitem__` (Method will be removed in 4.0.0, use self.wv.__getitem__() instead).\n"
     ]
    },
    {
     "name": "stdout",
     "output_type": "stream",
     "text": [
      "walks done\n",
      "walks done\n",
      "walks done\n",
      "walks done\n",
      "walks done\n",
      "walks done\n",
      "walks done\n",
      "walks done\n",
      "walks done\n",
      "{993, 579, 389, 1065, 1101, 658, 1043, 436, 180, 1179, 862}\n",
      "[ 0  0  0 ... 11 11 13] 68\n",
      "42 d_wang 517\n"
     ]
    },
    {
     "name": "stderr",
     "output_type": "stream",
     "text": [
      "D:\\anaconda\\lib\\site-packages\\smart_open\\smart_open_lib.py:398: UserWarning: This function is deprecated, use smart_open.open instead. See the migration notes for details: https://github.com/RaRe-Technologies/smart_open/blob/master/README.rst#migrating-to-the-new-open-function\n",
      "  'See the migration notes for details: %s' % _MIGRATION_NOTES_URL\n",
      "D:\\anaconda\\lib\\site-packages\\ipykernel_launcher.py:388: DeprecationWarning: Call to deprecated `__contains__` (Method will be removed in 4.0.0, use self.wv.__contains__() instead).\n",
      "D:\\anaconda\\lib\\site-packages\\ipykernel_launcher.py:389: DeprecationWarning: Call to deprecated `__getitem__` (Method will be removed in 4.0.0, use self.wv.__getitem__() instead).\n"
     ]
    },
    {
     "name": "stdout",
     "output_type": "stream",
     "text": [
      "#papers  516\n",
      "#authors 7492\n",
      "#org_words 44\n",
      "#confs   77\n",
      "walks done\n"
     ]
    },
    {
     "name": "stderr",
     "output_type": "stream",
     "text": [
      "D:\\anaconda\\lib\\site-packages\\ipykernel_launcher.py:54: DeprecationWarning: Call to deprecated `__contains__` (Method will be removed in 4.0.0, use self.wv.__contains__() instead).\n",
      "D:\\anaconda\\lib\\site-packages\\ipykernel_launcher.py:55: DeprecationWarning: Call to deprecated `__getitem__` (Method will be removed in 4.0.0, use self.wv.__getitem__() instead).\n"
     ]
    },
    {
     "name": "stdout",
     "output_type": "stream",
     "text": [
      "walks done\n",
      "walks done\n",
      "walks done\n",
      "walks done\n",
      "walks done\n",
      "walks done\n",
      "walks done\n",
      "walks done\n",
      "walks done\n",
      "{196}\n",
      "[0 0 0 1 1 1 1 2 2 2 2 2 2 2 2 2 2 2 2 2 2 2 2 2 2 2 2 2 2 2 2 2 2 2 2 2 2\n",
      " 2 2 2 2 2 2 2 2 2 2 2 2 2 2 2 2 2 2 2 2 2 2 2 2 2 2 2 2 2 2 2 2 2 2 2 2 2\n",
      " 2 2 2 2 2 2 2 2 2 2 2 2 2 2 2 2 2 2 2 2 2 2 2 2 3 3 3 0 0 0 0 1 1 1 4 2 2\n",
      " 2 2 2 2 2 2 2 2 2 2 2 2 2 2 2 2 2 2 2 2 2 2 2 2 2 2 2 2 2 2 2 2 2 2 2 2 2\n",
      " 2 2 2 2 2 2 2 2 2 2 2 2 2 2 2 2 2 2 2 2 2 2 2 2 2 2 2 2 2 2 2 2 2 2 2 2 2\n",
      " 2 2 3 3 3 0 0 1 1 1 1 6 4 4 4 2 2 2 2 2 2 2 2 2 2 2 2 2 2 2 2 2 2 2 2 2 2\n",
      " 2 2 2 2 2 2 2 2 2 2 2 2 2 2 2 2 2 2 2 2 2 2 2 2 2 2 2 2 2 2 2 2 2 2 2 2 2\n",
      " 2 2 2 2 2 2 2 2 2 2 2 2 2 2 2 2 2 2 2 2 2 2 2 2 2 2 2 2 2 2 2 2 0 1 1 1 1\n",
      " 4 4 2 2 2 2 2 2 2 2 2 2 2 2 2 2 2 2 2 2 2 2 2 2 2 2 2 2 2 2 2 2 2 2 2 2 2\n",
      " 2 2 2 2 2 2 2 2 2 2 2 2 2 2 2 2 2 2 2 2 2 2 2 2 2 2 2 2 2 2 2 2 2 2 2 2 2\n",
      " 2 2 2 2 2 2 2 2 2 2 2 2 2 2 2 2 2 2 2 2 2 2 2 3 3 3 1 1 1 1 1 4 4 2 2 2 2\n",
      " 2 2 2 2 2 2 2 2 2 2 2 2 2 2 2 2 2 2 2 2 2 2 2 2 2 2 2 2 2 2 2 2 2 2 2 2 2\n",
      " 2 2 2 2 2 2 2 2 2 2 2 2 2 2 2 2 2 2 2 2 2 2 2 2 2 2 2 2 2 2 2 2 2 2 2 2 2\n",
      " 2 2 2 2 2 2 2 2 2 2 2 2 2 2 2 2 2 2 2 2 2 2 2 2 2 2 2 2 2 2 2 2 2 2 2 2] 6\n",
      "43 hongsheng_chen 295\n"
     ]
    },
    {
     "name": "stderr",
     "output_type": "stream",
     "text": [
      "D:\\anaconda\\lib\\site-packages\\smart_open\\smart_open_lib.py:398: UserWarning: This function is deprecated, use smart_open.open instead. See the migration notes for details: https://github.com/RaRe-Technologies/smart_open/blob/master/README.rst#migrating-to-the-new-open-function\n",
      "  'See the migration notes for details: %s' % _MIGRATION_NOTES_URL\n",
      "D:\\anaconda\\lib\\site-packages\\ipykernel_launcher.py:388: DeprecationWarning: Call to deprecated `__contains__` (Method will be removed in 4.0.0, use self.wv.__contains__() instead).\n",
      "D:\\anaconda\\lib\\site-packages\\ipykernel_launcher.py:389: DeprecationWarning: Call to deprecated `__getitem__` (Method will be removed in 4.0.0, use self.wv.__getitem__() instead).\n"
     ]
    },
    {
     "name": "stdout",
     "output_type": "stream",
     "text": [
      "#papers  295\n",
      "#authors 517\n",
      "#org_words 177\n",
      "#confs   221\n",
      "walks done\n"
     ]
    },
    {
     "name": "stderr",
     "output_type": "stream",
     "text": [
      "D:\\anaconda\\lib\\site-packages\\ipykernel_launcher.py:54: DeprecationWarning: Call to deprecated `__contains__` (Method will be removed in 4.0.0, use self.wv.__contains__() instead).\n",
      "D:\\anaconda\\lib\\site-packages\\ipykernel_launcher.py:55: DeprecationWarning: Call to deprecated `__getitem__` (Method will be removed in 4.0.0, use self.wv.__getitem__() instead).\n"
     ]
    },
    {
     "name": "stdout",
     "output_type": "stream",
     "text": [
      "walks done\n",
      "walks done\n",
      "walks done\n",
      "walks done\n",
      "walks done\n",
      "walks done\n",
      "walks done\n",
      "walks done\n",
      "walks done\n",
      "set()\n",
      "[ 0  0  0  1  1  2  3  3  3  4  4  5  5  6  6  6  6  6  6  6  7  0  0  1\n",
      "  1  2  5  8  9  6  6  6  6  6  6  6  6  6  6  6  6  6  7  7  7  0  0  0\n",
      "  1  1  1  4  4  5  8  9  6  6  6  6  6  6  6  7  7  0  0  0  1  3  4  5\n",
      "  6  6  6  6  6  6  6  6  6  6  6  6  6  0  0  1 10 10 10  2  2  2  3  3\n",
      "  4  4  4  8  8  9  6  6  6  6  6  6  6  6  6  6  6  6  6  6  7  7  0  0\n",
      "  0  1  1 10  2  2  3  4  4  5  5  8  9 10  6  6  6  6  6  6  6  6  6  6\n",
      "  0  1  1  2  5  6  6  6  6  6  6  6  7  0  0  0 10 10  2  3  3  5  8  9\n",
      "  6  6  6  6  6  6  6  6  6  6  6  6  6  6  7  0  1  2  2  3  3  4  4  6\n",
      "  6  6  6  6  6  7  7  0  0  1  1  1 10  2  3  3  4  4  5  5  5  9 10 10\n",
      "  6  6  6  6  6  6  6  6  6  6  6  6  6  6  6  6  0  2  2  3  4  5  5 10\n",
      "  6  6  6  6  6  6  6  6  6  6  6  7  1  3  3  3  5  8  8  6  6  6  6  6\n",
      "  6  6  6  6  6  6  6  6  6  7  7  2  2  3  5 10  6  6  6  6  6  6  6  6\n",
      "  6  6  6  6  6  7  7] 11\n",
      "44 kun_li 1024\n"
     ]
    },
    {
     "name": "stderr",
     "output_type": "stream",
     "text": [
      "D:\\anaconda\\lib\\site-packages\\smart_open\\smart_open_lib.py:398: UserWarning: This function is deprecated, use smart_open.open instead. See the migration notes for details: https://github.com/RaRe-Technologies/smart_open/blob/master/README.rst#migrating-to-the-new-open-function\n",
      "  'See the migration notes for details: %s' % _MIGRATION_NOTES_URL\n",
      "D:\\anaconda\\lib\\site-packages\\ipykernel_launcher.py:388: DeprecationWarning: Call to deprecated `__contains__` (Method will be removed in 4.0.0, use self.wv.__contains__() instead).\n",
      "D:\\anaconda\\lib\\site-packages\\ipykernel_launcher.py:389: DeprecationWarning: Call to deprecated `__getitem__` (Method will be removed in 4.0.0, use self.wv.__getitem__() instead).\n"
     ]
    },
    {
     "name": "stdout",
     "output_type": "stream",
     "text": [
      "#papers  1024\n",
      "#authors 2014\n",
      "#org_words 443\n",
      "#confs   844\n",
      "walks done\n"
     ]
    },
    {
     "name": "stderr",
     "output_type": "stream",
     "text": [
      "D:\\anaconda\\lib\\site-packages\\ipykernel_launcher.py:54: DeprecationWarning: Call to deprecated `__contains__` (Method will be removed in 4.0.0, use self.wv.__contains__() instead).\n",
      "D:\\anaconda\\lib\\site-packages\\ipykernel_launcher.py:55: DeprecationWarning: Call to deprecated `__getitem__` (Method will be removed in 4.0.0, use self.wv.__getitem__() instead).\n"
     ]
    },
    {
     "name": "stdout",
     "output_type": "stream",
     "text": [
      "walks done\n",
      "walks done\n",
      "walks done\n",
      "walks done\n",
      "walks done\n",
      "walks done\n",
      "walks done\n",
      "walks done\n",
      "walks done\n",
      "{291, 614, 935, 72, 586, 110, 14, 528, 560, 371, 659, 661, 895, 855, 792, 891, 156, 318, 127}\n",
      "[16 63  0 ... 53 35 10] 126\n",
      "45 hong_guo 688\n"
     ]
    },
    {
     "name": "stderr",
     "output_type": "stream",
     "text": [
      "D:\\anaconda\\lib\\site-packages\\smart_open\\smart_open_lib.py:398: UserWarning: This function is deprecated, use smart_open.open instead. See the migration notes for details: https://github.com/RaRe-Technologies/smart_open/blob/master/README.rst#migrating-to-the-new-open-function\n",
      "  'See the migration notes for details: %s' % _MIGRATION_NOTES_URL\n",
      "D:\\anaconda\\lib\\site-packages\\ipykernel_launcher.py:388: DeprecationWarning: Call to deprecated `__contains__` (Method will be removed in 4.0.0, use self.wv.__contains__() instead).\n",
      "D:\\anaconda\\lib\\site-packages\\ipykernel_launcher.py:389: DeprecationWarning: Call to deprecated `__getitem__` (Method will be removed in 4.0.0, use self.wv.__getitem__() instead).\n"
     ]
    },
    {
     "name": "stdout",
     "output_type": "stream",
     "text": [
      "#papers  688\n",
      "#authors 828\n",
      "#org_words 251\n",
      "#confs   401\n",
      "walks done\n"
     ]
    },
    {
     "name": "stderr",
     "output_type": "stream",
     "text": [
      "D:\\anaconda\\lib\\site-packages\\ipykernel_launcher.py:54: DeprecationWarning: Call to deprecated `__contains__` (Method will be removed in 4.0.0, use self.wv.__contains__() instead).\n",
      "D:\\anaconda\\lib\\site-packages\\ipykernel_launcher.py:55: DeprecationWarning: Call to deprecated `__getitem__` (Method will be removed in 4.0.0, use self.wv.__getitem__() instead).\n"
     ]
    },
    {
     "name": "stdout",
     "output_type": "stream",
     "text": [
      "walks done\n",
      "walks done\n",
      "walks done\n",
      "walks done\n",
      "walks done\n",
      "walks done\n",
      "walks done\n",
      "walks done\n",
      "walks done\n",
      "set()\n",
      "[ 0  0  0  0  0  0  0  1  1  1  1  1  2  2  2  2  3  1  0  4  5  6  7  8\n",
      "  8  9 10 10 10 11 11  0  0  0  0 12  0  0  1  1  1  1  2  2  2  2 13  6\n",
      " 14  3  3 15 16 17 17 17 18 18  5  7 19  0  0  0  0  0  0  0 12  0  1  1\n",
      "  1  1  2  2  2 14 14 15 15 20 16  6  6 11  7 21 21  8  9  9 19  0  0  0\n",
      "  0  0  0  0 12  0  1  1  1  1  1  6  6  6 14 14 14  3  4 20 17 18  5  5\n",
      "  6 22  9 10 11 11  0  0  0  0  0  0  0  0  0  0  0  0  0  0  1  1 14 14\n",
      " 14  1  0 16 16 16 18  5  6  7 21  8  9 11  0  0  0  0  0  0  1  1  1  1\n",
      "  1  2  2  2  2  6  6  1  0 13 16 16 16 18  6  6  7  9  9 10 11  0  0  0\n",
      "  0  0  0  0  0  0  0  1  1  1  2  2  6  6  6  6 14 14 14  4 20 16 17 17\n",
      " 17 18 22 22  9  9 10  0  0  0  0  0  0  0  0  0  1  1  1  2  2  2  6 14\n",
      " 14 15  1  1 15  1  1  4  4 20 16 16 18 18  5  7  7 10 11  0  0  0  0  0\n",
      " 12  0  0  0  1  1  1  2  2  6  6  6 14 14 14  0 16 16 17 18  5  6  8 19\n",
      "  0  0  0  0  0  0  0  0  0  0  1  1  2  6  6 14 14 14  3  3  3  3  1  4\n",
      "  4 20 16 18  5  5  6  6  6  8 10  0  0  0  0  0  0  0  0  0  0  0  0  0\n",
      "  1  1  1  2  2  2  2 14 14  3  1  1  1  0  0 16 16 16 17 18 18  5  5 21\n",
      " 10 19  0  0  0  0 12  1  1  2 14 15  1  0 13 17 18 18 22 22  7  8 10 10\n",
      " 10 19 11  0  0  0  0  0  0  0  0  0  0  1  1  1  1  1  2  2  2 14 20 16\n",
      " 16 17  6 21 21 19  0  0  0  0  0  0  0  0  1  1  1  2  2  6  1  1  0 16\n",
      " 16 18  6  7  7  7 21 19 19 11  0  0  0  0  0  0  0  1  1  1  2  6 14  3\n",
      " 20 20 16  5  6 22 11  0  0  0  0  0  0  0  0  1  1  2  1  1 15  0  4 16\n",
      " 16 17 17  5  6 22 21  8  8 10  0  0  0  0  0  0  0  1  1  1  2  2  6  6\n",
      " 13 15 20 16 17 18  5  5  6  6  6  0  0  0  0  0  0  0  0  0  0  0  0  1\n",
      "  1  1  1  1  1  2  6 14 14 14 15  4 16 16 16 16  5  5  5 21 10 10 19 11\n",
      "  0  0  0  0  0  0  1  1  1  1  1  1  2 14 14 14  3  1  1  1  0 18 18  6\n",
      "  6  6  7  7  9 10 19  0  0  0  0  0  0  0  1  1  1  2  2 13 14 14  5 21\n",
      "  1 10  0  0  0 12  0  0  1  1  2 14 14 14 15 15  4 17 18 18 18  6  6  9\n",
      " 19 11  0  0  0  0  0  0  0  0  0  0  1  1  1  1  1  1  1  1  1  2  2  2\n",
      "  6 13  6 14  3  1  0 16  5  5 22 19  0  0  0  0  0  0  0  0  1  1  1  1\n",
      "  1  2  2  2  2  0 16 17 17 18  5 22 21 21 10 11] 23\n",
      "46 gang_chen 3583\n"
     ]
    },
    {
     "name": "stderr",
     "output_type": "stream",
     "text": [
      "D:\\anaconda\\lib\\site-packages\\smart_open\\smart_open_lib.py:398: UserWarning: This function is deprecated, use smart_open.open instead. See the migration notes for details: https://github.com/RaRe-Technologies/smart_open/blob/master/README.rst#migrating-to-the-new-open-function\n",
      "  'See the migration notes for details: %s' % _MIGRATION_NOTES_URL\n",
      "D:\\anaconda\\lib\\site-packages\\ipykernel_launcher.py:388: DeprecationWarning: Call to deprecated `__contains__` (Method will be removed in 4.0.0, use self.wv.__contains__() instead).\n",
      "D:\\anaconda\\lib\\site-packages\\ipykernel_launcher.py:389: DeprecationWarning: Call to deprecated `__getitem__` (Method will be removed in 4.0.0, use self.wv.__getitem__() instead).\n"
     ]
    },
    {
     "name": "stdout",
     "output_type": "stream",
     "text": [
      "#papers  3583\n",
      "#authors 5443\n",
      "#org_words 999\n",
      "#confs   1184\n",
      "walks done\n"
     ]
    },
    {
     "name": "stderr",
     "output_type": "stream",
     "text": [
      "D:\\anaconda\\lib\\site-packages\\ipykernel_launcher.py:54: DeprecationWarning: Call to deprecated `__contains__` (Method will be removed in 4.0.0, use self.wv.__contains__() instead).\n",
      "D:\\anaconda\\lib\\site-packages\\ipykernel_launcher.py:55: DeprecationWarning: Call to deprecated `__getitem__` (Method will be removed in 4.0.0, use self.wv.__getitem__() instead).\n"
     ]
    },
    {
     "name": "stdout",
     "output_type": "stream",
     "text": [
      "walks done\n",
      "walks done\n",
      "walks done\n",
      "walks done\n",
      "walks done\n",
      "walks done\n",
      "walks done\n",
      "walks done\n",
      "walks done\n",
      "{176, 1784, 2547, 2072, 2969, 1274}\n",
      "[ 0  1  2 ... 17 80 27] 125\n",
      "47 yuanyuan_zhang 566\n"
     ]
    },
    {
     "name": "stderr",
     "output_type": "stream",
     "text": [
      "D:\\anaconda\\lib\\site-packages\\smart_open\\smart_open_lib.py:398: UserWarning: This function is deprecated, use smart_open.open instead. See the migration notes for details: https://github.com/RaRe-Technologies/smart_open/blob/master/README.rst#migrating-to-the-new-open-function\n",
      "  'See the migration notes for details: %s' % _MIGRATION_NOTES_URL\n",
      "D:\\anaconda\\lib\\site-packages\\ipykernel_launcher.py:388: DeprecationWarning: Call to deprecated `__contains__` (Method will be removed in 4.0.0, use self.wv.__contains__() instead).\n",
      "D:\\anaconda\\lib\\site-packages\\ipykernel_launcher.py:389: DeprecationWarning: Call to deprecated `__getitem__` (Method will be removed in 4.0.0, use self.wv.__getitem__() instead).\n"
     ]
    },
    {
     "name": "stdout",
     "output_type": "stream",
     "text": [
      "#papers  566\n",
      "#authors 1509\n",
      "#org_words 257\n",
      "#confs   561\n",
      "walks done\n"
     ]
    },
    {
     "name": "stderr",
     "output_type": "stream",
     "text": [
      "D:\\anaconda\\lib\\site-packages\\ipykernel_launcher.py:54: DeprecationWarning: Call to deprecated `__contains__` (Method will be removed in 4.0.0, use self.wv.__contains__() instead).\n",
      "D:\\anaconda\\lib\\site-packages\\ipykernel_launcher.py:55: DeprecationWarning: Call to deprecated `__getitem__` (Method will be removed in 4.0.0, use self.wv.__getitem__() instead).\n"
     ]
    },
    {
     "name": "stdout",
     "output_type": "stream",
     "text": [
      "walks done\n",
      "walks done\n",
      "walks done\n",
      "walks done\n",
      "walks done\n",
      "walks done\n",
      "walks done\n",
      "walks done\n",
      "walks done\n",
      "{449, 194, 541, 360, 425, 42, 521, 269, 110, 207, 239, 178, 179, 242, 276, 471, 184, 349, 319}\n",
      "[  0  36   1  11   2  27   3   4  37  38   5   1   4   6   7   8  38   3\n",
      "   9  18  10   5  40   3  41  23  11  12   0  13  42  14   3   3   3  43\n",
      "  44  15   5   7   8  16  45   3   5  13   5  17  17  18  19  28  20   3\n",
      "   3   5  16  16   0  11   3  47   3  30  10  10  15  21   5   1  10   8\n",
      "  10  48  48   8  37   5  31  14  17  22   3  19  41  23   5  14  51  16\n",
      "   0  30  14  24  10  52  24  14   3  24   1  53   4  54  25  10  33   5\n",
      "   6  55  56  10  10   8   9   8  22  19   5   5  14   0  30  36  10  27\n",
      "   4   3  27  10   3   3  38  55  62  25   5   5   9   5   5  31  22  41\n",
      "  64  24   2  24  24  52  10   8  37   4  10  67   5   6  10  21   8   8\n",
      "  68  69   8   1  70  17   3  20  71  32  26  26   3  14  12  27  72  73\n",
      "  10  11  10   7  74  34  75  67  10   4   5  21   3  55  78  31  10  10\n",
      "   5  44   5  17  18  27  11  24   5  80   1  22   6  10  10   5  34   4\n",
      "  27  15  10   5  10   5   7   5  19  10  10  82  82  19 147  20  26   3\n",
      "  14  11  16   3  10  85  86  54  88  10  89 150  13   1 145  37   5  31\n",
      "  93  27  10  19  17  28  23   5  29  14  11  16   3  47  24   1   3  95\n",
      " 144   5   6  16  38  13   5   5  14  10   5   5  10  99  22  26  51  16\n",
      "  12 101  75  42  75  14   1  10   5  24   3  33   8  37   5   3 104   5\n",
      " 105  19  28  29  14  11  16  12  11   3   3  10   5  95   4   5   8   4\n",
      "   3  30  10  16  30   7   3   5  31   5  22  99  18  28  23  14  14  51\n",
      "  19   2   3   3   4 109   3  95   5 111   5  25   8 112   5   5   5  17\n",
      " 113  18  18  19  20  29  29  11  14  51  30   2   2  30  24   1  33  33\n",
      "  34  10  24 115   7   5 116  53   5   5   5   9  21  29   5  22  41  32\n",
      "  51  11   2  36   3   6   5   4  27  10   6  25   5  93  17  17   3 151\n",
      "  32  23  14  11  16  14   1  10  24  22  24 123   5   6   3  55   6  16\n",
      "   6 146   5   5   5  18 147  26  29  11   1   3  14  33  11  44   1  95\n",
      "  14   7   7  34  10   5   8   3  10   6   5   3  17  18  41  28   3  51\n",
      "  11   3  24 133  24  10  22  14   3   5  27 149  37 137  15   5  16  10\n",
      "  68   8  67  51   3   3 140 141  17  18  71  32   3  11  12  10  24  21\n",
      "  15   7  30  10   5   5   8   8   5   5   5  28  14  11  16  14   1 143\n",
      "  22   8  24  34   4 144  15   3   4  10   7  15  16 145   8 146  17   3\n",
      " 147 148   5   5  11  16  12  10  10  10  13   3 149 150   6   8   6  26\n",
      "   5  22   3  19 151  28  29  29] 96\n",
      "48 lin_ma 301\n"
     ]
    },
    {
     "name": "stderr",
     "output_type": "stream",
     "text": [
      "D:\\anaconda\\lib\\site-packages\\smart_open\\smart_open_lib.py:398: UserWarning: This function is deprecated, use smart_open.open instead. See the migration notes for details: https://github.com/RaRe-Technologies/smart_open/blob/master/README.rst#migrating-to-the-new-open-function\n",
      "  'See the migration notes for details: %s' % _MIGRATION_NOTES_URL\n",
      "D:\\anaconda\\lib\\site-packages\\ipykernel_launcher.py:388: DeprecationWarning: Call to deprecated `__contains__` (Method will be removed in 4.0.0, use self.wv.__contains__() instead).\n",
      "D:\\anaconda\\lib\\site-packages\\ipykernel_launcher.py:389: DeprecationWarning: Call to deprecated `__getitem__` (Method will be removed in 4.0.0, use self.wv.__getitem__() instead).\n"
     ]
    },
    {
     "name": "stdout",
     "output_type": "stream",
     "text": [
      "#papers  301\n",
      "#authors 449\n",
      "#org_words 69\n",
      "#confs   311\n",
      "walks done\n"
     ]
    },
    {
     "name": "stderr",
     "output_type": "stream",
     "text": [
      "D:\\anaconda\\lib\\site-packages\\ipykernel_launcher.py:54: DeprecationWarning: Call to deprecated `__contains__` (Method will be removed in 4.0.0, use self.wv.__contains__() instead).\n",
      "D:\\anaconda\\lib\\site-packages\\ipykernel_launcher.py:55: DeprecationWarning: Call to deprecated `__getitem__` (Method will be removed in 4.0.0, use self.wv.__getitem__() instead).\n"
     ]
    },
    {
     "name": "stdout",
     "output_type": "stream",
     "text": [
      "walks done\n",
      "walks done\n",
      "walks done\n",
      "walks done\n",
      "walks done\n",
      "walks done\n",
      "walks done\n",
      "walks done\n",
      "walks done\n",
      "{72, 3, 62}\n",
      "[ 0  0  0  9  0  1  1  1  1  1  2  2  2  2  2  2  2  2  2  2  3  3  3  3\n",
      "  3  3  4  5  0  0  0  1  1  1  1  1  1  1  2  2  2  2  2  4  2  6  3  3\n",
      "  3  3  4  4  7  5  0  0  0  0  0  0  0  0  1  1  1  1  1  1  1  2  2  2\n",
      " 10  2  2  2  2  2  2  2  2  6  3  3  3  4  0  0  0  0  0  1  1  1  1  1\n",
      "  1  2  2  2  4  4  2  2  2  3  3  3  3  5  5  0  0  0  1  1  1  1  2  2\n",
      "  2  2  2  4  4  2  6  3  3  4  0  0  0  0  0  1  1  1  1  1  1  1  1  1\n",
      "  2  2  2  2  2  4  2  2  6  3  3  4  5  5  0  0  0  0  0  1  2  2  2  2\n",
      "  2  4  4  4  2  2  3  3  3  7  5  0  0  0  1  1  1  1  1  1  1  2  2  2\n",
      "  2  2  6  3  3  3  7  5  5  0  0  0  1  1  1  1  2  2  2  2  2  2  2  2\n",
      "  2  2  2  2  2  2  3  3  7  7  5  0  1  1  1  1  1  1  1  2  2  2  2  2\n",
      "  2  4  2  2  2  2  3  3  3  4  5  0  0  1  1  1  1  1  2  2  2  4  2  2\n",
      "  2  3  3  3  4  4  0  0  0  1  1  1  1  1  1  1  1  1  1  2  2  2  2  2\n",
      "  2  2  2  2  4  4  2  6  3  3  3  4  7] 10\n",
      "49 yao_zhang 884\n"
     ]
    },
    {
     "name": "stderr",
     "output_type": "stream",
     "text": [
      "D:\\anaconda\\lib\\site-packages\\smart_open\\smart_open_lib.py:398: UserWarning: This function is deprecated, use smart_open.open instead. See the migration notes for details: https://github.com/RaRe-Technologies/smart_open/blob/master/README.rst#migrating-to-the-new-open-function\n",
      "  'See the migration notes for details: %s' % _MIGRATION_NOTES_URL\n",
      "D:\\anaconda\\lib\\site-packages\\ipykernel_launcher.py:388: DeprecationWarning: Call to deprecated `__contains__` (Method will be removed in 4.0.0, use self.wv.__contains__() instead).\n",
      "D:\\anaconda\\lib\\site-packages\\ipykernel_launcher.py:389: DeprecationWarning: Call to deprecated `__getitem__` (Method will be removed in 4.0.0, use self.wv.__getitem__() instead).\n"
     ]
    },
    {
     "name": "stdout",
     "output_type": "stream",
     "text": [
      "#papers  884\n",
      "#authors 1766\n",
      "#org_words 325\n",
      "#confs   669\n",
      "walks done\n"
     ]
    },
    {
     "name": "stderr",
     "output_type": "stream",
     "text": [
      "D:\\anaconda\\lib\\site-packages\\ipykernel_launcher.py:54: DeprecationWarning: Call to deprecated `__contains__` (Method will be removed in 4.0.0, use self.wv.__contains__() instead).\n",
      "D:\\anaconda\\lib\\site-packages\\ipykernel_launcher.py:55: DeprecationWarning: Call to deprecated `__getitem__` (Method will be removed in 4.0.0, use self.wv.__getitem__() instead).\n"
     ]
    },
    {
     "name": "stdout",
     "output_type": "stream",
     "text": [
      "walks done\n",
      "walks done\n",
      "walks done\n",
      "walks done\n",
      "walks done\n",
      "walks done\n",
      "walks done\n",
      "walks done\n",
      "walks done\n",
      "{33, 517, 38, 73, 617, 625, 499, 118, 634, 474}\n",
      "[ 0  0  1  0  0  0  0  0  0  0  2  3  4 47  5  6  7  8  9 10 11 11 12  7\n",
      "  0  0  0  0  0 13  4 48 14 49  7 31 11 11 50 12 15 16  0  1  0 13  0  0\n",
      "  0  0 13 17  2 18  8 19 19 19 19 51  0 20 20 11  2 17 21  0  0  0  0  0\n",
      "  0 19  5  5 52 18  7  8  6 22 23 23 10 24 53 25 11 26  0 27  0  1  0 28\n",
      "  0  0  0 13  1 38  0  2  3 14 42 51 19  9 22  0 10 28 24 11 12 15  8  8\n",
      "  3  0  1 29  3 19 22  9 24 26 26  6 15  0  0  0  0  0  0 29 29  3 14 18\n",
      "  7  7 19 19  9  9  0 30  0  1 19  0  1  0  0  0  2 31 78  3 29  9 19 10\n",
      " 24 34 32  2  0 38  0 29  3  2  0 18 12 19 19  9 10 20 26 53  0  0  0  0\n",
      " 13  0  0  0 59 18  7  7 19  9 60 33 34 43 32  8  0 35  0  0  0 13  0  3\n",
      " 36 17  8 61  7 19  9  9 10 10 33 31 37 12 12  0  0  0  0 38 17 35  0  0\n",
      "  0  0  0  0  0  0  0  2 18  7  8  9 24 11 30 39  2  0  8 35  0  0  0  0\n",
      "  0  0  0  0  1  2  4 78  2 18 86 19  9 22 20 12  0 35  0 19  0  1  0 17\n",
      " 19 19  9 37 30  0  8  3 35  0 40 41  0  0 13  0 35  2  2 36 42 18 18  9\n",
      " 24 10  9  6  8  0 41  0 35  8  8  8  8  6 19  9 10 16 67  1 35  0  0  0\n",
      "  0 36 18 19 24  9  6 44  0  1  1  0  0  1  0  0  0 18 42 31  9  9  9 10\n",
      " 24  6  2  1  0  0  0  0  0  0  0 68 42 19 19 19  9  9  9 22 22 26 34 32\n",
      " 39  2 43  0  3  0  0  0  0  0  1  1  2 31  4  5  5 18 18 67 86  6 19  9\n",
      "  9  9 37  6 39  2 44 38  0  0  0  0  0  0  0  0  0 38 29  2 36 17 18 19\n",
      " 19 19 22  9 37 32 27 27 41  0  0  0  0  0 13  1 29  0  1 35 36  7  7 19\n",
      " 19 22 24 20 11 12 39  2  2  0  3  0 40  0  0  0  0  0 31 43 18  7  6 19\n",
      " 11 15 44  3  0  0 41 40  0  0  0  0 72  3 31  5 18 18 19 19 10 28  4  4\n",
      " 26 30 40 13  0  0 38 68  3  4 75  5 42 76 19  9 77 26 43 19  0  0  0  0\n",
      " 28  0  0  2 78  8 79 19 11 15  0  1  0 40  0  0  0  0  7 18 18  7 19 19\n",
      " 11  6  6  3 19  0  0  0  0  0  0  0  0 38 35 35  4  6 42 18 31 19 22  0\n",
      " 10 28 10 24 31  9 25 45 11 32  2  8 19  0  0 19  0  0  0  0 35  3  4 78\n",
      "  5 14  8 10 45 34 43  2 44  1  0 29 29 23 35  3  5 80 18 42 33 45 11 12\n",
      " 32 81 44 13  0  0  0  0  0  0 82  0 13  0  0 38 36 19  2 42 22  0 45 26\n",
      "  6 44 38  0  0  0  0  0  0  0 31 83  4  8 19 19 33 25  6  0  0 84 18  9\n",
      " 32 15 44  0  0 38  0  0  0 13  0  0  0  3 13 35  4  0 18 18 86  6 87 22\n",
      " 22 23 10  9 12 32 16 44  0  0  0  0 13 88 18  8  6 19 19 19 19  9 23 33\n",
      " 25 89  6  2 75 19 17 21  0  0 38 29  0  0  2  3 19 19 19 23 12 21  0  0\n",
      "  1  0  0  0  0  0  0  0  0  2  7 42 11 11 19 27  0 28  0  0 38  2 31 36\n",
      "  0 36 31 42 18 18 18 18 42  9 24  6  2 27  0  0  0  7 78 18  7 31 26 12\n",
      "  0  1  0 13  0 31 36 31 18 18  8 19 19 19  9 60 24  9 89 11 11 26 26 43\n",
      "  0 39  0  0  0  2  7 19 19 10 10 33 34  0 16 27 21  0  0  0  0  0  0 31\n",
      " 42 22  0 11 37  6  2 44  0 38  0  1 24  8 19 45 11 43 19 19  0  0  0  0\n",
      "  0 38 36 18 31  9 11 32 16 38  0  1  0  0  0  6 25 30 16 21] 73\n"
     ]
    }
   ],
   "source": [
    "import re\n",
    "from gensim.models import word2vec\n",
    "from sklearn.cluster import DBSCAN\n",
    "import numpy as np\n",
    "\n",
    "pubs_raw = load_json(\"sna_data\",\"sna_valid_pub.json\")\n",
    "name_pubs1 = load_json(\"sna_data\",\"sna_valid_example_evaluation_scratch.json\")\n",
    "\n",
    "result={}\n",
    "\n",
    "for n,name in enumerate(name_pubs1):\n",
    "    pubs=[]\n",
    "    for cluster in name_pubs1[name]:\n",
    "        pubs.extend(cluster)\n",
    "    \n",
    "    \n",
    "    print (n,name,len(pubs))\n",
    "    if len(pubs)==0:\n",
    "        result[name]=[]\n",
    "        continue\n",
    "    \n",
    "    \n",
    "    ##保存关系\n",
    "    ###############################################################\n",
    "    name_pubs_raw = {}\n",
    "    for i,pid in enumerate(pubs):\n",
    "        name_pubs_raw[pid] = pubs_raw[pid]\n",
    "        \n",
    "    dump_json(name_pubs_raw, 'genename', name+'.json', indent=4)\n",
    "    save_relation(name+'.json', name)  \n",
    "    ###############################################################\n",
    "    \n",
    "    \n",
    "    \n",
    "    ##元路径游走类\n",
    "    ###############################################################r\n",
    "    mpg = MetaPathGenerator()\n",
    "    mpg.read_data(\"gene\")\n",
    "    ###############################################################\n",
    "    \n",
    "\n",
    "    \n",
    "    ##论文关系表征向量\n",
    "    ############################################################### \n",
    "    all_embs=[]\n",
    "    rw_num = 10\n",
    "    cp=set()\n",
    "    for k in range(rw_num):\n",
    "        mpg.generate_WMRW(\"gene/RW.txt\",5,20)\n",
    "        sentences = word2vec.Text8Corpus(r'gene/RW.txt')\n",
    "        model = word2vec.Word2Vec(sentences, size=100,negative =25, min_count=1, window=10)\n",
    "        embs=[]\n",
    "        for i,pid in enumerate(pubs):\n",
    "            if pid in model:\n",
    "                embs.append(model[pid])\n",
    "            else:\n",
    "                cp.add(i)\n",
    "                embs.append(np.zeros(100))\n",
    "        all_embs.append(embs)\n",
    "    all_embs= np.array(all_embs)\n",
    "    print (cp)    \n",
    "    ############################################################### \n",
    " \n",
    "\n",
    "\n",
    "    ##论文语义表征向量\n",
    "    ###############################################################  \n",
    "    ptext_emb=load_data('gene','ptext_emb.pkl')\n",
    "    tembs=[]\n",
    "    for i,pid in enumerate(pubs):\n",
    "        tembs.append(ptext_emb[pid])\n",
    "    \n",
    "    sk_sim = np.zeros((len(pubs),len(pubs)))\n",
    "    for k in range(rw_num):\n",
    "        sk_sim = sk_sim + pairwise_distances(all_embs[k],metric=\"cosine\")\n",
    "    sk_sim =sk_sim/rw_num    \n",
    "    \n",
    "\n",
    "    tembs = pairwise_distances(tembs,metric=\"cosine\")\n",
    "   \n",
    "    w=1\n",
    "    sim = (np.array(sk_sim) + w*np.array(tembs))/(1+w)\n",
    "    ############################################################### \n",
    "    \n",
    "    \n",
    "  \n",
    "    ##evaluate\n",
    "    ###############################################################\n",
    "    pre = DBSCAN(eps = 0.2, min_samples = 4,metric =\"precomputed\").fit_predict(sim)\n",
    "    pre= np.array(pre)\n",
    "    \n",
    "    outlier=set()\n",
    "    for i in range(len(pre)):\n",
    "        if pre[i]==-1:\n",
    "            outlier.add(i)\n",
    "    for i in cp:\n",
    "        outlier.add(i)\n",
    "    for i in tcp:\n",
    "        outlier.add(i)\n",
    "            \n",
    "        \n",
    "    ##基于阈值的相似性匹配\n",
    "    paper_pair = generate_pair(pubs,outlier)\n",
    "    paper_pair1 = paper_pair.copy()\n",
    "    K = len(set(pre))\n",
    "    for i in range(len(pre)):\n",
    "        if i not in outlier:\n",
    "            continue\n",
    "        j = np.argmax(paper_pair[i])\n",
    "        while j in outlier:\n",
    "            paper_pair[i][j]=-1\n",
    "            j = np.argmax(paper_pair[i])\n",
    "        if paper_pair[i][j]>=1.5:\n",
    "            pre[i]=pre[j]\n",
    "        else:\n",
    "            pre[i]=K\n",
    "            K=K+1\n",
    "    \n",
    "    for ii,i in enumerate(outlier):\n",
    "        for jj,j in enumerate(outlier):\n",
    "            if jj<=ii:\n",
    "                continue\n",
    "            else:\n",
    "                if paper_pair1[i][j]>=1.5:\n",
    "                    pre[j]=pre[i]\n",
    "            \n",
    "    \n",
    "\n",
    "    print (pre,len(set(pre)))\n",
    "    \n",
    "    result[name]=[]\n",
    "    for i in set(pre):\n",
    "        oneauthor=[]\n",
    "        for idx,j in enumerate(pre):\n",
    "            if i == j:\n",
    "                oneauthor.append(pubs[idx])\n",
    "        result[name].append(oneauthor)\n",
    "    \n",
    "\n",
    "dump_json(result, \"genetest\", \"result_valid.json\",indent =4)"
   ]
  },
  {
   "cell_type": "code",
   "execution_count": null,
   "metadata": {},
   "outputs": [],
   "source": []
  }
 ],
 "metadata": {
  "kernelspec": {
   "display_name": "Python 3",
   "language": "python",
   "name": "python3"
  },
  "language_info": {
   "codemirror_mode": {
    "name": "ipython",
    "version": 3
   },
   "file_extension": ".py",
   "mimetype": "text/x-python",
   "name": "python",
   "nbconvert_exporter": "python",
   "pygments_lexer": "ipython3",
   "version": "3.7.13"
  }
 },
 "nbformat": 4,
 "nbformat_minor": 2
}
